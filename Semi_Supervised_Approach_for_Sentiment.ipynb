{
  "metadata": {
    "colab": {
      "provenance": [],
      "include_colab_link": true
    },
    "kernelspec": {
      "name": "python3",
      "display_name": "Python 3",
      "language": "python"
    },
    "language_info": {
      "name": "python",
      "version": "3.10.12",
      "mimetype": "text/x-python",
      "codemirror_mode": {
        "name": "ipython",
        "version": 3
      },
      "pygments_lexer": "ipython3",
      "nbconvert_exporter": "python",
      "file_extension": ".py"
    }
  },
  "nbformat_minor": 0,
  "nbformat": 4,
  "cells": [
    {
      "cell_type": "markdown",
      "metadata": {
        "id": "view-in-github",
        "colab_type": "text"
      },
      "source": [
        "<a href=\"https://colab.research.google.com/github/AbdullatifHabiba/Semi-Supervised-Approach-for-Sentiment/blob/main/Semi_Supervised_Approach_for_Sentiment.ipynb\" target=\"_parent\"><img src=\"https://colab.research.google.com/assets/colab-badge.svg\" alt=\"Open In Colab\"/></a>"
      ]
    },
    {
      "cell_type": "markdown",
      "source": [
        "#Configuring and importing libraries"
      ],
      "metadata": {
        "id": "3xecUisTpFDS"
      }
    },
    {
      "cell_type": "code",
      "source": [
        "%pip install arabic-stopwords"
      ],
      "metadata": {
        "colab": {
          "base_uri": "https://localhost:8080/"
        },
        "id": "8QhzXTieqB7E",
        "outputId": "001ffc70-0d1a-479e-eee3-15be4e7b7eda",
        "execution": {
          "iopub.status.busy": "2023-07-29T12:01:12.693267Z",
          "iopub.execute_input": "2023-07-29T12:01:12.693618Z",
          "iopub.status.idle": "2023-07-29T12:01:26.699180Z",
          "shell.execute_reply.started": "2023-07-29T12:01:12.693588Z",
          "shell.execute_reply": "2023-07-29T12:01:26.697922Z"
        },
        "trusted": true
      },
      "execution_count": null,
      "outputs": [
        {
          "output_type": "stream",
          "name": "stdout",
          "text": [
            "Collecting arabic-stopwords\n",
            "  Downloading Arabic_Stopwords-0.4.3-py3-none-any.whl (360 kB)\n",
            "\u001b[2K     \u001b[90m━━━━━━━━━━━━━━━━━━━━━━━━━━━━━━━━━━━━━━━\u001b[0m \u001b[32m360.5/360.5 kB\u001b[0m \u001b[31m3.6 MB/s\u001b[0m eta \u001b[36m0:00:00\u001b[0m\n",
            "\u001b[?25hCollecting pyarabic>=0.6.2 (from arabic-stopwords)\n",
            "  Downloading PyArabic-0.6.15-py3-none-any.whl (126 kB)\n",
            "\u001b[2K     \u001b[90m━━━━━━━━━━━━━━━━━━━━━━━━━━━━━━━━━━━━━━\u001b[0m \u001b[32m126.4/126.4 kB\u001b[0m \u001b[31m11.1 MB/s\u001b[0m eta \u001b[36m0:00:00\u001b[0m\n",
            "\u001b[?25hRequirement already satisfied: six>=1.14.0 in /usr/local/lib/python3.10/dist-packages (from pyarabic>=0.6.2->arabic-stopwords) (1.16.0)\n",
            "Installing collected packages: pyarabic, arabic-stopwords\n",
            "Successfully installed arabic-stopwords-0.4.3 pyarabic-0.6.15\n"
          ]
        }
      ]
    },
    {
      "cell_type": "code",
      "source": [
        "pip install gdown"
      ],
      "metadata": {
        "execution": {
          "iopub.status.busy": "2023-07-29T12:01:26.701529Z",
          "iopub.execute_input": "2023-07-29T12:01:26.702185Z",
          "iopub.status.idle": "2023-07-29T12:01:38.354370Z",
          "shell.execute_reply.started": "2023-07-29T12:01:26.702148Z",
          "shell.execute_reply": "2023-07-29T12:01:38.352955Z"
        },
        "trusted": true,
        "id": "4pxMmVQx7jdA",
        "outputId": "63543ef6-d4a7-4e73-ba1a-632097843b95",
        "colab": {
          "base_uri": "https://localhost:8080/"
        }
      },
      "execution_count": null,
      "outputs": [
        {
          "output_type": "stream",
          "name": "stdout",
          "text": [
            "Requirement already satisfied: gdown in /usr/local/lib/python3.10/dist-packages (4.6.6)\n",
            "Requirement already satisfied: filelock in /usr/local/lib/python3.10/dist-packages (from gdown) (3.12.2)\n",
            "Requirement already satisfied: requests[socks] in /usr/local/lib/python3.10/dist-packages (from gdown) (2.27.1)\n",
            "Requirement already satisfied: six in /usr/local/lib/python3.10/dist-packages (from gdown) (1.16.0)\n",
            "Requirement already satisfied: tqdm in /usr/local/lib/python3.10/dist-packages (from gdown) (4.65.0)\n",
            "Requirement already satisfied: beautifulsoup4 in /usr/local/lib/python3.10/dist-packages (from gdown) (4.11.2)\n",
            "Requirement already satisfied: soupsieve>1.2 in /usr/local/lib/python3.10/dist-packages (from beautifulsoup4->gdown) (2.4.1)\n",
            "Requirement already satisfied: urllib3<1.27,>=1.21.1 in /usr/local/lib/python3.10/dist-packages (from requests[socks]->gdown) (1.26.16)\n",
            "Requirement already satisfied: certifi>=2017.4.17 in /usr/local/lib/python3.10/dist-packages (from requests[socks]->gdown) (2023.7.22)\n",
            "Requirement already satisfied: charset-normalizer~=2.0.0 in /usr/local/lib/python3.10/dist-packages (from requests[socks]->gdown) (2.0.12)\n",
            "Requirement already satisfied: idna<4,>=2.5 in /usr/local/lib/python3.10/dist-packages (from requests[socks]->gdown) (3.4)\n",
            "Requirement already satisfied: PySocks!=1.5.7,>=1.5.6 in /usr/local/lib/python3.10/dist-packages (from requests[socks]->gdown) (1.7.1)\n"
          ]
        }
      ]
    },
    {
      "cell_type": "code",
      "source": [
        "!pip install camel-tools\n"
      ],
      "metadata": {
        "execution": {
          "iopub.status.busy": "2023-07-29T12:01:38.356531Z",
          "iopub.execute_input": "2023-07-29T12:01:38.356912Z",
          "iopub.status.idle": "2023-07-29T12:05:05.326054Z",
          "shell.execute_reply.started": "2023-07-29T12:01:38.356875Z",
          "shell.execute_reply": "2023-07-29T12:05:05.324884Z"
        },
        "trusted": true,
        "id": "6syKSfsA7jdA",
        "outputId": "6665c6fe-ed5a-44b8-ef5e-3c794c4946c7",
        "colab": {
          "base_uri": "https://localhost:8080/"
        }
      },
      "execution_count": null,
      "outputs": [
        {
          "output_type": "stream",
          "name": "stdout",
          "text": [
            "Collecting camel-tools\n",
            "  Downloading camel_tools-1.5.2-py3-none-any.whl (124 kB)\n",
            "\u001b[2K     \u001b[90m━━━━━━━━━━━━━━━━━━━━━━━━━━━━━━━━━━━━━\u001b[0m \u001b[32m124.3/124.3 kB\u001b[0m \u001b[31m828.5 kB/s\u001b[0m eta \u001b[36m0:00:00\u001b[0m\n",
            "\u001b[?25hRequirement already satisfied: future in /usr/local/lib/python3.10/dist-packages (from camel-tools) (0.18.3)\n",
            "Requirement already satisfied: six in /usr/local/lib/python3.10/dist-packages (from camel-tools) (1.16.0)\n",
            "Collecting docopt (from camel-tools)\n",
            "  Downloading docopt-0.6.2.tar.gz (25 kB)\n",
            "  Preparing metadata (setup.py) ... \u001b[?25l\u001b[?25hdone\n",
            "Requirement already satisfied: cachetools in /usr/local/lib/python3.10/dist-packages (from camel-tools) (5.3.1)\n",
            "Requirement already satisfied: numpy in /usr/local/lib/python3.10/dist-packages (from camel-tools) (1.22.4)\n",
            "Requirement already satisfied: scipy in /usr/local/lib/python3.10/dist-packages (from camel-tools) (1.10.1)\n",
            "Requirement already satisfied: pandas in /usr/local/lib/python3.10/dist-packages (from camel-tools) (1.5.3)\n",
            "Requirement already satisfied: scikit-learn in /usr/local/lib/python3.10/dist-packages (from camel-tools) (1.2.2)\n",
            "Collecting dill (from camel-tools)\n",
            "  Downloading dill-0.3.7-py3-none-any.whl (115 kB)\n",
            "\u001b[2K     \u001b[90m━━━━━━━━━━━━━━━━━━━━━━━━━━━━━━━━━━━━━━━\u001b[0m \u001b[32m115.3/115.3 kB\u001b[0m \u001b[31m6.4 MB/s\u001b[0m eta \u001b[36m0:00:00\u001b[0m\n",
            "\u001b[?25hRequirement already satisfied: torch>=1.3 in /usr/local/lib/python3.10/dist-packages (from camel-tools) (2.0.1+cu118)\n",
            "Collecting transformers>=3.0.2 (from camel-tools)\n",
            "  Downloading transformers-4.31.0-py3-none-any.whl (7.4 MB)\n",
            "\u001b[2K     \u001b[90m━━━━━━━━━━━━━━━━━━━━━━━━━━━━━━━━━━━━━━━━\u001b[0m \u001b[32m7.4/7.4 MB\u001b[0m \u001b[31m26.4 MB/s\u001b[0m eta \u001b[36m0:00:00\u001b[0m\n",
            "\u001b[?25hRequirement already satisfied: editdistance in /usr/local/lib/python3.10/dist-packages (from camel-tools) (0.6.2)\n",
            "Requirement already satisfied: requests in /usr/local/lib/python3.10/dist-packages (from camel-tools) (2.27.1)\n",
            "Collecting emoji (from camel-tools)\n",
            "  Downloading emoji-2.7.0.tar.gz (361 kB)\n",
            "\u001b[2K     \u001b[90m━━━━━━━━━━━━━━━━━━━━━━━━━━━━━━━━━━━━━━\u001b[0m \u001b[32m361.8/361.8 kB\u001b[0m \u001b[31m24.9 MB/s\u001b[0m eta \u001b[36m0:00:00\u001b[0m\n",
            "\u001b[?25h  Installing build dependencies ... \u001b[?25l\u001b[?25hdone\n",
            "  Getting requirements to build wheel ... \u001b[?25l\u001b[?25hdone\n",
            "  Preparing metadata (pyproject.toml) ... \u001b[?25l\u001b[?25hdone\n",
            "Requirement already satisfied: pyrsistent in /usr/local/lib/python3.10/dist-packages (from camel-tools) (0.19.3)\n",
            "Requirement already satisfied: tabulate in /usr/local/lib/python3.10/dist-packages (from camel-tools) (0.9.0)\n",
            "Requirement already satisfied: tqdm in /usr/local/lib/python3.10/dist-packages (from camel-tools) (4.65.0)\n",
            "Collecting muddler (from camel-tools)\n",
            "  Downloading muddler-0.1.3-py3-none-any.whl (16 kB)\n",
            "Collecting camel-kenlm>=2023.3.17.2 (from camel-tools)\n",
            "  Downloading camel-kenlm-2023.3.17.2.tar.gz (426 kB)\n",
            "\u001b[2K     \u001b[90m━━━━━━━━━━━━━━━━━━━━━━━━━━━━━━━━━━━━━━\u001b[0m \u001b[32m426.6/426.6 kB\u001b[0m \u001b[31m17.7 MB/s\u001b[0m eta \u001b[36m0:00:00\u001b[0m\n",
            "\u001b[?25h  Installing build dependencies ... \u001b[?25l\u001b[?25hdone\n",
            "  Getting requirements to build wheel ... \u001b[?25l\u001b[?25hdone\n",
            "  Preparing metadata (pyproject.toml) ... \u001b[?25l\u001b[?25hdone\n",
            "Requirement already satisfied: filelock in /usr/local/lib/python3.10/dist-packages (from torch>=1.3->camel-tools) (3.12.2)\n",
            "Requirement already satisfied: typing-extensions in /usr/local/lib/python3.10/dist-packages (from torch>=1.3->camel-tools) (4.7.1)\n",
            "Requirement already satisfied: sympy in /usr/local/lib/python3.10/dist-packages (from torch>=1.3->camel-tools) (1.11.1)\n",
            "Requirement already satisfied: networkx in /usr/local/lib/python3.10/dist-packages (from torch>=1.3->camel-tools) (3.1)\n",
            "Requirement already satisfied: jinja2 in /usr/local/lib/python3.10/dist-packages (from torch>=1.3->camel-tools) (3.1.2)\n",
            "Requirement already satisfied: triton==2.0.0 in /usr/local/lib/python3.10/dist-packages (from torch>=1.3->camel-tools) (2.0.0)\n",
            "Requirement already satisfied: cmake in /usr/local/lib/python3.10/dist-packages (from triton==2.0.0->torch>=1.3->camel-tools) (3.25.2)\n",
            "Requirement already satisfied: lit in /usr/local/lib/python3.10/dist-packages (from triton==2.0.0->torch>=1.3->camel-tools) (16.0.6)\n",
            "Collecting huggingface-hub<1.0,>=0.14.1 (from transformers>=3.0.2->camel-tools)\n",
            "  Downloading huggingface_hub-0.16.4-py3-none-any.whl (268 kB)\n",
            "\u001b[2K     \u001b[90m━━━━━━━━━━━━━━━━━━━━━━━━━━━━━━━━━━━━━━\u001b[0m \u001b[32m268.8/268.8 kB\u001b[0m \u001b[31m12.6 MB/s\u001b[0m eta \u001b[36m0:00:00\u001b[0m\n",
            "\u001b[?25hRequirement already satisfied: packaging>=20.0 in /usr/local/lib/python3.10/dist-packages (from transformers>=3.0.2->camel-tools) (23.1)\n",
            "Requirement already satisfied: pyyaml>=5.1 in /usr/local/lib/python3.10/dist-packages (from transformers>=3.0.2->camel-tools) (6.0.1)\n",
            "Requirement already satisfied: regex!=2019.12.17 in /usr/local/lib/python3.10/dist-packages (from transformers>=3.0.2->camel-tools) (2022.10.31)\n",
            "Collecting tokenizers!=0.11.3,<0.14,>=0.11.1 (from transformers>=3.0.2->camel-tools)\n",
            "  Downloading tokenizers-0.13.3-cp310-cp310-manylinux_2_17_x86_64.manylinux2014_x86_64.whl (7.8 MB)\n",
            "\u001b[2K     \u001b[90m━━━━━━━━━━━━━━━━━━━━━━━━━━━━━━━━━━━━━━━━\u001b[0m \u001b[32m7.8/7.8 MB\u001b[0m \u001b[31m62.4 MB/s\u001b[0m eta \u001b[36m0:00:00\u001b[0m\n",
            "\u001b[?25hCollecting safetensors>=0.3.1 (from transformers>=3.0.2->camel-tools)\n",
            "  Downloading safetensors-0.3.1-cp310-cp310-manylinux_2_17_x86_64.manylinux2014_x86_64.whl (1.3 MB)\n",
            "\u001b[2K     \u001b[90m━━━━━━━━━━━━━━━━━━━━━━━━━━━━━━━━━━━━━━━━\u001b[0m \u001b[32m1.3/1.3 MB\u001b[0m \u001b[31m52.0 MB/s\u001b[0m eta \u001b[36m0:00:00\u001b[0m\n",
            "\u001b[?25hRequirement already satisfied: python-dateutil>=2.8.1 in /usr/local/lib/python3.10/dist-packages (from pandas->camel-tools) (2.8.2)\n",
            "Requirement already satisfied: pytz>=2020.1 in /usr/local/lib/python3.10/dist-packages (from pandas->camel-tools) (2022.7.1)\n",
            "Requirement already satisfied: urllib3<1.27,>=1.21.1 in /usr/local/lib/python3.10/dist-packages (from requests->camel-tools) (1.26.16)\n",
            "Requirement already satisfied: certifi>=2017.4.17 in /usr/local/lib/python3.10/dist-packages (from requests->camel-tools) (2023.7.22)\n",
            "Requirement already satisfied: charset-normalizer~=2.0.0 in /usr/local/lib/python3.10/dist-packages (from requests->camel-tools) (2.0.12)\n",
            "Requirement already satisfied: idna<4,>=2.5 in /usr/local/lib/python3.10/dist-packages (from requests->camel-tools) (3.4)\n",
            "Requirement already satisfied: joblib>=1.1.1 in /usr/local/lib/python3.10/dist-packages (from scikit-learn->camel-tools) (1.3.1)\n",
            "Requirement already satisfied: threadpoolctl>=2.0.0 in /usr/local/lib/python3.10/dist-packages (from scikit-learn->camel-tools) (3.2.0)\n",
            "Requirement already satisfied: fsspec in /usr/local/lib/python3.10/dist-packages (from huggingface-hub<1.0,>=0.14.1->transformers>=3.0.2->camel-tools) (2023.6.0)\n",
            "Requirement already satisfied: MarkupSafe>=2.0 in /usr/local/lib/python3.10/dist-packages (from jinja2->torch>=1.3->camel-tools) (2.1.3)\n",
            "Requirement already satisfied: mpmath>=0.19 in /usr/local/lib/python3.10/dist-packages (from sympy->torch>=1.3->camel-tools) (1.3.0)\n",
            "Building wheels for collected packages: camel-kenlm, docopt, emoji\n",
            "  Building wheel for camel-kenlm (pyproject.toml) ... \u001b[?25l\u001b[?25hdone\n",
            "  Created wheel for camel-kenlm: filename=camel_kenlm-2023.3.17.2-cp310-cp310-linux_x86_64.whl size=3452676 sha256=993ba2fa9be3aec30f2fc33b2fb69dd6d3b47081440d396d09c60fa0bb8a0ff9\n",
            "  Stored in directory: /root/.cache/pip/wheels/29/c5/32/09633c3b70fdfc470b2fb912bd9e90d8d6814df68c794dcaa6\n",
            "  Building wheel for docopt (setup.py) ... \u001b[?25l\u001b[?25hdone\n",
            "  Created wheel for docopt: filename=docopt-0.6.2-py2.py3-none-any.whl size=13705 sha256=d379698d0ed692c63d09268673e75f605bb6d809ba9f6c7b0c8b3a1908a17ec2\n",
            "  Stored in directory: /root/.cache/pip/wheels/fc/ab/d4/5da2067ac95b36618c629a5f93f809425700506f72c9732fac\n",
            "  Building wheel for emoji (pyproject.toml) ... \u001b[?25l\u001b[?25hdone\n",
            "  Created wheel for emoji: filename=emoji-2.7.0-py2.py3-none-any.whl size=356563 sha256=0e308ee2994e82c96ea6a46735655ffe31aba3ec9bbbd4bd2cef0eb1fb2379c9\n",
            "  Stored in directory: /root/.cache/pip/wheels/41/11/48/5df0b9727d5669c9174a141134f10304d1d78a3b89a4676f3d\n",
            "Successfully built camel-kenlm docopt emoji\n",
            "Installing collected packages: tokenizers, safetensors, docopt, camel-kenlm, muddler, emoji, dill, huggingface-hub, transformers, camel-tools\n",
            "Successfully installed camel-kenlm-2023.3.17.2 camel-tools-1.5.2 dill-0.3.7 docopt-0.6.2 emoji-2.7.0 huggingface-hub-0.16.4 muddler-0.1.3 safetensors-0.3.1 tokenizers-0.13.3 transformers-4.31.0\n"
          ]
        }
      ]
    },
    {
      "cell_type": "markdown",
      "source": [
        "## get important libraries and packages in project"
      ],
      "metadata": {
        "id": "ocOI-SBoLk0s"
      }
    },
    {
      "cell_type": "code",
      "source": [
        "import numpy as np\n",
        "from sklearn.ensemble import VotingClassifier\n",
        "from sklearn.model_selection import train_test_split\n",
        "from sklearn.svm import SVC\n",
        "from sklearn.linear_model import LogisticRegression\n",
        "import tensorflow as tf\n",
        "from tensorflow.keras.models import Sequential\n",
        "from tensorflow.keras.layers import GRU, Dense\n",
        "from sklearn.metrics import accuracy_score\n",
        "import nltk\n",
        "import string\n",
        "import re\n",
        "from nltk.corpus import stopwords\n",
        "from nltk.tokenize import word_tokenize\n",
        "from nltk.tokenize import sent_tokenize\n",
        "from nltk.stem.snowball import SnowballStemmer\n",
        "from sklearn.feature_extraction.text import TfidfVectorizer\n",
        "from sklearn.pipeline import make_pipeline\n",
        "from sklearn.metrics import confusion_matrix,accuracy_score, classification_report\n",
        "import arabicstopwords.arabicstopwords as ast\n",
        "import matplotlib.pyplot as plt\n",
        "import pandas as pd\n",
        "import seaborn as sns\n",
        "\n",
        "from camel_tools.utils.normalize import normalize_alef_maksura_ar\n",
        "from camel_tools.utils.normalize import normalize_alef_ar\n",
        "from camel_tools.utils.normalize import normalize_teh_marbuta_ar\n",
        "\n",
        "from nltk.stem import ISRIStemmer\n",
        "from transformers import AutoTokenizer, TFAutoModel\n",
        "import tensorflow as tf"
      ],
      "metadata": {
        "id": "cIve2txNpMCK",
        "execution": {
          "iopub.status.busy": "2023-07-29T12:05:05.330870Z",
          "iopub.execute_input": "2023-07-29T12:05:05.331172Z",
          "iopub.status.idle": "2023-07-29T12:05:05.685557Z",
          "shell.execute_reply.started": "2023-07-29T12:05:05.331145Z",
          "shell.execute_reply": "2023-07-29T12:05:05.684559Z"
        },
        "trusted": true
      },
      "execution_count": null,
      "outputs": []
    },
    {
      "cell_type": "markdown",
      "source": [
        "#Loading Data\n",
        "\n",
        "\n"
      ],
      "metadata": {
        "id": "3_CyrRM_jt9R"
      }
    },
    {
      "cell_type": "code",
      "source": [
        "! gdown \"1Dj9OSnSg-kvpNjJTxhaWW_FpQvh04s3o\"  #our LABR-book-reviews.csv"
      ],
      "metadata": {
        "colab": {
          "base_uri": "https://localhost:8080/"
        },
        "id": "KwOLw_oANvCd",
        "outputId": "6cfd2d0a-c061-4f01-994a-f5cd431b746a",
        "execution": {
          "iopub.status.busy": "2023-07-29T01:45:39.864149Z",
          "iopub.execute_input": "2023-07-29T01:45:39.864590Z",
          "iopub.status.idle": "2023-07-29T01:45:40.875315Z",
          "shell.execute_reply.started": "2023-07-29T01:45:39.864556Z",
          "shell.execute_reply": "2023-07-29T01:45:40.874125Z"
        },
        "trusted": true
      },
      "execution_count": null,
      "outputs": [
        {
          "output_type": "stream",
          "name": "stdout",
          "text": [
            "Downloading...\n",
            "From: https://drive.google.com/uc?id=1Dj9OSnSg-kvpNjJTxhaWW_FpQvh04s3o\n",
            "To: /content/LABR-book-reviews.csv\n",
            "\r  0% 0.00/9.17M [00:00<?, ?B/s]\r100% 9.17M/9.17M [00:00<00:00, 110MB/s]\n"
          ]
        }
      ]
    },
    {
      "cell_type": "code",
      "source": [
        "Data = pd.read_csv(\"/content/LABR-book-reviews.csv\")"
      ],
      "metadata": {
        "id": "At_Ni2_yPuXb",
        "execution": {
          "iopub.status.busy": "2023-07-29T12:11:54.436418Z",
          "iopub.execute_input": "2023-07-29T12:11:54.436783Z",
          "iopub.status.idle": "2023-07-29T12:11:54.626912Z",
          "shell.execute_reply.started": "2023-07-29T12:11:54.436748Z",
          "shell.execute_reply": "2023-07-29T12:11:54.625920Z"
        },
        "trusted": true
      },
      "execution_count": null,
      "outputs": []
    },
    {
      "cell_type": "code",
      "source": [
        "Data.head()"
      ],
      "metadata": {
        "colab": {
          "base_uri": "https://localhost:8080/",
          "height": 206
        },
        "id": "DELJzdkxl525",
        "outputId": "9162fe4b-b2a4-4db6-db58-fbe33154c760",
        "execution": {
          "iopub.status.busy": "2023-07-29T01:54:54.476114Z",
          "iopub.execute_input": "2023-07-29T01:54:54.476478Z",
          "iopub.status.idle": "2023-07-29T01:54:54.486576Z",
          "shell.execute_reply.started": "2023-07-29T01:54:54.476448Z",
          "shell.execute_reply": "2023-07-29T01:54:54.485486Z"
        },
        "trusted": true
      },
      "execution_count": null,
      "outputs": [
        {
          "execution_count": 23,
          "output_type": "execute_result",
          "data": {
            "text/plain": "   sentiment                                                txt\n0          0                           مكملتش اكتر 30 صفحه بضان\n1          0  النادر ان يعجبني الفلم اكثر الروايه  تفوق دعاء...\n2          0  كتاب سي الاسلوب ممتع نهايه مفتوحه والكتاب بوجه...\n3          0  قصه مشوقه ونهايه مفتوحه  اسوء صفحه في الروايه ...\n4          0  ابدع الكاتب سرد الحقائق التاريخيه او بمعني اصح...",
            "text/html": "<div>\n<style scoped>\n    .dataframe tbody tr th:only-of-type {\n        vertical-align: middle;\n    }\n\n    .dataframe tbody tr th {\n        vertical-align: top;\n    }\n\n    .dataframe thead th {\n        text-align: right;\n    }\n</style>\n<table border=\"1\" class=\"dataframe\">\n  <thead>\n    <tr style=\"text-align: right;\">\n      <th></th>\n      <th>sentiment</th>\n      <th>txt</th>\n    </tr>\n  </thead>\n  <tbody>\n    <tr>\n      <th>0</th>\n      <td>0</td>\n      <td>مكملتش اكتر 30 صفحه بضان</td>\n    </tr>\n    <tr>\n      <th>1</th>\n      <td>0</td>\n      <td>النادر ان يعجبني الفلم اكثر الروايه  تفوق دعاء...</td>\n    </tr>\n    <tr>\n      <th>2</th>\n      <td>0</td>\n      <td>كتاب سي الاسلوب ممتع نهايه مفتوحه والكتاب بوجه...</td>\n    </tr>\n    <tr>\n      <th>3</th>\n      <td>0</td>\n      <td>قصه مشوقه ونهايه مفتوحه  اسوء صفحه في الروايه ...</td>\n    </tr>\n    <tr>\n      <th>4</th>\n      <td>0</td>\n      <td>ابدع الكاتب سرد الحقائق التاريخيه او بمعني اصح...</td>\n    </tr>\n  </tbody>\n</table>\n</div>"
          },
          "metadata": {}
        }
      ]
    },
    {
      "cell_type": "code",
      "source": [
        "Data.info()"
      ],
      "metadata": {
        "colab": {
          "base_uri": "https://localhost:8080/"
        },
        "id": "LB7P6ZDErXyS",
        "outputId": "aa11dc52-6e1c-4bda-e723-f083d516bfba",
        "execution": {
          "iopub.status.busy": "2023-07-29T01:49:39.192718Z",
          "iopub.execute_input": "2023-07-29T01:49:39.193592Z",
          "iopub.status.idle": "2023-07-29T01:49:39.221331Z",
          "shell.execute_reply.started": "2023-07-29T01:49:39.193559Z",
          "shell.execute_reply": "2023-07-29T01:49:39.220320Z"
        },
        "trusted": true
      },
      "execution_count": null,
      "outputs": [
        {
          "name": "stdout",
          "text": "<class 'pandas.core.frame.DataFrame'>\nRangeIndex: 16448 entries, 0 to 16447\nData columns (total 2 columns):\n #   Column     Non-Null Count  Dtype \n---  ------     --------------  ----- \n 0   sentiment  16448 non-null  int64 \n 1   txt        16448 non-null  object\ndtypes: int64(1), object(1)\nmemory usage: 257.1+ KB\n",
          "output_type": "stream"
        }
      ]
    },
    {
      "cell_type": "code",
      "source": [
        "Data['sentiment'].value_counts()"
      ],
      "metadata": {
        "colab": {
          "base_uri": "https://localhost:8080/"
        },
        "id": "s1eEeno1rksB",
        "outputId": "ab3a50bf-c6f8-4d44-f6b1-5a421b159f59",
        "execution": {
          "iopub.status.busy": "2023-07-29T01:49:39.222700Z",
          "iopub.execute_input": "2023-07-29T01:49:39.223065Z",
          "iopub.status.idle": "2023-07-29T01:49:39.231288Z",
          "shell.execute_reply.started": "2023-07-29T01:49:39.223033Z",
          "shell.execute_reply": "2023-07-29T01:49:39.229826Z"
        },
        "trusted": true
      },
      "execution_count": null,
      "outputs": [
        {
          "execution_count": 12,
          "output_type": "execute_result",
          "data": {
            "text/plain": "0    8224\n1    8224\nName: sentiment, dtype: int64"
          },
          "metadata": {}
        }
      ]
    },
    {
      "cell_type": "code",
      "source": [
        "sns.countplot(x='sentiment', data=Data, palette='viridis')"
      ],
      "metadata": {
        "colab": {
          "base_uri": "https://localhost:8080/",
          "height": 466
        },
        "id": "KtbyREmasQpV",
        "outputId": "016d30f1-c57d-4201-c50a-969eb5cfec43",
        "execution": {
          "iopub.status.busy": "2023-07-29T01:49:39.233008Z",
          "iopub.execute_input": "2023-07-29T01:49:39.233781Z",
          "iopub.status.idle": "2023-07-29T01:49:39.507662Z",
          "shell.execute_reply.started": "2023-07-29T01:49:39.233733Z",
          "shell.execute_reply": "2023-07-29T01:49:39.506784Z"
        },
        "trusted": true
      },
      "execution_count": null,
      "outputs": [
        {
          "execution_count": 13,
          "output_type": "execute_result",
          "data": {
            "text/plain": "<Axes: xlabel='sentiment', ylabel='count'>"
          },
          "metadata": {}
        },
        {
          "output_type": "display_data",
          "data": {
            "text/plain": "<Figure size 640x480 with 1 Axes>",
            "image/png": "[encoded data removed]"
          },
          "metadata": {}
        }
      ]
    },
    {
      "cell_type": "code",
      "source": [],
      "metadata": {
        "id": "4lcVWga5nren"
      },
      "execution_count": null,
      "outputs": []
    },
    {
      "cell_type": "code",
      "source": [],
      "metadata": {
        "id": "IdNoBQEBnsFk"
      },
      "execution_count": null,
      "outputs": []
    },
    {
      "cell_type": "code",
      "source": [
        "Data['txt'][10:20]"
      ],
      "metadata": {
        "colab": {
          "base_uri": "https://localhost:8080/"
        },
        "id": "I2hKB7EBufFB",
        "outputId": "bc372877-f230-467a-fc49-659eae37b8af",
        "execution": {
          "iopub.status.busy": "2023-07-29T01:49:39.511157Z",
          "iopub.execute_input": "2023-07-29T01:49:39.511464Z",
          "iopub.status.idle": "2023-07-29T01:49:39.518645Z",
          "shell.execute_reply.started": "2023-07-29T01:49:39.511438Z",
          "shell.execute_reply": "2023-07-29T01:49:39.517784Z"
        },
        "trusted": true
      },
      "execution_count": null,
      "outputs": [
        {
          "execution_count": 14,
          "output_type": "execute_result",
          "data": {
            "text/plain": "10     كوميديا ساخرة عن نظام اسئلة الإمتحانات العقيم...\n11     أذكر أني قرأته وأنا طفلة او بدايات المراهقة ....\n12                     لم يعجبني والشريط منه افضل وامتع\n13     كتاب حلو ويستاهل القراءة اكثر من مرة ولازم ال...\n14     أول رواية أقرأها لأحلام لغتها عذبة ساحرة لذيذ...\n15     روايه ممتعه تحمست لها اكثر لما عرفت انها نقل ...\n16     متوسطة . بالرغم من نضوج أسلوب الكاتبة فيها أك...\n17     كتاب لا بأس به، لطيف و خفيف، أسلوب أستاذ أحمد...\n18     كتاب ممل جدا و لم استمتع الا باولة و يدخل فى ...\n19                            ما استطعت اكمال الرواية .\nName: txt, dtype: object"
          },
          "metadata": {}
        }
      ]
    },
    {
      "cell_type": "markdown",
      "source": [
        "# Preprocessing"
      ],
      "metadata": {
        "id": "UqAyHMxundWS"
      }
    },
    {
      "cell_type": "markdown",
      "source": [
        "## Cleaning data"
      ],
      "metadata": {
        "id": "h77HToVRnj3V"
      }
    },
    {
      "cell_type": "markdown",
      "source": [
        "\n",
        "\n",
        "1.   Reducing Orthographic Ambiguity\n",
        "2.   Remove stopwords\n",
        "3.   Removing Punctuations\n",
        "\n"
      ],
      "metadata": {
        "id": "-kpt0woP2jqB"
      }
    },
    {
      "cell_type": "code",
      "source": [
        "# Get a list of stop words\n",
        "stop_words = ast.stopwords_list()\n",
        "\n",
        "# Define a string containing Arabic punctuations\n",
        "arabic_punctuations = '''`÷×؛<>_():*&^%][ـ،/:\"؟.,'{}~¦+|!”…“–ـ'''\n",
        "\n",
        "# Get a string containing English punctuations\n",
        "english_punctuations = string.punctuation\n",
        "\n",
        "# Concatenate Arabic and English punctuations to create a single list\n",
        "punctuations_list = arabic_punctuations + english_punctuations"
      ],
      "metadata": {
        "id": "clCZoHifMfxM"
      },
      "execution_count": null,
      "outputs": []
    },
    {
      "cell_type": "code",
      "source": [
        "def ortho_normalize(text):\n",
        "    text = normalize_alef_maksura_ar(text)\n",
        "    text = normalize_alef_ar(text)\n",
        "    text = normalize_teh_marbuta_ar(text)\n",
        "    return text\n",
        "\n",
        "def remove_stop_words(text):\n",
        "    return ' '.join(word for word in str(text).split() if word not in stop_words)\n",
        "\n",
        "def remove_punctuations(text):\n",
        "    translator = str.maketrans('', '', punctuations_list)\n",
        "    return text.translate(translator)"
      ],
      "metadata": {
        "id": "0bLCQCwPn2Vh",
        "execution": {
          "iopub.status.busy": "2023-07-29T01:49:39.519841Z",
          "iopub.execute_input": "2023-07-29T01:49:39.520730Z",
          "iopub.status.idle": "2023-07-29T01:49:39.532246Z",
          "shell.execute_reply.started": "2023-07-29T01:49:39.520697Z",
          "shell.execute_reply": "2023-07-29T01:49:39.531222Z"
        },
        "trusted": true
      },
      "execution_count": null,
      "outputs": []
    },
    {
      "cell_type": "code",
      "source": [
        "#applay the filter on the text\n",
        "\n",
        "Data['txt'] = Data['txt'].apply(remove_stop_words)\n",
        "\n",
        "Data['txt'] = Data['txt'].apply(remove_punctuations)\n",
        "\n",
        "Data['txt'] = Data['txt'].apply(ortho_normalize)\n"
      ],
      "metadata": {
        "id": "gYwM_tcQAEb3",
        "execution": {
          "iopub.status.busy": "2023-07-29T01:49:39.545589Z",
          "iopub.execute_input": "2023-07-29T01:49:39.546509Z",
          "iopub.status.idle": "2023-07-29T01:52:33.562910Z",
          "shell.execute_reply.started": "2023-07-29T01:49:39.546478Z",
          "shell.execute_reply": "2023-07-29T01:52:33.561911Z"
        },
        "trusted": true
      },
      "execution_count": null,
      "outputs": []
    },
    {
      "cell_type": "markdown",
      "source": [
        "### stemming/lemmatization\n",
        "\n",
        "*   snow_stemmer not worked well give long vectors with no change in accuracy\n",
        "*   lemmatization also didn't affect more in results\n",
        "\n"
      ],
      "metadata": {
        "id": "NKyzBeG_JUsK"
      }
    },
    {
      "cell_type": "code",
      "source": [
        "\n",
        "\n",
        "#   Applies stemming to the input Arabic text using the ISRI Arabic stemmer.\n",
        "\n",
        "isri_stemmer = ISRIStemmer()\n",
        "\n",
        "w_tokenizer = nltk.tokenize.WhitespaceTokenizer()\n",
        "def stemming(text):\n",
        "    s = \" \"\n",
        "    x = w_tokenizer.tokenize(text)\n",
        "    return s.join([isri_stemmer.stem(w) for w in x])\n",
        "\n",
        "Data[\"stemming Words\"] = Data['txt'].apply(stemming)\n"
      ],
      "metadata": {
        "execution": {
          "iopub.status.busy": "2023-07-28T21:14:16.292451Z",
          "iopub.execute_input": "2023-07-28T21:14:16.292818Z",
          "iopub.status.idle": "2023-07-28T21:14:22.412745Z",
          "shell.execute_reply.started": "2023-07-28T21:14:16.292775Z",
          "shell.execute_reply": "2023-07-28T21:14:22.411784Z"
        },
        "trusted": true,
        "id": "7BeIBWr67jdM"
      },
      "execution_count": null,
      "outputs": []
    },
    {
      "cell_type": "code",
      "source": [
        "#worse in preformance than the isri stemmer\n",
        "'''snow_stemmer = SnowballStemmer(language='arabic')\n",
        "\n",
        "w_tokenizer = nltk.tokenize.WhitespaceTokenizer()\n",
        "def stemming(text):\n",
        "  s=\" \"\n",
        "  x = w_tokenizer.tokenize(text)\n",
        "  return s.join([snow_stemmer.stem(w) for w in x])\n",
        "\n",
        "Data[\"stemming Words\"] = Data['txt'].apply(stemming)\n",
        "'''"
      ],
      "metadata": {
        "id": "lvM8K46PxPQV",
        "outputId": "a60b95ed-cf4d-42b6-d345-264d0c4ee0a5",
        "colab": {
          "base_uri": "https://localhost:8080/",
          "height": 424
        },
        "execution": {
          "iopub.status.busy": "2023-07-28T13:20:13.236371Z",
          "iopub.execute_input": "2023-07-28T13:20:13.237604Z",
          "iopub.status.idle": "2023-07-28T13:20:13.250690Z",
          "shell.execute_reply.started": "2023-07-28T13:20:13.237543Z",
          "shell.execute_reply": "2023-07-28T13:20:13.249363Z"
        },
        "trusted": true
      },
      "execution_count": null,
      "outputs": [
        {
          "execution_count": 19,
          "output_type": "execute_result",
          "data": {
            "text/plain": "'snow_stemmer = SnowballStemmer(language=\\'arabic\\')\\n\\nw_tokenizer = nltk.tokenize.WhitespaceTokenizer()\\ndef stemming(text):\\n  s=\" \"\\n  x = w_tokenizer.tokenize(text)\\n  return s.join([snow_stemmer.stem(w) for w in x])\\n\\nData[\"stemming Words\"] = Data[\\'txt\\'].apply(stemming)\\n'"
          },
          "metadata": {}
        }
      ]
    },
    {
      "cell_type": "code",
      "source": [
        "\n",
        "def plot_text_review_lengths(data_frame, column_name):\n",
        "    # Count the length of each text review\n",
        "    data_frame['text_length'] = data_frame[column_name].apply(len)\n",
        "\n",
        "    # Create a histogram to visualize the distribution of text lengths\n",
        "    plt.figure(figsize=(10, 6))\n",
        "    plt.hist(data_frame['text_length'], bins=50, edgecolor='k')\n",
        "    plt.xlabel('Text Review Length')\n",
        "    plt.ylabel('Frequency')\n",
        "    plt.title('Distribution of Text Review Lengths')\n",
        "    plt.show()"
      ],
      "metadata": {
        "id": "9Z1G3gUipy6d"
      },
      "execution_count": null,
      "outputs": []
    },
    {
      "cell_type": "code",
      "source": [
        "plot_text_review_lengths(Data, 'txt')"
      ],
      "metadata": {
        "colab": {
          "base_uri": "https://localhost:8080/",
          "height": 564
        },
        "id": "RrDaw6R0pzD1",
        "outputId": "71b5d5df-fcfa-419d-c62b-9fba7e0cc4a9"
      },
      "execution_count": null,
      "outputs": [
        {
          "output_type": "display_data",
          "data": {
            "text/plain": [
              "<Figure size 1000x600 with 1 Axes>"
            ],
            "image/png": "[encoded data removed]"
          },
          "metadata": {}
        }
      ]
    },
    {
      "cell_type": "code",
      "source": [
        "df=Data.copy()"
      ],
      "metadata": {
        "id": "YggYOSNwqOsY"
      },
      "execution_count": null,
      "outputs": []
    },
    {
      "cell_type": "code",
      "source": [
        "# Assuming you have a DataFrame 'df' with text reviews stored in the 'review_text' column\n",
        "# You can replace 'review_text' with the actual column name containing your text reviews\n",
        "\n",
        "# Create a new column 'word_count' that contains the number of words in each review\n",
        "df['word_count'] = df['txt'].apply(lambda x: len(x.split()))\n",
        "\n",
        "# Create a histogram to visualize the distribution of review lengths\n",
        "plt.figure(figsize=(10, 6))\n",
        "plt.hist(df[df['word_count'] < 10]['word_count'], bins=10, edgecolor='k')\n",
        "plt.xlabel('Word Count')\n",
        "plt.ylabel('Frequency')\n",
        "plt.title('Distribution of Reviews with Less than 10 Words')\n",
        "plt.show()\n"
      ],
      "metadata": {
        "colab": {
          "base_uri": "https://localhost:8080/",
          "height": 564
        },
        "id": "BnuJgOnfqC8K",
        "outputId": "0de38468-21c8-4173-8306-6b0e9a537268"
      },
      "execution_count": null,
      "outputs": [
        {
          "output_type": "display_data",
          "data": {
            "text/plain": [
              "<Figure size 1000x600 with 1 Axes>"
            ],
            "image/png": "[encoded data removed]"
          },
          "metadata": {}
        }
      ]
    },
    {
      "cell_type": "code",
      "source": [
        "# Assuming you have a DataFrame 'df' with the 'word_count' column already created as shown in the previous code\n",
        "\n",
        "# Filter the DataFrame to get reviews with less than four words\n",
        "reviews_less_than_4_words = df[df['word_count'] < 3]['txt']\n",
        "\n",
        "# Print four examples of reviews with less than four words\n",
        "for i, review in enumerate(reviews_less_than_4_words.head(4)):\n",
        "    print(f\"Example {i+1}: {review}\")\n"
      ],
      "metadata": {
        "colab": {
          "base_uri": "https://localhost:8080/"
        },
        "id": "DRqfvoojrJZI",
        "outputId": "5913a9b3-8b71-4da0-8adb-b50d3ae08789"
      },
      "execution_count": null,
      "outputs": [
        {
          "output_type": "stream",
          "name": "stdout",
          "text": [
            "Example 1: بيضحّك اوي \n",
            "Example 2: ابهرتني\n",
            "Example 3: اسوا قرات\n",
            "Example 4: مليكه\n"
          ]
        }
      ]
    },
    {
      "cell_type": "code",
      "source": [
        "# Filter the DataFrame to get reviews with less than four words\n",
        "reviews_less_than_4_words = df[df['word_count'] < 2]['txt']\n",
        "\n",
        "# Print four examples of reviews with less than four words\n",
        "for i, review in enumerate(reviews_less_than_4_words.head(8)):\n",
        "    print(f\"Example {i+1}: {review}\")"
      ],
      "metadata": {
        "colab": {
          "base_uri": "https://localhost:8080/"
        },
        "id": "BsreIrGNrasY",
        "outputId": "ff9c543f-67a9-43fa-8000-0e563c9c9ce2"
      },
      "execution_count": null,
      "outputs": [
        {
          "output_type": "stream",
          "name": "stdout",
          "text": [
            "Example 1: ابهرتني\n",
            "Example 2: مليكه\n",
            "Example 3: رائع\n",
            "Example 4: حبيييت \n",
            "Example 5: ابدااااااااع \n",
            "Example 6: معجبنيش\n",
            "Example 7: جميل \n",
            "Example 8: صالح\n"
          ]
        }
      ]
    },
    {
      "cell_type": "markdown",
      "source": [
        "# Embedding : MarBert model\n",
        "\n",
        "\n",
        "\n"
      ],
      "metadata": {
        "id": "WstkItJqG9vD"
      }
    },
    {
      "cell_type": "code",
      "source": [
        "#specifys the model we are using the intilze the bert toknizer and embedding\n",
        "marbert_model_path = 'UBC-NLP/MARBERT'\n",
        "tokenizer = AutoTokenizer.from_pretrained(marbert_model_path, from_tf=True)\n",
        "marbert_model = TFAutoModel.from_pretrained(marbert_model_path, output_hidden_states=True)\n",
        "\n",
        "def bert_tokenize(texts: str) -> list:\n",
        "    max_len = 0\n",
        "    for text in texts:\n",
        "        max_len = max(len(tokenizer.tokenize(f'[CLS] {text} [SEP]')), max_len)\n",
        "    tokens = tokenizer(texts, padding='max_length', truncation=True, max_length=max_len)\n",
        "    return (tokens['input_ids'], tokens['attention_mask'], tokens['token_type_ids'])\n",
        "\n",
        "def get_embeddings(tokens):\n",
        "    ids = tf.convert_to_tensor(tokens[0])\n",
        "    mask = tf.convert_to_tensor(tokens[1])\n",
        "    type_ids = tf.convert_to_tensor(tokens[2])\n",
        "    hidden_states = marbert_model(input_ids=ids, attention_mask=mask, token_type_ids=type_ids)[2]\n",
        "    sentence_embd = tf.reduce_mean(tf.reduce_sum(tf.stack(hidden_states[-4:]), axis = 0), axis=1)\n",
        "    return sentence_embd"
      ],
      "metadata": {
        "execution": {
          "iopub.status.busy": "2023-07-28T21:34:24.636175Z",
          "iopub.execute_input": "2023-07-28T21:34:24.636559Z",
          "iopub.status.idle": "2023-07-28T21:34:47.363140Z",
          "shell.execute_reply.started": "2023-07-28T21:34:24.636523Z",
          "shell.execute_reply": "2023-07-28T21:34:47.362044Z"
        },
        "trusted": true,
        "id": "dwZiAZLO7jdT",
        "outputId": "2ab18bf2-91e9-4cba-9ddd-e6f8e6bd9d99",
        "colab": {
          "referenced_widgets": [
            "81b11428ea8d410586911486cb5630d7"
          ]
        }
      },
      "execution_count": null,
      "outputs": [
        {
          "output_type": "display_data",
          "data": {
            "text/plain": "Downloading tf_model.h5:   0%|          | 0.00/652M [00:00<?, ?B/s]",
            "application/vnd.jupyter.widget-view+json": {
              "version_major": 2,
              "version_minor": 0,
              "model_id": "81b11428ea8d410586911486cb5630d7"
            }
          },
          "metadata": {}
        },
        {
          "name": "stderr",
          "text": "All model checkpoint layers were used when initializing TFBertModel.\n\nAll the layers of TFBertModel were initialized from the model checkpoint at UBC-NLP/MARBERT.\nIf your task is similar to the task the model of the checkpoint was trained on, you can already use TFBertModel for predictions without further training.\n",
          "output_type": "stream"
        }
      ]
    },
    {
      "cell_type": "code",
      "source": [
        "\n",
        "# DIVIDING THE DATA INTO BATCHEoS AND PROCESSING THAT TO KEEP THE TRANING STABLE due to hardware limitations\n",
        "from tqdm import tqdm\n",
        "\n",
        "# Assuming your data is already loaded and `Data['txt'].values` is available\n",
        "batch_size=4\n",
        "batch_size = Data['txt'].values.shape[0] // 10\n",
        "rem = Data['txt'].values.shape[0] % 10\n",
        "start_batch_idx = 0  # Set this variable to the desired starting batch index\n",
        "\n",
        "for batch_idx in range(start_batch_idx, 10):\n",
        "    if batch_idx < 9:\n",
        "        batch_data = Data['txt'].values[batch_idx * batch_size : (batch_idx + 1) * batch_size]\n",
        "    else:\n",
        "        batch_data = Data['txt'].values[batch_idx * batch_size :]\n",
        "\n",
        "    x_batch = np.empty(shape=(batch_data.shape[0], 768), dtype=np.float64)\n",
        "\n",
        "    for i, text in enumerate(tqdm(batch_data, desc=f'Processing batch {batch_idx+1}..')):\n",
        "        tokens = bert_tokenize([text])\n",
        "        x_batch[i] = get_embeddings(tokens)\n",
        "\n",
        "    np.save(f'batch_features_{batch_idx}.npy', x_batch)\n",
        "    print(f'Batch {batch_idx+1} features saved.')\n",
        "\n",
        "print(\"All batches processed and saved.\")"
      ],
      "metadata": {
        "execution": {
          "iopub.status.busy": "2023-07-28T22:30:04.827096Z",
          "iopub.execute_input": "2023-07-28T22:30:04.827501Z",
          "iopub.status.idle": "2023-07-28T23:26:52.184356Z",
          "shell.execute_reply.started": "2023-07-28T22:30:04.827468Z",
          "shell.execute_reply": "2023-07-28T23:26:52.183108Z"
        },
        "trusted": true,
        "id": "ocuhtkgY7jdT",
        "outputId": "ca59de79-4ab1-486b-a37b-b6bd3c2eae38"
      },
      "execution_count": null,
      "outputs": [
        {
          "name": "stderr",
          "text": "Processing batch 1..: 100%|██████████| 1644/1644 [05:35<00:00,  4.90it/s]\n",
          "output_type": "stream"
        },
        {
          "name": "stdout",
          "text": "Batch 1 features saved.\n",
          "output_type": "stream"
        },
        {
          "name": "stderr",
          "text": "Processing batch 2..: 100%|██████████| 1644/1644 [05:34<00:00,  4.91it/s]\n",
          "output_type": "stream"
        },
        {
          "name": "stdout",
          "text": "Batch 2 features saved.\n",
          "output_type": "stream"
        },
        {
          "name": "stderr",
          "text": "Processing batch 3..: 100%|██████████| 1644/1644 [05:31<00:00,  4.95it/s]\n",
          "output_type": "stream"
        },
        {
          "name": "stdout",
          "text": "Batch 3 features saved.\n",
          "output_type": "stream"
        },
        {
          "name": "stderr",
          "text": "Processing batch 4..: 100%|██████████| 1644/1644 [05:31<00:00,  4.95it/s]\n",
          "output_type": "stream"
        },
        {
          "name": "stdout",
          "text": "Batch 4 features saved.\n",
          "output_type": "stream"
        },
        {
          "name": "stderr",
          "text": "Processing batch 5..: 100%|██████████| 1644/1644 [05:31<00:00,  4.96it/s]\n",
          "output_type": "stream"
        },
        {
          "name": "stdout",
          "text": "Batch 5 features saved.\n",
          "output_type": "stream"
        },
        {
          "name": "stderr",
          "text": "Processing batch 6..: 100%|██████████| 1644/1644 [05:31<00:00,  4.96it/s]\n",
          "output_type": "stream"
        },
        {
          "name": "stdout",
          "text": "Batch 6 features saved.\n",
          "output_type": "stream"
        },
        {
          "name": "stderr",
          "text": "Processing batch 7..: 100%|██████████| 1644/1644 [05:40<00:00,  4.83it/s]\n",
          "output_type": "stream"
        },
        {
          "name": "stdout",
          "text": "Batch 7 features saved.\n",
          "output_type": "stream"
        },
        {
          "name": "stderr",
          "text": "Processing batch 8..: 100%|██████████| 1644/1644 [05:55<00:00,  4.62it/s]\n",
          "output_type": "stream"
        },
        {
          "name": "stdout",
          "text": "Batch 8 features saved.\n",
          "output_type": "stream"
        },
        {
          "name": "stderr",
          "text": "Processing batch 9..: 100%|██████████| 1644/1644 [05:56<00:00,  4.61it/s]\n",
          "output_type": "stream"
        },
        {
          "name": "stdout",
          "text": "Batch 9 features saved.\n",
          "output_type": "stream"
        },
        {
          "name": "stderr",
          "text": "Processing batch 10..: 100%|██████████| 1652/1652 [05:57<00:00,  4.62it/s]",
          "output_type": "stream"
        },
        {
          "name": "stdout",
          "text": "Batch 10 features saved.\nAll batches processed and saved.\n",
          "output_type": "stream"
        },
        {
          "name": "stderr",
          "text": "\n",
          "output_type": "stream"
        }
      ]
    },
    {
      "cell_type": "code",
      "source": [
        "\n",
        "# Create an empty list to store the batch feature arrays\n",
        "all_batches = []\n",
        "\n",
        "start_batch_idx = 0\n",
        "\n",
        "for batch_idx in range(start_batch_idx, 10):\n",
        "    batch_file_path = f'batch_features_{batch_idx}.npy'\n",
        "    batch_features = np.load(batch_file_path)\n",
        "    all_batches.append(batch_features)\n",
        "\n",
        "# Concatenate all the batches along the first axis (axis=0)\n",
        "x_train = np.concatenate(all_batches, axis=0)\n",
        "\n",
        "# Now `x_train` contains the combined feature array from all the batches\n"
      ],
      "metadata": {
        "execution": {
          "iopub.status.busy": "2023-07-28T23:32:22.367778Z",
          "iopub.execute_input": "2023-07-28T23:32:22.368155Z",
          "iopub.status.idle": "2023-07-28T23:32:22.543517Z",
          "shell.execute_reply.started": "2023-07-28T23:32:22.368122Z",
          "shell.execute_reply": "2023-07-28T23:32:22.542472Z"
        },
        "trusted": true,
        "id": "oCkbYUOQ7jdU"
      },
      "execution_count": null,
      "outputs": []
    },
    {
      "cell_type": "code",
      "source": [
        "import numpy as np\n",
        "\n",
        "# ... (previous code to combine all batches into x_train)\n",
        "\n",
        "# Save the combined feature array to a file\n",
        "np.save('x_train_marbert_embed.npy', x_train)\n",
        "\n",
        "print(\"Combined feature array saved as 'x_train.npy'.\")\n"
      ],
      "metadata": {
        "execution": {
          "iopub.status.busy": "2023-07-28T23:34:14.345232Z",
          "iopub.execute_input": "2023-07-28T23:34:14.345659Z",
          "iopub.status.idle": "2023-07-28T23:34:14.434691Z",
          "shell.execute_reply.started": "2023-07-28T23:34:14.345618Z",
          "shell.execute_reply": "2023-07-28T23:34:14.433515Z"
        },
        "trusted": true,
        "id": "6TOPpTPz7jdi",
        "outputId": "227342f4-93d8-4cb2-fa25-66ee62c07757"
      },
      "execution_count": null,
      "outputs": [
        {
          "name": "stdout",
          "text": "Combined feature array saved as 'x_train.npy'.\n",
          "output_type": "stream"
        }
      ]
    },
    {
      "cell_type": "code",
      "source": [
        "\n",
        "file_path = '/kaggle/working/x_train_marbert_embed.npy'\n",
        "\n",
        "# Load the data from the .npy file\n",
        "x_train = np.load(file_path)\n",
        "\n",
        "\n"
      ],
      "metadata": {
        "_kg_hide-output": true,
        "execution": {
          "iopub.status.busy": "2023-07-29T16:06:42.046331Z",
          "iopub.execute_input": "2023-07-29T16:06:42.047470Z",
          "iopub.status.idle": "2023-07-29T16:06:42.092629Z",
          "shell.execute_reply.started": "2023-07-29T16:06:42.047436Z",
          "shell.execute_reply": "2023-07-29T16:06:42.091519Z"
        },
        "trusted": true,
        "id": "3sgixViR7jdU"
      },
      "execution_count": null,
      "outputs": []
    },
    {
      "cell_type": "code",
      "source": [
        "x_train.shape"
      ],
      "metadata": {
        "execution": {
          "iopub.status.busy": "2023-07-28T23:32:56.579998Z",
          "iopub.execute_input": "2023-07-28T23:32:56.580390Z",
          "iopub.status.idle": "2023-07-28T23:32:56.588742Z",
          "shell.execute_reply.started": "2023-07-28T23:32:56.580357Z",
          "shell.execute_reply": "2023-07-28T23:32:56.587630Z"
        },
        "trusted": true,
        "id": "OoZRWO_w7jdi",
        "outputId": "317000db-899a-445a-9c75-af4223ff7f92"
      },
      "execution_count": null,
      "outputs": [
        {
          "execution_count": 32,
          "output_type": "execute_result",
          "data": {
            "text/plain": "(16448, 768)"
          },
          "metadata": {}
        }
      ]
    },
    {
      "cell_type": "markdown",
      "source": [
        "#### split data after loading embedding"
      ],
      "metadata": {
        "id": "W2Dr1e8jL2lI"
      }
    },
    {
      "cell_type": "code",
      "source": [
        "\n",
        "# Assuming you have 'embeddings' and 'labels' arrays\n",
        "# Here 'embeddings' should be of shape (num_samples, 768) and 'labels' of shape (num_samples, 1)\n",
        "\n",
        "# Number of samples to select for each label\n",
        "num_samples_per_label = 5000\n",
        "\n",
        "# Select indices for samples with label 1\n",
        "indices_label_1 = np.where(Data[\"sentiment\"] == 1)[0]\n",
        "selected_indices_label_1 = np.random.choice(indices_label_1, num_samples_per_label, replace=False)\n",
        "\n",
        "# Select indices for samples with label 0\n",
        "indices_label_0 = np.where(Data[\"sentiment\"] == 0)[0]\n",
        "selected_indices_label_0 = np.random.choice(indices_label_0, num_samples_per_label, replace=False)\n",
        "\n",
        "# Combine the selected indices for both labels\n",
        "selected_indices = np.concatenate([selected_indices_label_1, selected_indices_label_0])\n",
        "\n",
        "# Create the new dataset with selected samples and their embeddings\n",
        "selected_data = x_train[selected_indices]\n",
        "selected_labels = Data[\"sentiment\"][selected_indices]\n",
        "\n",
        "# Shuffle the dataset\n",
        "shuffled_indices = np.random.permutation(len(selected_data))\n",
        "selected_data = x_train[shuffled_indices]\n",
        "selected_labels =  Data[\"sentiment\"][shuffled_indices]\n",
        "\n",
        "# Now you have a new dataset 'selected_data' containing embeddings\n",
        "# and 'selected_labels' containing corresponding labels for 5000 samples of each label (1 and 0).\n",
        "remaining_indices = np.setdiff1d(np.arange(len(x_train)),shuffled_indices)\n",
        "\n",
        "# Create the dataset with the remaining samples and their embeddings\n",
        "remaining_data = x_train[remaining_indices]\n",
        "remaining_labels = Data[\"sentiment\"][remaining_indices]\n",
        "\n",
        "import numpy as np\n",
        "from sklearn.model_selection import train_test_split\n",
        "\n",
        "# Assuming you have 'selected_data' and 'selected_labels' arrays\n",
        "# 'selected_data' should be of shape (num_samples, 768) and 'selected_labels' of shape (num_samples, 1)\n",
        "\n",
        "# Split the selected data into training and testing sets\n",
        "test_size = 0.2  # Proportion of data to use as the test set\n",
        "random_state = 42  # Set a random seed for reproducibility\n",
        "\n",
        "# Perform the split\n",
        "X_train_ara, X_test_ara, y_train_ara, y_test_Ara = train_test_split(\n",
        "    selected_data, selected_labels, test_size=test_size, random_state=random_state\n",
        ")\n",
        "\n",
        "# Now you have the training and testing sets:\n",
        "# X_train_ara: Feature embeddings for the training set\n",
        "# y_train_ara: Corresponding labels for the training set\n",
        "# X_test_ara: Feature embeddings for the testing set\n",
        "# y_test_Ara: Corresponding labels for the testing set"
      ],
      "metadata": {
        "execution": {
          "iopub.status.busy": "2023-07-29T16:06:43.711394Z",
          "iopub.execute_input": "2023-07-29T16:06:43.711805Z",
          "iopub.status.idle": "2023-07-29T16:06:43.812090Z",
          "shell.execute_reply.started": "2023-07-29T16:06:43.711774Z",
          "shell.execute_reply": "2023-07-29T16:06:43.811063Z"
        },
        "trusted": true,
        "id": "srJxdNJ97jdV"
      },
      "execution_count": null,
      "outputs": []
    },
    {
      "cell_type": "code",
      "source": [
        "remaining_data\n",
        "remaining_labels"
      ],
      "metadata": {
        "execution": {
          "iopub.status.busy": "2023-07-29T12:40:53.087071Z",
          "iopub.execute_input": "2023-07-29T12:40:53.088076Z",
          "iopub.status.idle": "2023-07-29T12:40:53.094547Z",
          "shell.execute_reply.started": "2023-07-29T12:40:53.088038Z",
          "shell.execute_reply": "2023-07-29T12:40:53.093565Z"
        },
        "trusted": true,
        "id": "BU9wibrG7jdV",
        "outputId": "da9dab47-bcad-4185-dfef-278e0831348e"
      },
      "execution_count": null,
      "outputs": [
        {
          "execution_count": 70,
          "output_type": "execute_result",
          "data": {
            "text/plain": "(6448, 768)"
          },
          "metadata": {}
        }
      ]
    },
    {
      "cell_type": "code",
      "source": [
        "import numpy as np\n",
        "\n",
        "# Assuming you have already defined shuffled_indices, selected_data, and selected_labels\n",
        "\n",
        "# Get the indices of the entire x_train array\n",
        "all_indices = np.arange(len(x_train))\n",
        "\n",
        "# Find the indices that were not selected by inverting shuffled_indices using the ~ operator\n",
        "remaining_indices = np.setdiff1d(all_indices, shuffled_indices, assume_unique=True)\n",
        "\n",
        "# Now 'remaining_indices' contains the indices that were not selected\n",
        "# You can use these indices to get the corresponding data and labels\n",
        "remaining_data = x_train[remaining_indices]\n",
        "remaining_labels = Data[\"sentiment\"][remaining_indices]\n"
      ],
      "metadata": {
        "execution": {
          "iopub.status.busy": "2023-07-29T16:08:33.566416Z",
          "iopub.execute_input": "2023-07-29T16:08:33.566794Z",
          "iopub.status.idle": "2023-07-29T16:08:33.595003Z",
          "shell.execute_reply.started": "2023-07-29T16:08:33.566762Z",
          "shell.execute_reply": "2023-07-29T16:08:33.593934Z"
        },
        "trusted": true,
        "id": "dbKYhggA7jdV"
      },
      "execution_count": null,
      "outputs": []
    },
    {
      "cell_type": "code",
      "source": [
        "shuffled_indices"
      ],
      "metadata": {
        "execution": {
          "iopub.status.busy": "2023-07-29T16:08:35.764385Z",
          "iopub.execute_input": "2023-07-29T16:08:35.764765Z",
          "iopub.status.idle": "2023-07-29T16:08:35.770967Z",
          "shell.execute_reply.started": "2023-07-29T16:08:35.764735Z",
          "shell.execute_reply": "2023-07-29T16:08:35.770087Z"
        },
        "trusted": true,
        "id": "DlAmo9tG7jdV",
        "outputId": "163910df-5c89-4911-bc07-76fec6452e5a"
      },
      "execution_count": null,
      "outputs": [
        {
          "execution_count": 328,
          "output_type": "execute_result",
          "data": {
            "text/plain": "array([4765, 5992, 4315, ..., 5108, 2139, 4252])"
          },
          "metadata": {}
        }
      ]
    },
    {
      "cell_type": "code",
      "source": [
        "remaining_indices = np.setdiff1d(np.arange(len(x_train)),shuffled_indices)"
      ],
      "metadata": {
        "execution": {
          "iopub.status.busy": "2023-07-29T16:08:40.643972Z",
          "iopub.execute_input": "2023-07-29T16:08:40.645833Z",
          "iopub.status.idle": "2023-07-29T16:08:40.652280Z",
          "shell.execute_reply.started": "2023-07-29T16:08:40.645776Z",
          "shell.execute_reply": "2023-07-29T16:08:40.651077Z"
        },
        "trusted": true,
        "id": "8HrXOnA-7jdW"
      },
      "execution_count": null,
      "outputs": []
    },
    {
      "cell_type": "code",
      "source": [
        "remaining_indices"
      ],
      "metadata": {
        "execution": {
          "iopub.status.busy": "2023-07-29T16:08:41.147847Z",
          "iopub.execute_input": "2023-07-29T16:08:41.148226Z",
          "iopub.status.idle": "2023-07-29T16:08:41.155445Z",
          "shell.execute_reply.started": "2023-07-29T16:08:41.148183Z",
          "shell.execute_reply": "2023-07-29T16:08:41.154284Z"
        },
        "trusted": true,
        "id": "Hvkq_ZoA7jdW",
        "outputId": "8ed0182f-6f1f-4079-d02e-0d708b026fee"
      },
      "execution_count": null,
      "outputs": [
        {
          "execution_count": 331,
          "output_type": "execute_result",
          "data": {
            "text/plain": "array([10000, 10001, 10002, ..., 16445, 16446, 16447])"
          },
          "metadata": {}
        }
      ]
    },
    {
      "cell_type": "code",
      "source": [
        "remaining_data.shape"
      ],
      "metadata": {
        "execution": {
          "iopub.status.busy": "2023-07-29T16:08:43.242645Z",
          "iopub.execute_input": "2023-07-29T16:08:43.243574Z",
          "iopub.status.idle": "2023-07-29T16:08:43.250274Z",
          "shell.execute_reply.started": "2023-07-29T16:08:43.243525Z",
          "shell.execute_reply": "2023-07-29T16:08:43.249292Z"
        },
        "trusted": true,
        "id": "2aFea_gf7jdW",
        "outputId": "4229d91f-d25c-433a-b40a-f2590285b94d"
      },
      "execution_count": null,
      "outputs": [
        {
          "execution_count": 332,
          "output_type": "execute_result",
          "data": {
            "text/plain": "(6448, 768)"
          },
          "metadata": {}
        }
      ]
    },
    {
      "cell_type": "code",
      "source": [
        "\n",
        "# Convert the nested list to a NumPy array (with inner lists converted to arrays)\n",
        "nested_array = np.array([np.array(sublist) for sublist in document_embeddings])\n",
        "\n",
        "\n",
        "print(\"Shape of the NumPy array:\", nested_array.shape)\n"
      ],
      "metadata": {
        "execution": {
          "iopub.status.busy": "2023-07-28T17:55:27.685748Z",
          "iopub.execute_input": "2023-07-28T17:55:27.686255Z",
          "iopub.status.idle": "2023-07-28T17:55:27.727646Z",
          "shell.execute_reply.started": "2023-07-28T17:55:27.686215Z",
          "shell.execute_reply": "2023-07-28T17:55:27.726199Z"
        },
        "trusted": true,
        "id": "0BN8RvYr7jdW",
        "outputId": "e7c69ce9-a8f1-4ce3-92e6-0d0aaa368bd2"
      },
      "execution_count": null,
      "outputs": [
        {
          "name": "stdout",
          "text": "Shape of the NumPy array: (16448,)\n",
          "output_type": "stream"
        },
        {
          "name": "stderr",
          "text": "/tmp/ipykernel_32/248390408.py:2: VisibleDeprecationWarning: Creating an ndarray from ragged nested sequences (which is a list-or-tuple of lists-or-tuples-or ndarrays with different lengths or shapes) is deprecated. If you meant to do this, you must specify 'dtype=object' when creating the ndarray.\n  nested_array = np.array([np.array(sublist) for sublist in document_embeddings])\n",
          "output_type": "stream"
        }
      ]
    },
    {
      "cell_type": "code",
      "source": [
        "Data.shape"
      ],
      "metadata": {
        "execution": {
          "iopub.status.busy": "2023-07-28T17:55:15.593355Z",
          "iopub.execute_input": "2023-07-28T17:55:15.593793Z",
          "iopub.status.idle": "2023-07-28T17:55:15.603081Z",
          "shell.execute_reply.started": "2023-07-28T17:55:15.593758Z",
          "shell.execute_reply": "2023-07-28T17:55:15.601474Z"
        },
        "trusted": true,
        "id": "qqCRGLJM7jdX",
        "outputId": "ab1771b5-37f4-4aca-a306-715f15e5f01a"
      },
      "execution_count": null,
      "outputs": [
        {
          "execution_count": 379,
          "output_type": "execute_result",
          "data": {
            "text/plain": "(16448, 4)"
          },
          "metadata": {}
        }
      ]
    },
    {
      "cell_type": "code",
      "source": [
        "logistic_classifier = LogisticRegression(max_iter=1000, solver='saga',C=1)"
      ],
      "metadata": {
        "execution": {
          "iopub.status.busy": "2023-07-28T19:42:07.583162Z",
          "iopub.execute_input": "2023-07-28T19:42:07.583678Z",
          "iopub.status.idle": "2023-07-28T19:42:07.590342Z",
          "shell.execute_reply.started": "2023-07-28T19:42:07.583608Z",
          "shell.execute_reply": "2023-07-28T19:42:07.588656Z"
        },
        "trusted": true,
        "id": "4rmixVX57jdY"
      },
      "execution_count": null,
      "outputs": []
    },
    {
      "cell_type": "code",
      "source": [
        "global_y_train.shape"
      ],
      "metadata": {
        "execution": {
          "iopub.status.busy": "2023-07-28T19:41:43.551964Z",
          "iopub.execute_input": "2023-07-28T19:41:43.552424Z",
          "iopub.status.idle": "2023-07-28T19:41:43.561345Z",
          "shell.execute_reply.started": "2023-07-28T19:41:43.552387Z",
          "shell.execute_reply": "2023-07-28T19:41:43.559743Z"
        },
        "trusted": true,
        "id": "arTeekFO7jdY",
        "outputId": "bfdd4fab-129b-46b9-ee8c-d244bbb21b96"
      },
      "execution_count": null,
      "outputs": [
        {
          "execution_count": 430,
          "output_type": "execute_result",
          "data": {
            "text/plain": "(8000,)"
          },
          "metadata": {}
        }
      ]
    },
    {
      "cell_type": "code",
      "source": [
        "\n",
        "logistic_classifier.fit(global_X_train_counts, global_y_train)\n",
        "logistic_probs = logistic_classifier.predict_proba(global_remaning_counts)\n",
        "\n",
        "\n",
        "plt.hist(logistic_probs, bins=20, edgecolor='black')  # You can adjust the number of bins as needed\n",
        "plt.xlabel('Probability')\n",
        "plt.ylabel('Count')\n",
        "plt.title('log Distribution')\n",
        "plt.show()"
      ],
      "metadata": {
        "execution": {
          "iopub.status.busy": "2023-07-28T19:42:10.158929Z",
          "iopub.execute_input": "2023-07-28T19:42:10.159404Z",
          "iopub.status.idle": "2023-07-28T19:42:20.766639Z",
          "shell.execute_reply.started": "2023-07-28T19:42:10.159366Z",
          "shell.execute_reply": "2023-07-28T19:42:20.765125Z"
        },
        "trusted": true,
        "id": "ThFg30JW7jdY",
        "outputId": "5c0c73e0-3b34-4c01-b07d-2bc51559ee43"
      },
      "execution_count": null,
      "outputs": [
        {
          "output_type": "display_data",
          "data": {
            "text/plain": "<Figure size 640x480 with 1 Axes>",
            "image/png": "[encoded data removed]"
          },
          "metadata": {}
        }
      ]
    },
    {
      "cell_type": "markdown",
      "source": [
        "#Step1 : **Baseline Model** *classify by three model by given labels*"
      ],
      "metadata": {
        "id": "A0Db_LMRoIl8"
      }
    },
    {
      "cell_type": "code",
      "source": [
        "\n",
        "train_x_used=X_train_ara\n",
        "train_y_used=y_train_ara\n",
        "test_x_used=X_test_ara\n",
        "test_y_used=y_test_Ara\n",
        "\n",
        "\n"
      ],
      "metadata": {
        "execution": {
          "iopub.status.busy": "2023-07-29T13:27:58.445408Z",
          "iopub.execute_input": "2023-07-29T13:27:58.445767Z",
          "iopub.status.idle": "2023-07-29T13:27:58.451462Z",
          "shell.execute_reply.started": "2023-07-29T13:27:58.445741Z",
          "shell.execute_reply": "2023-07-29T13:27:58.449978Z"
        },
        "trusted": true,
        "id": "LuHzhsjV7jdY"
      },
      "execution_count": null,
      "outputs": []
    },
    {
      "cell_type": "code",
      "source": [
        "x_train_embedded\n",
        "Data[\"sentiment\"]"
      ],
      "metadata": {
        "id": "sfUM4k4J7jdY"
      },
      "execution_count": null,
      "outputs": []
    },
    {
      "cell_type": "code",
      "source": [
        "X_train_global,X_test_global,y_train_global,y_test_global = train_test_split(x_train_embedded, Data[\"sentiment\"],test_size=0.2, random_state = 42)"
      ],
      "metadata": {
        "execution": {
          "iopub.status.busy": "2023-07-29T15:39:11.055886Z",
          "iopub.execute_input": "2023-07-29T15:39:11.056385Z",
          "iopub.status.idle": "2023-07-29T15:39:11.104361Z",
          "shell.execute_reply.started": "2023-07-29T15:39:11.056348Z",
          "shell.execute_reply": "2023-07-29T15:39:11.103248Z"
        },
        "trusted": true,
        "id": "gRpaLtx07jdZ"
      },
      "execution_count": null,
      "outputs": []
    },
    {
      "cell_type": "markdown",
      "source": [
        "## define SVM  and Logistic Regression classifiers\n",
        "\n",
        "---\n",
        "\n"
      ],
      "metadata": {
        "id": "eQH9dLYd7jdZ"
      }
    },
    {
      "cell_type": "code",
      "source": [
        "#trained on the data after being labled\n",
        "svm_classifier_before = SVC(kernel='rbf', C=1, probability=True)\n",
        "logistic_classifier_before = LogisticRegression(max_iter=1000, solver='saga', C=1)"
      ],
      "metadata": {
        "execution": {
          "iopub.status.busy": "2023-07-29T15:39:05.961466Z",
          "iopub.execute_input": "2023-07-29T15:39:05.962513Z",
          "iopub.status.idle": "2023-07-29T15:39:05.968371Z",
          "shell.execute_reply.started": "2023-07-29T15:39:05.962474Z",
          "shell.execute_reply": "2023-07-29T15:39:05.967364Z"
        },
        "trusted": true,
        "id": "LIIm53oO7jdZ"
      },
      "execution_count": null,
      "outputs": []
    },
    {
      "cell_type": "markdown",
      "source": [
        "## train and evalute the models"
      ],
      "metadata": {
        "id": "duddm8k_OV-T"
      }
    },
    {
      "cell_type": "code",
      "source": [
        "# Train each classifier on its respective dataset\n",
        "svm_classifier_before.fit(X_train_global,y_train_global)\n",
        "logistic_classifier_before.fit(X_train_global, y_train_global)\n",
        "\n",
        "# Make predictions for each classifier\n",
        "y_pred_svm = svm_classifier_before.predict(X_test_global)\n",
        "y_pred_logistic = logistic_classifier_before.predict(X_test_global)\n",
        "\n",
        "print(\"SVM\",classification_report(y_test_global, y_pred_svm))\n",
        "print(\"logistic_classifier \",classification_report(y_test_global, y_pred_logistic))"
      ],
      "metadata": {
        "execution": {
          "iopub.status.busy": "2023-07-29T15:39:14.645888Z",
          "iopub.execute_input": "2023-07-29T15:39:14.646280Z",
          "iopub.status.idle": "2023-07-29T15:45:17.005711Z",
          "shell.execute_reply.started": "2023-07-29T15:39:14.646241Z",
          "shell.execute_reply": "2023-07-29T15:45:17.004703Z"
        },
        "trusted": true,
        "id": "98uTEGMT7jdZ",
        "outputId": "a70618f7-e632-4760-f678-4cfe1a48fcfc"
      },
      "execution_count": null,
      "outputs": [
        {
          "name": "stdout",
          "text": "SVM               precision    recall  f1-score   support\n\n           0       0.86      0.86      0.86      1692\n           1       0.85      0.85      0.85      1598\n\n    accuracy                           0.86      3290\n   macro avg       0.86      0.86      0.86      3290\nweighted avg       0.86      0.86      0.86      3290\n\nlogistic_classifier                precision    recall  f1-score   support\n\n           0       0.86      0.85      0.86      1692\n           1       0.85      0.85      0.85      1598\n\n    accuracy                           0.85      3290\n   macro avg       0.85      0.85      0.85      3290\nweighted avg       0.85      0.85      0.85      3290\n\n",
          "output_type": "stream"
        }
      ]
    },
    {
      "cell_type": "markdown",
      "source": [
        "## define GRU classifier\n",
        "\n",
        "*   Used high droup out  to avoid overfitting in model\n",
        "\n",
        "\n"
      ],
      "metadata": {
        "id": "nuGEtzCgNu7S"
      }
    },
    {
      "cell_type": "code",
      "source": [
        "X_train_gru_global = X_train_global.reshape(X_train_global.shape[0], 1, X_train_global.shape[1]) # reshape input to allow for GRU\n",
        "\n",
        "# Create the GRU model\n",
        "from tensorflow.keras.layers import GRU, Dense, Dropout\n",
        "\n",
        "gru_classifier = Sequential()\n",
        "gru_classifier.add(GRU(256, input_shape=(X_train_gru_global.shape[1], X_train_gru_global.shape[2]), return_sequences=True))\n",
        "gru_classifier.add(Dropout(0.2))\n",
        "\n",
        "gru_classifier.add(GRU(128, return_sequences=True))\n",
        "gru_classifier.add(Dropout(0.2))\n",
        "\n",
        "gru_classifier.add(GRU(64))\n",
        "gru_classifier.add(Dropout(0.2))\n",
        "\n",
        "gru_classifier.add(Dense(1, activation='sigmoid'))\n",
        "\n",
        "# Compile the model\n",
        "gru_classifier.compile(loss='binary_crossentropy', optimizer='adam', metrics=['accuracy'])\n"
      ],
      "metadata": {
        "execution": {
          "iopub.status.busy": "2023-07-29T15:46:27.453139Z",
          "iopub.execute_input": "2023-07-29T15:46:27.454235Z",
          "iopub.status.idle": "2023-07-29T15:46:28.208319Z",
          "shell.execute_reply.started": "2023-07-29T15:46:27.454172Z",
          "shell.execute_reply": "2023-07-29T15:46:28.207277Z"
        },
        "trusted": true,
        "id": "f1rNGFh97jda"
      },
      "execution_count": null,
      "outputs": []
    },
    {
      "cell_type": "markdown",
      "source": [
        "## train and evalute Gru"
      ],
      "metadata": {
        "id": "w38ieTl4Ojmj"
      }
    },
    {
      "cell_type": "code",
      "source": [
        "gru_classifier.fit(X_train_gru_global, y_train_global, epochs=5,batch_size=128)"
      ],
      "metadata": {
        "execution": {
          "iopub.status.busy": "2023-07-29T15:46:31.456620Z",
          "iopub.execute_input": "2023-07-29T15:46:31.456992Z",
          "iopub.status.idle": "2023-07-29T15:46:41.271383Z",
          "shell.execute_reply.started": "2023-07-29T15:46:31.456960Z",
          "shell.execute_reply": "2023-07-29T15:46:41.270414Z"
        },
        "trusted": true,
        "id": "GLFVkz3u7jda",
        "outputId": "ca096ead-9ae2-4539-81df-e21397e66450"
      },
      "execution_count": null,
      "outputs": [
        {
          "name": "stdout",
          "text": "Epoch 1/5\n103/103 [==============================] - 7s 11ms/step - loss: 0.4154 - accuracy: 0.8108\nEpoch 2/5\n103/103 [==============================] - 1s 8ms/step - loss: 0.3270 - accuracy: 0.8601\nEpoch 3/5\n103/103 [==============================] - 1s 7ms/step - loss: 0.3086 - accuracy: 0.8697\nEpoch 4/5\n103/103 [==============================] - 1s 7ms/step - loss: 0.2964 - accuracy: 0.8765\nEpoch 5/5\n103/103 [==============================] - 1s 7ms/step - loss: 0.2792 - accuracy: 0.8830\n",
          "output_type": "stream"
        },
        {
          "execution_count": 298,
          "output_type": "execute_result",
          "data": {
            "text/plain": "<keras.callbacks.History at 0x79cb13ad1a80>"
          },
          "metadata": {}
        }
      ]
    },
    {
      "cell_type": "code",
      "source": [
        "X_test_gru_global = X_test_global.reshape(X_test_global.shape[0], 1, X_test_global.shape[1])\n",
        "\n",
        "y_pred_gru = gru_classifier.predict(X_test_gru_global)\n",
        "\n",
        "y_pred_binary = (y_pred_gru > 0.5).astype(int)\n",
        "\n",
        "print(\"GRU\",classification_report(y_test_global, y_pred_binary))"
      ],
      "metadata": {
        "execution": {
          "iopub.status.busy": "2023-07-29T15:47:29.509383Z",
          "iopub.execute_input": "2023-07-29T15:47:29.509782Z",
          "iopub.status.idle": "2023-07-29T15:47:29.943974Z",
          "shell.execute_reply.started": "2023-07-29T15:47:29.509748Z",
          "shell.execute_reply": "2023-07-29T15:47:29.942777Z"
        },
        "trusted": true,
        "id": "O7NtsWa77jda",
        "outputId": "fc04ae74-6071-4827-b5f0-9ad826d016f2"
      },
      "execution_count": null,
      "outputs": [
        {
          "name": "stdout",
          "text": "103/103 [==============================] - 0s 3ms/step\nGRU               precision    recall  f1-score   support\n\n           0       0.87      0.88      0.88      1692\n           1       0.87      0.86      0.87      1598\n\n    accuracy                           0.87      3290\n   macro avg       0.87      0.87      0.87      3290\nweighted avg       0.87      0.87      0.87      3290\n\n",
          "output_type": "stream"
        }
      ]
    },
    {
      "cell_type": "markdown",
      "source": [
        "## trained and test on the 10000 labled data only"
      ],
      "metadata": {
        "id": "LLtzQqQ77jdb"
      }
    },
    {
      "cell_type": "code",
      "source": [
        "svm_classifier = SVC(kernel='rbf', C=1, probability=True)\n",
        "logistic_classifier = LogisticRegression(C=0.1)"
      ],
      "metadata": {
        "execution": {
          "iopub.status.busy": "2023-07-29T12:16:28.655380Z",
          "iopub.execute_input": "2023-07-29T12:16:28.655748Z",
          "iopub.status.idle": "2023-07-29T12:16:28.661246Z",
          "shell.execute_reply.started": "2023-07-29T12:16:28.655721Z",
          "shell.execute_reply": "2023-07-29T12:16:28.660116Z"
        },
        "trusted": true,
        "id": "q9rPIZY57jdb"
      },
      "execution_count": null,
      "outputs": []
    },
    {
      "cell_type": "code",
      "source": [
        "# Train each classifier on its respective dataset\n",
        "svm_classifier.fit(train_x_used, train_y_used)\n",
        "logistic_classifier.fit(train_x_used, train_y_used)\n",
        "\n",
        "# Make predictions for each classifier\n",
        "y_pred_svm = svm_classifier.predict(test_x_used)\n",
        "y_pred_logistic = logistic_classifier.predict(test_x_used)\n",
        "print(\"SVM\",classification_report(test_y_used, y_pred_svm))\n",
        "print(\"logistic_classifier \",classification_report(test_y_used, y_pred_logistic))"
      ],
      "metadata": {
        "id": "iH8AbqNwoY4h",
        "colab": {
          "base_uri": "https://localhost:8080/"
        },
        "outputId": "47197957-72ce-410f-c9c1-a1032cff0b2c",
        "execution": {
          "iopub.status.busy": "2023-07-29T12:16:28.859975Z",
          "iopub.execute_input": "2023-07-29T12:16:28.860327Z",
          "iopub.status.idle": "2023-07-29T12:17:55.104861Z",
          "shell.execute_reply.started": "2023-07-29T12:16:28.860299Z",
          "shell.execute_reply": "2023-07-29T12:17:55.103849Z"
        },
        "trusted": true
      },
      "execution_count": null,
      "outputs": [
        {
          "name": "stderr",
          "text": "/opt/conda/lib/python3.10/site-packages/sklearn/linear_model/_logistic.py:458: ConvergenceWarning: lbfgs failed to converge (status=1):\nSTOP: TOTAL NO. of ITERATIONS REACHED LIMIT.\n\nIncrease the number of iterations (max_iter) or scale the data as shown in:\n    https://scikit-learn.org/stable/modules/preprocessing.html\nPlease also refer to the documentation for alternative solver options:\n    https://scikit-learn.org/stable/modules/linear_model.html#logistic-regression\n  n_iter_i = _check_optimize_result(\n",
          "output_type": "stream"
        },
        {
          "name": "stdout",
          "text": "SVM               precision    recall  f1-score   support\n\n           0       0.86      0.85      0.85      1025\n           1       0.85      0.85      0.85       975\n\n    accuracy                           0.85      2000\n   macro avg       0.85      0.85      0.85      2000\nweighted avg       0.85      0.85      0.85      2000\n\nlogistic_classifier                precision    recall  f1-score   support\n\n           0       0.86      0.86      0.86      1025\n           1       0.85      0.85      0.85       975\n\n    accuracy                           0.85      2000\n   macro avg       0.85      0.85      0.85      2000\nweighted avg       0.86      0.85      0.86      2000\n\n",
          "output_type": "stream"
        }
      ]
    },
    {
      "cell_type": "code",
      "source": [
        "X_train_gru = train_x_used.reshape(train_x_used.shape[0], 1, train_x_used.shape[1])\n",
        "\n",
        "# Create the GRU model\n",
        "from tensorflow.keras.layers import GRU, Dense, Dropout\n",
        "\n",
        "gru_classifier = Sequential()\n",
        "gru_classifier.add(GRU(256, input_shape=(X_train_gru.shape[1], X_train_gru.shape[2]), return_sequences=True))\n",
        "gru_classifier.add(Dropout(0.2))\n",
        "\n",
        "gru_classifier.add(GRU(128, return_sequences=True))\n",
        "gru_classifier.add(Dropout(0.2))\n",
        "\n",
        "gru_classifier.add(GRU(64))\n",
        "gru_classifier.add(Dropout(0.2))\n",
        "\n",
        "gru_classifier.add(Dense(1, activation='sigmoid'))\n",
        "\n",
        "# Compile the model\n",
        "gru_classifier.compile(loss='binary_crossentropy', optimizer='adam', metrics=['accuracy'])\n",
        "\n"
      ],
      "metadata": {
        "id": "_szKKQnNIIA-",
        "execution": {
          "iopub.status.busy": "2023-07-29T12:21:09.869272Z",
          "iopub.execute_input": "2023-07-29T12:21:09.869895Z",
          "iopub.status.idle": "2023-07-29T12:21:10.867609Z",
          "shell.execute_reply.started": "2023-07-29T12:21:09.869865Z",
          "shell.execute_reply": "2023-07-29T12:21:10.866649Z"
        },
        "trusted": true
      },
      "execution_count": null,
      "outputs": []
    },
    {
      "cell_type": "code",
      "source": [
        "gru_classifier.fit(X_train_gru, train_y_used, epochs=10,batch_size=128)"
      ],
      "metadata": {
        "execution": {
          "iopub.status.busy": "2023-07-29T12:22:36.792010Z",
          "iopub.execute_input": "2023-07-29T12:22:36.792576Z",
          "iopub.status.idle": "2023-07-29T12:22:41.764340Z",
          "shell.execute_reply.started": "2023-07-29T12:22:36.792535Z",
          "shell.execute_reply": "2023-07-29T12:22:41.763169Z"
        },
        "trusted": true,
        "id": "XD8H6yZD7jdc",
        "outputId": "6882c89a-07fc-4e3c-df79-4c5fd07ebbef"
      },
      "execution_count": null,
      "outputs": [
        {
          "name": "stdout",
          "text": "Epoch 1/10\n63/63 [==============================] - 1s 10ms/step - loss: 0.0977 - accuracy: 0.9620\nEpoch 2/10\n63/63 [==============================] - 1s 11ms/step - loss: 0.0924 - accuracy: 0.9641\nEpoch 3/10\n63/63 [==============================] - 0s 8ms/step - loss: 0.0769 - accuracy: 0.9710\nEpoch 4/10\n63/63 [==============================] - 0s 7ms/step - loss: 0.0864 - accuracy: 0.9644\nEpoch 5/10\n63/63 [==============================] - 0s 7ms/step - loss: 0.0638 - accuracy: 0.9766\nEpoch 6/10\n63/63 [==============================] - 0s 7ms/step - loss: 0.0706 - accuracy: 0.9726\nEpoch 7/10\n63/63 [==============================] - 0s 7ms/step - loss: 0.0717 - accuracy: 0.9721\nEpoch 8/10\n63/63 [==============================] - 0s 7ms/step - loss: 0.0573 - accuracy: 0.9790\nEpoch 9/10\n63/63 [==============================] - 0s 7ms/step - loss: 0.0558 - accuracy: 0.9803\nEpoch 10/10\n63/63 [==============================] - 0s 7ms/step - loss: 0.0558 - accuracy: 0.9800\n",
          "output_type": "stream"
        },
        {
          "execution_count": 47,
          "output_type": "execute_result",
          "data": {
            "text/plain": "<keras.callbacks.History at 0x79ca90eee770>"
          },
          "metadata": {}
        }
      ]
    },
    {
      "cell_type": "code",
      "source": [
        "X_test_gru = test_x_used.reshape(test_x_used.shape[0], 1, test_x_used.shape[1])\n",
        "\n",
        "y_pred_gru = gru_classifier.predict(X_test_gru)\n"
      ],
      "metadata": {
        "colab": {
          "base_uri": "https://localhost:8080/"
        },
        "id": "9Y0rmsjxPepw",
        "outputId": "65f9cfe7-f50d-4bcd-9b9b-3d84f6f28b5b",
        "execution": {
          "iopub.status.busy": "2023-07-29T12:22:41.766347Z",
          "iopub.execute_input": "2023-07-29T12:22:41.766695Z",
          "iopub.status.idle": "2023-07-29T12:22:42.127211Z",
          "shell.execute_reply.started": "2023-07-29T12:22:41.766661Z",
          "shell.execute_reply": "2023-07-29T12:22:42.126270Z"
        },
        "trusted": true
      },
      "execution_count": null,
      "outputs": [
        {
          "name": "stdout",
          "text": "63/63 [==============================] - 0s 3ms/step\n",
          "output_type": "stream"
        }
      ]
    },
    {
      "cell_type": "code",
      "source": [
        "y_pred_binary = (y_pred_gru > 0.5).astype(int)\n",
        "print(\"GRU\",classification_report(test_y_used, y_pred_binary))"
      ],
      "metadata": {
        "colab": {
          "base_uri": "https://localhost:8080/"
        },
        "id": "kNBNR3kFQK-p",
        "outputId": "d6b33014-db2d-444a-9290-4d7deaf0f902",
        "execution": {
          "iopub.status.busy": "2023-07-29T12:22:42.128780Z",
          "iopub.execute_input": "2023-07-29T12:22:42.129112Z",
          "iopub.status.idle": "2023-07-29T12:22:42.146829Z",
          "shell.execute_reply.started": "2023-07-29T12:22:42.129079Z",
          "shell.execute_reply": "2023-07-29T12:22:42.145907Z"
        },
        "trusted": true
      },
      "execution_count": null,
      "outputs": [
        {
          "name": "stdout",
          "text": "GRU               precision    recall  f1-score   support\n\n           0       0.89      0.81      0.85      1025\n           1       0.82      0.90      0.86       975\n\n    accuracy                           0.85      2000\n   macro avg       0.86      0.85      0.85      2000\nweighted avg       0.86      0.85      0.85      2000\n\n",
          "output_type": "stream"
        }
      ]
    },
    {
      "cell_type": "code",
      "source": [],
      "metadata": {
        "id": "G_2dZrfEtqEi"
      },
      "execution_count": null,
      "outputs": []
    },
    {
      "cell_type": "markdown",
      "source": [
        "# (Cnn,lstm,gru)"
      ],
      "metadata": {
        "id": "o5Rjus5ZtqPg"
      }
    },
    {
      "cell_type": "code",
      "source": [],
      "metadata": {
        "id": "yuZtlI5utxJP"
      },
      "execution_count": null,
      "outputs": []
    },
    {
      "cell_type": "code",
      "source": [
        "# Create the SVM ,  logistic models\n",
        "\n",
        "X_train_gru = train_x_used_semi.toarray().reshape(train_x_used_semi.shape[0], 1, train_x_used_semi.shape[1])\n",
        "from tensorflow.keras.layers import GRU, Dense, Dropout\n",
        "\n",
        "gru_classifier_semi = Sequential()\n",
        "gru_classifier_semi.add(GRU(256, input_shape=(X_train_gru.shape[1], X_train_gru.shape[2]), return_sequences=True))\n",
        "gru_classifier_semi.add(Dropout(0.2))\n",
        "gru_classifier_semi.add(GRU(128, return_sequences=True))\n",
        "gru_classifier_semi.add(Dropout(0.2))\n",
        "gru_classifier_semi.add(GRU(64))\n",
        "gru_classifier_semi.add(Dropout(0.2))\n",
        "gru_classifier_semi.add(Dense(1, activation='sigmoid'))\n",
        "\n",
        "# Compile the model\n",
        "gru_classifier_semi.compile(loss='binary_crossentropy', optimizer='adam', metrics=['accuracy'])\n"
      ],
      "metadata": {
        "execution": {
          "iopub.status.busy": "2023-08-01T19:54:50.314444Z",
          "iopub.execute_input": "2023-08-01T19:54:50.314833Z",
          "iopub.status.idle": "2023-08-01T19:54:51.090402Z",
          "shell.execute_reply.started": "2023-08-01T19:54:50.314800Z",
          "shell.execute_reply": "2023-08-01T19:54:51.089275Z"
        },
        "trusted": true,
        "id": "KOV5fv-BtW9V"
      },
      "execution_count": null,
      "outputs": []
    },
    {
      "cell_type": "code",
      "source": [
        "from tensorflow.keras.layers import LSTM, Dense, Dropout\n",
        "from tensorflow.keras.models import Sequential\n",
        "\n",
        "X_train_lstm = train_x_used_semi.toarray().reshape(train_x_used_semi.shape[0], 1, train_x_used_semi.shape[1])\n",
        "lstm_classifier_semi = Sequential()\n",
        "lstm_classifier_semi.add(LSTM(256, input_shape=(X_train_lstm.shape[1], X_train_lstm.shape[2]), return_sequences=True))\n",
        "lstm_classifier_semi.add(Dropout(0.2))\n",
        "lstm_classifier_semi.add(LSTM(128, return_sequences=True))\n",
        "lstm_classifier_semi.add(Dropout(0.2))\n",
        "lstm_classifier_semi.add(LSTM(64))\n",
        "lstm_classifier_semi.add(Dropout(0.2))\n",
        "lstm_classifier_semi.add(Dense(1, activation='sigmoid'))\n",
        "\n",
        "# Compile the model\n",
        "lstm_classifier_semi.compile(loss='binary_crossentropy', optimizer='adam', metrics=['accuracy'])\n"
      ],
      "metadata": {
        "id": "pqA0ImTBtynD"
      },
      "execution_count": null,
      "outputs": []
    },
    {
      "cell_type": "code",
      "source": [
        "from tensorflow.keras.layers import Conv1D, MaxPooling1D, Flatten, Dense, Dropout\n",
        "from tensorflow.keras.models import Sequential\n",
        "# Assuming `sequence_length` is the length of the sequence (e.g., 15320)\n",
        "sequence_length = 768\n",
        "\n",
        "# Create the CNN model\n",
        "cnn_classifier_semi = Sequential()\n",
        "cnn_classifier_semi.add(Conv1D(32, kernel_size=3, activation='relu', input_shape=(sequence_length, 1)))\n",
        "cnn_classifier_semi.add(MaxPooling1D(pool_size=2))\n",
        "cnn_classifier_semi.add(Flatten())\n",
        "cnn_classifier_semi.add(Dense(128, activation='relu'))\n",
        "cnn_classifier_semi.add(Dense(1, activation='sigmoid'))\n",
        "\n",
        "# Compile the model\n",
        "cnn_classifier_semi.compile(loss='binary_crossentropy', optimizer='adam', metrics=['accuracy'])\n"
      ],
      "metadata": {
        "id": "WKTF2fVBt7yp"
      },
      "execution_count": null,
      "outputs": []
    },
    {
      "cell_type": "code",
      "source": [
        "train_x_used_semi=csr_matrix(X_train_ara)\n",
        "train_y_used_semi=y_train_ara\n",
        "test_x_used_semi=csr_matrix(X_test_ara)\n",
        "test_y_used_semi=y_test_Ara\n",
        "reamining_data_used=csr_matrix(remaining_data)\n"
      ],
      "metadata": {
        "id": "O9rshg_Yt8Wa"
      },
      "execution_count": null,
      "outputs": []
    },
    {
      "cell_type": "code",
      "source": [
        "final_X_train, final_X_test, final_y_train, final_y_test = train_test_split(train_x_used_semi, train_y_used_semi,test_size=0.2, random_state = 42)"
      ],
      "metadata": {
        "id": "pu_-75eXt-II"
      },
      "execution_count": null,
      "outputs": []
    },
    {
      "cell_type": "code",
      "source": [
        "X_train_gru = final_X_train.toarray().reshape(final_X_train.shape[0], 1, final_X_train.shape[1])\n",
        "print('lstm')\n",
        "lstm_classifier_semi.fit(X_train_gru, final_y_train,epochs=15, batch_size=32)\n",
        "print('CNN')\n",
        "X_train_cnn = final_X_train.toarray().reshape(final_X_train.shape[0], sequence_length, 1)\n",
        "cnn_classifier_semi.fit(X_train_cnn, final_y_train,epochs=15, batch_size=32)\n",
        "print('gru')\n",
        "\n",
        "gru_classifier_semi.fit(X_train_gru, final_y_train, epochs=15, batch_size=64)  # Adjust epochs and batch size as needed"
      ],
      "metadata": {
        "id": "ejKrb1DIuCVy"
      },
      "execution_count": null,
      "outputs": []
    },
    {
      "cell_type": "code",
      "source": [
        "semi_remaning_counts_gru = final_X_test.toarray().reshape(final_X_test.shape[0], 1, final_X_test.shape[1])\n",
        "semi_remaning_counts_cnn = final_X_test.toarray().reshape(final_X_test.shape[0], sequence_length, 1)\n",
        "\n",
        "\n",
        "\n",
        "lstm_predictions = lstm_classifier_semi.predict(semi_remaning_counts_gru)\n",
        "cnn_predictions = cnn_classifier_semi.predict(semi_remaning_counts_cnn)\n",
        "gru_predictions = gru_classifier_semi.predict(semi_remaning_counts_gru)\n",
        "\n"
      ],
      "metadata": {
        "id": "7aDkNibTuC1q"
      },
      "execution_count": null,
      "outputs": []
    },
    {
      "cell_type": "code",
      "source": [
        "\n",
        "y_pred_binary = (lstm_predictions > 0.5).astype(int)\n",
        "print(\"lstm \",classification_report(final_y_test, y_pred_binary))\n",
        "y_pred_binary = (cnn_predictions > 0.5).astype(int)\n",
        "print(\"cnn \",classification_report(final_y_test, y_pred_binary))\n",
        "y_pred_binary = (gru_predictions > 0.5).astype(int)\n",
        "print(\"gru \",classification_report(final_y_test, y_pred_binary))"
      ],
      "metadata": {
        "execution": {
          "iopub.status.busy": "2023-08-01T20:02:01.683118Z",
          "iopub.execute_input": "2023-08-01T20:02:01.683529Z",
          "iopub.status.idle": "2023-08-01T20:02:01.722986Z",
          "shell.execute_reply.started": "2023-08-01T20:02:01.683499Z",
          "shell.execute_reply": "2023-08-01T20:02:01.721956Z"
        },
        "trusted": true,
        "id": "RTg-9JuatW9Z",
        "outputId": "a1216328-cd69-4cd7-bfff-7777fab3ab6d"
      },
      "execution_count": null,
      "outputs": [
        {
          "name": "stdout",
          "text": "lstm                precision    recall  f1-score   support\n\n           0       0.91      0.79      0.85       799\n           1       0.82      0.92      0.87       801\n\n    accuracy                           0.86      1600\n   macro avg       0.86      0.86      0.86      1600\nweighted avg       0.86      0.86      0.86      1600\n\ncnn                precision    recall  f1-score   support\n\n           0       0.90      0.76      0.83       799\n           1       0.80      0.92      0.85       801\n\n    accuracy                           0.84      1600\n   macro avg       0.85      0.84      0.84      1600\nweighted avg       0.85      0.84      0.84      1600\n\ngru                precision    recall  f1-score   support\n\n           0       0.87      0.84      0.86       799\n           1       0.85      0.88      0.86       801\n\n    accuracy                           0.86      1600\n   macro avg       0.86      0.86      0.86      1600\nweighted avg       0.86      0.86      0.86      1600\n\n",
          "output_type": "stream"
        }
      ]
    },
    {
      "cell_type": "markdown",
      "source": [
        "# Step 2 :**semi supervise learning**\n",
        "\n",
        "*    create new labels\n",
        "\n"
      ],
      "metadata": {
        "id": "yH8tFZoYowY_"
      }
    },
    {
      "cell_type": "code",
      "source": [
        "from sklearn.metrics import accuracy_score\n",
        "from tqdm import tqdm  # For the progress bar\n"
      ],
      "metadata": {
        "execution": {
          "iopub.status.busy": "2023-07-29T12:43:52.468781Z",
          "iopub.execute_input": "2023-07-29T12:43:52.469154Z",
          "iopub.status.idle": "2023-07-29T12:43:52.474009Z",
          "shell.execute_reply.started": "2023-07-29T12:43:52.469126Z",
          "shell.execute_reply": "2023-07-29T12:43:52.472726Z"
        },
        "trusted": true,
        "id": "HS-U88PI7jdd"
      },
      "execution_count": null,
      "outputs": []
    },
    {
      "cell_type": "code",
      "source": [
        "\n",
        "train_x_used_semi=csr_matrix(X_train_ara)\n",
        "train_y_used_semi=y_train_ara\n",
        "test_x_used_semi=csr_matrix(X_test_ara)\n",
        "test_y_used_semi=y_test_Ara\n",
        "reamining_data_used=csr_matrix(remaining_data)\n"
      ],
      "metadata": {
        "execution": {
          "iopub.status.busy": "2023-07-29T14:15:49.730942Z",
          "iopub.execute_input": "2023-07-29T14:15:49.731336Z",
          "iopub.status.idle": "2023-07-29T14:15:50.163913Z",
          "shell.execute_reply.started": "2023-07-29T14:15:49.731306Z",
          "shell.execute_reply": "2023-07-29T14:15:50.162857Z"
        },
        "trusted": true,
        "id": "8aZGnt5Z7jdd"
      },
      "execution_count": null,
      "outputs": []
    },
    {
      "cell_type": "code",
      "source": [
        "# Create the SVM ,  logistic ,gru models\n",
        "\n",
        "svm_classifier_semi = SVC(max_iter=2,kernel='rbf', C=1, probability=True)\n",
        "logistic_classifier_semi = LogisticRegression(max_iter=2, solver='saga', C=1)\n",
        "\n",
        "from tensorflow.keras.layers import GRU, Dense, Dropout\n",
        "\n",
        "gru_classifier_semi = Sequential()\n",
        "gru_classifier_semi.add(GRU(256, input_shape=(X_train_gru.shape[1], X_train_gru.shape[2]), return_sequences=True))\n",
        "gru_classifier_semi.add(Dropout(0.2))\n",
        "gru_classifier_semi.add(GRU(128, return_sequences=True))\n",
        "gru_classifier_semi.add(Dropout(0.2))\n",
        "gru_classifier_semi.add(GRU(64))\n",
        "gru_classifier_semi.add(Dropout(0.2))\n",
        "gru_classifier_semi.add(Dense(1, activation='sigmoid'))\n",
        "\n",
        "# Compile the model\n",
        "gru_classifier_semi.compile(loss='binary_crossentropy', optimizer='adam', metrics=['accuracy'])\n"
      ],
      "metadata": {
        "execution": {
          "iopub.status.busy": "2023-07-29T14:15:53.671820Z",
          "iopub.execute_input": "2023-07-29T14:15:53.672559Z",
          "iopub.status.idle": "2023-07-29T14:15:54.349384Z",
          "shell.execute_reply.started": "2023-07-29T14:15:53.672521Z",
          "shell.execute_reply": "2023-07-29T14:15:54.348358Z"
        },
        "trusted": true,
        "id": "TqVWmI_o7jdd"
      },
      "execution_count": null,
      "outputs": []
    },
    {
      "cell_type": "code",
      "source": [
        "confidence_threshold = 0.9"
      ],
      "metadata": {
        "execution": {
          "iopub.status.busy": "2023-07-29T13:35:26.963143Z",
          "iopub.execute_input": "2023-07-29T13:35:26.963788Z",
          "iopub.status.idle": "2023-07-29T13:35:26.968170Z",
          "shell.execute_reply.started": "2023-07-29T13:35:26.963739Z",
          "shell.execute_reply": "2023-07-29T13:35:26.967258Z"
        },
        "trusted": true,
        "id": "KymNe8Ge7jdd"
      },
      "execution_count": null,
      "outputs": []
    },
    {
      "cell_type": "code",
      "source": [
        "from scipy.sparse import vstack,csr_matrix\n",
        "## allow store new labels and remove from unlabel data\n",
        "def compare_arrays(array1, array2, array3,threshold,unlabled_data,labeled_x,labeled_y):\n",
        "    assert array1.shape == array2.shape == array3.shape, \"Arrays must have the same shape.\"\n",
        "\n",
        "    indexes_to_delete = []\n",
        "\n",
        "    for index, (elem1, elem2, elem3) in enumerate(zip(array1, array2, array3)):\n",
        "        if elem1 > threshold and elem2 > threshold and elem3 > threshold:\n",
        "            #\n",
        "            #store the indexes of the elements that we will remove from the unlabeled\n",
        "            indexes_to_delete.append(index)\n",
        "            #append the elment the meet our threshhold to the traninf data ,using vstack because its a sparce matrix\n",
        "            labeled_x = vstack([labeled_x, csr_matrix(unlabled_data[index])], format='csr')\n",
        "            #append the predection to the traning data\n",
        "            labeled_y = np.concatenate([labeled_y, np.array([1])])\n",
        "\n",
        "        elif elem1 < (1-threshold) and elem2 < (1-threshold) and elem3 < (1-threshold):\n",
        "\n",
        "            indexes_to_delete.append(index)\n",
        "            labeled_x = vstack([labeled_x, csr_matrix(unlabled_data[index])], format='csr')\n",
        "            labeled_y = np.concatenate([labeled_y, np.array([0])])\n",
        "        # you can add more conditions here.\n",
        "\n",
        "\n",
        "    print(\"############\")\n",
        "    print(f\"  unlabeled shape before deletion {unlabled_data.shape}\")\n",
        "    print(f\"  indexes_to_delete shape before deletion {len(indexes_to_delete)}\")\n",
        "    print(f\"  unlabeled shape before deletion {unlabled_data.shape}\")\n",
        "    # Drop elements from the main_array using the stored indexes\n",
        "    if indexes_to_delete is not None and unlabled_data is not None:\n",
        "\n",
        "        unlabled_data = np.delete(unlabled_data,indexes_to_delete,axis=0)\n",
        "\n",
        "\n",
        "    print(type(unlabled_data))\n",
        "\n",
        "    print(\"############\")\n",
        "    unlabled_data = np.squeeze(unlabled_data)\n",
        "    print(f\"  unlabeled shape after deletion {csr_matrix(unlabled_data).shape}\")\n",
        "    return csr_matrix(unlabled_data),labeled_x,labeled_y"
      ],
      "metadata": {
        "execution": {
          "iopub.status.busy": "2023-07-29T13:51:33.092710Z",
          "iopub.execute_input": "2023-07-29T13:51:33.093074Z",
          "iopub.status.idle": "2023-07-29T13:51:33.105032Z",
          "shell.execute_reply.started": "2023-07-29T13:51:33.093045Z",
          "shell.execute_reply": "2023-07-29T13:51:33.103836Z"
        },
        "trusted": true,
        "id": "G5DhQfz-7jde"
      },
      "execution_count": null,
      "outputs": []
    },
    {
      "cell_type": "code",
      "source": [
        "confidence_threshold = 0.9"
      ],
      "metadata": {
        "id": "Q9UPXOrk7jde"
      },
      "execution_count": null,
      "outputs": []
    },
    {
      "cell_type": "markdown",
      "source": [
        "## train semi supervised model"
      ],
      "metadata": {
        "id": "x0rdt6haRV_4"
      }
    },
    {
      "cell_type": "code",
      "source": [
        "import numpy as np\n",
        "from sklearn.svm import SVC\n",
        "from sklearn.linear_model import LogisticRegression\n",
        "from tensorflow.keras.models import Sequential\n",
        "from tensorflow.keras.layers import GRU, Dense\n",
        "\n",
        "\n",
        "# Number of iterations for semi-supervised learning\n",
        "num_iterations = 50\n",
        "\n",
        "\n",
        "# Semi-supervised learning using iterative approach\n",
        "for _ in range(num_iterations):\n",
        "    print('step 1')\n",
        "    # Step 1: Train models on labeled data\n",
        "    print('train svm')\n",
        "    svm_classifier_semi.fit(train_x_used_semi, train_y_used_semi)\n",
        "    print('log')\n",
        "    logistic_classifier_semi.fit(train_x_used_semi, train_y_used_semi)\n",
        "    print('gru')\n",
        "    X_train_gru = train_x_used_semi.toarray().reshape(train_x_used_semi.shape[0], 1, train_x_used_semi.shape[1])\n",
        "\n",
        "    gru_classifier_semi.fit(X_train_gru, train_y_used_semi, epochs=1, batch_size=64)  # Adjust epochs and batch size as needed\n",
        "    print('step 2')\n",
        "\n",
        "    # Step 2: Make predictions on unlabeled data\n",
        "    svm_predictions = svm_classifier_semi.predict(reamining_data_used)\n",
        "    logistic_predictions = logistic_classifier_semi.predict(reamining_data_used)\n",
        "\n",
        "    global_remaning_counts_gru = reamining_data_used.toarray().reshape(reamining_data_used.shape[0], 1, reamining_data_used.shape[1])\n",
        "\n",
        "    gru_predictions = gru_classifier_semi.predict(global_remaning_counts_gru)\n",
        "\n",
        "    svm_predictions = np.squeeze(svm_predictions)\n",
        "    logistic_predictions = np.squeeze(logistic_predictions)\n",
        "    gru_predictions = np.squeeze(gru_predictions)\n",
        "    print('step 3')\n",
        "\n",
        "    svm_confidences = svm_classifier_semi.predict_proba(reamining_data_used)[:, 1]\n",
        "    logistic_confidences = logistic_classifier_semi.predict_proba(reamining_data_used)[:, 1]\n",
        "\n",
        "    reamining_data_used,train_x_used_semi,train_y_used_semi = compare_arrays(svm_confidences,\n",
        "                                                                                     logistic_confidences,\n",
        "                                                                                     gru_predictions,confidence_threshold,\n",
        "                                                                                     global_remaning_counts_gru,\n",
        "                                                                                     train_x_used_semi,train_y_used_semi)\n",
        "\n",
        "\n",
        "    print(f\"  labeled shape end of run deletion {train_x_used_semi.shape}\")\n",
        "    print(f\"  nmber of unlabled remaning{reamining_data_used.shape[0]}\")\n",
        "\n",
        "    print('repeat')\n",
        "    confidence_threshold=confidence_threshold-0.008\n",
        "    print(f\"confidence_threshold={confidence_threshold}\")\n",
        "\n",
        "    if global_remaning_counts.shape[0] == 0:\n",
        "        print(f\"All data labeled after iteration {iteration+1}. Stopping the loop.\")\n",
        "        break\n",
        "    # After an iteration, the unlabeled dataset is updated with agreed predictions removed.\n",
        "    # The process will be repeated until the stopping criteria is met.\n",
        "\n"
      ],
      "metadata": {
        "execution": {
          "iopub.status.busy": "2023-07-29T14:35:05.433461Z",
          "iopub.execute_input": "2023-07-29T14:35:05.433845Z",
          "iopub.status.idle": "2023-07-29T14:39:35.696642Z",
          "shell.execute_reply.started": "2023-07-29T14:35:05.433814Z",
          "shell.execute_reply": "2023-07-29T14:39:35.695280Z"
        },
        "jupyter": {
          "outputs_hidden": true
        },
        "trusted": true,
        "id": "_hoyYaCh7jde",
        "outputId": "cdf9a370-7878-4d7d-e77b-177fd7cb6364"
      },
      "execution_count": null,
      "outputs": [
        {
          "name": "stdout",
          "text": "step 1\ntrain svm\n",
          "output_type": "stream"
        },
        {
          "name": "stderr",
          "text": "/opt/conda/lib/python3.10/site-packages/sklearn/svm/_base.py:299: ConvergenceWarning: Solver terminated early (max_iter=2).  Consider pre-processing your data with StandardScaler or MinMaxScaler.\n  warnings.warn(\n",
          "output_type": "stream"
        },
        {
          "name": "stdout",
          "text": "log\n",
          "output_type": "stream"
        },
        {
          "name": "stderr",
          "text": "/opt/conda/lib/python3.10/site-packages/sklearn/linear_model/_sag.py:350: ConvergenceWarning: The max_iter was reached which means the coef_ did not converge\n  warnings.warn(\n",
          "output_type": "stream"
        },
        {
          "name": "stdout",
          "text": "gru\n202/202 [==============================] - 2s 9ms/step - loss: 0.1383 - accuracy: 0.9475\nstep 2\n49/49 [==============================] - 0s 3ms/step\nstep 3\n############\n  unlabeled shape before deletion (1539, 1, 768)\n  indexes_to_delete shape before deletion 38\n  unlabeled shape before deletion (1539, 1, 768)\n<class 'numpy.ndarray'>\n############\n  unlabeled shape after deletion (1501, 768)\n  labeled shape end of run deletion (12947, 768)\n  nmber of unlabled remaning1501\nrepeat\nconfidence_threshold=0.49199999999999966\nstep 1\ntrain svm\n",
          "output_type": "stream"
        },
        {
          "name": "stderr",
          "text": "/opt/conda/lib/python3.10/site-packages/sklearn/svm/_base.py:299: ConvergenceWarning: Solver terminated early (max_iter=2).  Consider pre-processing your data with StandardScaler or MinMaxScaler.\n  warnings.warn(\n",
          "output_type": "stream"
        },
        {
          "name": "stdout",
          "text": "log\n",
          "output_type": "stream"
        },
        {
          "name": "stderr",
          "text": "/opt/conda/lib/python3.10/site-packages/sklearn/linear_model/_sag.py:350: ConvergenceWarning: The max_iter was reached which means the coef_ did not converge\n  warnings.warn(\n",
          "output_type": "stream"
        },
        {
          "name": "stdout",
          "text": "gru\n203/203 [==============================] - 2s 8ms/step - loss: 0.1334 - accuracy: 0.9472\nstep 2\n47/47 [==============================] - 0s 2ms/step\nstep 3\n############\n  unlabeled shape before deletion (1501, 1, 768)\n  indexes_to_delete shape before deletion 15\n  unlabeled shape before deletion (1501, 1, 768)\n<class 'numpy.ndarray'>\n############\n  unlabeled shape after deletion (1486, 768)\n  labeled shape end of run deletion (12962, 768)\n  nmber of unlabled remaning1486\nrepeat\nconfidence_threshold=0.48399999999999965\nstep 1\ntrain svm\n",
          "output_type": "stream"
        },
        {
          "name": "stderr",
          "text": "/opt/conda/lib/python3.10/site-packages/sklearn/svm/_base.py:299: ConvergenceWarning: Solver terminated early (max_iter=2).  Consider pre-processing your data with StandardScaler or MinMaxScaler.\n  warnings.warn(\n",
          "output_type": "stream"
        },
        {
          "name": "stdout",
          "text": "log\n",
          "output_type": "stream"
        },
        {
          "name": "stderr",
          "text": "/opt/conda/lib/python3.10/site-packages/sklearn/linear_model/_sag.py:350: ConvergenceWarning: The max_iter was reached which means the coef_ did not converge\n  warnings.warn(\n",
          "output_type": "stream"
        },
        {
          "name": "stdout",
          "text": "gru\n203/203 [==============================] - 2s 8ms/step - loss: 0.1314 - accuracy: 0.9488\nstep 2\n47/47 [==============================] - 0s 3ms/step\nstep 3\n############\n  unlabeled shape before deletion (1486, 1, 768)\n  indexes_to_delete shape before deletion 22\n  unlabeled shape before deletion (1486, 1, 768)\n<class 'numpy.ndarray'>\n############\n  unlabeled shape after deletion (1464, 768)\n  labeled shape end of run deletion (12984, 768)\n  nmber of unlabled remaning1464\nrepeat\nconfidence_threshold=0.47599999999999965\nstep 1\ntrain svm\n",
          "output_type": "stream"
        },
        {
          "name": "stderr",
          "text": "/opt/conda/lib/python3.10/site-packages/sklearn/svm/_base.py:299: ConvergenceWarning: Solver terminated early (max_iter=2).  Consider pre-processing your data with StandardScaler or MinMaxScaler.\n  warnings.warn(\n",
          "output_type": "stream"
        },
        {
          "name": "stdout",
          "text": "log\n",
          "output_type": "stream"
        },
        {
          "name": "stderr",
          "text": "/opt/conda/lib/python3.10/site-packages/sklearn/linear_model/_sag.py:350: ConvergenceWarning: The max_iter was reached which means the coef_ did not converge\n  warnings.warn(\n",
          "output_type": "stream"
        },
        {
          "name": "stdout",
          "text": "gru\n203/203 [==============================] - 2s 8ms/step - loss: 0.1392 - accuracy: 0.9445\nstep 2\n46/46 [==============================] - 0s 3ms/step\nstep 3\n############\n  unlabeled shape before deletion (1464, 1, 768)\n  indexes_to_delete shape before deletion 61\n  unlabeled shape before deletion (1464, 1, 768)\n<class 'numpy.ndarray'>\n############\n  unlabeled shape after deletion (1403, 768)\n  labeled shape end of run deletion (13045, 768)\n  nmber of unlabled remaning1403\nrepeat\nconfidence_threshold=0.46799999999999964\nstep 1\ntrain svm\n",
          "output_type": "stream"
        },
        {
          "name": "stderr",
          "text": "/opt/conda/lib/python3.10/site-packages/sklearn/svm/_base.py:299: ConvergenceWarning: Solver terminated early (max_iter=2).  Consider pre-processing your data with StandardScaler or MinMaxScaler.\n  warnings.warn(\n",
          "output_type": "stream"
        },
        {
          "name": "stdout",
          "text": "log\n",
          "output_type": "stream"
        },
        {
          "name": "stderr",
          "text": "/opt/conda/lib/python3.10/site-packages/sklearn/linear_model/_sag.py:350: ConvergenceWarning: The max_iter was reached which means the coef_ did not converge\n  warnings.warn(\n",
          "output_type": "stream"
        },
        {
          "name": "stdout",
          "text": "gru\n204/204 [==============================] - 2s 8ms/step - loss: 0.1314 - accuracy: 0.9477\nstep 2\n44/44 [==============================] - 0s 3ms/step\nstep 3\n############\n  unlabeled shape before deletion (1403, 1, 768)\n  indexes_to_delete shape before deletion 90\n  unlabeled shape before deletion (1403, 1, 768)\n<class 'numpy.ndarray'>\n############\n  unlabeled shape after deletion (1313, 768)\n  labeled shape end of run deletion (13135, 768)\n  nmber of unlabled remaning1313\nrepeat\nconfidence_threshold=0.45999999999999963\nstep 1\ntrain svm\n",
          "output_type": "stream"
        },
        {
          "name": "stderr",
          "text": "/opt/conda/lib/python3.10/site-packages/sklearn/svm/_base.py:299: ConvergenceWarning: Solver terminated early (max_iter=2).  Consider pre-processing your data with StandardScaler or MinMaxScaler.\n  warnings.warn(\n",
          "output_type": "stream"
        },
        {
          "name": "stdout",
          "text": "log\n",
          "output_type": "stream"
        },
        {
          "name": "stderr",
          "text": "/opt/conda/lib/python3.10/site-packages/sklearn/linear_model/_sag.py:350: ConvergenceWarning: The max_iter was reached which means the coef_ did not converge\n  warnings.warn(\n",
          "output_type": "stream"
        },
        {
          "name": "stdout",
          "text": "gru\n206/206 [==============================] - 2s 11ms/step - loss: 0.1302 - accuracy: 0.9492\nstep 2\n42/42 [==============================] - 0s 3ms/step\nstep 3\n############\n  unlabeled shape before deletion (1313, 1, 768)\n  indexes_to_delete shape before deletion 564\n  unlabeled shape before deletion (1313, 1, 768)\n<class 'numpy.ndarray'>\n############\n  unlabeled shape after deletion (749, 768)\n  labeled shape end of run deletion (13699, 768)\n  nmber of unlabled remaning749\nrepeat\nconfidence_threshold=0.4519999999999996\nstep 1\ntrain svm\n",
          "output_type": "stream"
        },
        {
          "name": "stderr",
          "text": "/opt/conda/lib/python3.10/site-packages/sklearn/svm/_base.py:299: ConvergenceWarning: Solver terminated early (max_iter=2).  Consider pre-processing your data with StandardScaler or MinMaxScaler.\n  warnings.warn(\n",
          "output_type": "stream"
        },
        {
          "name": "stdout",
          "text": "log\n",
          "output_type": "stream"
        },
        {
          "name": "stderr",
          "text": "/opt/conda/lib/python3.10/site-packages/sklearn/linear_model/_sag.py:350: ConvergenceWarning: The max_iter was reached which means the coef_ did not converge\n  warnings.warn(\n",
          "output_type": "stream"
        },
        {
          "name": "stdout",
          "text": "gru\n215/215 [==============================] - 2s 8ms/step - loss: 0.1337 - accuracy: 0.9479\nstep 2\n24/24 [==============================] - 0s 3ms/step\nstep 3\n############\n  unlabeled shape before deletion (749, 1, 768)\n  indexes_to_delete shape before deletion 418\n  unlabeled shape before deletion (749, 1, 768)\n<class 'numpy.ndarray'>\n############\n  unlabeled shape after deletion (331, 768)\n  labeled shape end of run deletion (14117, 768)\n  nmber of unlabled remaning331\nrepeat\nconfidence_threshold=0.4439999999999996\nstep 1\ntrain svm\n",
          "output_type": "stream"
        },
        {
          "name": "stderr",
          "text": "/opt/conda/lib/python3.10/site-packages/sklearn/svm/_base.py:299: ConvergenceWarning: Solver terminated early (max_iter=2).  Consider pre-processing your data with StandardScaler or MinMaxScaler.\n  warnings.warn(\n",
          "output_type": "stream"
        },
        {
          "name": "stdout",
          "text": "log\n",
          "output_type": "stream"
        },
        {
          "name": "stderr",
          "text": "/opt/conda/lib/python3.10/site-packages/sklearn/linear_model/_sag.py:350: ConvergenceWarning: The max_iter was reached which means the coef_ did not converge\n  warnings.warn(\n",
          "output_type": "stream"
        },
        {
          "name": "stdout",
          "text": "gru\n221/221 [==============================] - 2s 8ms/step - loss: 0.1318 - accuracy: 0.9498\nstep 2\n11/11 [==============================] - 0s 3ms/step\nstep 3\n############\n  unlabeled shape before deletion (331, 1, 768)\n  indexes_to_delete shape before deletion 151\n  unlabeled shape before deletion (331, 1, 768)\n<class 'numpy.ndarray'>\n############\n  unlabeled shape after deletion (180, 768)\n  labeled shape end of run deletion (14268, 768)\n  nmber of unlabled remaning180\nrepeat\nconfidence_threshold=0.4359999999999996\nstep 1\ntrain svm\n",
          "output_type": "stream"
        },
        {
          "name": "stderr",
          "text": "/opt/conda/lib/python3.10/site-packages/sklearn/svm/_base.py:299: ConvergenceWarning: Solver terminated early (max_iter=2).  Consider pre-processing your data with StandardScaler or MinMaxScaler.\n  warnings.warn(\n",
          "output_type": "stream"
        },
        {
          "name": "stdout",
          "text": "log\n",
          "output_type": "stream"
        },
        {
          "name": "stderr",
          "text": "/opt/conda/lib/python3.10/site-packages/sklearn/linear_model/_sag.py:350: ConvergenceWarning: The max_iter was reached which means the coef_ did not converge\n  warnings.warn(\n",
          "output_type": "stream"
        },
        {
          "name": "stdout",
          "text": "gru\n223/223 [==============================] - 2s 9ms/step - loss: 0.1248 - accuracy: 0.9512\nstep 2\n6/6 [==============================] - 0s 6ms/step\nstep 3\n############\n  unlabeled shape before deletion (180, 1, 768)\n  indexes_to_delete shape before deletion 87\n  unlabeled shape before deletion (180, 1, 768)\n<class 'numpy.ndarray'>\n############\n  unlabeled shape after deletion (93, 768)\n  labeled shape end of run deletion (14355, 768)\n  nmber of unlabled remaning93\nrepeat\nconfidence_threshold=0.4279999999999996\nstep 1\ntrain svm\n",
          "output_type": "stream"
        },
        {
          "name": "stderr",
          "text": "/opt/conda/lib/python3.10/site-packages/sklearn/svm/_base.py:299: ConvergenceWarning: Solver terminated early (max_iter=2).  Consider pre-processing your data with StandardScaler or MinMaxScaler.\n  warnings.warn(\n",
          "output_type": "stream"
        },
        {
          "name": "stdout",
          "text": "log\n",
          "output_type": "stream"
        },
        {
          "name": "stderr",
          "text": "/opt/conda/lib/python3.10/site-packages/sklearn/linear_model/_sag.py:350: ConvergenceWarning: The max_iter was reached which means the coef_ did not converge\n  warnings.warn(\n",
          "output_type": "stream"
        },
        {
          "name": "stdout",
          "text": "gru\n225/225 [==============================] - 2s 8ms/step - loss: 0.1355 - accuracy: 0.9457\nstep 2\n3/3 [==============================] - 0s 3ms/step\nstep 3\n############\n  unlabeled shape before deletion (93, 1, 768)\n  indexes_to_delete shape before deletion 24\n  unlabeled shape before deletion (93, 1, 768)\n<class 'numpy.ndarray'>\n############\n  unlabeled shape after deletion (69, 768)\n  labeled shape end of run deletion (14379, 768)\n  nmber of unlabled remaning69\nrepeat\nconfidence_threshold=0.4199999999999996\nstep 1\ntrain svm\n",
          "output_type": "stream"
        },
        {
          "name": "stderr",
          "text": "/opt/conda/lib/python3.10/site-packages/sklearn/svm/_base.py:299: ConvergenceWarning: Solver terminated early (max_iter=2).  Consider pre-processing your data with StandardScaler or MinMaxScaler.\n  warnings.warn(\n",
          "output_type": "stream"
        },
        {
          "name": "stdout",
          "text": "log\n",
          "output_type": "stream"
        },
        {
          "name": "stderr",
          "text": "/opt/conda/lib/python3.10/site-packages/sklearn/linear_model/_sag.py:350: ConvergenceWarning: The max_iter was reached which means the coef_ did not converge\n  warnings.warn(\n",
          "output_type": "stream"
        },
        {
          "name": "stdout",
          "text": "gru\n225/225 [==============================] - 2s 9ms/step - loss: 0.1350 - accuracy: 0.9479\nstep 2\n3/3 [==============================] - 0s 3ms/step\nstep 3\n############\n  unlabeled shape before deletion (69, 1, 768)\n  indexes_to_delete shape before deletion 12\n  unlabeled shape before deletion (69, 1, 768)\n<class 'numpy.ndarray'>\n############\n  unlabeled shape after deletion (57, 768)\n  labeled shape end of run deletion (14391, 768)\n  nmber of unlabled remaning57\nrepeat\nconfidence_threshold=0.4119999999999996\nstep 1\ntrain svm\n",
          "output_type": "stream"
        },
        {
          "name": "stderr",
          "text": "/opt/conda/lib/python3.10/site-packages/sklearn/svm/_base.py:299: ConvergenceWarning: Solver terminated early (max_iter=2).  Consider pre-processing your data with StandardScaler or MinMaxScaler.\n  warnings.warn(\n",
          "output_type": "stream"
        },
        {
          "name": "stdout",
          "text": "log\n",
          "output_type": "stream"
        },
        {
          "name": "stderr",
          "text": "/opt/conda/lib/python3.10/site-packages/sklearn/linear_model/_sag.py:350: ConvergenceWarning: The max_iter was reached which means the coef_ did not converge\n  warnings.warn(\n",
          "output_type": "stream"
        },
        {
          "name": "stdout",
          "text": "gru\n225/225 [==============================] - 2s 8ms/step - loss: 0.1337 - accuracy: 0.9487\nstep 2\n2/2 [==============================] - 0s 5ms/step\nstep 3\n############\n  unlabeled shape before deletion (57, 1, 768)\n  indexes_to_delete shape before deletion 13\n  unlabeled shape before deletion (57, 1, 768)\n<class 'numpy.ndarray'>\n############\n  unlabeled shape after deletion (44, 768)\n  labeled shape end of run deletion (14404, 768)\n  nmber of unlabled remaning44\nrepeat\nconfidence_threshold=0.4039999999999996\nstep 1\ntrain svm\n",
          "output_type": "stream"
        },
        {
          "name": "stderr",
          "text": "/opt/conda/lib/python3.10/site-packages/sklearn/svm/_base.py:299: ConvergenceWarning: Solver terminated early (max_iter=2).  Consider pre-processing your data with StandardScaler or MinMaxScaler.\n  warnings.warn(\n",
          "output_type": "stream"
        },
        {
          "name": "stdout",
          "text": "log\n",
          "output_type": "stream"
        },
        {
          "name": "stderr",
          "text": "/opt/conda/lib/python3.10/site-packages/sklearn/linear_model/_sag.py:350: ConvergenceWarning: The max_iter was reached which means the coef_ did not converge\n  warnings.warn(\n",
          "output_type": "stream"
        },
        {
          "name": "stdout",
          "text": "gru\n226/226 [==============================] - 2s 8ms/step - loss: 0.1294 - accuracy: 0.9487\nstep 2\n2/2 [==============================] - 0s 4ms/step\nstep 3\n############\n  unlabeled shape before deletion (44, 1, 768)\n  indexes_to_delete shape before deletion 0\n  unlabeled shape before deletion (44, 1, 768)\n<class 'numpy.ndarray'>\n############\n  unlabeled shape after deletion (44, 768)\n  labeled shape end of run deletion (14404, 768)\n  nmber of unlabled remaning44\nrepeat\nconfidence_threshold=0.3959999999999996\nstep 1\ntrain svm\n",
          "output_type": "stream"
        },
        {
          "name": "stderr",
          "text": "/opt/conda/lib/python3.10/site-packages/sklearn/svm/_base.py:299: ConvergenceWarning: Solver terminated early (max_iter=2).  Consider pre-processing your data with StandardScaler or MinMaxScaler.\n  warnings.warn(\n",
          "output_type": "stream"
        },
        {
          "name": "stdout",
          "text": "log\n",
          "output_type": "stream"
        },
        {
          "name": "stderr",
          "text": "/opt/conda/lib/python3.10/site-packages/sklearn/linear_model/_sag.py:350: ConvergenceWarning: The max_iter was reached which means the coef_ did not converge\n  warnings.warn(\n",
          "output_type": "stream"
        },
        {
          "name": "stdout",
          "text": "gru\n226/226 [==============================] - 2s 8ms/step - loss: 0.1299 - accuracy: 0.9491\nstep 2\n2/2 [==============================] - 0s 6ms/step\nstep 3\n############\n  unlabeled shape before deletion (44, 1, 768)\n  indexes_to_delete shape before deletion 0\n  unlabeled shape before deletion (44, 1, 768)\n<class 'numpy.ndarray'>\n############\n  unlabeled shape after deletion (44, 768)\n  labeled shape end of run deletion (14404, 768)\n  nmber of unlabled remaning44\nrepeat\nconfidence_threshold=0.38799999999999957\nstep 1\ntrain svm\n",
          "output_type": "stream"
        },
        {
          "name": "stderr",
          "text": "/opt/conda/lib/python3.10/site-packages/sklearn/svm/_base.py:299: ConvergenceWarning: Solver terminated early (max_iter=2).  Consider pre-processing your data with StandardScaler or MinMaxScaler.\n  warnings.warn(\n",
          "output_type": "stream"
        },
        {
          "name": "stdout",
          "text": "log\n",
          "output_type": "stream"
        },
        {
          "name": "stderr",
          "text": "/opt/conda/lib/python3.10/site-packages/sklearn/linear_model/_sag.py:350: ConvergenceWarning: The max_iter was reached which means the coef_ did not converge\n  warnings.warn(\n",
          "output_type": "stream"
        },
        {
          "name": "stdout",
          "text": "gru\n226/226 [==============================] - 3s 11ms/step - loss: 0.1308 - accuracy: 0.9490\nstep 2\n2/2 [==============================] - 0s 5ms/step\nstep 3\n############\n  unlabeled shape before deletion (44, 1, 768)\n  indexes_to_delete shape before deletion 5\n  unlabeled shape before deletion (44, 1, 768)\n<class 'numpy.ndarray'>\n############\n  unlabeled shape after deletion (39, 768)\n  labeled shape end of run deletion (14409, 768)\n  nmber of unlabled remaning39\nrepeat\nconfidence_threshold=0.37999999999999956\nstep 1\ntrain svm\n",
          "output_type": "stream"
        },
        {
          "name": "stderr",
          "text": "/opt/conda/lib/python3.10/site-packages/sklearn/svm/_base.py:299: ConvergenceWarning: Solver terminated early (max_iter=2).  Consider pre-processing your data with StandardScaler or MinMaxScaler.\n  warnings.warn(\n",
          "output_type": "stream"
        },
        {
          "name": "stdout",
          "text": "log\n",
          "output_type": "stream"
        },
        {
          "name": "stderr",
          "text": "/opt/conda/lib/python3.10/site-packages/sklearn/linear_model/_sag.py:350: ConvergenceWarning: The max_iter was reached which means the coef_ did not converge\n  warnings.warn(\n",
          "output_type": "stream"
        },
        {
          "name": "stdout",
          "text": "gru\n226/226 [==============================] - 2s 8ms/step - loss: 0.1231 - accuracy: 0.9539\nstep 2\n2/2 [==============================] - 0s 5ms/step\nstep 3\n############\n  unlabeled shape before deletion (39, 1, 768)\n  indexes_to_delete shape before deletion 0\n  unlabeled shape before deletion (39, 1, 768)\n<class 'numpy.ndarray'>\n############\n  unlabeled shape after deletion (39, 768)\n  labeled shape end of run deletion (14409, 768)\n  nmber of unlabled remaning39\nrepeat\nconfidence_threshold=0.37199999999999955\nstep 1\ntrain svm\n",
          "output_type": "stream"
        },
        {
          "name": "stderr",
          "text": "/opt/conda/lib/python3.10/site-packages/sklearn/svm/_base.py:299: ConvergenceWarning: Solver terminated early (max_iter=2).  Consider pre-processing your data with StandardScaler or MinMaxScaler.\n  warnings.warn(\n",
          "output_type": "stream"
        },
        {
          "name": "stdout",
          "text": "log\n",
          "output_type": "stream"
        },
        {
          "name": "stderr",
          "text": "/opt/conda/lib/python3.10/site-packages/sklearn/linear_model/_sag.py:350: ConvergenceWarning: The max_iter was reached which means the coef_ did not converge\n  warnings.warn(\n",
          "output_type": "stream"
        },
        {
          "name": "stdout",
          "text": "gru\n226/226 [==============================] - 2s 8ms/step - loss: 0.1197 - accuracy: 0.9533\nstep 2\n2/2 [==============================] - 0s 4ms/step\nstep 3\n############\n  unlabeled shape before deletion (39, 1, 768)\n  indexes_to_delete shape before deletion 0\n  unlabeled shape before deletion (39, 1, 768)\n<class 'numpy.ndarray'>\n############\n  unlabeled shape after deletion (39, 768)\n  labeled shape end of run deletion (14409, 768)\n  nmber of unlabled remaning39\nrepeat\nconfidence_threshold=0.36399999999999955\nstep 1\ntrain svm\n",
          "output_type": "stream"
        },
        {
          "name": "stderr",
          "text": "/opt/conda/lib/python3.10/site-packages/sklearn/svm/_base.py:299: ConvergenceWarning: Solver terminated early (max_iter=2).  Consider pre-processing your data with StandardScaler or MinMaxScaler.\n  warnings.warn(\n",
          "output_type": "stream"
        },
        {
          "name": "stdout",
          "text": "log\n",
          "output_type": "stream"
        },
        {
          "name": "stderr",
          "text": "/opt/conda/lib/python3.10/site-packages/sklearn/linear_model/_sag.py:350: ConvergenceWarning: The max_iter was reached which means the coef_ did not converge\n  warnings.warn(\n",
          "output_type": "stream"
        },
        {
          "name": "stdout",
          "text": "gru\n226/226 [==============================] - 2s 8ms/step - loss: 0.1291 - accuracy: 0.9497\nstep 2\n2/2 [==============================] - 0s 5ms/step\nstep 3\n############\n  unlabeled shape before deletion (39, 1, 768)\n  indexes_to_delete shape before deletion 2\n  unlabeled shape before deletion (39, 1, 768)\n<class 'numpy.ndarray'>\n############\n  unlabeled shape after deletion (37, 768)\n  labeled shape end of run deletion (14411, 768)\n  nmber of unlabled remaning37\nrepeat\nconfidence_threshold=0.35599999999999954\nstep 1\ntrain svm\n",
          "output_type": "stream"
        },
        {
          "name": "stderr",
          "text": "/opt/conda/lib/python3.10/site-packages/sklearn/svm/_base.py:299: ConvergenceWarning: Solver terminated early (max_iter=2).  Consider pre-processing your data with StandardScaler or MinMaxScaler.\n  warnings.warn(\n",
          "output_type": "stream"
        },
        {
          "name": "stdout",
          "text": "log\n",
          "output_type": "stream"
        },
        {
          "name": "stderr",
          "text": "/opt/conda/lib/python3.10/site-packages/sklearn/linear_model/_sag.py:350: ConvergenceWarning: The max_iter was reached which means the coef_ did not converge\n  warnings.warn(\n",
          "output_type": "stream"
        },
        {
          "name": "stdout",
          "text": "gru\n226/226 [==============================] - 2s 8ms/step - loss: 0.1183 - accuracy: 0.9541\nstep 2\n2/2 [==============================] - 0s 5ms/step\nstep 3\n############\n  unlabeled shape before deletion (37, 1, 768)\n  indexes_to_delete shape before deletion 4\n  unlabeled shape before deletion (37, 1, 768)\n<class 'numpy.ndarray'>\n############\n  unlabeled shape after deletion (33, 768)\n  labeled shape end of run deletion (14415, 768)\n  nmber of unlabled remaning33\nrepeat\nconfidence_threshold=0.34799999999999953\nstep 1\ntrain svm\n",
          "output_type": "stream"
        },
        {
          "name": "stderr",
          "text": "/opt/conda/lib/python3.10/site-packages/sklearn/svm/_base.py:299: ConvergenceWarning: Solver terminated early (max_iter=2).  Consider pre-processing your data with StandardScaler or MinMaxScaler.\n  warnings.warn(\n",
          "output_type": "stream"
        },
        {
          "name": "stdout",
          "text": "log\n",
          "output_type": "stream"
        },
        {
          "name": "stderr",
          "text": "/opt/conda/lib/python3.10/site-packages/sklearn/linear_model/_sag.py:350: ConvergenceWarning: The max_iter was reached which means the coef_ did not converge\n  warnings.warn(\n",
          "output_type": "stream"
        },
        {
          "name": "stdout",
          "text": "gru\n226/226 [==============================] - 2s 8ms/step - loss: 0.1207 - accuracy: 0.9535\nstep 2\n2/2 [==============================] - 0s 4ms/step\nstep 3\n############\n  unlabeled shape before deletion (33, 1, 768)\n  indexes_to_delete shape before deletion 6\n  unlabeled shape before deletion (33, 1, 768)\n<class 'numpy.ndarray'>\n############\n  unlabeled shape after deletion (27, 768)\n  labeled shape end of run deletion (14421, 768)\n  nmber of unlabled remaning27\nrepeat\nconfidence_threshold=0.3399999999999995\nstep 1\ntrain svm\n",
          "output_type": "stream"
        },
        {
          "name": "stderr",
          "text": "/opt/conda/lib/python3.10/site-packages/sklearn/svm/_base.py:299: ConvergenceWarning: Solver terminated early (max_iter=2).  Consider pre-processing your data with StandardScaler or MinMaxScaler.\n  warnings.warn(\n",
          "output_type": "stream"
        },
        {
          "name": "stdout",
          "text": "log\n",
          "output_type": "stream"
        },
        {
          "name": "stderr",
          "text": "/opt/conda/lib/python3.10/site-packages/sklearn/linear_model/_sag.py:350: ConvergenceWarning: The max_iter was reached which means the coef_ did not converge\n  warnings.warn(\n",
          "output_type": "stream"
        },
        {
          "name": "stdout",
          "text": "gru\n226/226 [==============================] - 2s 8ms/step - loss: 0.1184 - accuracy: 0.9535\nstep 2\n1/1 [==============================] - 0s 21ms/step\nstep 3\n############\n  unlabeled shape before deletion (27, 1, 768)\n  indexes_to_delete shape before deletion 4\n  unlabeled shape before deletion (27, 1, 768)\n<class 'numpy.ndarray'>\n############\n  unlabeled shape after deletion (23, 768)\n  labeled shape end of run deletion (14425, 768)\n  nmber of unlabled remaning23\nrepeat\nconfidence_threshold=0.3319999999999995\nstep 1\ntrain svm\n",
          "output_type": "stream"
        },
        {
          "name": "stderr",
          "text": "/opt/conda/lib/python3.10/site-packages/sklearn/svm/_base.py:299: ConvergenceWarning: Solver terminated early (max_iter=2).  Consider pre-processing your data with StandardScaler or MinMaxScaler.\n  warnings.warn(\n",
          "output_type": "stream"
        },
        {
          "name": "stdout",
          "text": "log\n",
          "output_type": "stream"
        },
        {
          "name": "stderr",
          "text": "/opt/conda/lib/python3.10/site-packages/sklearn/linear_model/_sag.py:350: ConvergenceWarning: The max_iter was reached which means the coef_ did not converge\n  warnings.warn(\n",
          "output_type": "stream"
        },
        {
          "name": "stdout",
          "text": "gru\n226/226 [==============================] - 2s 9ms/step - loss: 0.1221 - accuracy: 0.9530\nstep 2\n1/1 [==============================] - 0s 21ms/step\nstep 3\n############\n  unlabeled shape before deletion (23, 1, 768)\n  indexes_to_delete shape before deletion 2\n  unlabeled shape before deletion (23, 1, 768)\n<class 'numpy.ndarray'>\n############\n  unlabeled shape after deletion (21, 768)\n  labeled shape end of run deletion (14427, 768)\n  nmber of unlabled remaning21\nrepeat\nconfidence_threshold=0.3239999999999995\nstep 1\ntrain svm\n",
          "output_type": "stream"
        },
        {
          "name": "stderr",
          "text": "/opt/conda/lib/python3.10/site-packages/sklearn/svm/_base.py:299: ConvergenceWarning: Solver terminated early (max_iter=2).  Consider pre-processing your data with StandardScaler or MinMaxScaler.\n  warnings.warn(\n",
          "output_type": "stream"
        },
        {
          "name": "stdout",
          "text": "log\n",
          "output_type": "stream"
        },
        {
          "name": "stderr",
          "text": "/opt/conda/lib/python3.10/site-packages/sklearn/linear_model/_sag.py:350: ConvergenceWarning: The max_iter was reached which means the coef_ did not converge\n  warnings.warn(\n",
          "output_type": "stream"
        },
        {
          "name": "stdout",
          "text": "gru\n226/226 [==============================] - 2s 8ms/step - loss: 0.1204 - accuracy: 0.9523\nstep 2\n1/1 [==============================] - 0s 20ms/step\nstep 3\n############\n  unlabeled shape before deletion (21, 1, 768)\n  indexes_to_delete shape before deletion 9\n  unlabeled shape before deletion (21, 1, 768)\n<class 'numpy.ndarray'>\n############\n  unlabeled shape after deletion (12, 768)\n  labeled shape end of run deletion (14436, 768)\n  nmber of unlabled remaning12\nrepeat\nconfidence_threshold=0.3159999999999995\nstep 1\ntrain svm\n",
          "output_type": "stream"
        },
        {
          "name": "stderr",
          "text": "/opt/conda/lib/python3.10/site-packages/sklearn/svm/_base.py:299: ConvergenceWarning: Solver terminated early (max_iter=2).  Consider pre-processing your data with StandardScaler or MinMaxScaler.\n  warnings.warn(\n",
          "output_type": "stream"
        },
        {
          "name": "stdout",
          "text": "log\n",
          "output_type": "stream"
        },
        {
          "name": "stderr",
          "text": "/opt/conda/lib/python3.10/site-packages/sklearn/linear_model/_sag.py:350: ConvergenceWarning: The max_iter was reached which means the coef_ did not converge\n  warnings.warn(\n",
          "output_type": "stream"
        },
        {
          "name": "stdout",
          "text": "gru\n226/226 [==============================] - 2s 8ms/step - loss: 0.1166 - accuracy: 0.9556\nstep 2\n1/1 [==============================] - 0s 19ms/step\nstep 3\n############\n  unlabeled shape before deletion (12, 1, 768)\n  indexes_to_delete shape before deletion 0\n  unlabeled shape before deletion (12, 1, 768)\n<class 'numpy.ndarray'>\n############\n  unlabeled shape after deletion (12, 768)\n  labeled shape end of run deletion (14436, 768)\n  nmber of unlabled remaning12\nrepeat\nconfidence_threshold=0.3079999999999995\nstep 1\ntrain svm\n",
          "output_type": "stream"
        },
        {
          "name": "stderr",
          "text": "/opt/conda/lib/python3.10/site-packages/sklearn/svm/_base.py:299: ConvergenceWarning: Solver terminated early (max_iter=2).  Consider pre-processing your data with StandardScaler or MinMaxScaler.\n  warnings.warn(\n",
          "output_type": "stream"
        },
        {
          "name": "stdout",
          "text": "log\n",
          "output_type": "stream"
        },
        {
          "name": "stderr",
          "text": "/opt/conda/lib/python3.10/site-packages/sklearn/linear_model/_sag.py:350: ConvergenceWarning: The max_iter was reached which means the coef_ did not converge\n  warnings.warn(\n",
          "output_type": "stream"
        },
        {
          "name": "stdout",
          "text": "gru\n226/226 [==============================] - 2s 8ms/step - loss: 0.1188 - accuracy: 0.9525\nstep 2\n1/1 [==============================] - 0s 19ms/step\nstep 3\n############\n  unlabeled shape before deletion (12, 1, 768)\n  indexes_to_delete shape before deletion 0\n  unlabeled shape before deletion (12, 1, 768)\n<class 'numpy.ndarray'>\n############\n  unlabeled shape after deletion (12, 768)\n  labeled shape end of run deletion (14436, 768)\n  nmber of unlabled remaning12\nrepeat\nconfidence_threshold=0.2999999999999995\nstep 1\ntrain svm\n",
          "output_type": "stream"
        },
        {
          "name": "stderr",
          "text": "/opt/conda/lib/python3.10/site-packages/sklearn/svm/_base.py:299: ConvergenceWarning: Solver terminated early (max_iter=2).  Consider pre-processing your data with StandardScaler or MinMaxScaler.\n  warnings.warn(\n",
          "output_type": "stream"
        },
        {
          "name": "stdout",
          "text": "log\n",
          "output_type": "stream"
        },
        {
          "name": "stderr",
          "text": "/opt/conda/lib/python3.10/site-packages/sklearn/linear_model/_sag.py:350: ConvergenceWarning: The max_iter was reached which means the coef_ did not converge\n  warnings.warn(\n",
          "output_type": "stream"
        },
        {
          "name": "stdout",
          "text": "gru\n226/226 [==============================] - 2s 9ms/step - loss: 0.1132 - accuracy: 0.9568\nstep 2\n1/1 [==============================] - 0s 22ms/step\nstep 3\n############\n  unlabeled shape before deletion (12, 1, 768)\n  indexes_to_delete shape before deletion 1\n  unlabeled shape before deletion (12, 1, 768)\n<class 'numpy.ndarray'>\n############\n  unlabeled shape after deletion (11, 768)\n  labeled shape end of run deletion (14437, 768)\n  nmber of unlabled remaning11\nrepeat\nconfidence_threshold=0.2919999999999995\nstep 1\ntrain svm\n",
          "output_type": "stream"
        },
        {
          "name": "stderr",
          "text": "/opt/conda/lib/python3.10/site-packages/sklearn/svm/_base.py:299: ConvergenceWarning: Solver terminated early (max_iter=2).  Consider pre-processing your data with StandardScaler or MinMaxScaler.\n  warnings.warn(\n",
          "output_type": "stream"
        },
        {
          "name": "stdout",
          "text": "log\n",
          "output_type": "stream"
        },
        {
          "name": "stderr",
          "text": "/opt/conda/lib/python3.10/site-packages/sklearn/linear_model/_sag.py:350: ConvergenceWarning: The max_iter was reached which means the coef_ did not converge\n  warnings.warn(\n",
          "output_type": "stream"
        },
        {
          "name": "stdout",
          "text": "gru\n226/226 [==============================] - 2s 8ms/step - loss: 0.1095 - accuracy: 0.9560\nstep 2\n1/1 [==============================] - 0s 19ms/step\nstep 3\n############\n  unlabeled shape before deletion (11, 1, 768)\n  indexes_to_delete shape before deletion 0\n  unlabeled shape before deletion (11, 1, 768)\n<class 'numpy.ndarray'>\n############\n  unlabeled shape after deletion (11, 768)\n  labeled shape end of run deletion (14437, 768)\n  nmber of unlabled remaning11\nrepeat\nconfidence_threshold=0.2839999999999995\nstep 1\ntrain svm\n",
          "output_type": "stream"
        },
        {
          "name": "stderr",
          "text": "/opt/conda/lib/python3.10/site-packages/sklearn/svm/_base.py:299: ConvergenceWarning: Solver terminated early (max_iter=2).  Consider pre-processing your data with StandardScaler or MinMaxScaler.\n  warnings.warn(\n",
          "output_type": "stream"
        },
        {
          "name": "stdout",
          "text": "log\n",
          "output_type": "stream"
        },
        {
          "name": "stderr",
          "text": "/opt/conda/lib/python3.10/site-packages/sklearn/linear_model/_sag.py:350: ConvergenceWarning: The max_iter was reached which means the coef_ did not converge\n  warnings.warn(\n",
          "output_type": "stream"
        },
        {
          "name": "stdout",
          "text": "gru\n226/226 [==============================] - 2s 8ms/step - loss: 0.1151 - accuracy: 0.9570\nstep 2\n1/1 [==============================] - 0s 21ms/step\nstep 3\n############\n  unlabeled shape before deletion (11, 1, 768)\n  indexes_to_delete shape before deletion 1\n  unlabeled shape before deletion (11, 1, 768)\n<class 'numpy.ndarray'>\n############\n  unlabeled shape after deletion (10, 768)\n  labeled shape end of run deletion (14438, 768)\n  nmber of unlabled remaning10\nrepeat\nconfidence_threshold=0.27599999999999947\nstep 1\ntrain svm\n",
          "output_type": "stream"
        },
        {
          "name": "stderr",
          "text": "/opt/conda/lib/python3.10/site-packages/sklearn/svm/_base.py:299: ConvergenceWarning: Solver terminated early (max_iter=2).  Consider pre-processing your data with StandardScaler or MinMaxScaler.\n  warnings.warn(\n",
          "output_type": "stream"
        },
        {
          "name": "stdout",
          "text": "log\n",
          "output_type": "stream"
        },
        {
          "name": "stderr",
          "text": "/opt/conda/lib/python3.10/site-packages/sklearn/linear_model/_sag.py:350: ConvergenceWarning: The max_iter was reached which means the coef_ did not converge\n  warnings.warn(\n",
          "output_type": "stream"
        },
        {
          "name": "stdout",
          "text": "gru\n226/226 [==============================] - 2s 8ms/step - loss: 0.1161 - accuracy: 0.9529\nstep 2\n1/1 [==============================] - 0s 19ms/step\nstep 3\n############\n  unlabeled shape before deletion (10, 1, 768)\n  indexes_to_delete shape before deletion 2\n  unlabeled shape before deletion (10, 1, 768)\n<class 'numpy.ndarray'>\n############\n  unlabeled shape after deletion (8, 768)\n  labeled shape end of run deletion (14440, 768)\n  nmber of unlabled remaning8\nrepeat\nconfidence_threshold=0.26799999999999946\nstep 1\ntrain svm\n",
          "output_type": "stream"
        },
        {
          "name": "stderr",
          "text": "/opt/conda/lib/python3.10/site-packages/sklearn/svm/_base.py:299: ConvergenceWarning: Solver terminated early (max_iter=2).  Consider pre-processing your data with StandardScaler or MinMaxScaler.\n  warnings.warn(\n",
          "output_type": "stream"
        },
        {
          "name": "stdout",
          "text": "log\n",
          "output_type": "stream"
        },
        {
          "name": "stderr",
          "text": "/opt/conda/lib/python3.10/site-packages/sklearn/linear_model/_sag.py:350: ConvergenceWarning: The max_iter was reached which means the coef_ did not converge\n  warnings.warn(\n",
          "output_type": "stream"
        },
        {
          "name": "stdout",
          "text": "gru\n226/226 [==============================] - 2s 8ms/step - loss: 0.1163 - accuracy: 0.9570\nstep 2\n1/1 [==============================] - 0s 18ms/step\nstep 3\n############\n  unlabeled shape before deletion (8, 1, 768)\n  indexes_to_delete shape before deletion 1\n  unlabeled shape before deletion (8, 1, 768)\n<class 'numpy.ndarray'>\n############\n  unlabeled shape after deletion (7, 768)\n  labeled shape end of run deletion (14441, 768)\n  nmber of unlabled remaning7\nrepeat\nconfidence_threshold=0.25999999999999945\nstep 1\ntrain svm\n",
          "output_type": "stream"
        },
        {
          "name": "stderr",
          "text": "/opt/conda/lib/python3.10/site-packages/sklearn/svm/_base.py:299: ConvergenceWarning: Solver terminated early (max_iter=2).  Consider pre-processing your data with StandardScaler or MinMaxScaler.\n  warnings.warn(\n",
          "output_type": "stream"
        },
        {
          "name": "stdout",
          "text": "log\n",
          "output_type": "stream"
        },
        {
          "name": "stderr",
          "text": "/opt/conda/lib/python3.10/site-packages/sklearn/linear_model/_sag.py:350: ConvergenceWarning: The max_iter was reached which means the coef_ did not converge\n  warnings.warn(\n",
          "output_type": "stream"
        },
        {
          "name": "stdout",
          "text": "gru\n226/226 [==============================] - 2s 8ms/step - loss: 0.1122 - accuracy: 0.9572\nstep 2\n1/1 [==============================] - 0s 20ms/step\nstep 3\n############\n  unlabeled shape before deletion (7, 1, 768)\n  indexes_to_delete shape before deletion 0\n  unlabeled shape before deletion (7, 1, 768)\n<class 'numpy.ndarray'>\n############\n  unlabeled shape after deletion (7, 768)\n  labeled shape end of run deletion (14441, 768)\n  nmber of unlabled remaning7\nrepeat\nconfidence_threshold=0.25199999999999945\nstep 1\ntrain svm\n",
          "output_type": "stream"
        },
        {
          "name": "stderr",
          "text": "/opt/conda/lib/python3.10/site-packages/sklearn/svm/_base.py:299: ConvergenceWarning: Solver terminated early (max_iter=2).  Consider pre-processing your data with StandardScaler or MinMaxScaler.\n  warnings.warn(\n",
          "output_type": "stream"
        },
        {
          "name": "stdout",
          "text": "log\n",
          "output_type": "stream"
        },
        {
          "name": "stderr",
          "text": "/opt/conda/lib/python3.10/site-packages/sklearn/linear_model/_sag.py:350: ConvergenceWarning: The max_iter was reached which means the coef_ did not converge\n  warnings.warn(\n",
          "output_type": "stream"
        },
        {
          "name": "stdout",
          "text": "gru\n226/226 [==============================] - 2s 8ms/step - loss: 0.1082 - accuracy: 0.9578\nstep 2\n1/1 [==============================] - 0s 21ms/step\nstep 3\n############\n  unlabeled shape before deletion (7, 1, 768)\n  indexes_to_delete shape before deletion 1\n  unlabeled shape before deletion (7, 1, 768)\n<class 'numpy.ndarray'>\n############\n  unlabeled shape after deletion (6, 768)\n  labeled shape end of run deletion (14442, 768)\n  nmber of unlabled remaning6\nrepeat\nconfidence_threshold=0.24399999999999944\nstep 1\ntrain svm\n",
          "output_type": "stream"
        },
        {
          "name": "stderr",
          "text": "/opt/conda/lib/python3.10/site-packages/sklearn/svm/_base.py:299: ConvergenceWarning: Solver terminated early (max_iter=2).  Consider pre-processing your data with StandardScaler or MinMaxScaler.\n  warnings.warn(\n",
          "output_type": "stream"
        },
        {
          "name": "stdout",
          "text": "log\n",
          "output_type": "stream"
        },
        {
          "name": "stderr",
          "text": "/opt/conda/lib/python3.10/site-packages/sklearn/linear_model/_sag.py:350: ConvergenceWarning: The max_iter was reached which means the coef_ did not converge\n  warnings.warn(\n",
          "output_type": "stream"
        },
        {
          "name": "stdout",
          "text": "gru\n226/226 [==============================] - 2s 8ms/step - loss: 0.1066 - accuracy: 0.9581\nstep 2\n1/1 [==============================] - 0s 24ms/step\nstep 3\n############\n  unlabeled shape before deletion (6, 1, 768)\n  indexes_to_delete shape before deletion 1\n  unlabeled shape before deletion (6, 1, 768)\n<class 'numpy.ndarray'>\n############\n  unlabeled shape after deletion (5, 768)\n  labeled shape end of run deletion (14443, 768)\n  nmber of unlabled remaning5\nrepeat\nconfidence_threshold=0.23599999999999943\nstep 1\ntrain svm\n",
          "output_type": "stream"
        },
        {
          "name": "stderr",
          "text": "/opt/conda/lib/python3.10/site-packages/sklearn/svm/_base.py:299: ConvergenceWarning: Solver terminated early (max_iter=2).  Consider pre-processing your data with StandardScaler or MinMaxScaler.\n  warnings.warn(\n",
          "output_type": "stream"
        },
        {
          "name": "stdout",
          "text": "log\n",
          "output_type": "stream"
        },
        {
          "name": "stderr",
          "text": "/opt/conda/lib/python3.10/site-packages/sklearn/linear_model/_sag.py:350: ConvergenceWarning: The max_iter was reached which means the coef_ did not converge\n  warnings.warn(\n",
          "output_type": "stream"
        },
        {
          "name": "stdout",
          "text": "gru\n226/226 [==============================] - 2s 8ms/step - loss: 0.1111 - accuracy: 0.9582\nstep 2\n1/1 [==============================] - 0s 19ms/step\nstep 3\n############\n  unlabeled shape before deletion (5, 1, 768)\n  indexes_to_delete shape before deletion 0\n  unlabeled shape before deletion (5, 1, 768)\n<class 'numpy.ndarray'>\n############\n  unlabeled shape after deletion (5, 768)\n  labeled shape end of run deletion (14443, 768)\n  nmber of unlabled remaning5\nrepeat\nconfidence_threshold=0.22799999999999943\nstep 1\ntrain svm\n",
          "output_type": "stream"
        },
        {
          "name": "stderr",
          "text": "/opt/conda/lib/python3.10/site-packages/sklearn/svm/_base.py:299: ConvergenceWarning: Solver terminated early (max_iter=2).  Consider pre-processing your data with StandardScaler or MinMaxScaler.\n  warnings.warn(\n",
          "output_type": "stream"
        },
        {
          "name": "stdout",
          "text": "log\n",
          "output_type": "stream"
        },
        {
          "name": "stderr",
          "text": "/opt/conda/lib/python3.10/site-packages/sklearn/linear_model/_sag.py:350: ConvergenceWarning: The max_iter was reached which means the coef_ did not converge\n  warnings.warn(\n",
          "output_type": "stream"
        },
        {
          "name": "stdout",
          "text": "gru\n226/226 [==============================] - 2s 8ms/step - loss: 0.1090 - accuracy: 0.9583\nstep 2\n1/1 [==============================] - 0s 20ms/step\nstep 3\n############\n  unlabeled shape before deletion (5, 1, 768)\n  indexes_to_delete shape before deletion 0\n  unlabeled shape before deletion (5, 1, 768)\n<class 'numpy.ndarray'>\n############\n  unlabeled shape after deletion (5, 768)\n  labeled shape end of run deletion (14443, 768)\n  nmber of unlabled remaning5\nrepeat\nconfidence_threshold=0.21999999999999942\nstep 1\ntrain svm\n",
          "output_type": "stream"
        },
        {
          "name": "stderr",
          "text": "/opt/conda/lib/python3.10/site-packages/sklearn/svm/_base.py:299: ConvergenceWarning: Solver terminated early (max_iter=2).  Consider pre-processing your data with StandardScaler or MinMaxScaler.\n  warnings.warn(\n",
          "output_type": "stream"
        },
        {
          "name": "stdout",
          "text": "log\n",
          "output_type": "stream"
        },
        {
          "name": "stderr",
          "text": "/opt/conda/lib/python3.10/site-packages/sklearn/linear_model/_sag.py:350: ConvergenceWarning: The max_iter was reached which means the coef_ did not converge\n  warnings.warn(\n",
          "output_type": "stream"
        },
        {
          "name": "stdout",
          "text": "gru\n226/226 [==============================] - 2s 8ms/step - loss: 0.1063 - accuracy: 0.9595\nstep 2\n1/1 [==============================] - 0s 20ms/step\nstep 3\n############\n  unlabeled shape before deletion (5, 1, 768)\n  indexes_to_delete shape before deletion 1\n  unlabeled shape before deletion (5, 1, 768)\n<class 'numpy.ndarray'>\n############\n  unlabeled shape after deletion (4, 768)\n  labeled shape end of run deletion (14444, 768)\n  nmber of unlabled remaning4\nrepeat\nconfidence_threshold=0.2119999999999994\nstep 1\ntrain svm\n",
          "output_type": "stream"
        },
        {
          "name": "stderr",
          "text": "/opt/conda/lib/python3.10/site-packages/sklearn/svm/_base.py:299: ConvergenceWarning: Solver terminated early (max_iter=2).  Consider pre-processing your data with StandardScaler or MinMaxScaler.\n  warnings.warn(\n",
          "output_type": "stream"
        },
        {
          "name": "stdout",
          "text": "log\n",
          "output_type": "stream"
        },
        {
          "name": "stderr",
          "text": "/opt/conda/lib/python3.10/site-packages/sklearn/linear_model/_sag.py:350: ConvergenceWarning: The max_iter was reached which means the coef_ did not converge\n  warnings.warn(\n",
          "output_type": "stream"
        },
        {
          "name": "stdout",
          "text": "gru\n226/226 [==============================] - 2s 8ms/step - loss: 0.1023 - accuracy: 0.9598\nstep 2\n1/1 [==============================] - 0s 21ms/step\nstep 3\n############\n  unlabeled shape before deletion (4, 1, 768)\n  indexes_to_delete shape before deletion 2\n  unlabeled shape before deletion (4, 1, 768)\n<class 'numpy.ndarray'>\n############\n  unlabeled shape after deletion (2, 768)\n  labeled shape end of run deletion (14446, 768)\n  nmber of unlabled remaning2\nrepeat\nconfidence_threshold=0.2039999999999994\nstep 1\ntrain svm\n",
          "output_type": "stream"
        },
        {
          "name": "stderr",
          "text": "/opt/conda/lib/python3.10/site-packages/sklearn/svm/_base.py:299: ConvergenceWarning: Solver terminated early (max_iter=2).  Consider pre-processing your data with StandardScaler or MinMaxScaler.\n  warnings.warn(\n",
          "output_type": "stream"
        },
        {
          "name": "stdout",
          "text": "log\n",
          "output_type": "stream"
        },
        {
          "name": "stderr",
          "text": "/opt/conda/lib/python3.10/site-packages/sklearn/linear_model/_sag.py:350: ConvergenceWarning: The max_iter was reached which means the coef_ did not converge\n  warnings.warn(\n",
          "output_type": "stream"
        },
        {
          "name": "stdout",
          "text": "gru\n226/226 [==============================] - 2s 9ms/step - loss: 0.1123 - accuracy: 0.9554\nstep 2\n1/1 [==============================] - 0s 30ms/step\nstep 3\n############\n  unlabeled shape before deletion (2, 1, 768)\n  indexes_to_delete shape before deletion 0\n  unlabeled shape before deletion (2, 1, 768)\n<class 'numpy.ndarray'>\n############\n  unlabeled shape after deletion (2, 768)\n  labeled shape end of run deletion (14446, 768)\n  nmber of unlabled remaning2\nrepeat\nconfidence_threshold=0.1959999999999994\nstep 1\ntrain svm\n",
          "output_type": "stream"
        },
        {
          "name": "stderr",
          "text": "/opt/conda/lib/python3.10/site-packages/sklearn/svm/_base.py:299: ConvergenceWarning: Solver terminated early (max_iter=2).  Consider pre-processing your data with StandardScaler or MinMaxScaler.\n  warnings.warn(\n",
          "output_type": "stream"
        },
        {
          "name": "stdout",
          "text": "log\n",
          "output_type": "stream"
        },
        {
          "name": "stderr",
          "text": "/opt/conda/lib/python3.10/site-packages/sklearn/linear_model/_sag.py:350: ConvergenceWarning: The max_iter was reached which means the coef_ did not converge\n  warnings.warn(\n",
          "output_type": "stream"
        },
        {
          "name": "stdout",
          "text": "gru\n226/226 [==============================] - 2s 8ms/step - loss: 0.1087 - accuracy: 0.9580\nstep 2\n1/1 [==============================] - 0s 19ms/step\nstep 3\n############\n  unlabeled shape before deletion (2, 1, 768)\n  indexes_to_delete shape before deletion 0\n  unlabeled shape before deletion (2, 1, 768)\n<class 'numpy.ndarray'>\n############\n  unlabeled shape after deletion (2, 768)\n  labeled shape end of run deletion (14446, 768)\n  nmber of unlabled remaning2\nrepeat\nconfidence_threshold=0.1879999999999994\nstep 1\ntrain svm\n",
          "output_type": "stream"
        },
        {
          "name": "stderr",
          "text": "/opt/conda/lib/python3.10/site-packages/sklearn/svm/_base.py:299: ConvergenceWarning: Solver terminated early (max_iter=2).  Consider pre-processing your data with StandardScaler or MinMaxScaler.\n  warnings.warn(\n",
          "output_type": "stream"
        },
        {
          "name": "stdout",
          "text": "log\n",
          "output_type": "stream"
        },
        {
          "name": "stderr",
          "text": "/opt/conda/lib/python3.10/site-packages/sklearn/linear_model/_sag.py:350: ConvergenceWarning: The max_iter was reached which means the coef_ did not converge\n  warnings.warn(\n",
          "output_type": "stream"
        },
        {
          "name": "stdout",
          "text": "gru\n226/226 [==============================] - 2s 8ms/step - loss: 0.1007 - accuracy: 0.9624\nstep 2\n1/1 [==============================] - 0s 19ms/step\nstep 3\n############\n  unlabeled shape before deletion (2, 1, 768)\n  indexes_to_delete shape before deletion 0\n  unlabeled shape before deletion (2, 1, 768)\n<class 'numpy.ndarray'>\n############\n  unlabeled shape after deletion (2, 768)\n  labeled shape end of run deletion (14446, 768)\n  nmber of unlabled remaning2\nrepeat\nconfidence_threshold=0.17999999999999938\nstep 1\ntrain svm\n",
          "output_type": "stream"
        },
        {
          "name": "stderr",
          "text": "/opt/conda/lib/python3.10/site-packages/sklearn/svm/_base.py:299: ConvergenceWarning: Solver terminated early (max_iter=2).  Consider pre-processing your data with StandardScaler or MinMaxScaler.\n  warnings.warn(\n",
          "output_type": "stream"
        },
        {
          "name": "stdout",
          "text": "log\n",
          "output_type": "stream"
        },
        {
          "name": "stderr",
          "text": "/opt/conda/lib/python3.10/site-packages/sklearn/linear_model/_sag.py:350: ConvergenceWarning: The max_iter was reached which means the coef_ did not converge\n  warnings.warn(\n",
          "output_type": "stream"
        },
        {
          "name": "stdout",
          "text": "gru\n226/226 [==============================] - 2s 9ms/step - loss: 0.1088 - accuracy: 0.9583\nstep 2\n1/1 [==============================] - 0s 18ms/step\nstep 3\n############\n  unlabeled shape before deletion (2, 1, 768)\n  indexes_to_delete shape before deletion 0\n  unlabeled shape before deletion (2, 1, 768)\n<class 'numpy.ndarray'>\n############\n  unlabeled shape after deletion (2, 768)\n  labeled shape end of run deletion (14446, 768)\n  nmber of unlabled remaning2\nrepeat\nconfidence_threshold=0.17199999999999938\nstep 1\ntrain svm\n",
          "output_type": "stream"
        },
        {
          "name": "stderr",
          "text": "/opt/conda/lib/python3.10/site-packages/sklearn/svm/_base.py:299: ConvergenceWarning: Solver terminated early (max_iter=2).  Consider pre-processing your data with StandardScaler or MinMaxScaler.\n  warnings.warn(\n",
          "output_type": "stream"
        },
        {
          "name": "stdout",
          "text": "log\n",
          "output_type": "stream"
        },
        {
          "name": "stderr",
          "text": "/opt/conda/lib/python3.10/site-packages/sklearn/linear_model/_sag.py:350: ConvergenceWarning: The max_iter was reached which means the coef_ did not converge\n  warnings.warn(\n",
          "output_type": "stream"
        },
        {
          "name": "stdout",
          "text": "gru\n226/226 [==============================] - 2s 8ms/step - loss: 0.1040 - accuracy: 0.9596\nstep 2\n1/1 [==============================] - 0s 19ms/step\nstep 3\n############\n  unlabeled shape before deletion (2, 1, 768)\n  indexes_to_delete shape before deletion 0\n  unlabeled shape before deletion (2, 1, 768)\n<class 'numpy.ndarray'>\n############\n  unlabeled shape after deletion (2, 768)\n  labeled shape end of run deletion (14446, 768)\n  nmber of unlabled remaning2\nrepeat\nconfidence_threshold=0.16399999999999937\nstep 1\ntrain svm\n",
          "output_type": "stream"
        },
        {
          "name": "stderr",
          "text": "/opt/conda/lib/python3.10/site-packages/sklearn/svm/_base.py:299: ConvergenceWarning: Solver terminated early (max_iter=2).  Consider pre-processing your data with StandardScaler or MinMaxScaler.\n  warnings.warn(\n",
          "output_type": "stream"
        },
        {
          "name": "stdout",
          "text": "log\n",
          "output_type": "stream"
        },
        {
          "name": "stderr",
          "text": "/opt/conda/lib/python3.10/site-packages/sklearn/linear_model/_sag.py:350: ConvergenceWarning: The max_iter was reached which means the coef_ did not converge\n  warnings.warn(\n",
          "output_type": "stream"
        },
        {
          "name": "stdout",
          "text": "gru\n226/226 [==============================] - 2s 8ms/step - loss: 0.1054 - accuracy: 0.9612\nstep 2\n1/1 [==============================] - 0s 19ms/step\nstep 3\n############\n  unlabeled shape before deletion (2, 1, 768)\n  indexes_to_delete shape before deletion 0\n  unlabeled shape before deletion (2, 1, 768)\n<class 'numpy.ndarray'>\n############\n  unlabeled shape after deletion (2, 768)\n  labeled shape end of run deletion (14446, 768)\n  nmber of unlabled remaning2\nrepeat\nconfidence_threshold=0.15599999999999936\nstep 1\ntrain svm\n",
          "output_type": "stream"
        },
        {
          "name": "stderr",
          "text": "/opt/conda/lib/python3.10/site-packages/sklearn/svm/_base.py:299: ConvergenceWarning: Solver terminated early (max_iter=2).  Consider pre-processing your data with StandardScaler or MinMaxScaler.\n  warnings.warn(\n",
          "output_type": "stream"
        },
        {
          "name": "stdout",
          "text": "log\n",
          "output_type": "stream"
        },
        {
          "name": "stderr",
          "text": "/opt/conda/lib/python3.10/site-packages/sklearn/linear_model/_sag.py:350: ConvergenceWarning: The max_iter was reached which means the coef_ did not converge\n  warnings.warn(\n",
          "output_type": "stream"
        },
        {
          "name": "stdout",
          "text": "gru\n226/226 [==============================] - 2s 8ms/step - loss: 0.1099 - accuracy: 0.9559\nstep 2\n1/1 [==============================] - 0s 19ms/step\nstep 3\n############\n  unlabeled shape before deletion (2, 1, 768)\n  indexes_to_delete shape before deletion 0\n  unlabeled shape before deletion (2, 1, 768)\n<class 'numpy.ndarray'>\n############\n  unlabeled shape after deletion (2, 768)\n  labeled shape end of run deletion (14446, 768)\n  nmber of unlabled remaning2\nrepeat\nconfidence_threshold=0.14799999999999935\nstep 1\ntrain svm\n",
          "output_type": "stream"
        },
        {
          "name": "stderr",
          "text": "/opt/conda/lib/python3.10/site-packages/sklearn/svm/_base.py:299: ConvergenceWarning: Solver terminated early (max_iter=2).  Consider pre-processing your data with StandardScaler or MinMaxScaler.\n  warnings.warn(\n",
          "output_type": "stream"
        },
        {
          "name": "stdout",
          "text": "log\n",
          "output_type": "stream"
        },
        {
          "name": "stderr",
          "text": "/opt/conda/lib/python3.10/site-packages/sklearn/linear_model/_sag.py:350: ConvergenceWarning: The max_iter was reached which means the coef_ did not converge\n  warnings.warn(\n",
          "output_type": "stream"
        },
        {
          "name": "stdout",
          "text": "gru\n226/226 [==============================] - 2s 8ms/step - loss: 0.1055 - accuracy: 0.9603\nstep 2\n1/1 [==============================] - 0s 20ms/step\nstep 3\n############\n  unlabeled shape before deletion (2, 1, 768)\n  indexes_to_delete shape before deletion 0\n  unlabeled shape before deletion (2, 1, 768)\n<class 'numpy.ndarray'>\n############\n  unlabeled shape after deletion (2, 768)\n  labeled shape end of run deletion (14446, 768)\n  nmber of unlabled remaning2\nrepeat\nconfidence_threshold=0.13999999999999935\nstep 1\ntrain svm\n",
          "output_type": "stream"
        },
        {
          "name": "stderr",
          "text": "/opt/conda/lib/python3.10/site-packages/sklearn/svm/_base.py:299: ConvergenceWarning: Solver terminated early (max_iter=2).  Consider pre-processing your data with StandardScaler or MinMaxScaler.\n  warnings.warn(\n",
          "output_type": "stream"
        },
        {
          "name": "stdout",
          "text": "log\n",
          "output_type": "stream"
        },
        {
          "name": "stderr",
          "text": "/opt/conda/lib/python3.10/site-packages/sklearn/linear_model/_sag.py:350: ConvergenceWarning: The max_iter was reached which means the coef_ did not converge\n  warnings.warn(\n",
          "output_type": "stream"
        },
        {
          "name": "stdout",
          "text": "gru\n226/226 [==============================] - 2s 10ms/step - loss: 0.0983 - accuracy: 0.9621\nstep 2\n1/1 [==============================] - 0s 18ms/step\nstep 3\n############\n  unlabeled shape before deletion (2, 1, 768)\n  indexes_to_delete shape before deletion 0\n  unlabeled shape before deletion (2, 1, 768)\n<class 'numpy.ndarray'>\n############\n  unlabeled shape after deletion (2, 768)\n  labeled shape end of run deletion (14446, 768)\n  nmber of unlabled remaning2\nrepeat\nconfidence_threshold=0.13199999999999934\nstep 1\ntrain svm\n",
          "output_type": "stream"
        },
        {
          "name": "stderr",
          "text": "/opt/conda/lib/python3.10/site-packages/sklearn/svm/_base.py:299: ConvergenceWarning: Solver terminated early (max_iter=2).  Consider pre-processing your data with StandardScaler or MinMaxScaler.\n  warnings.warn(\n",
          "output_type": "stream"
        },
        {
          "name": "stdout",
          "text": "log\n",
          "output_type": "stream"
        },
        {
          "name": "stderr",
          "text": "/opt/conda/lib/python3.10/site-packages/sklearn/linear_model/_sag.py:350: ConvergenceWarning: The max_iter was reached which means the coef_ did not converge\n  warnings.warn(\n",
          "output_type": "stream"
        },
        {
          "name": "stdout",
          "text": "gru\n226/226 [==============================] - 2s 8ms/step - loss: 0.1019 - accuracy: 0.9596\nstep 2\n1/1 [==============================] - 0s 19ms/step\nstep 3\n############\n  unlabeled shape before deletion (2, 1, 768)\n  indexes_to_delete shape before deletion 1\n  unlabeled shape before deletion (2, 1, 768)\n<class 'numpy.ndarray'>\n############\n  unlabeled shape after deletion (1, 768)\n  labeled shape end of run deletion (14447, 768)\n  nmber of unlabled remaning1\nrepeat\nconfidence_threshold=0.12399999999999933\nstep 1\ntrain svm\n",
          "output_type": "stream"
        },
        {
          "name": "stderr",
          "text": "/opt/conda/lib/python3.10/site-packages/sklearn/svm/_base.py:299: ConvergenceWarning: Solver terminated early (max_iter=2).  Consider pre-processing your data with StandardScaler or MinMaxScaler.\n  warnings.warn(\n",
          "output_type": "stream"
        },
        {
          "name": "stdout",
          "text": "log\n",
          "output_type": "stream"
        },
        {
          "name": "stderr",
          "text": "/opt/conda/lib/python3.10/site-packages/sklearn/linear_model/_sag.py:350: ConvergenceWarning: The max_iter was reached which means the coef_ did not converge\n  warnings.warn(\n",
          "output_type": "stream"
        },
        {
          "name": "stdout",
          "text": "gru\n226/226 [==============================] - 2s 9ms/step - loss: 0.1101 - accuracy: 0.9572\nstep 2\n1/1 [==============================] - 0s 20ms/step\nstep 3\n",
          "output_type": "stream"
        },
        {
          "traceback": [
            "\u001b[0;31m---------------------------------------------------------------------------\u001b[0m",
            "\u001b[0;31mAssertionError\u001b[0m                            Traceback (most recent call last)",
            "Cell \u001b[0;32mIn[269], line 42\u001b[0m\n\u001b[1;32m     39\u001b[0m svm_confidences \u001b[38;5;241m=\u001b[39m svm_classifier_semi\u001b[38;5;241m.\u001b[39mpredict_proba(reamining_data_used)[:, \u001b[38;5;241m1\u001b[39m]\n\u001b[1;32m     40\u001b[0m logistic_confidences \u001b[38;5;241m=\u001b[39m logistic_classifier_semi\u001b[38;5;241m.\u001b[39mpredict_proba(reamining_data_used)[:, \u001b[38;5;241m1\u001b[39m]\n\u001b[0;32m---> 42\u001b[0m reamining_data_used,train_x_used_semi,train_y_used_semi \u001b[38;5;241m=\u001b[39m \u001b[43mcompare_arrays\u001b[49m\u001b[43m(\u001b[49m\u001b[43msvm_confidences\u001b[49m\u001b[43m,\u001b[49m\n\u001b[1;32m     43\u001b[0m \u001b[43m                                                                                 \u001b[49m\u001b[43mlogistic_confidences\u001b[49m\u001b[43m,\u001b[49m\n\u001b[1;32m     44\u001b[0m \u001b[43m                                                                                 \u001b[49m\u001b[43mgru_predictions\u001b[49m\u001b[43m,\u001b[49m\u001b[43mconfidence_threshold\u001b[49m\u001b[43m,\u001b[49m\n\u001b[1;32m     45\u001b[0m \u001b[43m                                                                                 \u001b[49m\u001b[43mglobal_remaning_counts_gru\u001b[49m\u001b[43m,\u001b[49m\n\u001b[1;32m     46\u001b[0m \u001b[43m                                                                                 \u001b[49m\u001b[43mtrain_x_used_semi\u001b[49m\u001b[43m,\u001b[49m\u001b[43mtrain_y_used_semi\u001b[49m\u001b[43m)\u001b[49m\n\u001b[1;32m     49\u001b[0m \u001b[38;5;28mprint\u001b[39m(\u001b[38;5;124mf\u001b[39m\u001b[38;5;124m\"\u001b[39m\u001b[38;5;124m  labeled shape end of run deletion \u001b[39m\u001b[38;5;132;01m{\u001b[39;00mtrain_x_used_semi\u001b[38;5;241m.\u001b[39mshape\u001b[38;5;132;01m}\u001b[39;00m\u001b[38;5;124m\"\u001b[39m)\n\u001b[1;32m     50\u001b[0m \u001b[38;5;28mprint\u001b[39m(\u001b[38;5;124mf\u001b[39m\u001b[38;5;124m\"\u001b[39m\u001b[38;5;124m  nmber of unlabled remaning\u001b[39m\u001b[38;5;132;01m{\u001b[39;00mreamining_data_used\u001b[38;5;241m.\u001b[39mshape[\u001b[38;5;241m0\u001b[39m]\u001b[38;5;132;01m}\u001b[39;00m\u001b[38;5;124m\"\u001b[39m)\n",
            "Cell \u001b[0;32mIn[254], line 4\u001b[0m, in \u001b[0;36mcompare_arrays\u001b[0;34m(array1, array2, array3, threshold, unlabled_data, labeled_x, labeled_y)\u001b[0m\n\u001b[1;32m      3\u001b[0m \u001b[38;5;28;01mdef\u001b[39;00m \u001b[38;5;21mcompare_arrays\u001b[39m(array1, array2, array3,threshold,unlabled_data,labeled_x,labeled_y):\n\u001b[0;32m----> 4\u001b[0m     \u001b[38;5;28;01massert\u001b[39;00m array1\u001b[38;5;241m.\u001b[39mshape \u001b[38;5;241m==\u001b[39m array2\u001b[38;5;241m.\u001b[39mshape \u001b[38;5;241m==\u001b[39m array3\u001b[38;5;241m.\u001b[39mshape, \u001b[38;5;124m\"\u001b[39m\u001b[38;5;124mArrays must have the same shape.\u001b[39m\u001b[38;5;124m\"\u001b[39m\n\u001b[1;32m      6\u001b[0m     indexes_to_delete \u001b[38;5;241m=\u001b[39m []\n\u001b[1;32m      8\u001b[0m     \u001b[38;5;28;01mfor\u001b[39;00m index, (elem1, elem2, elem3) \u001b[38;5;129;01min\u001b[39;00m \u001b[38;5;28menumerate\u001b[39m(\u001b[38;5;28mzip\u001b[39m(array1, array2, array3)):\n",
            "\u001b[0;31mAssertionError\u001b[0m: Arrays must have the same shape."
          ],
          "ename": "AssertionError",
          "evalue": "Arrays must have the same shape.",
          "output_type": "error"
        }
      ]
    },
    {
      "cell_type": "code",
      "source": [
        "train_x_used_semi.shape"
      ],
      "metadata": {
        "execution": {
          "iopub.status.busy": "2023-07-29T13:33:15.839344Z",
          "iopub.execute_input": "2023-07-29T13:33:15.839713Z",
          "iopub.status.idle": "2023-07-29T13:33:15.846257Z",
          "shell.execute_reply.started": "2023-07-29T13:33:15.839684Z",
          "shell.execute_reply": "2023-07-29T13:33:15.845244Z"
        },
        "trusted": true,
        "id": "uwhbjShi7jdf",
        "outputId": "2ced183b-2f60-4f70-980c-8af1e001c968"
      },
      "execution_count": null,
      "outputs": [
        {
          "execution_count": 213,
          "output_type": "execute_result",
          "data": {
            "text/plain": "(8001, 768)"
          },
          "metadata": {}
        }
      ]
    },
    {
      "cell_type": "code",
      "source": [
        "    global_remaning_counts_gru = global_remaning_counts.toarray().reshape(global_remaning_counts.shape[0], 1, global_remaning_counts.shape[1])\n",
        "    global_remaning_counts,global_X_train_counts,global_y_train = compare_arrays(svm_confidences,\n",
        "                                                                                     logistic_confidences,\n",
        "                                                                                     gru_predictions,confidence_threshold,\n",
        "                                                                                     global_remaning_counts_gru,\n",
        "                                                                                     global_X_train_counts,global_y_train)"
      ],
      "metadata": {
        "execution": {
          "iopub.status.busy": "2023-07-29T12:59:04.771315Z",
          "iopub.execute_input": "2023-07-29T12:59:04.771777Z",
          "iopub.status.idle": "2023-07-29T12:59:07.300915Z",
          "shell.execute_reply.started": "2023-07-29T12:59:04.771736Z",
          "shell.execute_reply": "2023-07-29T12:59:07.299829Z"
        },
        "trusted": true,
        "id": "NfskSbuz7jdf",
        "outputId": "d2741c4b-46f7-467a-e3b2-034c6a239ee6"
      },
      "execution_count": null,
      "outputs": [
        {
          "name": "stdout",
          "text": "############\n  unlabeled shape before deletion (6448, 1, 768)\n  indexes_to_delete shape before deletion 77\n  unlabeled shape before deletion (6448, 1, 768)\n<class 'numpy.ndarray'>\n############\n  unlabeled shape after deletion (6371, 768)\n",
          "output_type": "stream"
        }
      ]
    },
    {
      "cell_type": "markdown",
      "source": [
        "### get ensemle result by test data"
      ],
      "metadata": {
        "id": "7A7wk4D7Rulf"
      }
    },
    {
      "cell_type": "code",
      "source": [
        "\n",
        "test_x_used_semi\n",
        "svm_predictions = svm_classifier_semi.predict(test_x_used_semi)\n",
        "\n",
        "# Model 2: Logistic Regression Classifier (already trained)\n",
        "logistic_predictions = logistic_classifier_semi.predict(test_x_used_semi)\n",
        "\n",
        "# Model 3: GRU Classifier (already trained)\n",
        "X_test_gru = test_x_used_semi.toarray().reshape(test_x_used_semi.shape[0], 1, test_x_used_semi.shape[1])\n",
        "gru_predictions = gru_classifier_semi.predict(X_test_gru)\n",
        "gru_predictions = (gru_predictions > 0.5).astype(int)  # Thresholding the GRU predictions\n",
        "\n",
        "# Ensemble predictions using majority voting (simple averaging)\n",
        "ensemble_predictions = (svm_predictions + logistic_predictions + gru_predictions.T) / 3\n",
        "\n",
        "# Convert ensemble predictions to binary classes (0 or 1)\n",
        "ensemble_predictions = (ensemble_predictions > 0.5).astype(int)\n",
        "\n",
        "# Classification report for the ensemble predictions\n",
        "classification_rep = classification_report(test_y_used_semi, ensemble_predictions.T)\n",
        "print(\"Ensemble Classification Report:\")\n",
        "print(classification_rep)"
      ],
      "metadata": {
        "execution": {
          "iopub.status.busy": "2023-07-29T14:41:37.213724Z",
          "iopub.execute_input": "2023-07-29T14:41:37.214136Z",
          "iopub.status.idle": "2023-07-29T14:41:37.553510Z",
          "shell.execute_reply.started": "2023-07-29T14:41:37.214106Z",
          "shell.execute_reply": "2023-07-29T14:41:37.551946Z"
        },
        "trusted": true,
        "id": "fR8NO0k-7jdf",
        "outputId": "f2342418-6e6d-411c-99f1-5d5507c49365"
      },
      "execution_count": null,
      "outputs": [
        {
          "name": "stdout",
          "text": "63/63 [==============================] - 0s 3ms/step\nEnsemble Classification Report:\n              precision    recall  f1-score   support\n\n           0       0.88      0.80      0.84      1023\n           1       0.81      0.89      0.85       977\n\n    accuracy                           0.84      2000\n   macro avg       0.85      0.85      0.84      2000\nweighted avg       0.85      0.84      0.84      2000\n\n",
          "output_type": "stream"
        }
      ]
    },
    {
      "cell_type": "code",
      "source": [
        "print(\"SVM\",classification_report(global_y_test, svm_predictions))\n",
        "print(\"logistic_classifier \",classification_report(global_y_test, logistic_predictions))\n",
        "print(\"gru \",classification_report(global_y_test, gru_predictions))\n"
      ],
      "metadata": {
        "execution": {
          "iopub.status.busy": "2023-07-28T14:29:50.280493Z",
          "iopub.execute_input": "2023-07-28T14:29:50.280933Z",
          "iopub.status.idle": "2023-07-28T14:29:50.327213Z",
          "shell.execute_reply.started": "2023-07-28T14:29:50.280898Z",
          "shell.execute_reply": "2023-07-28T14:29:50.325853Z"
        },
        "trusted": true,
        "id": "3EbBNlL07jdg",
        "outputId": "5149d64a-61ae-4e69-dc2b-88298d49d2c4"
      },
      "execution_count": null,
      "outputs": [
        {
          "name": "stdout",
          "text": "SVM               precision    recall  f1-score   support\n\n           0       0.75      0.90      0.82       988\n           1       0.88      0.70      0.78      1012\n\n    accuracy                           0.80      2000\n   macro avg       0.81      0.80      0.80      2000\nweighted avg       0.81      0.80      0.80      2000\n\nlogistic_classifier                precision    recall  f1-score   support\n\n           0       0.83      0.86      0.85       988\n           1       0.86      0.83      0.84      1012\n\n    accuracy                           0.84      2000\n   macro avg       0.84      0.84      0.84      2000\nweighted avg       0.84      0.84      0.84      2000\n\ngru                precision    recall  f1-score   support\n\n           0       0.82      0.83      0.83       988\n           1       0.83      0.82      0.83      1012\n\n    accuracy                           0.83      2000\n   macro avg       0.83      0.83      0.83      2000\nweighted avg       0.83      0.83      0.83      2000\n\n",
          "output_type": "stream"
        }
      ]
    },
    {
      "cell_type": "code",
      "source": [
        "logistic_classifier = LogisticRegression( max_iter=5,solver='saga',C=1,verbose=1)"
      ],
      "metadata": {
        "execution": {
          "iopub.status.busy": "2023-07-29T12:55:27.350543Z",
          "iopub.execute_input": "2023-07-29T12:55:27.350901Z",
          "iopub.status.idle": "2023-07-29T12:55:27.355887Z",
          "shell.execute_reply.started": "2023-07-29T12:55:27.350873Z",
          "shell.execute_reply": "2023-07-29T12:55:27.354764Z"
        },
        "trusted": true,
        "id": "N9TYNYzp7jdi"
      },
      "execution_count": null,
      "outputs": []
    },
    {
      "cell_type": "code",
      "source": [
        "logistic_classifier.fit(X_train_ara, y_train_ara)"
      ],
      "metadata": {
        "execution": {
          "iopub.status.busy": "2023-07-29T12:55:27.570501Z",
          "iopub.execute_input": "2023-07-29T12:55:27.571218Z",
          "iopub.status.idle": "2023-07-29T12:55:28.207427Z",
          "shell.execute_reply.started": "2023-07-29T12:55:27.571183Z",
          "shell.execute_reply": "2023-07-29T12:55:28.206440Z"
        },
        "trusted": true,
        "id": "XgVWty3y7jdi",
        "outputId": "b901ca14-2ba1-468d-83b9-338bceaa08fa"
      },
      "execution_count": null,
      "outputs": [
        {
          "name": "stdout",
          "text": "max_iter reached after 1 seconds\n",
          "output_type": "stream"
        },
        {
          "name": "stderr",
          "text": "/opt/conda/lib/python3.10/site-packages/sklearn/linear_model/_sag.py:350: ConvergenceWarning: The max_iter was reached which means the coef_ did not converge\n  warnings.warn(\n",
          "output_type": "stream"
        },
        {
          "execution_count": 118,
          "output_type": "execute_result",
          "data": {
            "text/plain": "LogisticRegression(C=1, max_iter=5, solver='saga', verbose=1)",
            "text/html": "<style>#sk-container-id-11 {color: black;background-color: white;}#sk-container-id-11 pre{padding: 0;}#sk-container-id-11 div.sk-toggleable {background-color: white;}#sk-container-id-11 label.sk-toggleable__label {cursor: pointer;display: block;width: 100%;margin-bottom: 0;padding: 0.3em;box-sizing: border-box;text-align: center;}#sk-container-id-11 label.sk-toggleable__label-arrow:before {content: \"▸\";float: left;margin-right: 0.25em;color: #696969;}#sk-container-id-11 label.sk-toggleable__label-arrow:hover:before {color: black;}#sk-container-id-11 div.sk-estimator:hover label.sk-toggleable__label-arrow:before {color: black;}#sk-container-id-11 div.sk-toggleable__content {max-height: 0;max-width: 0;overflow: hidden;text-align: left;background-color: #f0f8ff;}#sk-container-id-11 div.sk-toggleable__content pre {margin: 0.2em;color: black;border-radius: 0.25em;background-color: #f0f8ff;}#sk-container-id-11 input.sk-toggleable__control:checked~div.sk-toggleable__content {max-height: 200px;max-width: 100%;overflow: auto;}#sk-container-id-11 input.sk-toggleable__control:checked~label.sk-toggleable__label-arrow:before {content: \"▾\";}#sk-container-id-11 div.sk-estimator input.sk-toggleable__control:checked~label.sk-toggleable__label {background-color: #d4ebff;}#sk-container-id-11 div.sk-label input.sk-toggleable__control:checked~label.sk-toggleable__label {background-color: #d4ebff;}#sk-container-id-11 input.sk-hidden--visually {border: 0;clip: rect(1px 1px 1px 1px);clip: rect(1px, 1px, 1px, 1px);height: 1px;margin: -1px;overflow: hidden;padding: 0;position: absolute;width: 1px;}#sk-container-id-11 div.sk-estimator {font-family: monospace;background-color: #f0f8ff;border: 1px dotted black;border-radius: 0.25em;box-sizing: border-box;margin-bottom: 0.5em;}#sk-container-id-11 div.sk-estimator:hover {background-color: #d4ebff;}#sk-container-id-11 div.sk-parallel-item::after {content: \"\";width: 100%;border-bottom: 1px solid gray;flex-grow: 1;}#sk-container-id-11 div.sk-label:hover label.sk-toggleable__label {background-color: #d4ebff;}#sk-container-id-11 div.sk-serial::before {content: \"\";position: absolute;border-left: 1px solid gray;box-sizing: border-box;top: 0;bottom: 0;left: 50%;z-index: 0;}#sk-container-id-11 div.sk-serial {display: flex;flex-direction: column;align-items: center;background-color: white;padding-right: 0.2em;padding-left: 0.2em;position: relative;}#sk-container-id-11 div.sk-item {position: relative;z-index: 1;}#sk-container-id-11 div.sk-parallel {display: flex;align-items: stretch;justify-content: center;background-color: white;position: relative;}#sk-container-id-11 div.sk-item::before, #sk-container-id-11 div.sk-parallel-item::before {content: \"\";position: absolute;border-left: 1px solid gray;box-sizing: border-box;top: 0;bottom: 0;left: 50%;z-index: -1;}#sk-container-id-11 div.sk-parallel-item {display: flex;flex-direction: column;z-index: 1;position: relative;background-color: white;}#sk-container-id-11 div.sk-parallel-item:first-child::after {align-self: flex-end;width: 50%;}#sk-container-id-11 div.sk-parallel-item:last-child::after {align-self: flex-start;width: 50%;}#sk-container-id-11 div.sk-parallel-item:only-child::after {width: 0;}#sk-container-id-11 div.sk-dashed-wrapped {border: 1px dashed gray;margin: 0 0.4em 0.5em 0.4em;box-sizing: border-box;padding-bottom: 0.4em;background-color: white;}#sk-container-id-11 div.sk-label label {font-family: monospace;font-weight: bold;display: inline-block;line-height: 1.2em;}#sk-container-id-11 div.sk-label-container {text-align: center;}#sk-container-id-11 div.sk-container {/* jupyter's `normalize.less` sets `[hidden] { display: none; }` but bootstrap.min.css set `[hidden] { display: none !important; }` so we also need the `!important` here to be able to override the default hidden behavior on the sphinx rendered scikit-learn.org. See: https://github.com/scikit-learn/scikit-learn/issues/21755 */display: inline-block !important;position: relative;}#sk-container-id-11 div.sk-text-repr-fallback {display: none;}</style><div id=\"sk-container-id-11\" class=\"sk-top-container\"><div class=\"sk-text-repr-fallback\"><pre>LogisticRegression(C=1, max_iter=5, solver=&#x27;saga&#x27;, verbose=1)</pre><b>In a Jupyter environment, please rerun this cell to show the HTML representation or trust the notebook. <br />On GitHub, the HTML representation is unable to render, please try loading this page with nbviewer.org.</b></div><div class=\"sk-container\" hidden><div class=\"sk-item\"><div class=\"sk-estimator sk-toggleable\"><input class=\"sk-toggleable__control sk-hidden--visually\" id=\"sk-estimator-id-11\" type=\"checkbox\" checked><label for=\"sk-estimator-id-11\" class=\"sk-toggleable__label sk-toggleable__label-arrow\">LogisticRegression</label><div class=\"sk-toggleable__content\"><pre>LogisticRegression(C=1, max_iter=5, solver=&#x27;saga&#x27;, verbose=1)</pre></div></div></div></div></div>"
          },
          "metadata": {}
        }
      ]
    },
    {
      "cell_type": "code",
      "source": [
        "\n",
        "logistic_ppres = logistic_classifier.predict(X_test_ara)\n",
        "\n"
      ],
      "metadata": {
        "execution": {
          "iopub.status.busy": "2023-07-29T12:55:28.209133Z",
          "iopub.execute_input": "2023-07-29T12:55:28.210482Z",
          "iopub.status.idle": "2023-07-29T12:55:28.221647Z",
          "shell.execute_reply.started": "2023-07-29T12:55:28.210446Z",
          "shell.execute_reply": "2023-07-29T12:55:28.219996Z"
        },
        "trusted": true,
        "id": "gadSLgiW7jdj"
      },
      "execution_count": null,
      "outputs": []
    },
    {
      "cell_type": "code",
      "source": [
        "print(\"logistic_classifier \",classification_report(y_test_Ara, logistic_ppres))"
      ],
      "metadata": {
        "execution": {
          "iopub.status.busy": "2023-07-29T12:55:31.058969Z",
          "iopub.execute_input": "2023-07-29T12:55:31.059405Z",
          "iopub.status.idle": "2023-07-29T12:55:31.082673Z",
          "shell.execute_reply.started": "2023-07-29T12:55:31.059370Z",
          "shell.execute_reply": "2023-07-29T12:55:31.081266Z"
        },
        "trusted": true,
        "id": "sBtT_IT47jdj",
        "outputId": "4ea7b248-2d46-41ce-9e0c-01223e5baaff"
      },
      "execution_count": null,
      "outputs": [
        {
          "name": "stdout",
          "text": "logistic_classifier                precision    recall  f1-score   support\n\n           0       0.84      0.89      0.87      1023\n           1       0.88      0.83      0.85       977\n\n    accuracy                           0.86      2000\n   macro avg       0.86      0.86      0.86      2000\nweighted avg       0.86      0.86      0.86      2000\n\n",
          "output_type": "stream"
        }
      ]
    },
    {
      "cell_type": "markdown",
      "source": [
        "#Step 3 : **train on all annotated data**"
      ],
      "metadata": {
        "id": "1cog6hF5Sa4o"
      }
    },
    {
      "cell_type": "code",
      "source": [
        "semi_X_train_counts.shape,semi_y_train.shape"
      ],
      "metadata": {
        "id": "2a6j-Eg67jdj"
      },
      "execution_count": null,
      "outputs": []
    },
    {
      "cell_type": "code",
      "source": [
        "final_X_train, final_X_test, final_y_train, final_y_test = train_test_split(train_x_used_semi, train_y_used_semi,test_size=0.2, random_state = 42)"
      ],
      "metadata": {
        "execution": {
          "iopub.status.busy": "2023-07-29T14:53:47.417922Z",
          "iopub.execute_input": "2023-07-29T14:53:47.418362Z",
          "iopub.status.idle": "2023-07-29T14:53:47.470026Z",
          "shell.execute_reply.started": "2023-07-29T14:53:47.418331Z",
          "shell.execute_reply": "2023-07-29T14:53:47.468963Z"
        },
        "trusted": true,
        "id": "JqZjCFfz7jdj"
      },
      "execution_count": null,
      "outputs": []
    },
    {
      "cell_type": "code",
      "source": [
        "svm_classifier = SVC(kernel='rbf', C=1, probability=True)\n",
        "logistic_classifier = LogisticRegression(max_iter=1000, solver='saga', C=1)"
      ],
      "metadata": {
        "execution": {
          "iopub.status.busy": "2023-07-29T15:21:16.822009Z",
          "iopub.execute_input": "2023-07-29T15:21:16.822406Z",
          "iopub.status.idle": "2023-07-29T15:21:16.829333Z",
          "shell.execute_reply.started": "2023-07-29T15:21:16.822371Z",
          "shell.execute_reply": "2023-07-29T15:21:16.828183Z"
        },
        "trusted": true,
        "id": "pyOieNfL7jdj"
      },
      "execution_count": null,
      "outputs": []
    },
    {
      "cell_type": "code",
      "source": [
        "svm_classifier.fit(final_X_train, final_y_train)"
      ],
      "metadata": {
        "execution": {
          "iopub.status.busy": "2023-07-29T15:21:19.334284Z",
          "iopub.execute_input": "2023-07-29T15:21:19.334645Z",
          "iopub.status.idle": "2023-07-29T15:28:39.729512Z",
          "shell.execute_reply.started": "2023-07-29T15:21:19.334617Z",
          "shell.execute_reply": "2023-07-29T15:28:39.728235Z"
        },
        "trusted": true,
        "id": "T_vq9NT47jdk",
        "outputId": "49b9c23b-4571-40e5-e1ac-647c7a8bdd8b"
      },
      "execution_count": null,
      "outputs": [
        {
          "execution_count": 286,
          "output_type": "execute_result",
          "data": {
            "text/plain": "SVC(C=1, probability=True)",
            "text/html": "<style>#sk-container-id-12 {color: black;background-color: white;}#sk-container-id-12 pre{padding: 0;}#sk-container-id-12 div.sk-toggleable {background-color: white;}#sk-container-id-12 label.sk-toggleable__label {cursor: pointer;display: block;width: 100%;margin-bottom: 0;padding: 0.3em;box-sizing: border-box;text-align: center;}#sk-container-id-12 label.sk-toggleable__label-arrow:before {content: \"▸\";float: left;margin-right: 0.25em;color: #696969;}#sk-container-id-12 label.sk-toggleable__label-arrow:hover:before {color: black;}#sk-container-id-12 div.sk-estimator:hover label.sk-toggleable__label-arrow:before {color: black;}#sk-container-id-12 div.sk-toggleable__content {max-height: 0;max-width: 0;overflow: hidden;text-align: left;background-color: #f0f8ff;}#sk-container-id-12 div.sk-toggleable__content pre {margin: 0.2em;color: black;border-radius: 0.25em;background-color: #f0f8ff;}#sk-container-id-12 input.sk-toggleable__control:checked~div.sk-toggleable__content {max-height: 200px;max-width: 100%;overflow: auto;}#sk-container-id-12 input.sk-toggleable__control:checked~label.sk-toggleable__label-arrow:before {content: \"▾\";}#sk-container-id-12 div.sk-estimator input.sk-toggleable__control:checked~label.sk-toggleable__label {background-color: #d4ebff;}#sk-container-id-12 div.sk-label input.sk-toggleable__control:checked~label.sk-toggleable__label {background-color: #d4ebff;}#sk-container-id-12 input.sk-hidden--visually {border: 0;clip: rect(1px 1px 1px 1px);clip: rect(1px, 1px, 1px, 1px);height: 1px;margin: -1px;overflow: hidden;padding: 0;position: absolute;width: 1px;}#sk-container-id-12 div.sk-estimator {font-family: monospace;background-color: #f0f8ff;border: 1px dotted black;border-radius: 0.25em;box-sizing: border-box;margin-bottom: 0.5em;}#sk-container-id-12 div.sk-estimator:hover {background-color: #d4ebff;}#sk-container-id-12 div.sk-parallel-item::after {content: \"\";width: 100%;border-bottom: 1px solid gray;flex-grow: 1;}#sk-container-id-12 div.sk-label:hover label.sk-toggleable__label {background-color: #d4ebff;}#sk-container-id-12 div.sk-serial::before {content: \"\";position: absolute;border-left: 1px solid gray;box-sizing: border-box;top: 0;bottom: 0;left: 50%;z-index: 0;}#sk-container-id-12 div.sk-serial {display: flex;flex-direction: column;align-items: center;background-color: white;padding-right: 0.2em;padding-left: 0.2em;position: relative;}#sk-container-id-12 div.sk-item {position: relative;z-index: 1;}#sk-container-id-12 div.sk-parallel {display: flex;align-items: stretch;justify-content: center;background-color: white;position: relative;}#sk-container-id-12 div.sk-item::before, #sk-container-id-12 div.sk-parallel-item::before {content: \"\";position: absolute;border-left: 1px solid gray;box-sizing: border-box;top: 0;bottom: 0;left: 50%;z-index: -1;}#sk-container-id-12 div.sk-parallel-item {display: flex;flex-direction: column;z-index: 1;position: relative;background-color: white;}#sk-container-id-12 div.sk-parallel-item:first-child::after {align-self: flex-end;width: 50%;}#sk-container-id-12 div.sk-parallel-item:last-child::after {align-self: flex-start;width: 50%;}#sk-container-id-12 div.sk-parallel-item:only-child::after {width: 0;}#sk-container-id-12 div.sk-dashed-wrapped {border: 1px dashed gray;margin: 0 0.4em 0.5em 0.4em;box-sizing: border-box;padding-bottom: 0.4em;background-color: white;}#sk-container-id-12 div.sk-label label {font-family: monospace;font-weight: bold;display: inline-block;line-height: 1.2em;}#sk-container-id-12 div.sk-label-container {text-align: center;}#sk-container-id-12 div.sk-container {/* jupyter's `normalize.less` sets `[hidden] { display: none; }` but bootstrap.min.css set `[hidden] { display: none !important; }` so we also need the `!important` here to be able to override the default hidden behavior on the sphinx rendered scikit-learn.org. See: https://github.com/scikit-learn/scikit-learn/issues/21755 */display: inline-block !important;position: relative;}#sk-container-id-12 div.sk-text-repr-fallback {display: none;}</style><div id=\"sk-container-id-12\" class=\"sk-top-container\"><div class=\"sk-text-repr-fallback\"><pre>SVC(C=1, probability=True)</pre><b>In a Jupyter environment, please rerun this cell to show the HTML representation or trust the notebook. <br />On GitHub, the HTML representation is unable to render, please try loading this page with nbviewer.org.</b></div><div class=\"sk-container\" hidden><div class=\"sk-item\"><div class=\"sk-estimator sk-toggleable\"><input class=\"sk-toggleable__control sk-hidden--visually\" id=\"sk-estimator-id-12\" type=\"checkbox\" checked><label for=\"sk-estimator-id-12\" class=\"sk-toggleable__label sk-toggleable__label-arrow\">SVC</label><div class=\"sk-toggleable__content\"><pre>SVC(C=1, probability=True)</pre></div></div></div></div></div>"
          },
          "metadata": {}
        }
      ]
    },
    {
      "cell_type": "code",
      "source": [
        "y_pred_svm = svm_classifier.predict(final_X_test)\n",
        "print(\"SVM\",classification_report(final_y_test, y_pred_svm))"
      ],
      "metadata": {
        "execution": {
          "iopub.status.busy": "2023-07-29T15:28:39.731688Z",
          "iopub.execute_input": "2023-07-29T15:28:39.732364Z",
          "iopub.status.idle": "2023-07-29T15:29:01.046067Z",
          "shell.execute_reply.started": "2023-07-29T15:28:39.732326Z",
          "shell.execute_reply": "2023-07-29T15:29:01.045043Z"
        },
        "trusted": true,
        "id": "SbsIn8Zy7jdk",
        "outputId": "fc0a5e98-2434-4c23-df9b-658576c184a6"
      },
      "execution_count": null,
      "outputs": [
        {
          "name": "stdout",
          "text": "SVM               precision    recall  f1-score   support\n\n           0       0.90      0.91      0.90      1392\n           1       0.91      0.90      0.91      1498\n\n    accuracy                           0.90      2890\n   macro avg       0.90      0.90      0.90      2890\nweighted avg       0.90      0.90      0.90      2890\n\n",
          "output_type": "stream"
        }
      ]
    },
    {
      "cell_type": "code",
      "source": [
        "# Train each classifier on its respective dataset\n",
        "logistic_classifier.fit(final_X_train, final_y_train)\n",
        "# Make predictions for each classifier\n",
        "y_pred_logistic = logistic_classifier.predict(final_X_test)\n",
        "print(\"logistic_classifier \",classification_report(final_y_test, y_pred_logistic))"
      ],
      "metadata": {
        "execution": {
          "iopub.status.busy": "2023-07-29T15:09:19.460501Z",
          "iopub.execute_input": "2023-07-29T15:09:19.460855Z",
          "iopub.status.idle": "2023-07-29T15:15:11.349500Z",
          "shell.execute_reply.started": "2023-07-29T15:09:19.460825Z",
          "shell.execute_reply": "2023-07-29T15:15:11.348448Z"
        },
        "trusted": true,
        "id": "f_OcC1wg7jdk",
        "outputId": "12ea03b6-5ef1-4c01-8435-11d3e22882f9"
      },
      "execution_count": null,
      "outputs": [
        {
          "name": "stderr",
          "text": "/opt/conda/lib/python3.10/site-packages/sklearn/svm/_base.py:299: ConvergenceWarning: Solver terminated early (max_iter=1000).  Consider pre-processing your data with StandardScaler or MinMaxScaler.\n  warnings.warn(\n",
          "output_type": "stream"
        },
        {
          "name": "stdout",
          "text": "SVM               precision    recall  f1-score   support\n\n           0       0.96      0.23      0.37      1392\n           1       0.58      0.99      0.73      1498\n\n    accuracy                           0.62      2890\n   macro avg       0.77      0.61      0.55      2890\nweighted avg       0.76      0.62      0.56      2890\n\nlogistic_classifier                precision    recall  f1-score   support\n\n           0       0.90      0.90      0.90      1392\n           1       0.91      0.91      0.91      1498\n\n    accuracy                           0.90      2890\n   macro avg       0.90      0.90      0.90      2890\nweighted avg       0.90      0.90      0.90      2890\n\n",
          "output_type": "stream"
        }
      ]
    },
    {
      "cell_type": "code",
      "source": [
        "X_train_gru = final_X_train.toarray().reshape(final_X_train.shape[0], 1, final_X_train.shape[1])\n",
        "gru_classifier.fit(X_train_gru, final_y_train, epochs=5, batch_size=128)\n"
      ],
      "metadata": {
        "execution": {
          "iopub.status.busy": "2023-07-29T15:15:57.950027Z",
          "iopub.execute_input": "2023-07-29T15:15:57.951086Z",
          "iopub.status.idle": "2023-07-29T15:16:05.581208Z",
          "shell.execute_reply.started": "2023-07-29T15:15:57.951045Z",
          "shell.execute_reply": "2023-07-29T15:16:05.580492Z"
        },
        "trusted": true,
        "id": "AyHLLJ027jdk",
        "outputId": "39a903d7-ef3c-4427-c437-f7e2c755e005"
      },
      "execution_count": null,
      "outputs": [
        {
          "name": "stdout",
          "text": "Epoch 1/5\n91/91 [==============================] - 4s 14ms/step - loss: 0.1920 - accuracy: 0.9259\nEpoch 2/5\n91/91 [==============================] - 1s 10ms/step - loss: 0.1420 - accuracy: 0.9442\nEpoch 3/5\n91/91 [==============================] - 1s 9ms/step - loss: 0.1239 - accuracy: 0.9543\nEpoch 4/5\n91/91 [==============================] - 1s 9ms/step - loss: 0.1137 - accuracy: 0.9585\nEpoch 5/5\n91/91 [==============================] - 1s 8ms/step - loss: 0.1025 - accuracy: 0.9609\n",
          "output_type": "stream"
        },
        {
          "execution_count": 279,
          "output_type": "execute_result",
          "data": {
            "text/plain": "<keras.callbacks.History at 0x79ca911a91e0>"
          },
          "metadata": {}
        }
      ]
    },
    {
      "cell_type": "code",
      "source": [
        "X_test_gru = final_X_test.toarray().reshape(final_X_test.shape[0], 1, final_X_test.shape[1])\n",
        "\n",
        "y_pred_gru = gru_classifier.predict(X_test_gru)\n"
      ],
      "metadata": {
        "execution": {
          "iopub.status.busy": "2023-07-29T15:16:44.470319Z",
          "iopub.execute_input": "2023-07-29T15:16:44.470683Z",
          "iopub.status.idle": "2023-07-29T15:16:44.845723Z",
          "shell.execute_reply.started": "2023-07-29T15:16:44.470652Z",
          "shell.execute_reply": "2023-07-29T15:16:44.844773Z"
        },
        "trusted": true,
        "id": "p848SKYU7jdk",
        "outputId": "52042ec8-460e-4a29-a02a-44d9305074c4"
      },
      "execution_count": null,
      "outputs": [
        {
          "name": "stdout",
          "text": "91/91 [==============================] - 0s 3ms/step\n",
          "output_type": "stream"
        }
      ]
    },
    {
      "cell_type": "code",
      "source": [
        "y_pred_binary = (y_pred_gru > 0.5).astype(int)\n",
        "print(\"GRU\",classification_report(final_y_test, y_pred_binary))"
      ],
      "metadata": {
        "execution": {
          "iopub.status.busy": "2023-07-29T15:16:47.015897Z",
          "iopub.execute_input": "2023-07-29T15:16:47.016294Z",
          "iopub.status.idle": "2023-07-29T15:16:47.035767Z",
          "shell.execute_reply.started": "2023-07-29T15:16:47.016253Z",
          "shell.execute_reply": "2023-07-29T15:16:47.034739Z"
        },
        "trusted": true,
        "id": "-5VqaPZU7jdl",
        "outputId": "debc13fa-41f8-46a6-c301-63d931d9cbae"
      },
      "execution_count": null,
      "outputs": [
        {
          "name": "stdout",
          "text": "GRU               precision    recall  f1-score   support\n\n           0       0.96      0.92      0.94      1392\n           1       0.93      0.97      0.95      1498\n\n    accuracy                           0.94      2890\n   macro avg       0.94      0.94      0.94      2890\nweighted avg       0.94      0.94      0.94      2890\n\n",
          "output_type": "stream"
        }
      ]
    },
    {
      "cell_type": "markdown",
      "source": [
        "# Cnn Lstm Gru\n",
        "\n",
        "\n",
        "*   here we need to check the effect of DNN models with sentiment analysis\n",
        "\n"
      ],
      "metadata": {
        "id": "jTVhwHA57jdl"
      }
    },
    {
      "cell_type": "markdown",
      "source": [
        "## define models of CNN , Lstm and Gru"
      ],
      "metadata": {
        "id": "0MuTc_frV8Ou"
      }
    },
    {
      "cell_type": "code",
      "source": [
        "# Create the SVM ,  logistic models\n",
        "\n",
        "X_train_gru = train_x_used_semi.toarray().reshape(train_x_used_semi.shape[0], 1, train_x_used_semi.shape[1])\n",
        "from tensorflow.keras.layers import GRU, Dense, Dropout\n",
        "\n",
        "gru_classifier_semi = Sequential()\n",
        "gru_classifier_semi.add(GRU(256, input_shape=(X_train_gru.shape[1], X_train_gru.shape[2]), return_sequences=True))\n",
        "gru_classifier_semi.add(Dropout(0.2))\n",
        "gru_classifier_semi.add(GRU(128, return_sequences=True))\n",
        "gru_classifier_semi.add(Dropout(0.2))\n",
        "gru_classifier_semi.add(GRU(64))\n",
        "gru_classifier_semi.add(Dropout(0.2))\n",
        "gru_classifier_semi.add(Dense(1, activation='sigmoid'))\n",
        "\n",
        "# Compile the model\n",
        "gru_classifier_semi.compile(loss='binary_crossentropy', optimizer='adam', metrics=['accuracy'])\n"
      ],
      "metadata": {
        "execution": {
          "iopub.status.busy": "2023-07-29T16:46:29.308171Z",
          "iopub.execute_input": "2023-07-29T16:46:29.309153Z",
          "iopub.status.idle": "2023-07-29T16:46:30.163475Z",
          "shell.execute_reply.started": "2023-07-29T16:46:29.309114Z",
          "shell.execute_reply": "2023-07-29T16:46:30.162460Z"
        },
        "trusted": true,
        "id": "x904XQBM7jdl"
      },
      "execution_count": null,
      "outputs": []
    },
    {
      "cell_type": "code",
      "source": [
        "from tensorflow.keras.layers import LSTM, Dense, Dropout\n",
        "from tensorflow.keras.models import Sequential\n",
        "\n",
        "X_train_lstm = train_x_used_semi.toarray().reshape(train_x_used_semi.shape[0], 1, train_x_used_semi.shape[1])\n",
        "lstm_classifier_semi = Sequential()\n",
        "lstm_classifier_semi.add(LSTM(256, input_shape=(X_train_lstm.shape[1], X_train_lstm.shape[2]), return_sequences=True))\n",
        "lstm_classifier_semi.add(Dropout(0.6))\n",
        "lstm_classifier_semi.add(LSTM(128, return_sequences=True))\n",
        "lstm_classifier_semi.add(Dropout(0.6))\n",
        "lstm_classifier_semi.add(LSTM(64))\n",
        "lstm_classifier_semi.add(Dropout(0.6))\n",
        "lstm_classifier_semi.add(Dense(1, activation='sigmoid'))\n",
        "\n",
        "# Compile the model\n",
        "lstm_classifier_semi.compile(loss='binary_crossentropy', optimizer='adam', metrics=['accuracy'])\n"
      ],
      "metadata": {
        "execution": {
          "iopub.status.busy": "2023-07-29T16:46:30.165664Z",
          "iopub.execute_input": "2023-07-29T16:46:30.166017Z",
          "iopub.status.idle": "2023-07-29T16:46:31.099456Z",
          "shell.execute_reply.started": "2023-07-29T16:46:30.165983Z",
          "shell.execute_reply": "2023-07-29T16:46:31.098430Z"
        },
        "trusted": true,
        "id": "Qdc2jrAQ7jdl"
      },
      "execution_count": null,
      "outputs": []
    },
    {
      "cell_type": "code",
      "source": [
        "train_x_used_semi.shape"
      ],
      "metadata": {
        "execution": {
          "iopub.status.busy": "2023-07-29T16:46:31.101716Z",
          "iopub.execute_input": "2023-07-29T16:46:31.102097Z",
          "iopub.status.idle": "2023-07-29T16:46:31.109023Z",
          "shell.execute_reply.started": "2023-07-29T16:46:31.102063Z",
          "shell.execute_reply": "2023-07-29T16:46:31.107791Z"
        },
        "trusted": true,
        "id": "vUojRygm7jdm",
        "outputId": "bcfb33c1-bbbe-44f7-eb4c-9937e595f4f2"
      },
      "execution_count": null,
      "outputs": [
        {
          "execution_count": 342,
          "output_type": "execute_result",
          "data": {
            "text/plain": "(14382, 768)"
          },
          "metadata": {}
        }
      ]
    },
    {
      "cell_type": "code",
      "source": [
        "from tensorflow.keras.layers import Conv1D, MaxPooling1D, Flatten, Dense, Dropout\n",
        "from tensorflow.keras.models import Sequential\n",
        "# Assuming `sequence_length` is the length of the sequence (e.g., 15320)\n",
        "sequence_length = 768\n",
        "\n",
        "# Create the CNN model\n",
        "cnn_classifier_semi = Sequential()\n",
        "cnn_classifier_semi.add(Conv1D(32, kernel_size=3, activation='relu', input_shape=(sequence_length, 1)))\n",
        "cnn_classifier_semi.add(MaxPooling1D(pool_size=2))\n",
        "cnn_classifier_semi.add(Flatten())\n",
        "cnn_classifier_semi.add(Dense(128, activation='relu'))\n",
        "cnn_classifier_semi.add(Dense(1, activation='sigmoid'))\n",
        "\n",
        "# Compile the model\n",
        "cnn_classifier_semi.compile(loss='binary_crossentropy', optimizer='adam', metrics=['accuracy'])\n",
        "\n"
      ],
      "metadata": {
        "execution": {
          "iopub.status.busy": "2023-07-29T16:46:31.111038Z",
          "iopub.execute_input": "2023-07-29T16:46:31.111488Z",
          "iopub.status.idle": "2023-07-29T16:46:31.173190Z",
          "shell.execute_reply.started": "2023-07-29T16:46:31.111453Z",
          "shell.execute_reply": "2023-07-29T16:46:31.172193Z"
        },
        "trusted": true,
        "id": "BCOSjpC87jdm"
      },
      "execution_count": null,
      "outputs": []
    },
    {
      "cell_type": "code",
      "source": [
        "train_x_used_semi=csr_matrix(X_train_ara)\n",
        "train_y_used_semi=y_train_ara\n",
        "test_x_used_semi=csr_matrix(X_test_ara)\n",
        "test_y_used_semi=y_test_Ara\n",
        "reamining_data_used=csr_matrix(remaining_data)\n"
      ],
      "metadata": {
        "execution": {
          "iopub.status.busy": "2023-07-29T16:06:51.658660Z",
          "iopub.execute_input": "2023-07-29T16:06:51.659041Z",
          "iopub.status.idle": "2023-07-29T16:06:52.114578Z",
          "shell.execute_reply.started": "2023-07-29T16:06:51.659008Z",
          "shell.execute_reply": "2023-07-29T16:06:52.113533Z"
        },
        "trusted": true,
        "id": "oSyD-AU27jdm"
      },
      "execution_count": null,
      "outputs": []
    },
    {
      "cell_type": "code",
      "source": [
        "confidence_threshold=0.9"
      ],
      "metadata": {
        "execution": {
          "iopub.status.busy": "2023-07-29T16:14:05.165162Z",
          "iopub.execute_input": "2023-07-29T16:14:05.165904Z",
          "iopub.status.idle": "2023-07-29T16:14:05.174436Z",
          "shell.execute_reply.started": "2023-07-29T16:14:05.165860Z",
          "shell.execute_reply": "2023-07-29T16:14:05.173334Z"
        },
        "trusted": true,
        "id": "tNGkLBcG7jdm"
      },
      "execution_count": null,
      "outputs": []
    },
    {
      "cell_type": "code",
      "source": [
        "import numpy as np\n",
        "from sklearn.svm import SVC\n",
        "from sklearn.linear_model import LogisticRegression\n",
        "from tensorflow.keras.models import Sequential\n",
        "from tensorflow.keras.layers import GRU, Dense\n",
        "\n",
        "\n",
        "# Number of iterations for semi-supervised learning\n",
        "num_iterations = 50\n",
        "\n",
        "\n",
        "# Semi-supervised learning using iterative approach\n",
        "for _ in range(num_iterations):\n",
        "    X_train_gru = train_x_used_semi.toarray().reshape(train_x_used_semi.shape[0], 1, train_x_used_semi.shape[1])\n",
        "    print('step 1')\n",
        "    # Step 1: Train models on labeled data\n",
        "    print('lstm')\n",
        "    lstm_classifier_semi.fit(X_train_gru, train_y_used_semi,epochs=1, batch_size=16)\n",
        "    print('CNN')\n",
        "    X_train_cnn = train_x_used_semi.toarray().reshape(train_x_used_semi.shape[0], sequence_length, 1)\n",
        "    cnn_classifier_semi.fit(X_train_cnn, train_y_used_semi,epochs=1, batch_size=16)\n",
        "    print('gru')\n",
        "    X_train_gru = train_x_used_semi.toarray().reshape(train_x_used_semi.shape[0], 1, train_x_used_semi.shape[1])\n",
        "\n",
        "    gru_classifier_semi.fit(X_train_gru, train_y_used_semi, epochs=1, batch_size=64)  # Adjust epochs and batch size as needed\n",
        "    print('step 2')\n",
        "\n",
        "    # Step 2: Make predictions on unlabeled data\n",
        "\n",
        "\n",
        "    semi_remaning_counts_gru = reamining_data_used.toarray().reshape(reamining_data_used.shape[0], 1, reamining_data_used.shape[1])\n",
        "    semi_remaning_counts_cnn = reamining_data_used.toarray().reshape(reamining_data_used.shape[0], sequence_length, 1)\n",
        "\n",
        "\n",
        "\n",
        "    lstm_predictions = lstm_classifier_semi.predict(semi_remaning_counts_gru)\n",
        "    cnn_predictions = cnn_classifier_semi.predict(semi_remaning_counts_cnn)\n",
        "    gru_predictions = gru_classifier_semi.predict(semi_remaning_counts_gru)\n",
        "\n",
        "    lstm_predictions = np.squeeze(lstm_predictions)\n",
        "    cnn_predictions = np.squeeze(cnn_predictions)\n",
        "    gru_predictions = np.squeeze(gru_predictions)\n",
        "\n",
        "\n",
        "    print('step 3')\n",
        "    reamining_data_used,train_x_used_semi,train_y_used_semi = compare_arrays(lstm_predictions,\n",
        "                                                                                     cnn_predictions,\n",
        "                                                                                     gru_predictions,confidence_threshold,\n",
        "                                                                                     semi_remaning_counts_gru,\n",
        "                                                                                     train_x_used_semi,train_y_used_semi)\n",
        "\n",
        "\n",
        "    print(f\"  labeled shape end of run deletion {train_x_used_semi.shape}\")\n",
        "    print(f\"  nmber of unlabled remaning{reamining_data_used.shape[0]}\")\n",
        "\n",
        "    print('repeat')\n",
        "    confidence_threshold=confidence_threshold-0.008\n",
        "    print(f\"confidence_threshold={confidence_threshold}\")\n",
        "\n",
        "    if global_remaning_counts.shape[0] == 0:\n",
        "        print(f\"All data labeled after iteration {iteration+1}. Stopping the loop.\")\n",
        "        break\n",
        "    # After an iteration, the unlabeled dataset is updated with agreed predictions removed.\n",
        "    # The process will be repeated until the stopping criteria is met.\n",
        "\n",
        "# After the iterations, you can use the trained models for predictions on new data.\n"
      ],
      "metadata": {
        "execution": {
          "iopub.status.busy": "2023-07-29T16:14:07.918381Z",
          "iopub.execute_input": "2023-07-29T16:14:07.918846Z",
          "iopub.status.idle": "2023-07-29T16:33:19.648152Z",
          "shell.execute_reply.started": "2023-07-29T16:14:07.918807Z",
          "shell.execute_reply": "2023-07-29T16:33:19.647102Z"
        },
        "collapsed": true,
        "jupyter": {
          "outputs_hidden": true
        },
        "trusted": true,
        "id": "PB__6gQt7jdn",
        "outputId": "5f1dc45f-2444-46b8-b07a-3bc5248876da"
      },
      "execution_count": null,
      "outputs": [
        {
          "name": "stdout",
          "text": "step 1\nlstm\n500/500 [==============================] - 3s 6ms/step - loss: 0.3547 - accuracy: 0.8528\nCNN\n500/500 [==============================] - 1s 3ms/step - loss: 0.2906 - accuracy: 0.8780\ngru\n125/125 [==============================] - 1s 6ms/step - loss: 0.3542 - accuracy: 0.8558\nstep 2\n202/202 [==============================] - 1s 3ms/step\n202/202 [==============================] - 0s 2ms/step\n202/202 [==============================] - 1s 3ms/step\nstep 3\n############\n  unlabeled shape before deletion (6448, 1, 768)\n  indexes_to_delete shape before deletion 3214\n  unlabeled shape before deletion (6448, 1, 768)\n<class 'numpy.ndarray'>\n############\n  unlabeled shape after deletion (3234, 768)\n  labeled shape end of run deletion (11214, 768)\n  nmber of unlabled remaning3234\nrepeat\nconfidence_threshold=0.892\nstep 1\nlstm\n701/701 [==============================] - 9s 9ms/step - loss: 0.2729 - accuracy: 0.8960\nCNN\n701/701 [==============================] - 5s 6ms/step - loss: 0.2098 - accuracy: 0.9149\ngru\n176/176 [==============================] - 5s 9ms/step - loss: 0.2687 - accuracy: 0.8980\nstep 2\n102/102 [==============================] - 0s 3ms/step\n102/102 [==============================] - 0s 2ms/step\n102/102 [==============================] - 0s 3ms/step\nstep 3\n############\n  unlabeled shape before deletion (3234, 1, 768)\n  indexes_to_delete shape before deletion 690\n  unlabeled shape before deletion (3234, 1, 768)\n<class 'numpy.ndarray'>\n############\n  unlabeled shape after deletion (2544, 768)\n  labeled shape end of run deletion (11904, 768)\n  nmber of unlabled remaning2544\nrepeat\nconfidence_threshold=0.884\nstep 1\nlstm\n744/744 [==============================] - 7s 10ms/step - loss: 0.2578 - accuracy: 0.9021\nCNN\n744/744 [==============================] - 4s 5ms/step - loss: 0.1985 - accuracy: 0.9225\ngru\n186/186 [==============================] - 2s 9ms/step - loss: 0.2555 - accuracy: 0.9053\nstep 2\n80/80 [==============================] - 0s 3ms/step\n80/80 [==============================] - 0s 2ms/step\n80/80 [==============================] - 0s 3ms/step\nstep 3\n############\n  unlabeled shape before deletion (2544, 1, 768)\n  indexes_to_delete shape before deletion 196\n  unlabeled shape before deletion (2544, 1, 768)\n<class 'numpy.ndarray'>\n############\n  unlabeled shape after deletion (2348, 768)\n  labeled shape end of run deletion (12100, 768)\n  nmber of unlabled remaning2348\nrepeat\nconfidence_threshold=0.876\nstep 1\nlstm\n757/757 [==============================] - 7s 9ms/step - loss: 0.2571 - accuracy: 0.9023\nCNN\n757/757 [==============================] - 4s 6ms/step - loss: 0.1899 - accuracy: 0.9247\ngru\n190/190 [==============================] - 2s 9ms/step - loss: 0.2444 - accuracy: 0.9086\nstep 2\n74/74 [==============================] - 0s 3ms/step\n74/74 [==============================] - 0s 2ms/step\n74/74 [==============================] - 0s 3ms/step\nstep 3\n############\n  unlabeled shape before deletion (2348, 1, 768)\n  indexes_to_delete shape before deletion 110\n  unlabeled shape before deletion (2348, 1, 768)\n<class 'numpy.ndarray'>\n############\n  unlabeled shape after deletion (2238, 768)\n  labeled shape end of run deletion (12210, 768)\n  nmber of unlabled remaning2238\nrepeat\nconfidence_threshold=0.868\nstep 1\nlstm\n764/764 [==============================] - 7s 9ms/step - loss: 0.2467 - accuracy: 0.9103\nCNN\n764/764 [==============================] - 4s 5ms/step - loss: 0.1839 - accuracy: 0.9275\ngru\n191/191 [==============================] - 2s 13ms/step - loss: 0.2419 - accuracy: 0.9117\nstep 2\n70/70 [==============================] - 0s 3ms/step\n70/70 [==============================] - 0s 2ms/step\n70/70 [==============================] - 0s 3ms/step\nstep 3\n############\n  unlabeled shape before deletion (2238, 1, 768)\n  indexes_to_delete shape before deletion 323\n  unlabeled shape before deletion (2238, 1, 768)\n<class 'numpy.ndarray'>\n############\n  unlabeled shape after deletion (1915, 768)\n  labeled shape end of run deletion (12533, 768)\n  nmber of unlabled remaning1915\nrepeat\nconfidence_threshold=0.86\nstep 1\nlstm\n784/784 [==============================] - 7s 9ms/step - loss: 0.2431 - accuracy: 0.9083\nCNN\n784/784 [==============================] - 4s 6ms/step - loss: 0.1714 - accuracy: 0.9346\ngru\n196/196 [==============================] - 2s 12ms/step - loss: 0.2358 - accuracy: 0.9149\nstep 2\n60/60 [==============================] - 0s 3ms/step\n60/60 [==============================] - 0s 2ms/step\n60/60 [==============================] - 0s 3ms/step\nstep 3\n############\n  unlabeled shape before deletion (1915, 1, 768)\n  indexes_to_delete shape before deletion 111\n  unlabeled shape before deletion (1915, 1, 768)\n<class 'numpy.ndarray'>\n############\n  unlabeled shape after deletion (1804, 768)\n  labeled shape end of run deletion (12644, 768)\n  nmber of unlabled remaning1804\nrepeat\nconfidence_threshold=0.852\nstep 1\nlstm\n791/791 [==============================] - 7s 9ms/step - loss: 0.2423 - accuracy: 0.9113\nCNN\n791/791 [==============================] - 5s 6ms/step - loss: 0.1694 - accuracy: 0.9343\ngru\n198/198 [==============================] - 2s 9ms/step - loss: 0.2268 - accuracy: 0.9186\nstep 2\n57/57 [==============================] - 0s 3ms/step\n57/57 [==============================] - 0s 2ms/step\n57/57 [==============================] - 0s 3ms/step\nstep 3\n############\n  unlabeled shape before deletion (1804, 1, 768)\n  indexes_to_delete shape before deletion 154\n  unlabeled shape before deletion (1804, 1, 768)\n<class 'numpy.ndarray'>\n############\n  unlabeled shape after deletion (1650, 768)\n  labeled shape end of run deletion (12798, 768)\n  nmber of unlabled remaning1650\nrepeat\nconfidence_threshold=0.844\nstep 1\nlstm\n800/800 [==============================] - 8s 10ms/step - loss: 0.2339 - accuracy: 0.9158\nCNN\n800/800 [==============================] - 4s 6ms/step - loss: 0.1572 - accuracy: 0.9388\ngru\n200/200 [==============================] - 2s 9ms/step - loss: 0.2268 - accuracy: 0.9170\nstep 2\n52/52 [==============================] - 0s 3ms/step\n52/52 [==============================] - 0s 2ms/step\n52/52 [==============================] - 0s 3ms/step\nstep 3\n############\n  unlabeled shape before deletion (1650, 1, 768)\n  indexes_to_delete shape before deletion 126\n  unlabeled shape before deletion (1650, 1, 768)\n<class 'numpy.ndarray'>\n############\n  unlabeled shape after deletion (1524, 768)\n  labeled shape end of run deletion (12924, 768)\n  nmber of unlabled remaning1524\nrepeat\nconfidence_threshold=0.836\nstep 1\nlstm\n808/808 [==============================] - 7s 9ms/step - loss: 0.2319 - accuracy: 0.9157\nCNN\n808/808 [==============================] - 6s 8ms/step - loss: 0.1453 - accuracy: 0.9439\ngru\n202/202 [==============================] - 3s 13ms/step - loss: 0.2197 - accuracy: 0.9219\nstep 2\n48/48 [==============================] - 0s 3ms/step\n48/48 [==============================] - 0s 2ms/step\n48/48 [==============================] - 0s 3ms/step\nstep 3\n############\n  unlabeled shape before deletion (1524, 1, 768)\n  indexes_to_delete shape before deletion 69\n  unlabeled shape before deletion (1524, 1, 768)\n<class 'numpy.ndarray'>\n############\n  unlabeled shape after deletion (1455, 768)\n  labeled shape end of run deletion (12993, 768)\n  nmber of unlabled remaning1455\nrepeat\nconfidence_threshold=0.828\nstep 1\nlstm\n813/813 [==============================] - 7s 9ms/step - loss: 0.2291 - accuracy: 0.9178\nCNN\n813/813 [==============================] - 5s 6ms/step - loss: 0.1450 - accuracy: 0.9417\ngru\n204/204 [==============================] - 2s 9ms/step - loss: 0.2167 - accuracy: 0.9220\nstep 2\n46/46 [==============================] - 0s 3ms/step\n46/46 [==============================] - 0s 2ms/step\n46/46 [==============================] - 0s 3ms/step\nstep 3\n############\n  unlabeled shape before deletion (1455, 1, 768)\n  indexes_to_delete shape before deletion 106\n  unlabeled shape before deletion (1455, 1, 768)\n<class 'numpy.ndarray'>\n############\n  unlabeled shape after deletion (1349, 768)\n  labeled shape end of run deletion (13099, 768)\n  nmber of unlabled remaning1349\nrepeat\nconfidence_threshold=0.82\nstep 1\nlstm\n819/819 [==============================] - 8s 9ms/step - loss: 0.2321 - accuracy: 0.9148\nCNN\n819/819 [==============================] - 5s 6ms/step - loss: 0.1358 - accuracy: 0.9493\ngru\n205/205 [==============================] - 2s 9ms/step - loss: 0.2131 - accuracy: 0.9239\nstep 2\n43/43 [==============================] - 0s 3ms/step\n43/43 [==============================] - 0s 2ms/step\n43/43 [==============================] - 0s 3ms/step\nstep 3\n############\n  unlabeled shape before deletion (1349, 1, 768)\n  indexes_to_delete shape before deletion 183\n  unlabeled shape before deletion (1349, 1, 768)\n<class 'numpy.ndarray'>\n############\n  unlabeled shape after deletion (1166, 768)\n  labeled shape end of run deletion (13282, 768)\n  nmber of unlabled remaning1166\nrepeat\nconfidence_threshold=0.8119999999999999\nstep 1\nlstm\n831/831 [==============================] - 8s 10ms/step - loss: 0.2260 - accuracy: 0.9208\nCNN\n831/831 [==============================] - 4s 5ms/step - loss: 0.1282 - accuracy: 0.9509\ngru\n208/208 [==============================] - 2s 9ms/step - loss: 0.2167 - accuracy: 0.9217\nstep 2\n37/37 [==============================] - 0s 3ms/step\n37/37 [==============================] - 0s 2ms/step\n37/37 [==============================] - 0s 3ms/step\nstep 3\n############\n  unlabeled shape before deletion (1166, 1, 768)\n  indexes_to_delete shape before deletion 38\n  unlabeled shape before deletion (1166, 1, 768)\n<class 'numpy.ndarray'>\n############\n  unlabeled shape after deletion (1128, 768)\n  labeled shape end of run deletion (13320, 768)\n  nmber of unlabled remaning1128\nrepeat\nconfidence_threshold=0.8039999999999999\nstep 1\nlstm\n833/833 [==============================] - 7s 9ms/step - loss: 0.2246 - accuracy: 0.9208\nCNN\n833/833 [==============================] - 4s 5ms/step - loss: 0.1174 - accuracy: 0.9566\ngru\n209/209 [==============================] - 2s 9ms/step - loss: 0.2088 - accuracy: 0.9262\nstep 2\n36/36 [==============================] - 0s 3ms/step\n36/36 [==============================] - 0s 2ms/step\n36/36 [==============================] - 0s 3ms/step\nstep 3\n############\n  unlabeled shape before deletion (1128, 1, 768)\n  indexes_to_delete shape before deletion 105\n  unlabeled shape before deletion (1128, 1, 768)\n<class 'numpy.ndarray'>\n############\n  unlabeled shape after deletion (1023, 768)\n  labeled shape end of run deletion (13425, 768)\n  nmber of unlabled remaning1023\nrepeat\nconfidence_threshold=0.7959999999999999\nstep 1\nlstm\n840/840 [==============================] - 7s 9ms/step - loss: 0.2237 - accuracy: 0.9194\nCNN\n840/840 [==============================] - 5s 5ms/step - loss: 0.1093 - accuracy: 0.9558\ngru\n210/210 [==============================] - 2s 9ms/step - loss: 0.2081 - accuracy: 0.9262\nstep 2\n32/32 [==============================] - 0s 3ms/step\n32/32 [==============================] - 0s 2ms/step\n32/32 [==============================] - 0s 3ms/step\nstep 3\n############\n  unlabeled shape before deletion (1023, 1, 768)\n  indexes_to_delete shape before deletion 84\n  unlabeled shape before deletion (1023, 1, 768)\n<class 'numpy.ndarray'>\n############\n  unlabeled shape after deletion (939, 768)\n  labeled shape end of run deletion (13509, 768)\n  nmber of unlabled remaning939\nrepeat\nconfidence_threshold=0.7879999999999999\nstep 1\nlstm\n845/845 [==============================] - 7s 9ms/step - loss: 0.2274 - accuracy: 0.9156\nCNN\n845/845 [==============================] - 5s 6ms/step - loss: 0.1018 - accuracy: 0.9616\ngru\n212/212 [==============================] - 2s 10ms/step - loss: 0.2008 - accuracy: 0.9295\nstep 2\n30/30 [==============================] - 0s 3ms/step\n30/30 [==============================] - 0s 2ms/step\n30/30 [==============================] - 0s 3ms/step\nstep 3\n############\n  unlabeled shape before deletion (939, 1, 768)\n  indexes_to_delete shape before deletion 92\n  unlabeled shape before deletion (939, 1, 768)\n<class 'numpy.ndarray'>\n############\n  unlabeled shape after deletion (847, 768)\n  labeled shape end of run deletion (13601, 768)\n  nmber of unlabled remaning847\nrepeat\nconfidence_threshold=0.7799999999999999\nstep 1\nlstm\n851/851 [==============================] - 8s 9ms/step - loss: 0.2219 - accuracy: 0.9197\nCNN\n851/851 [==============================] - 5s 6ms/step - loss: 0.1002 - accuracy: 0.9608\ngru\n213/213 [==============================] - 2s 9ms/step - loss: 0.2059 - accuracy: 0.9261\nstep 2\n27/27 [==============================] - 0s 4ms/step\n27/27 [==============================] - 0s 3ms/step\n27/27 [==============================] - 0s 3ms/step\nstep 3\n############\n  unlabeled shape before deletion (847, 1, 768)\n  indexes_to_delete shape before deletion 31\n  unlabeled shape before deletion (847, 1, 768)\n<class 'numpy.ndarray'>\n############\n  unlabeled shape after deletion (816, 768)\n  labeled shape end of run deletion (13632, 768)\n  nmber of unlabled remaning816\nrepeat\nconfidence_threshold=0.7719999999999999\nstep 1\nlstm\n852/852 [==============================] - 8s 10ms/step - loss: 0.2167 - accuracy: 0.9234\nCNN\n852/852 [==============================] - 5s 6ms/step - loss: 0.0857 - accuracy: 0.9671\ngru\n213/213 [==============================] - 2s 10ms/step - loss: 0.1997 - accuracy: 0.9290\nstep 2\n26/26 [==============================] - 0s 4ms/step\n26/26 [==============================] - 0s 2ms/step\n26/26 [==============================] - 0s 3ms/step\nstep 3\n############\n  unlabeled shape before deletion (816, 1, 768)\n  indexes_to_delete shape before deletion 47\n  unlabeled shape before deletion (816, 1, 768)\n<class 'numpy.ndarray'>\n############\n  unlabeled shape after deletion (769, 768)\n  labeled shape end of run deletion (13679, 768)\n  nmber of unlabled remaning769\nrepeat\nconfidence_threshold=0.7639999999999999\nstep 1\nlstm\n855/855 [==============================] - 8s 10ms/step - loss: 0.2174 - accuracy: 0.9221\nCNN\n855/855 [==============================] - 5s 6ms/step - loss: 0.0866 - accuracy: 0.9675\ngru\n214/214 [==============================] - 2s 10ms/step - loss: 0.1966 - accuracy: 0.9299\nstep 2\n25/25 [==============================] - 0s 3ms/step\n25/25 [==============================] - 0s 2ms/step\n25/25 [==============================] - 0s 3ms/step\nstep 3\n############\n  unlabeled shape before deletion (769, 1, 768)\n  indexes_to_delete shape before deletion 43\n  unlabeled shape before deletion (769, 1, 768)\n<class 'numpy.ndarray'>\n############\n  unlabeled shape after deletion (726, 768)\n  labeled shape end of run deletion (13722, 768)\n  nmber of unlabled remaning726\nrepeat\nconfidence_threshold=0.7559999999999999\nstep 1\nlstm\n858/858 [==============================] - 8s 10ms/step - loss: 0.2163 - accuracy: 0.9210\nCNN\n858/858 [==============================] - 5s 5ms/step - loss: 0.0800 - accuracy: 0.9681\ngru\n215/215 [==============================] - 2s 11ms/step - loss: 0.1975 - accuracy: 0.9308\nstep 2\n23/23 [==============================] - 0s 5ms/step\n23/23 [==============================] - 0s 3ms/step\n23/23 [==============================] - 0s 3ms/step\nstep 3\n############\n  unlabeled shape before deletion (726, 1, 768)\n  indexes_to_delete shape before deletion 95\n  unlabeled shape before deletion (726, 1, 768)\n<class 'numpy.ndarray'>\n############\n  unlabeled shape after deletion (631, 768)\n  labeled shape end of run deletion (13817, 768)\n  nmber of unlabled remaning631\nrepeat\nconfidence_threshold=0.7479999999999999\nstep 1\nlstm\n864/864 [==============================] - 8s 9ms/step - loss: 0.2211 - accuracy: 0.9187\nCNN\n864/864 [==============================] - 5s 6ms/step - loss: 0.0818 - accuracy: 0.9701\ngru\n216/216 [==============================] - 2s 10ms/step - loss: 0.1934 - accuracy: 0.9320\nstep 2\n20/20 [==============================] - 0s 3ms/step\n20/20 [==============================] - 0s 2ms/step\n20/20 [==============================] - 0s 3ms/step\nstep 3\n############\n  unlabeled shape before deletion (631, 1, 768)\n  indexes_to_delete shape before deletion 40\n  unlabeled shape before deletion (631, 1, 768)\n<class 'numpy.ndarray'>\n############\n  unlabeled shape after deletion (591, 768)\n  labeled shape end of run deletion (13857, 768)\n  nmber of unlabled remaning591\nrepeat\nconfidence_threshold=0.7399999999999999\nstep 1\nlstm\n867/867 [==============================] - 9s 10ms/step - loss: 0.2203 - accuracy: 0.9192\nCNN\n867/867 [==============================] - 5s 6ms/step - loss: 0.0766 - accuracy: 0.9697\ngru\n217/217 [==============================] - 2s 9ms/step - loss: 0.1975 - accuracy: 0.9315\nstep 2\n19/19 [==============================] - 0s 3ms/step\n19/19 [==============================] - 0s 2ms/step\n19/19 [==============================] - 0s 3ms/step\nstep 3\n############\n  unlabeled shape before deletion (591, 1, 768)\n  indexes_to_delete shape before deletion 55\n  unlabeled shape before deletion (591, 1, 768)\n<class 'numpy.ndarray'>\n############\n  unlabeled shape after deletion (536, 768)\n  labeled shape end of run deletion (13912, 768)\n  nmber of unlabled remaning536\nrepeat\nconfidence_threshold=0.7319999999999999\nstep 1\nlstm\n870/870 [==============================] - 8s 9ms/step - loss: 0.2119 - accuracy: 0.9243\nCNN\n870/870 [==============================] - 5s 6ms/step - loss: 0.0769 - accuracy: 0.9690\ngru\n218/218 [==============================] - 2s 10ms/step - loss: 0.1937 - accuracy: 0.9301\nstep 2\n17/17 [==============================] - 0s 4ms/step\n17/17 [==============================] - 0s 2ms/step\n17/17 [==============================] - 0s 3ms/step\nstep 3\n############\n  unlabeled shape before deletion (536, 1, 768)\n  indexes_to_delete shape before deletion 61\n  unlabeled shape before deletion (536, 1, 768)\n<class 'numpy.ndarray'>\n############\n  unlabeled shape after deletion (475, 768)\n  labeled shape end of run deletion (13973, 768)\n  nmber of unlabled remaning475\nrepeat\nconfidence_threshold=0.7239999999999999\nstep 1\nlstm\n874/874 [==============================] - 8s 9ms/step - loss: 0.2202 - accuracy: 0.9225\nCNN\n874/874 [==============================] - 5s 5ms/step - loss: 0.0605 - accuracy: 0.9761\ngru\n219/219 [==============================] - 2s 8ms/step - loss: 0.1934 - accuracy: 0.9311\nstep 2\n15/15 [==============================] - 0s 3ms/step\n15/15 [==============================] - 0s 2ms/step\n15/15 [==============================] - 0s 3ms/step\nstep 3\n############\n  unlabeled shape before deletion (475, 1, 768)\n  indexes_to_delete shape before deletion 19\n  unlabeled shape before deletion (475, 1, 768)\n<class 'numpy.ndarray'>\n############\n  unlabeled shape after deletion (456, 768)\n  labeled shape end of run deletion (13992, 768)\n  nmber of unlabled remaning456\nrepeat\nconfidence_threshold=0.7159999999999999\nstep 1\nlstm\n875/875 [==============================] - 8s 10ms/step - loss: 0.2202 - accuracy: 0.9205\nCNN\n875/875 [==============================] - 5s 5ms/step - loss: 0.0584 - accuracy: 0.9776\ngru\n219/219 [==============================] - 2s 9ms/step - loss: 0.1926 - accuracy: 0.9328\nstep 2\n15/15 [==============================] - 0s 3ms/step\n15/15 [==============================] - 0s 2ms/step\n15/15 [==============================] - 0s 3ms/step\nstep 3\n############\n  unlabeled shape before deletion (456, 1, 768)\n  indexes_to_delete shape before deletion 26\n  unlabeled shape before deletion (456, 1, 768)\n<class 'numpy.ndarray'>\n############\n  unlabeled shape after deletion (430, 768)\n  labeled shape end of run deletion (14018, 768)\n  nmber of unlabled remaning430\nrepeat\nconfidence_threshold=0.7079999999999999\nstep 1\nlstm\n877/877 [==============================] - 8s 9ms/step - loss: 0.2152 - accuracy: 0.9228\nCNN\n877/877 [==============================] - 5s 5ms/step - loss: 0.0619 - accuracy: 0.9763\ngru\n220/220 [==============================] - 2s 9ms/step - loss: 0.1879 - accuracy: 0.9335\nstep 2\n14/14 [==============================] - 0s 3ms/step\n14/14 [==============================] - 0s 2ms/step\n14/14 [==============================] - 0s 3ms/step\nstep 3\n############\n  unlabeled shape before deletion (430, 1, 768)\n  indexes_to_delete shape before deletion 69\n  unlabeled shape before deletion (430, 1, 768)\n<class 'numpy.ndarray'>\n############\n  unlabeled shape after deletion (361, 768)\n  labeled shape end of run deletion (14087, 768)\n  nmber of unlabled remaning361\nrepeat\nconfidence_threshold=0.6999999999999998\nstep 1\nlstm\n881/881 [==============================] - 8s 9ms/step - loss: 0.2139 - accuracy: 0.9229\nCNN\n881/881 [==============================] - 5s 6ms/step - loss: 0.0601 - accuracy: 0.9773\ngru\n221/221 [==============================] - 2s 9ms/step - loss: 0.1827 - accuracy: 0.9352\nstep 2\n12/12 [==============================] - 0s 3ms/step\n12/12 [==============================] - 0s 2ms/step\n12/12 [==============================] - 0s 3ms/step\nstep 3\n############\n  unlabeled shape before deletion (361, 1, 768)\n  indexes_to_delete shape before deletion 16\n  unlabeled shape before deletion (361, 1, 768)\n<class 'numpy.ndarray'>\n############\n  unlabeled shape after deletion (345, 768)\n  labeled shape end of run deletion (14103, 768)\n  nmber of unlabled remaning345\nrepeat\nconfidence_threshold=0.6919999999999998\nstep 1\nlstm\n882/882 [==============================] - 8s 9ms/step - loss: 0.2212 - accuracy: 0.9202\nCNN\n882/882 [==============================] - 5s 6ms/step - loss: 0.0477 - accuracy: 0.9817\ngru\n221/221 [==============================] - 2s 9ms/step - loss: 0.1794 - accuracy: 0.9364\nstep 2\n11/11 [==============================] - 0s 3ms/step\n11/11 [==============================] - 0s 2ms/step\n11/11 [==============================] - 0s 3ms/step\nstep 3\n############\n  unlabeled shape before deletion (345, 1, 768)\n  indexes_to_delete shape before deletion 72\n  unlabeled shape before deletion (345, 1, 768)\n<class 'numpy.ndarray'>\n############\n  unlabeled shape after deletion (273, 768)\n  labeled shape end of run deletion (14175, 768)\n  nmber of unlabled remaning273\nrepeat\nconfidence_threshold=0.6839999999999998\nstep 1\nlstm\n886/886 [==============================] - 8s 9ms/step - loss: 0.2179 - accuracy: 0.9209\nCNN\n886/886 [==============================] - 5s 6ms/step - loss: 0.0598 - accuracy: 0.9765\ngru\n222/222 [==============================] - 3s 12ms/step - loss: 0.1843 - accuracy: 0.9349\nstep 2\n9/9 [==============================] - 0s 3ms/step\n9/9 [==============================] - 0s 2ms/step\n9/9 [==============================] - 0s 3ms/step\nstep 3\n############\n  unlabeled shape before deletion (273, 1, 768)\n  indexes_to_delete shape before deletion 11\n  unlabeled shape before deletion (273, 1, 768)\n<class 'numpy.ndarray'>\n############\n  unlabeled shape after deletion (262, 768)\n  labeled shape end of run deletion (14186, 768)\n  nmber of unlabled remaning262\nrepeat\nconfidence_threshold=0.6759999999999998\nstep 1\nlstm\n887/887 [==============================] - 8s 9ms/step - loss: 0.2136 - accuracy: 0.9198\nCNN\n887/887 [==============================] - 5s 5ms/step - loss: 0.0550 - accuracy: 0.9791\ngru\n222/222 [==============================] - 2s 9ms/step - loss: 0.1804 - accuracy: 0.9365\nstep 2\n9/9 [==============================] - 0s 3ms/step\n9/9 [==============================] - 0s 2ms/step\n9/9 [==============================] - 0s 3ms/step\nstep 3\n############\n  unlabeled shape before deletion (262, 1, 768)\n  indexes_to_delete shape before deletion 4\n  unlabeled shape before deletion (262, 1, 768)\n<class 'numpy.ndarray'>\n############\n  unlabeled shape after deletion (258, 768)\n  labeled shape end of run deletion (14190, 768)\n  nmber of unlabled remaning258\nrepeat\nconfidence_threshold=0.6679999999999998\nstep 1\nlstm\n887/887 [==============================] - 8s 10ms/step - loss: 0.2140 - accuracy: 0.9223\nCNN\n887/887 [==============================] - 5s 6ms/step - loss: 0.0434 - accuracy: 0.9839\ngru\n222/222 [==============================] - 2s 9ms/step - loss: 0.1798 - accuracy: 0.9370\nstep 2\n9/9 [==============================] - 0s 3ms/step\n9/9 [==============================] - 0s 2ms/step\n9/9 [==============================] - 0s 3ms/step\nstep 3\n############\n  unlabeled shape before deletion (258, 1, 768)\n  indexes_to_delete shape before deletion 12\n  unlabeled shape before deletion (258, 1, 768)\n<class 'numpy.ndarray'>\n############\n  unlabeled shape after deletion (246, 768)\n  labeled shape end of run deletion (14202, 768)\n  nmber of unlabled remaning246\nrepeat\nconfidence_threshold=0.6599999999999998\nstep 1\nlstm\n888/888 [==============================] - 8s 9ms/step - loss: 0.2108 - accuracy: 0.9230\nCNN\n888/888 [==============================] - 5s 6ms/step - loss: 0.0491 - accuracy: 0.9823\ngru\n222/222 [==============================] - 2s 9ms/step - loss: 0.1841 - accuracy: 0.9329\nstep 2\n8/8 [==============================] - 0s 3ms/step\n8/8 [==============================] - 0s 2ms/step\n8/8 [==============================] - 0s 3ms/step\nstep 3\n############\n  unlabeled shape before deletion (246, 1, 768)\n  indexes_to_delete shape before deletion 8\n  unlabeled shape before deletion (246, 1, 768)\n<class 'numpy.ndarray'>\n############\n  unlabeled shape after deletion (238, 768)\n  labeled shape end of run deletion (14210, 768)\n  nmber of unlabled remaning238\nrepeat\nconfidence_threshold=0.6519999999999998\nstep 1\nlstm\n889/889 [==============================] - 9s 10ms/step - loss: 0.2088 - accuracy: 0.9247\nCNN\n889/889 [==============================] - 5s 5ms/step - loss: 0.0390 - accuracy: 0.9854\ngru\n223/223 [==============================] - 2s 9ms/step - loss: 0.1789 - accuracy: 0.9354\nstep 2\n8/8 [==============================] - 0s 3ms/step\n8/8 [==============================] - 0s 2ms/step\n8/8 [==============================] - 0s 3ms/step\nstep 3\n############\n  unlabeled shape before deletion (238, 1, 768)\n  indexes_to_delete shape before deletion 8\n  unlabeled shape before deletion (238, 1, 768)\n<class 'numpy.ndarray'>\n############\n  unlabeled shape after deletion (230, 768)\n  labeled shape end of run deletion (14218, 768)\n  nmber of unlabled remaning230\nrepeat\nconfidence_threshold=0.6439999999999998\nstep 1\nlstm\n889/889 [==============================] - 8s 9ms/step - loss: 0.2098 - accuracy: 0.9230\nCNN\n889/889 [==============================] - 5s 5ms/step - loss: 0.0354 - accuracy: 0.9870\ngru\n223/223 [==============================] - 2s 10ms/step - loss: 0.1780 - accuracy: 0.9376\nstep 2\n8/8 [==============================] - 0s 5ms/step\n8/8 [==============================] - 0s 3ms/step\n8/8 [==============================] - 0s 3ms/step\nstep 3\n############\n  unlabeled shape before deletion (230, 1, 768)\n  indexes_to_delete shape before deletion 16\n  unlabeled shape before deletion (230, 1, 768)\n<class 'numpy.ndarray'>\n############\n  unlabeled shape after deletion (214, 768)\n  labeled shape end of run deletion (14234, 768)\n  nmber of unlabled remaning214\nrepeat\nconfidence_threshold=0.6359999999999998\nstep 1\nlstm\n890/890 [==============================] - 8s 9ms/step - loss: 0.2071 - accuracy: 0.9251\nCNN\n890/890 [==============================] - 5s 5ms/step - loss: 0.0454 - accuracy: 0.9828\ngru\n223/223 [==============================] - 2s 9ms/step - loss: 0.1777 - accuracy: 0.9359\nstep 2\n7/7 [==============================] - 0s 3ms/step\n7/7 [==============================] - 0s 2ms/step\n7/7 [==============================] - 0s 3ms/step\nstep 3\n############\n  unlabeled shape before deletion (214, 1, 768)\n  indexes_to_delete shape before deletion 14\n  unlabeled shape before deletion (214, 1, 768)\n<class 'numpy.ndarray'>\n############\n  unlabeled shape after deletion (200, 768)\n  labeled shape end of run deletion (14248, 768)\n  nmber of unlabled remaning200\nrepeat\nconfidence_threshold=0.6279999999999998\nstep 1\nlstm\n891/891 [==============================] - 8s 9ms/step - loss: 0.2040 - accuracy: 0.9247\nCNN\n891/891 [==============================] - 5s 6ms/step - loss: 0.0351 - accuracy: 0.9874\ngru\n223/223 [==============================] - 2s 9ms/step - loss: 0.1727 - accuracy: 0.9379\nstep 2\n7/7 [==============================] - 0s 3ms/step\n7/7 [==============================] - 0s 2ms/step\n7/7 [==============================] - 0s 3ms/step\nstep 3\n############\n  unlabeled shape before deletion (200, 1, 768)\n  indexes_to_delete shape before deletion 16\n  unlabeled shape before deletion (200, 1, 768)\n<class 'numpy.ndarray'>\n############\n  unlabeled shape after deletion (184, 768)\n  labeled shape end of run deletion (14264, 768)\n  nmber of unlabled remaning184\nrepeat\nconfidence_threshold=0.6199999999999998\nstep 1\nlstm\n892/892 [==============================] - 8s 9ms/step - loss: 0.2089 - accuracy: 0.9251\nCNN\n892/892 [==============================] - 5s 6ms/step - loss: 0.0400 - accuracy: 0.9847\ngru\n223/223 [==============================] - 2s 9ms/step - loss: 0.1732 - accuracy: 0.9390\nstep 2\n6/6 [==============================] - 0s 3ms/step\n6/6 [==============================] - 0s 2ms/step\n6/6 [==============================] - 0s 3ms/step\nstep 3\n############\n  unlabeled shape before deletion (184, 1, 768)\n  indexes_to_delete shape before deletion 13\n  unlabeled shape before deletion (184, 1, 768)\n<class 'numpy.ndarray'>\n############\n  unlabeled shape after deletion (171, 768)\n  labeled shape end of run deletion (14277, 768)\n  nmber of unlabled remaning171\nrepeat\nconfidence_threshold=0.6119999999999998\nstep 1\nlstm\n893/893 [==============================] - 9s 10ms/step - loss: 0.2043 - accuracy: 0.9265\nCNN\n893/893 [==============================] - 5s 6ms/step - loss: 0.0369 - accuracy: 0.9873\ngru\n224/224 [==============================] - 2s 9ms/step - loss: 0.1704 - accuracy: 0.9397\nstep 2\n6/6 [==============================] - 0s 3ms/step\n6/6 [==============================] - 0s 2ms/step\n6/6 [==============================] - 0s 3ms/step\nstep 3\n############\n  unlabeled shape before deletion (171, 1, 768)\n  indexes_to_delete shape before deletion 14\n  unlabeled shape before deletion (171, 1, 768)\n<class 'numpy.ndarray'>\n############\n  unlabeled shape after deletion (157, 768)\n  labeled shape end of run deletion (14291, 768)\n  nmber of unlabled remaning157\nrepeat\nconfidence_threshold=0.6039999999999998\nstep 1\nlstm\n894/894 [==============================] - 8s 9ms/step - loss: 0.2117 - accuracy: 0.9232\nCNN\n894/894 [==============================] - 5s 6ms/step - loss: 0.0310 - accuracy: 0.9883\ngru\n224/224 [==============================] - 2s 11ms/step - loss: 0.1667 - accuracy: 0.9425\nstep 2\n5/5 [==============================] - 0s 3ms/step\n5/5 [==============================] - 0s 3ms/step\n5/5 [==============================] - 0s 3ms/step\nstep 3\n############\n  unlabeled shape before deletion (157, 1, 768)\n  indexes_to_delete shape before deletion 7\n  unlabeled shape before deletion (157, 1, 768)\n<class 'numpy.ndarray'>\n############\n  unlabeled shape after deletion (150, 768)\n  labeled shape end of run deletion (14298, 768)\n  nmber of unlabled remaning150\nrepeat\nconfidence_threshold=0.5959999999999998\nstep 1\nlstm\n894/894 [==============================] - 8s 9ms/step - loss: 0.2057 - accuracy: 0.9273\nCNN\n894/894 [==============================] - 5s 5ms/step - loss: 0.0352 - accuracy: 0.9860\ngru\n224/224 [==============================] - 2s 9ms/step - loss: 0.1653 - accuracy: 0.9420\nstep 2\n5/5 [==============================] - 0s 3ms/step\n5/5 [==============================] - 0s 2ms/step\n5/5 [==============================] - 0s 3ms/step\nstep 3\n############\n  unlabeled shape before deletion (150, 1, 768)\n  indexes_to_delete shape before deletion 9\n  unlabeled shape before deletion (150, 1, 768)\n<class 'numpy.ndarray'>\n############\n  unlabeled shape after deletion (141, 768)\n  labeled shape end of run deletion (14307, 768)\n  nmber of unlabled remaning141\nrepeat\nconfidence_threshold=0.5879999999999997\nstep 1\nlstm\n895/895 [==============================] - 8s 9ms/step - loss: 0.2043 - accuracy: 0.9269\nCNN\n895/895 [==============================] - 6s 6ms/step - loss: 0.0307 - accuracy: 0.9885\ngru\n224/224 [==============================] - 2s 9ms/step - loss: 0.1649 - accuracy: 0.9409\nstep 2\n5/5 [==============================] - 0s 3ms/step\n5/5 [==============================] - 0s 3ms/step\n5/5 [==============================] - 0s 3ms/step\nstep 3\n############\n  unlabeled shape before deletion (141, 1, 768)\n  indexes_to_delete shape before deletion 11\n  unlabeled shape before deletion (141, 1, 768)\n<class 'numpy.ndarray'>\n############\n  unlabeled shape after deletion (130, 768)\n  labeled shape end of run deletion (14318, 768)\n  nmber of unlabled remaning130\nrepeat\nconfidence_threshold=0.5799999999999997\nstep 1\nlstm\n895/895 [==============================] - 8s 9ms/step - loss: 0.2054 - accuracy: 0.9252\nCNN\n895/895 [==============================] - 5s 5ms/step - loss: 0.0362 - accuracy: 0.9877\ngru\n224/224 [==============================] - 2s 9ms/step - loss: 0.1630 - accuracy: 0.9418\nstep 2\n5/5 [==============================] - 0s 3ms/step\n5/5 [==============================] - 0s 2ms/step\n5/5 [==============================] - 0s 3ms/step\nstep 3\n############\n  unlabeled shape before deletion (130, 1, 768)\n  indexes_to_delete shape before deletion 9\n  unlabeled shape before deletion (130, 1, 768)\n<class 'numpy.ndarray'>\n############\n  unlabeled shape after deletion (121, 768)\n  labeled shape end of run deletion (14327, 768)\n  nmber of unlabled remaning121\nrepeat\nconfidence_threshold=0.5719999999999997\nstep 1\nlstm\n896/896 [==============================] - 9s 10ms/step - loss: 0.2004 - accuracy: 0.9270\nCNN\n896/896 [==============================] - 5s 5ms/step - loss: 0.0327 - accuracy: 0.9879\ngru\n224/224 [==============================] - 2s 9ms/step - loss: 0.1630 - accuracy: 0.9430\nstep 2\n4/4 [==============================] - 0s 4ms/step\n4/4 [==============================] - 0s 2ms/step\n4/4 [==============================] - 0s 3ms/step\nstep 3\n############\n  unlabeled shape before deletion (121, 1, 768)\n  indexes_to_delete shape before deletion 1\n  unlabeled shape before deletion (121, 1, 768)\n<class 'numpy.ndarray'>\n############\n  unlabeled shape after deletion (120, 768)\n  labeled shape end of run deletion (14328, 768)\n  nmber of unlabled remaning120\nrepeat\nconfidence_threshold=0.5639999999999997\nstep 1\nlstm\n896/896 [==============================] - 8s 9ms/step - loss: 0.2060 - accuracy: 0.9270\nCNN\n896/896 [==============================] - 5s 6ms/step - loss: 0.0271 - accuracy: 0.9895\ngru\n224/224 [==============================] - 2s 9ms/step - loss: 0.1618 - accuracy: 0.9408\nstep 2\n4/4 [==============================] - 0s 4ms/step\n4/4 [==============================] - 0s 3ms/step\n4/4 [==============================] - 0s 3ms/step\nstep 3\n############\n  unlabeled shape before deletion (120, 1, 768)\n  indexes_to_delete shape before deletion 8\n  unlabeled shape before deletion (120, 1, 768)\n<class 'numpy.ndarray'>\n############\n  unlabeled shape after deletion (112, 768)\n  labeled shape end of run deletion (14336, 768)\n  nmber of unlabled remaning112\nrepeat\nconfidence_threshold=0.5559999999999997\nstep 1\nlstm\n896/896 [==============================] - 8s 9ms/step - loss: 0.2055 - accuracy: 0.9249\nCNN\n896/896 [==============================] - 5s 5ms/step - loss: 0.0303 - accuracy: 0.9885\ngru\n224/224 [==============================] - 2s 8ms/step - loss: 0.1628 - accuracy: 0.9428\nstep 2\n4/4 [==============================] - 0s 4ms/step\n4/4 [==============================] - 0s 2ms/step\n4/4 [==============================] - 0s 3ms/step\nstep 3\n############\n  unlabeled shape before deletion (112, 1, 768)\n  indexes_to_delete shape before deletion 8\n  unlabeled shape before deletion (112, 1, 768)\n<class 'numpy.ndarray'>\n############\n  unlabeled shape after deletion (104, 768)\n  labeled shape end of run deletion (14344, 768)\n  nmber of unlabled remaning104\nrepeat\nconfidence_threshold=0.5479999999999997\nstep 1\nlstm\n897/897 [==============================] - 8s 9ms/step - loss: 0.2037 - accuracy: 0.9270\nCNN\n897/897 [==============================] - 5s 5ms/step - loss: 0.0383 - accuracy: 0.9866\ngru\n225/225 [==============================] - 2s 9ms/step - loss: 0.1577 - accuracy: 0.9438\nstep 2\n4/4 [==============================] - 0s 4ms/step\n4/4 [==============================] - 0s 3ms/step\n4/4 [==============================] - 0s 3ms/step\nstep 3\n############\n  unlabeled shape before deletion (104, 1, 768)\n  indexes_to_delete shape before deletion 8\n  unlabeled shape before deletion (104, 1, 768)\n<class 'numpy.ndarray'>\n############\n  unlabeled shape after deletion (96, 768)\n  labeled shape end of run deletion (14352, 768)\n  nmber of unlabled remaning96\nrepeat\nconfidence_threshold=0.5399999999999997\nstep 1\nlstm\n897/897 [==============================] - 8s 9ms/step - loss: 0.2040 - accuracy: 0.9266\nCNN\n897/897 [==============================] - 5s 5ms/step - loss: 0.0285 - accuracy: 0.9905\ngru\n225/225 [==============================] - 2s 9ms/step - loss: 0.1539 - accuracy: 0.9465\nstep 2\n3/3 [==============================] - 0s 4ms/step\n3/3 [==============================] - 0s 3ms/step\n3/3 [==============================] - 0s 4ms/step\nstep 3\n############\n  unlabeled shape before deletion (96, 1, 768)\n  indexes_to_delete shape before deletion 4\n  unlabeled shape before deletion (96, 1, 768)\n<class 'numpy.ndarray'>\n############\n  unlabeled shape after deletion (92, 768)\n  labeled shape end of run deletion (14356, 768)\n  nmber of unlabled remaning92\nrepeat\nconfidence_threshold=0.5319999999999997\nstep 1\nlstm\n898/898 [==============================] - 9s 10ms/step - loss: 0.2008 - accuracy: 0.9271\nCNN\n898/898 [==============================] - 5s 6ms/step - loss: 0.0221 - accuracy: 0.9928\ngru\n225/225 [==============================] - 2s 9ms/step - loss: 0.1557 - accuracy: 0.9464\nstep 2\n3/3 [==============================] - 0s 4ms/step\n3/3 [==============================] - 0s 5ms/step\n3/3 [==============================] - 0s 4ms/step\nstep 3\n############\n  unlabeled shape before deletion (92, 1, 768)\n  indexes_to_delete shape before deletion 8\n  unlabeled shape before deletion (92, 1, 768)\n<class 'numpy.ndarray'>\n############\n  unlabeled shape after deletion (84, 768)\n  labeled shape end of run deletion (14364, 768)\n  nmber of unlabled remaning84\nrepeat\nconfidence_threshold=0.5239999999999997\nstep 1\nlstm\n898/898 [==============================] - 8s 9ms/step - loss: 0.1978 - accuracy: 0.9294\nCNN\n898/898 [==============================] - 5s 6ms/step - loss: 0.0232 - accuracy: 0.9915\ngru\n225/225 [==============================] - 2s 9ms/step - loss: 0.1567 - accuracy: 0.9464\nstep 2\n3/3 [==============================] - 0s 4ms/step\n3/3 [==============================] - 0s 3ms/step\n3/3 [==============================] - 0s 4ms/step\nstep 3\n############\n  unlabeled shape before deletion (84, 1, 768)\n  indexes_to_delete shape before deletion 11\n  unlabeled shape before deletion (84, 1, 768)\n<class 'numpy.ndarray'>\n############\n  unlabeled shape after deletion (73, 768)\n  labeled shape end of run deletion (14375, 768)\n  nmber of unlabled remaning73\nrepeat\nconfidence_threshold=0.5159999999999997\nstep 1\nlstm\n899/899 [==============================] - 8s 9ms/step - loss: 0.1951 - accuracy: 0.9278\nCNN\n899/899 [==============================] - 5s 5ms/step - loss: 0.0298 - accuracy: 0.9887\ngru\n225/225 [==============================] - 2s 9ms/step - loss: 0.1554 - accuracy: 0.9453\nstep 2\n3/3 [==============================] - 0s 4ms/step\n3/3 [==============================] - 0s 3ms/step\n3/3 [==============================] - 0s 4ms/step\nstep 3\n############\n  unlabeled shape before deletion (73, 1, 768)\n  indexes_to_delete shape before deletion 5\n  unlabeled shape before deletion (73, 1, 768)\n<class 'numpy.ndarray'>\n############\n  unlabeled shape after deletion (68, 768)\n  labeled shape end of run deletion (14380, 768)\n  nmber of unlabled remaning68\nrepeat\nconfidence_threshold=0.5079999999999997\nstep 1\nlstm\n899/899 [==============================] - 9s 10ms/step - loss: 0.1957 - accuracy: 0.9286\nCNN\n899/899 [==============================] - 5s 6ms/step - loss: 0.0306 - accuracy: 0.9886\ngru\n225/225 [==============================] - 2s 9ms/step - loss: 0.1525 - accuracy: 0.9449\nstep 2\n3/3 [==============================] - 0s 4ms/step\n3/3 [==============================] - 0s 2ms/step\n3/3 [==============================] - 0s 4ms/step\nstep 3\n############\n  unlabeled shape before deletion (68, 1, 768)\n  indexes_to_delete shape before deletion 2\n  unlabeled shape before deletion (68, 1, 768)\n<class 'numpy.ndarray'>\n############\n  unlabeled shape after deletion (66, 768)\n  labeled shape end of run deletion (14382, 768)\n  nmber of unlabled remaning66\nrepeat\nconfidence_threshold=0.49999999999999967\n",
          "output_type": "stream"
        }
      ]
    },
    {
      "cell_type": "markdown",
      "source": [
        "## Train and evalute the Models"
      ],
      "metadata": {
        "id": "tpvk97EYXtHo"
      }
    },
    {
      "cell_type": "code",
      "source": [
        "final_X_train, final_X_test, final_y_train, final_y_test = train_test_split(train_x_used_semi, train_y_used_semi,test_size=0.2, random_state = 42)"
      ],
      "metadata": {
        "execution": {
          "iopub.status.busy": "2023-07-29T16:48:39.348519Z",
          "iopub.execute_input": "2023-07-29T16:48:39.348951Z",
          "iopub.status.idle": "2023-07-29T16:48:39.399288Z",
          "shell.execute_reply.started": "2023-07-29T16:48:39.348917Z",
          "shell.execute_reply": "2023-07-29T16:48:39.398257Z"
        },
        "trusted": true,
        "id": "HnmesgVv7jdn"
      },
      "execution_count": null,
      "outputs": []
    },
    {
      "cell_type": "code",
      "source": [
        "X_train_gru = final_X_train.toarray().reshape(final_X_train.shape[0], 1, final_X_train.shape[1])\n",
        "print('lstm')\n",
        "lstm_classifier_semi.fit(X_train_gru, final_y_train,epochs=10, batch_size=32)\n",
        "print('CNN')\n",
        "X_train_cnn = final_X_train.toarray().reshape(final_X_train.shape[0], sequence_length, 1)\n",
        "cnn_classifier_semi.fit(X_train_cnn, final_y_train,epochs=10, batch_size=32)\n",
        "print('gru')\n",
        "\n",
        "gru_classifier_semi.fit(X_train_gru, final_y_train, epochs=10, batch_size=64)  # Adjust epochs and batch size as needed"
      ],
      "metadata": {
        "execution": {
          "iopub.status.busy": "2023-07-29T17:13:20.069372Z",
          "iopub.execute_input": "2023-07-29T17:13:20.069749Z",
          "iopub.status.idle": "2023-07-29T17:14:42.615727Z",
          "shell.execute_reply.started": "2023-07-29T17:13:20.069718Z",
          "shell.execute_reply": "2023-07-29T17:14:42.614653Z"
        },
        "trusted": true,
        "id": "xHswZ0RR7jdn",
        "outputId": "a7bdf3ea-7088-47be-9c45-cb2759d14d08"
      },
      "execution_count": null,
      "outputs": [
        {
          "name": "stdout",
          "text": "lstm\nEpoch 1/10\n360/360 [==============================] - 3s 8ms/step - loss: 0.1906 - accuracy: 0.9331\nEpoch 2/10\n360/360 [==============================] - 3s 8ms/step - loss: 0.1902 - accuracy: 0.9297\nEpoch 3/10\n360/360 [==============================] - 3s 8ms/step - loss: 0.1852 - accuracy: 0.9351\nEpoch 4/10\n360/360 [==============================] - 3s 9ms/step - loss: 0.1883 - accuracy: 0.9342\nEpoch 5/10\n360/360 [==============================] - 3s 8ms/step - loss: 0.1821 - accuracy: 0.9350\nEpoch 6/10\n360/360 [==============================] - 3s 8ms/step - loss: 0.1762 - accuracy: 0.9386\nEpoch 7/10\n360/360 [==============================] - 3s 8ms/step - loss: 0.1843 - accuracy: 0.9362\nEpoch 8/10\n360/360 [==============================] - 3s 7ms/step - loss: 0.1786 - accuracy: 0.9374\nEpoch 9/10\n360/360 [==============================] - 3s 8ms/step - loss: 0.1787 - accuracy: 0.9385\nEpoch 10/10\n360/360 [==============================] - 3s 8ms/step - loss: 0.1749 - accuracy: 0.9399\nCNN\nEpoch 1/10\n360/360 [==============================] - 2s 5ms/step - loss: 0.0218 - accuracy: 0.9933\nEpoch 2/10\n360/360 [==============================] - 1s 4ms/step - loss: 0.0245 - accuracy: 0.9905\nEpoch 3/10\n360/360 [==============================] - 1s 4ms/step - loss: 0.0595 - accuracy: 0.9771\nEpoch 4/10\n360/360 [==============================] - 1s 4ms/step - loss: 0.0242 - accuracy: 0.9910\nEpoch 5/10\n360/360 [==============================] - 1s 4ms/step - loss: 0.0241 - accuracy: 0.9916\nEpoch 6/10\n360/360 [==============================] - 1s 4ms/step - loss: 0.0142 - accuracy: 0.9957\nEpoch 7/10\n360/360 [==============================] - 1s 4ms/step - loss: 0.0150 - accuracy: 0.9956\nEpoch 8/10\n360/360 [==============================] - 1s 4ms/step - loss: 0.0254 - accuracy: 0.9905\nEpoch 9/10\n360/360 [==============================] - 1s 4ms/step - loss: 0.0204 - accuracy: 0.9933\nEpoch 10/10\n360/360 [==============================] - 1s 4ms/step - loss: 0.0232 - accuracy: 0.9922\ngru\nEpoch 1/10\n180/180 [==============================] - 1s 7ms/step - loss: 0.1775 - accuracy: 0.9368\nEpoch 2/10\n180/180 [==============================] - 1s 7ms/step - loss: 0.1757 - accuracy: 0.9375\nEpoch 3/10\n180/180 [==============================] - 1s 7ms/step - loss: 0.1715 - accuracy: 0.9394\nEpoch 4/10\n180/180 [==============================] - 1s 7ms/step - loss: 0.1686 - accuracy: 0.9415\nEpoch 5/10\n180/180 [==============================] - 1s 7ms/step - loss: 0.1671 - accuracy: 0.9403\nEpoch 6/10\n180/180 [==============================] - 1s 7ms/step - loss: 0.1621 - accuracy: 0.9429\nEpoch 7/10\n180/180 [==============================] - 1s 7ms/step - loss: 0.1657 - accuracy: 0.9404\nEpoch 8/10\n180/180 [==============================] - 1s 7ms/step - loss: 0.1656 - accuracy: 0.9439\nEpoch 9/10\n180/180 [==============================] - 1s 8ms/step - loss: 0.1594 - accuracy: 0.9432\nEpoch 10/10\n180/180 [==============================] - 2s 9ms/step - loss: 0.1567 - accuracy: 0.9442\n",
          "output_type": "stream"
        },
        {
          "execution_count": 359,
          "output_type": "execute_result",
          "data": {
            "text/plain": "<keras.callbacks.History at 0x79ca749b0070>"
          },
          "metadata": {}
        }
      ]
    },
    {
      "cell_type": "code",
      "source": [
        "semi_remaning_counts_gru = final_X_test.toarray().reshape(final_X_test.shape[0], 1, final_X_test.shape[1])\n",
        "semi_remaning_counts_cnn = final_X_test.toarray().reshape(final_X_test.shape[0], sequence_length, 1)\n",
        "\n",
        "\n",
        "\n",
        "lstm_predictions = lstm_classifier_semi.predict(semi_remaning_counts_gru)\n",
        "cnn_predictions = cnn_classifier_semi.predict(semi_remaning_counts_cnn)\n",
        "gru_predictions = gru_classifier_semi.predict(semi_remaning_counts_gru)\n",
        "\n"
      ],
      "metadata": {
        "execution": {
          "iopub.status.busy": "2023-07-29T17:15:06.091419Z",
          "iopub.execute_input": "2023-07-29T17:15:06.091985Z",
          "iopub.status.idle": "2023-07-29T17:15:07.346703Z",
          "shell.execute_reply.started": "2023-07-29T17:15:06.091943Z",
          "shell.execute_reply": "2023-07-29T17:15:07.345686Z"
        },
        "trusted": true,
        "id": "CZUssqtN7jdn",
        "outputId": "d534eb16-6053-4461-855f-f6500557fab8"
      },
      "execution_count": null,
      "outputs": [
        {
          "name": "stdout",
          "text": "90/90 [==============================] - 0s 4ms/step\n90/90 [==============================] - 0s 2ms/step\n90/90 [==============================] - 0s 3ms/step\n",
          "output_type": "stream"
        }
      ]
    },
    {
      "cell_type": "code",
      "source": [
        "\n",
        "y_pred_binary = (lstm_predictions > 0.5).astype(int)\n",
        "print(\"lstm \",classification_report(final_y_test, y_pred_binary))\n",
        "y_pred_binary = (cnn_predictions > 0.5).astype(int)\n",
        "print(\"cnn \",classification_report(final_y_test, y_pred_binary))\n",
        "y_pred_binary = (gru_predictions > 0.5).astype(int)\n",
        "print(\"gru \",classification_report(final_y_test, y_pred_binary))"
      ],
      "metadata": {
        "execution": {
          "iopub.status.busy": "2023-07-29T17:15:07.477859Z",
          "iopub.execute_input": "2023-07-29T17:15:07.479547Z",
          "iopub.status.idle": "2023-07-29T17:15:07.522317Z",
          "shell.execute_reply.started": "2023-07-29T17:15:07.479482Z",
          "shell.execute_reply": "2023-07-29T17:15:07.521284Z"
        },
        "trusted": true,
        "id": "yIUF4hnQ7jdo",
        "outputId": "e4530fe8-f6d5-41af-c0e6-ef5d71deb7f4"
      },
      "execution_count": null,
      "outputs": [
        {
          "name": "stdout",
          "text": "lstm                precision    recall  f1-score   support\n\n           0       0.91      0.93      0.92      1446\n           1       0.93      0.90      0.91      1431\n\n    accuracy                           0.92      2877\n   macro avg       0.92      0.92      0.92      2877\nweighted avg       0.92      0.92      0.92      2877\n\ncnn                precision    recall  f1-score   support\n\n           0       0.86      0.94      0.90      1446\n           1       0.93      0.85      0.89      1431\n\n    accuracy                           0.90      2877\n   macro avg       0.90      0.90      0.90      2877\nweighted avg       0.90      0.90      0.90      2877\n\ngru                precision    recall  f1-score   support\n\n           0       0.93      0.92      0.92      1446\n           1       0.92      0.92      0.92      1431\n\n    accuracy                           0.92      2877\n   macro avg       0.92      0.92      0.92      2877\nweighted avg       0.92      0.92      0.92      2877\n\n",
          "output_type": "stream"
        }
      ]
    },
    {
      "cell_type": "markdown",
      "source": [
        "\n",
        "\n",
        "\n",
        "####10 epochs :\n",
        "overfitting happens for cnn with 10 epochs"
      ],
      "metadata": {
        "id": "OwDoWcp67jdo"
      }
    },
    {
      "cell_type": "code",
      "source": [
        "\n",
        "y_pred_binary = (lstm_predictions > 0.5).astype(int)\n",
        "print(\"lstm \",classification_report(final_y_test, y_pred_binary))\n",
        "y_pred_binary = (cnn_predictions > 0.5).astype(int)\n",
        "print(\"cnn \",classification_report(final_y_test, y_pred_binary))\n",
        "y_pred_binary = (gru_predictions > 0.5).astype(int)\n",
        "print(\"gru \",classification_report(final_y_test, y_pred_binary))"
      ],
      "metadata": {
        "execution": {
          "iopub.status.busy": "2023-07-29T16:53:34.306808Z",
          "iopub.execute_input": "2023-07-29T16:53:34.307184Z",
          "iopub.status.idle": "2023-07-29T16:53:34.348973Z",
          "shell.execute_reply.started": "2023-07-29T16:53:34.307152Z",
          "shell.execute_reply": "2023-07-29T16:53:34.347724Z"
        },
        "trusted": true,
        "id": "K0C7QFYB7jdo",
        "outputId": "ac4da129-7b9c-487b-9e25-f5d889eb6e3b"
      },
      "execution_count": null,
      "outputs": [
        {
          "name": "stdout",
          "text": "lstm                precision    recall  f1-score   support\n\n           0       0.90      0.92      0.91      1446\n           1       0.92      0.90      0.91      1431\n\n    accuracy                           0.91      2877\n   macro avg       0.91      0.91      0.91      2877\nweighted avg       0.91      0.91      0.91      2877\n\ncnn                precision    recall  f1-score   support\n\n           0       0.95      0.80      0.87      1446\n           1       0.82      0.95      0.88      1431\n\n    accuracy                           0.88      2877\n   macro avg       0.88      0.88      0.87      2877\nweighted avg       0.89      0.88      0.87      2877\n\ngru                precision    recall  f1-score   support\n\n           0       0.90      0.93      0.92      1446\n           1       0.93      0.89      0.91      1431\n\n    accuracy                           0.91      2877\n   macro avg       0.91      0.91      0.91      2877\nweighted avg       0.91      0.91      0.91      2877\n\n",
          "output_type": "stream"
        }
      ]
    },
    {
      "cell_type": "markdown",
      "source": [
        "### 5 epochs"
      ],
      "metadata": {
        "id": "sxEJbFss7jdp"
      }
    },
    {
      "cell_type": "code",
      "source": [
        "# after 5\n",
        "y_pred_binary = (lstm_predictions > 0.5).astype(int)\n",
        "print(\"lstm \",classification_report(final_y_test, y_pred_binary))\n",
        "y_pred_binary = (cnn_predictions > 0.5).astype(int)\n",
        "print(\"cnn \",classification_report(final_y_test, y_pred_binary))\n",
        "y_pred_binary = (gru_predictions > 0.5).astype(int)\n",
        "print(\"gru \",classification_report(final_y_test, y_pred_binary))"
      ],
      "metadata": {
        "execution": {
          "iopub.status.busy": "2023-07-29T16:51:31.711849Z",
          "iopub.execute_input": "2023-07-29T16:51:31.712274Z",
          "iopub.status.idle": "2023-07-29T16:51:31.754980Z",
          "shell.execute_reply.started": "2023-07-29T16:51:31.712228Z",
          "shell.execute_reply": "2023-07-29T16:51:31.753910Z"
        },
        "trusted": true,
        "id": "LdKS2nVx7jdp",
        "outputId": "a7303639-0c2e-428b-ddaf-945eb6bf3342"
      },
      "execution_count": null,
      "outputs": [
        {
          "name": "stdout",
          "text": "lstm                precision    recall  f1-score   support\n\n           0       0.91      0.91      0.91      1446\n           1       0.91      0.91      0.91      1431\n\n    accuracy                           0.91      2877\n   macro avg       0.91      0.91      0.91      2877\nweighted avg       0.91      0.91      0.91      2877\n\ncnn                precision    recall  f1-score   support\n\n           0       0.92      0.90      0.91      1446\n           1       0.90      0.92      0.91      1431\n\n    accuracy                           0.91      2877\n   macro avg       0.91      0.91      0.91      2877\nweighted avg       0.91      0.91      0.91      2877\n\ngru                precision    recall  f1-score   support\n\n           0       0.91      0.90      0.91      1446\n           1       0.90      0.91      0.91      1431\n\n    accuracy                           0.91      2877\n   macro avg       0.91      0.91      0.91      2877\nweighted avg       0.91      0.91      0.91      2877\n\n",
          "output_type": "stream"
        }
      ]
    },
    {
      "cell_type": "markdown",
      "source": [
        "## Notes on training with LSTM, GRU ,CNN:\n",
        "\n",
        "\n",
        "*   Gru and Lstm were faster than cnn\n",
        "*   CNN had better accuray during training\n",
        "*   The three models coverged faster than supervised models\n",
        "\n",
        "\n",
        "\n",
        "\n"
      ],
      "metadata": {
        "id": "7C8dJjKhWR__"
      }
    },
    {
      "cell_type": "markdown",
      "source": [
        "## Mesure Balance of data after training"
      ],
      "metadata": {
        "id": "VybcFjWXYY22"
      }
    },
    {
      "cell_type": "code",
      "source": [
        "def measure_balance(binary_data):\n",
        "    # Method 1: Counting occurrences\n",
        "    count_0 = np.sum(binary_data == 0)\n",
        "    count_1 = np.sum(binary_data == 1)\n",
        "\n",
        "    # Method 2: Calculating the proportion\n",
        "    total_samples = len(binary_data)\n",
        "    proportion_0 = count_0 / total_samples\n",
        "    proportion_1 = count_1 / total_samples\n",
        "\n",
        "    return {\n",
        "        \"count_0\": count_0,\n",
        "        \"count_1\": count_1,\n",
        "        \"proportion_0\": proportion_0,\n",
        "        \"proportion_1\": proportion_1\n",
        "    }\n",
        "\n",
        "\n",
        "binary_data = train_y_used_semi\n",
        "balance_measurements = measure_balance(binary_data)\n",
        "print(balance_measurements)\n"
      ],
      "metadata": {
        "execution": {
          "iopub.status.busy": "2023-07-29T17:16:38.870179Z",
          "iopub.execute_input": "2023-07-29T17:16:38.871082Z",
          "iopub.status.idle": "2023-07-29T17:16:38.878983Z",
          "shell.execute_reply.started": "2023-07-29T17:16:38.871048Z",
          "shell.execute_reply": "2023-07-29T17:16:38.877795Z"
        },
        "trusted": true,
        "id": "NTHjC61n7jdq",
        "outputId": "aeaa53d3-d05c-407f-ce98-89a93a9bc4c0"
      },
      "execution_count": null,
      "outputs": [
        {
          "name": "stdout",
          "text": "{'count_0': 7242, 'count_1': 7140, 'proportion_0': 0.5035460992907801, 'proportion_1': 0.49645390070921985}\n",
          "output_type": "stream"
        }
      ]
    },
    {
      "cell_type": "markdown",
      "source": [
        "# **Some Trails made in project**"
      ],
      "metadata": {
        "id": "-EaGwVFxM_TO"
      }
    },
    {
      "cell_type": "markdown",
      "source": [
        "## Back translation\n",
        "\n",
        "we try to use back translation to get more context of sentences"
      ],
      "metadata": {
        "id": "HLkOygiu7jdG"
      }
    },
    {
      "cell_type": "code",
      "source": [
        "!pip install translate"
      ],
      "metadata": {
        "execution": {
          "iopub.status.busy": "2023-07-29T01:52:33.564464Z",
          "iopub.execute_input": "2023-07-29T01:52:33.564842Z",
          "iopub.status.idle": "2023-07-29T01:52:45.617049Z",
          "shell.execute_reply.started": "2023-07-29T01:52:33.564809Z",
          "shell.execute_reply": "2023-07-29T01:52:45.615774Z"
        },
        "trusted": true,
        "id": "_5E0u-mU7jdG",
        "outputId": "a8f20da7-fcfd-408b-cd6d-7b6e103c4768"
      },
      "execution_count": null,
      "outputs": [
        {
          "name": "stdout",
          "text": "Collecting translate\n  Downloading translate-3.6.1-py2.py3-none-any.whl (12 kB)\nRequirement already satisfied: click in /opt/conda/lib/python3.10/site-packages (from translate) (8.1.3)\nRequirement already satisfied: lxml in /opt/conda/lib/python3.10/site-packages (from translate) (4.9.3)\nRequirement already satisfied: requests in /opt/conda/lib/python3.10/site-packages (from translate) (2.31.0)\nCollecting libretranslatepy==2.1.1 (from translate)\n  Downloading libretranslatepy-2.1.1-py3-none-any.whl (3.2 kB)\nRequirement already satisfied: charset-normalizer<4,>=2 in /opt/conda/lib/python3.10/site-packages (from requests->translate) (3.1.0)\nRequirement already satisfied: idna<4,>=2.5 in /opt/conda/lib/python3.10/site-packages (from requests->translate) (3.4)\nRequirement already satisfied: urllib3<3,>=1.21.1 in /opt/conda/lib/python3.10/site-packages (from requests->translate) (1.26.15)\nRequirement already satisfied: certifi>=2017.4.17 in /opt/conda/lib/python3.10/site-packages (from requests->translate) (2023.5.7)\nInstalling collected packages: libretranslatepy, translate\nSuccessfully installed libretranslatepy-2.1.1 translate-3.6.1\n",
          "output_type": "stream"
        }
      ]
    },
    {
      "cell_type": "code",
      "source": [
        "import nltk\n",
        "from nltk.corpus import wordnet\n",
        "from translate import Translator\n",
        "import random\n",
        "\n",
        "\n",
        "def back_translation(text, target_language='ar', intermediate_language='fr'):\n",
        "    translator= Translator(from_lang=target_language, to_lang=intermediate_language)\n",
        "    intermediate_translation = translator.translate(text)\n",
        "\n",
        "    translator= Translator(from_lang=intermediate_language, to_lang=target_language)\n",
        "    back_translated_text = translator.translate(intermediate_translation)\n",
        "\n",
        "    return back_translated_text\n",
        "\n",
        "# Example text for augmentation\n",
        "arabic_text = \"من النادر ان يعجبني الفلم اكثر من الروايه \"\n",
        "\n",
        "# Perform data augmentation\n",
        "back_translated_text = back_translation(arabic_text)\n",
        "\n",
        "# Print augmented texts\n",
        "print(\"Original Text: \", arabic_text)\n",
        "print(\"Back Translated Text: \", back_translated_text)\n"
      ],
      "metadata": {
        "execution": {
          "iopub.status.busy": "2023-07-29T01:52:45.619902Z",
          "iopub.execute_input": "2023-07-29T01:52:45.620628Z",
          "iopub.status.idle": "2023-07-29T01:52:48.222717Z",
          "shell.execute_reply.started": "2023-07-29T01:52:45.620587Z",
          "shell.execute_reply": "2023-07-29T01:52:48.221717Z"
        },
        "trusted": true,
        "id": "1QRVuUNT7jdH",
        "outputId": "b20b4d35-f678-447d-eb6d-16d300c227d3"
      },
      "execution_count": null,
      "outputs": [
        {
          "name": "stdout",
          "text": "Original Text:  من النادر ان يعجبني الفلم اكثر من الروايه \nBack Translated Text:  نادرًا ما أحب الفيلم أكثر من الرواية.\n",
          "output_type": "stream"
        }
      ]
    },
    {
      "cell_type": "code",
      "source": [],
      "metadata": {
        "id": "T9ClTlCcZX_Q"
      },
      "execution_count": null,
      "outputs": []
    },
    {
      "cell_type": "markdown",
      "source": [
        "## Data Augmetation"
      ],
      "metadata": {
        "id": "12uZPPH57jdG"
      }
    },
    {
      "cell_type": "markdown",
      "source": [
        "**##########################################################################################**"
      ],
      "metadata": {
        "id": "FsSRSr9r7jdG"
      }
    },
    {
      "cell_type": "code",
      "source": [
        "import pandas as pd\n",
        "from tqdm import tqdm\n",
        "\n",
        "# Assuming your data is stored in a DataFrame called Data with columns 'txt' and 'sentiment'\n",
        "# Here 'txt' contains the text data, and 'sentiment' contains the labels (0 or 1)\n",
        "\n",
        "# Define the percentage of data to augment (20% in this case)\n",
        "augmentation_percent = 0.2\n",
        "\n",
        "# Separate the data based on labels (0 and 1)\n",
        "group_0_data = Data[Data['sentiment'] == 0]['txt']\n",
        "group_1_data = Data[Data['sentiment'] == 1]['txt']\n",
        "\n",
        "# Determine the number of samples to augment from each group\n",
        "num_samples_to_augment_group_0 = int(len(group_0_data) * augmentation_percent)\n",
        "num_samples_to_augment_group_1 = int(len(group_1_data) * augmentation_percent)\n",
        "\n",
        "# Augment data from group 0\n",
        "augmented_group_0_data = []\n",
        "for text in tqdm(group_0_data.sample(num_samples_to_augment_group_0), desc='Augmenting group 0...'):\n",
        "    augmented_text = back_translation(text)\n",
        "    augmented_group_0_data.append(augmented_text)\n",
        "\n",
        "# Augment data from group 1\n",
        "augmented_group_1_data = []\n",
        "for text in tqdm(group_1_data.sample(num_samples_to_augment_group_1), desc='Augmenting group 1...'):\n",
        "    augmented_text = back_translation(text)\n",
        "    augmented_group_1_data.append(augmented_text)\n",
        "\n",
        "# Concatenate the augmented data with the original data\n",
        "augmented_data = pd.DataFrame({\n",
        "    'txt': augmented_group_0_data + augmented_group_1_data,\n",
        "    'sentiment': [0] * len(augmented_group_0_data) + [1] * len(augmented_group_1_data)\n",
        "})\n",
        "\n",
        "# Concatenate the augmented data with the original data\n",
        "augmented_Data = pd.concat([Data, augmented_data], ignore_index=True)\n",
        "\n",
        "# Now you have a new DataFrame called 'augmented_Data' containing the original data\n",
        "# with about 20 percent of the data augmented using the 'back_translation' function.\n"
      ],
      "metadata": {
        "execution": {
          "iopub.status.busy": "2023-07-29T01:59:05.175708Z",
          "iopub.execute_input": "2023-07-29T01:59:05.176403Z",
          "iopub.status.idle": "2023-07-29T03:28:58.020979Z",
          "shell.execute_reply.started": "2023-07-29T01:59:05.176371Z",
          "shell.execute_reply": "2023-07-29T03:28:58.019031Z"
        },
        "jupyter": {
          "outputs_hidden": true
        },
        "trusted": true,
        "id": "Wbxq__MB7jdH"
      },
      "execution_count": null,
      "outputs": []
    },
    {
      "cell_type": "code",
      "source": [
        "augmented_group_0_data"
      ],
      "metadata": {
        "execution": {
          "iopub.status.busy": "2023-07-29T03:29:47.716082Z",
          "iopub.execute_input": "2023-07-29T03:29:47.716444Z",
          "iopub.status.idle": "2023-07-29T03:29:47.750117Z",
          "shell.execute_reply.started": "2023-07-29T03:29:47.716415Z",
          "shell.execute_reply": "2023-07-29T03:29:47.749211Z"
        },
        "collapsed": true,
        "jupyter": {
          "outputs_hidden": true
        },
        "trusted": true,
        "id": "9wLInhgm7jdI",
        "outputId": "cb29117b-3cf0-40da-bb0f-d2e5ad26383d"
      },
      "execution_count": null,
      "outputs": [
        {
          "execution_count": 41,
          "output_type": "execute_result",
          "data": {
            "text/plain": "['الاختيار الناجح للكتاب الأخير اختتم تحدي العام حاولت البحث عن عبقرية الرواية أجدها أبحث عنها بشكل جيد مفهومي عن العبقرية يجد الجنس والفحش مكانا لم تعد فيه معرفتي بالمجتمع السوداني الصالح الوحيد للكتاب',\n 'لكي يظل الكتاب ذا قيمة، يجب أن يكون قادرًا على إضافة حاجة للقارئ. يجب تذكر الكتاب بشكل عام. طول الكتاب خفيف. فوجئت أنه كتب 34 كتابًا. يقول: \"لا أعرف ما هو الكتاب الأخير. لقد فهمت قراره باحترام كبير. أحببت مقال عيد ميلادي طول زغروتا ووحشه\".',\n 'كتاب خفيف، قرأت الرحلة، أعجبتني أجزائه، أحب معظمها 1',\n 'كنت أتوقع حلقة مفقودة فيها حقائق رائعة وكلمات جميلة أثارت إعجابي',\n 'كتب الجزء الخلفي من الكتاب. إنها وظيفة عادية. أقول كتابًا عاديًا. هناك فكرة واضحة في النص.',\n 'لسوء الحظ، أنا عرضة للقصص الحزينة، خاصة لوضع النساء في موقف ضعف',\n \"Un gaz est constitué de molécules en agitation permonente. Les molécules sont disperssées et chacune peut parcourir une distance assez grande avant d'en rencontrer une autre : la vitesse moyenne des molécules est de quelques centaines de mètres par seconde (la vitesse moyenne des molécules de dioxygène et de diazote de l'air que nous respirons est de 500 m/s environ ). Après chaque choc ( dans les conditions usuelles, le nombre de chocs subis par une molécule d'un gaz pendant 1 seconde est de l'ordre de 10^8 à 10^9 ) les molécules changent de direction de façon imprévisible .\",\n \"Un gaz est constitué de molécules en agitation permonente. Les molécules sont disperssées et chacune peut parcourir une distance assez grande avant d'en rencontrer une autre : la vitesse moyenne des molécules est de quelques centaines de mètres par seconde (la vitesse moyenne des molécules de dioxygène et de diazote de l'air que nous respirons est de 500 m/s environ ). Après chaque choc ( dans les conditions usuelles, le nombre de chocs subis par une molécule d'un gaz pendant 1 seconde est de l'ordre de 10^8 à 10^9 ) les molécules changent de direction de façon imprévisible .\",\n \"Un gaz est constitué de molécules en agitation permonente. Les molécules sont disperssées et chacune peut parcourir une distance assez grande avant d'en rencontrer une autre : la vitesse moyenne des molécules est de quelques centaines de mètres par seconde (la vitesse moyenne des molécules de dioxygène et de diazote de l'air que nous respirons est de 500 m/s environ ). Après chaque choc ( dans les conditions usuelles, le nombre de chocs subis par une molécule d'un gaz pendant 1 seconde est de l'ordre de 10^8 à 10^9 ) les molécules changent de direction de façon imprévisible .\",\n 'أحب عمر طاهر والكتاب في البداية مضحك وواقعي ولكن أغلبه مبتذل في الأسلوب والموضوع',\n 'QUERY LENGTH LIMIT EXCEEDED. MAX ALLOWED QUERY : 500 CHARS',\n 'الكتب التي تحب حقًا حافة الموت.  الحظ يجعلهم سجناء قضبان الذاكرة. يكتب الكاتب الأدبي الجيد طرقًا للتخلص من الذكريات بخطوات أكثر إقناعًا للعقل. كتاب يريد أن ينسى',\n 'في الواقع، كانت مجرد محادثات. كان لديك الوقت الإضافي. أردت أن تعرف عن أحد الكتب المنشورة مؤخرًا، لذا تفضل.',\n 'يا أيها الذين تريدون أن  تعيشوا، تحملوا التفسيرات، الذاكرة المريضة لموت الآخرين، أحلامنا البريئة، الذاكرة المتبقية، لقد رأينا رام الله، الأصل، نحن ممنوعون من رؤية منازلنا، نريد الإنسان، ملاك، كتاب تاريخ لمذكرات إنسان، ذاكرة جماعية',\n 'QUERY LENGTH LIMIT EXCEEDED. MAX ALLOWED QUERY : 500 CHARS',\n 'يعتبر أفضل الكتب التقليدية التي تشبه إلى حد كبير ذاكرة الجسم. أعجبتني فعلا، القصة طبيعية وأخرت الوصف كثيرا. ابتلعتني كالمعتاد. اللغة جميلة والأوصاف أكثر جمالا. أعتقد أنها أعطت البطل قيمة',\n 'إنه كتاب ممل. أحب الجزء الذي أتحدث فيه عن الديمقراطية والدولة الدينية الأخرى. قرأت آخر 100 صفحة من الكتاب. في معظم الأحيان، يتعلق الأمر بالحديث. كما تعلمون، لا أريدك أن تفوت ذلك.',\n 'الاسلوب رائع استمتع بالرواية',\n 'لقد عذبت نفسي لإنهائها، ربما الترجمة هي السبب',\n 'QUERY LENGTH LIMIT EXCEEDED. MAX ALLOWED QUERY : 500 CHARS',\n 'QUERY LENGTH LIMIT EXCEEDED. MAX ALLOWED QUERY : 500 CHARS',\n 'QUERY LENGTH LIMIT EXCEEDED. MAX ALLOWED QUERY : 500 CHARS',\n 'لقد صدمت في النهاية',\n 'لم ينل إعجابي',\n 'حلمي يكرر ويمتد التفسير إلى درجة الملل. من الممكن الاحتفاظ بالمواد لفئة عمرية معينة، الإعدادية إلى المدرسة الثانوية. على سبيل المثال، أحببت تيجوا، والضوء، والاستجابة لغروب الشمس. أحب نهاية الغلاف وصورتها والجزء الأمامي والخلفي من الكتاب.',\n 'أعلم أن الكاتب يريد أن ينقل فكرة أو يريد أن ينقل فكرة بالكامل إلى القارئ العربي. من الأفضل ترجمة النصوص ووضعها بين أيدينا لكتابة قصة ورسائل ذات مغزى تعطي شعوراً بالملل',\n 'المألوف على الأكثر يظهر سحر التفاصيل التي يشتهر بها بهاء طاهر بالعديد من الجمل المباشرة المؤامرات السينمائية الجزء المنطقي هو كراهية القنصل لحربي الصعبة يتحول 180 درجة كانت الأسباب هي الظروف المحيطة ملخص القصة هو قراءة إبداعية لبهاء طاهر',\n 'QUERY LENGTH LIMIT EXCEEDED. MAX ALLOWED QUERY : 500 CHARS',\n 'ينتهي بك الأمر بقراءته وتجد أن حجم فوائدك شيء',\n 'توقعت أن يكون أفضل بكثير',\n 'كتاب مصري عميق  يجمع بين خفة الظل، يرسم واقع أحد العاملين في الشركة، سائق التاكسي',\n 'قرأتها لفترة من الوقت. تعجبني بساطته. أنا لا أحب الأسلوب السطحي. أنا لست كتومة ومرحة.',\n 'كتاب جميل، أجد شيئًا جديدًا لأتذكر قصص القرار الذي قرأته. مجرد إعادة قراءتها يثير الأمل والحماس. أوصي بقراءة الحقل',\n 'أعجبني فصل يتحدث عن موضوع معين جميل يعطي أمثلة وقصص. أعتقد أن لدي أفكار وردية وخطيرة، خاصة شخص لا يزال يضع قواعده. الحياة وأفكاره تناسبني تمامًا أنه ذكي جدًا. وجهة نظري أنصحك بقراءتها',\n 'سخيفه ؟',\n 'اعتقدت أنه كان أجمل.',\n 'نسيت الرواية، وأعدت قراءتها، ولا أطيق الانتظار لإعادة قراءتها.',\n 'قرأت الكتاب. لقد سمعت أن الكثير من الناس يعتنون بها. أدب فتح جديد. شعرت أن الناس متخلفون عقليًا. أرادوا أن يؤمنوا بالحاجة إلى الخلاص. أكثر ما أزعجني هو الحالة الغريبة المتمثلة في تجاهل حقيقة أن الكتاب قد سرق. شخصية نادي مكافحة الشغب',\n \"Un gaz est constitué de molécules en agitation permonente. Les molécules sont disperssées et chacune peut parcourir une distance assez grande avant d'en rencontrer une autre : la vitesse moyenne des molécules est de quelques centaines de mètres par seconde (la vitesse moyenne des molécules de dioxygène et de diazote de l'air que nous respirons est de 500 m/s environ ). Après chaque choc ( dans les conditions usuelles, le nombre de chocs subis par une molécule d'un gaz pendant 1 seconde est de l'ordre de 10^8 à 10^9 ) les molécules changent de direction de façon imprévisible .\",\n 'سميت من قبل أختي الصغيرة، وسخرت من الاسم لأول مرة. كنت أتوقع أن تحتوي على قصة حب مراهقة تحكي عن حب مأساوي يبهرني. تصف التفاصيل التفاصيل. كانت التفاصيل هي الحد الزمني المحدد. الطريقة التي تقول بها ذلك تنطوي على الكثير من الإثارة. التشويق يصرف انتباهي كثيرًا عن شخصياتها بقدر ما يؤكد نهايتها. قول درويش   الحب كذبنا الصادق',\n 'الرواية محبوبة من الروائي بادبه غازي قادر، روايته أجمل بكثير',\n 'كتاب التطرف',\n 'أنا أحب صياحه',\n \"Un gaz est constitué de molécules en agitation permonente. Les molécules sont disperssées et chacune peut parcourir une distance assez grande avant d'en rencontrer une autre : la vitesse moyenne des molécules est de quelques centaines de mètres par seconde (la vitesse moyenne des molécules de dioxygène et de diazote de l'air que nous respirons est de 500 m/s environ ). Après chaque choc ( dans les conditions usuelles, le nombre de chocs subis par une molécule d'un gaz pendant 1 seconde est de l'ordre de 10^8 à 10^9 ) les molécules changent de direction de façon imprévisible .\",\n 'تعلمت أن أستمع إلى نصيحة شخص يقول: \"الكتاب تحفة أدبية، والكثير من القمامة والأوساخ تجده رواية\".',\n 'تم تجاوز حد طول الاستعلام. الحد الأقصى المسموح به للاستعلام: تم تجاوز حد طول الاستعلام 500 حرف. الحد الأقصى المسموح به للاستعلام: تم تجاوز حد طول الاستعلام 500 حرف. الحد الأقصى المسموح به للاستعلام: 500 حرف',\n 'ليس هناك شك في أن الكتاب ممتع للغاية. أحب القصص التي تخيل الكاتب علاقته ببيل ومواقفه. أعجبتني المقالات. سخر الكاتب من موضوعات مجتمعاتنا. الحقيقة هي أنه من المفترض أن يزرع الكتاب ابتسامة',\n 'الكتاب جيد له. إنها لعبة للرجال. اسمه هيثم في تامر وشوقية',\n \"Un gaz est constitué de molécules en agitation permonente. Les molécules sont disperssées et chacune peut parcourir une distance assez grande avant d'en rencontrer une autre : la vitesse moyenne des molécules est de quelques centaines de mètres par seconde (la vitesse moyenne des molécules de dioxygène et de diazote de l'air que nous respirons est de 500 m/s environ ). Après chaque choc ( dans les conditions usuelles, le nombre de chocs subis par une molécule d'un gaz pendant 1 seconde est de l'ordre de 10^8 à 10^9 ) les molécules changent de direction de façon imprévisible .\",\n 'QUERY LENGTH LIMIT EXCEEDED. MAX ALLOWED QUERY : 500 CHARS',\n 'الرواية جيدة نوعا ما ووصف منفلوتي لكنه ناقص بامتصاص الوصف وملله',\n 'أنا أحب الرواية بشكل عام. فاجأني نجم الشخصية البطلة حقًا. ولدت الشخصية المشوشة عجوزًا وخسرت لدرجة أنها تريد حقًا أن تعرف طوال الوقت. أعتقد أنها تعرف النهاية.',\n 'كيف يمكن للناس أن يكونوا بهذه القوة\\xa0؟  أحب أن أفتخر بديني',\n 'يناسب الأسود كتاب الخيال للكاتبة أحلام مستغانمي. آخر واحد حاولت مزج الأحلام مع الواقع. لسوء الحظ، تعرض للإهانة من أغلى ما تملكه الفتاة الأوراسية. الشرف. نتمنى ان يسبح الكاتب بعيدا في بحر خياله. شتائم خيالية',\n 'لا أستطيع إكمالها مملة بشكل طبيعي، لسوء الحظ، فإن التجربة الأولى لقراءة رواية للدكتور رضوي عاشور لا تزال سيئة للغاية بالنسبة لي',\n 'MYMEMORY WARNING: YOU USED ALL AVAILABLE FREE TRANSLATIONS FOR TODAY. NEXT AVAILABLE IN  06 HOURS 58 MINUTES 15 SECONDS VISIT HTTPS://MYMEMORY.TRANSLATED.NET/DOC/USAGELIMITS.PHP TO TRANSLATE MORE',\n 'MYMEMORY WARNING: YOU USED ALL AVAILABLE FREE TRANSLATIONS FOR TODAY. NEXT AVAILABLE IN  06 HOURS 58 MINUTES 13 SECONDS VISIT HTTPS://MYMEMORY.TRANSLATED.NET/DOC/USAGELIMITS.PHP TO TRANSLATE MORE',\n 'MYMEMORY WARNING: YOU USED ALL AVAILABLE FREE TRANSLATIONS FOR TODAY. NEXT AVAILABLE IN  06 HOURS 58 MINUTES 11 SECONDS VISIT HTTPS://MYMEMORY.TRANSLATED.NET/DOC/USAGELIMITS.PHP TO TRANSLATE MORE',\n 'MYMEMORY WARNING: YOU USED ALL AVAILABLE FREE TRANSLATIONS FOR TODAY. NEXT AVAILABLE IN  06 HOURS 58 MINUTES 09 SECONDS VISIT HTTPS://MYMEMORY.TRANSLATED.NET/DOC/USAGELIMITS.PHP TO TRANSLATE MORE',\n 'MYMEMORY WARNING: YOU USED ALL AVAILABLE FREE TRANSLATIONS FOR TODAY. NEXT AVAILABLE IN  06 HOURS 58 MINUTES 08 SECONDS VISIT HTTPS://MYMEMORY.TRANSLATED.NET/DOC/USAGELIMITS.PHP TO TRANSLATE MORE',\n 'MYMEMORY WARNING: YOU USED ALL AVAILABLE FREE TRANSLATIONS FOR TODAY. NEXT AVAILABLE IN  06 HOURS 58 MINUTES 06 SECONDS VISIT HTTPS://MYMEMORY.TRANSLATED.NET/DOC/USAGELIMITS.PHP TO TRANSLATE MORE',\n 'MYMEMORY WARNING: YOU USED ALL AVAILABLE FREE TRANSLATIONS FOR TODAY. NEXT AVAILABLE IN  06 HOURS 58 MINUTES 04 SECONDS VISIT HTTPS://MYMEMORY.TRANSLATED.NET/DOC/USAGELIMITS.PHP TO TRANSLATE MORE',\n 'MYMEMORY WARNING: YOU USED ALL AVAILABLE FREE TRANSLATIONS FOR TODAY. NEXT AVAILABLE IN  06 HOURS 58 MINUTES 02 SECONDS VISIT HTTPS://MYMEMORY.TRANSLATED.NET/DOC/USAGELIMITS.PHP TO TRANSLATE MORE',\n 'MYMEMORY WARNING: YOU USED ALL AVAILABLE FREE TRANSLATIONS FOR TODAY. NEXT AVAILABLE IN  06 HOURS 58 MINUTES 00 SECONDS VISIT HTTPS://MYMEMORY.TRANSLATED.NET/DOC/USAGELIMITS.PHP TO TRANSLATE MORE',\n 'MYMEMORY WARNING: YOU USED ALL AVAILABLE FREE TRANSLATIONS FOR TODAY. NEXT AVAILABLE IN  06 HOURS 57 MINUTES 59 SECONDS VISIT HTTPS://MYMEMORY.TRANSLATED.NET/DOC/USAGELIMITS.PHP TO TRANSLATE MORE',\n 'MYMEMORY WARNING: YOU USED ALL AVAILABLE FREE TRANSLATIONS FOR TODAY. NEXT AVAILABLE IN  06 HOURS 57 MINUTES 57 SECONDS VISIT HTTPS://MYMEMORY.TRANSLATED.NET/DOC/USAGELIMITS.PHP TO TRANSLATE MORE',\n 'MYMEMORY WARNING: YOU USED ALL AVAILABLE FREE TRANSLATIONS FOR TODAY. NEXT AVAILABLE IN  06 HOURS 57 MINUTES 55 SECONDS VISIT HTTPS://MYMEMORY.TRANSLATED.NET/DOC/USAGELIMITS.PHP TO TRANSLATE MORE',\n 'MYMEMORY WARNING: YOU USED ALL AVAILABLE FREE TRANSLATIONS FOR TODAY. NEXT AVAILABLE IN  06 HOURS 57 MINUTES 53 SECONDS VISIT HTTPS://MYMEMORY.TRANSLATED.NET/DOC/USAGELIMITS.PHP TO TRANSLATE MORE',\n 'MYMEMORY WARNING: YOU USED ALL AVAILABLE FREE TRANSLATIONS FOR TODAY. NEXT AVAILABLE IN  06 HOURS 57 MINUTES 52 SECONDS VISIT HTTPS://MYMEMORY.TRANSLATED.NET/DOC/USAGELIMITS.PHP TO TRANSLATE MORE',\n 'MYMEMORY WARNING: YOU USED ALL AVAILABLE FREE TRANSLATIONS FOR TODAY. NEXT AVAILABLE IN  06 HOURS 57 MINUTES 50 SECONDS VISIT HTTPS://MYMEMORY.TRANSLATED.NET/DOC/USAGELIMITS.PHP TO TRANSLATE MORE',\n 'MYMEMORY WARNING: YOU USED ALL AVAILABLE FREE TRANSLATIONS FOR TODAY. NEXT AVAILABLE IN  06 HOURS 57 MINUTES 48 SECONDS VISIT HTTPS://MYMEMORY.TRANSLATED.NET/DOC/USAGELIMITS.PHP TO TRANSLATE MORE',\n 'MYMEMORY WARNING: YOU USED ALL AVAILABLE FREE TRANSLATIONS FOR TODAY. NEXT AVAILABLE IN  06 HOURS 57 MINUTES 46 SECONDS VISIT HTTPS://MYMEMORY.TRANSLATED.NET/DOC/USAGELIMITS.PHP TO TRANSLATE MORE',\n 'MYMEMORY WARNING: YOU USED ALL AVAILABLE FREE TRANSLATIONS FOR TODAY. NEXT AVAILABLE IN  06 HOURS 57 MINUTES 44 SECONDS VISIT HTTPS://MYMEMORY.TRANSLATED.NET/DOC/USAGELIMITS.PHP TO TRANSLATE MORE',\n 'MYMEMORY WARNING: YOU USED ALL AVAILABLE FREE TRANSLATIONS FOR TODAY. NEXT AVAILABLE IN  06 HOURS 57 MINUTES 43 SECONDS VISIT HTTPS://MYMEMORY.TRANSLATED.NET/DOC/USAGELIMITS.PHP TO TRANSLATE MORE',\n 'MYMEMORY WARNING: YOU USED ALL AVAILABLE FREE TRANSLATIONS FOR TODAY. NEXT AVAILABLE IN  06 HOURS 57 MINUTES 41 SECONDS VISIT HTTPS://MYMEMORY.TRANSLATED.NET/DOC/USAGELIMITS.PHP TO TRANSLATE MORE',\n 'MYMEMORY WARNING: YOU USED ALL AVAILABLE FREE TRANSLATIONS FOR TODAY. NEXT AVAILABLE IN  06 HOURS 57 MINUTES 39 SECONDS VISIT HTTPS://MYMEMORY.TRANSLATED.NET/DOC/USAGELIMITS.PHP TO TRANSLATE MORE',\n 'MYMEMORY WARNING: YOU USED ALL AVAILABLE FREE TRANSLATIONS FOR TODAY. NEXT AVAILABLE IN  06 HOURS 57 MINUTES 37 SECONDS VISIT HTTPS://MYMEMORY.TRANSLATED.NET/DOC/USAGELIMITS.PHP TO TRANSLATE MORE',\n 'MYMEMORY WARNING: YOU USED ALL AVAILABLE FREE TRANSLATIONS FOR TODAY. NEXT AVAILABLE IN  06 HOURS 57 MINUTES 35 SECONDS VISIT HTTPS://MYMEMORY.TRANSLATED.NET/DOC/USAGELIMITS.PHP TO TRANSLATE MORE',\n 'MYMEMORY WARNING: YOU USED ALL AVAILABLE FREE TRANSLATIONS FOR TODAY. NEXT AVAILABLE IN  06 HOURS 57 MINUTES 34 SECONDS VISIT HTTPS://MYMEMORY.TRANSLATED.NET/DOC/USAGELIMITS.PHP TO TRANSLATE MORE',\n 'MYMEMORY WARNING: YOU USED ALL AVAILABLE FREE TRANSLATIONS FOR TODAY. NEXT AVAILABLE IN  06 HOURS 57 MINUTES 32 SECONDS VISIT HTTPS://MYMEMORY.TRANSLATED.NET/DOC/USAGELIMITS.PHP TO TRANSLATE MORE',\n 'MYMEMORY WARNING: YOU USED ALL AVAILABLE FREE TRANSLATIONS FOR TODAY. NEXT AVAILABLE IN  06 HOURS 57 MINUTES 30 SECONDS VISIT HTTPS://MYMEMORY.TRANSLATED.NET/DOC/USAGELIMITS.PHP TO TRANSLATE MORE',\n 'MYMEMORY WARNING: YOU USED ALL AVAILABLE FREE TRANSLATIONS FOR TODAY. NEXT AVAILABLE IN  06 HOURS 57 MINUTES 28 SECONDS VISIT HTTPS://MYMEMORY.TRANSLATED.NET/DOC/USAGELIMITS.PHP TO TRANSLATE MORE',\n 'MYMEMORY WARNING: YOU USED ALL AVAILABLE FREE TRANSLATIONS FOR TODAY. NEXT AVAILABLE IN  06 HOURS 57 MINUTES 27 SECONDS VISIT HTTPS://MYMEMORY.TRANSLATED.NET/DOC/USAGELIMITS.PHP TO TRANSLATE MORE',\n 'MYMEMORY WARNING: YOU USED ALL AVAILABLE FREE TRANSLATIONS FOR TODAY. NEXT AVAILABLE IN  06 HOURS 57 MINUTES 25 SECONDS VISIT HTTPS://MYMEMORY.TRANSLATED.NET/DOC/USAGELIMITS.PHP TO TRANSLATE MORE',\n 'MYMEMORY WARNING: YOU USED ALL AVAILABLE FREE TRANSLATIONS FOR TODAY. NEXT AVAILABLE IN  06 HOURS 57 MINUTES 23 SECONDS VISIT HTTPS://MYMEMORY.TRANSLATED.NET/DOC/USAGELIMITS.PHP TO TRANSLATE MORE',\n 'MYMEMORY WARNING: YOU USED ALL AVAILABLE FREE TRANSLATIONS FOR TODAY. NEXT AVAILABLE IN  06 HOURS 57 MINUTES 20 SECONDS VISIT HTTPS://MYMEMORY.TRANSLATED.NET/DOC/USAGELIMITS.PHP TO TRANSLATE MORE',\n 'MYMEMORY WARNING: YOU USED ALL AVAILABLE FREE TRANSLATIONS FOR TODAY. NEXT AVAILABLE IN  06 HOURS 57 MINUTES 19 SECONDS VISIT HTTPS://MYMEMORY.TRANSLATED.NET/DOC/USAGELIMITS.PHP TO TRANSLATE MORE',\n 'MYMEMORY WARNING: YOU USED ALL AVAILABLE FREE TRANSLATIONS FOR TODAY. NEXT AVAILABLE IN  06 HOURS 57 MINUTES 17 SECONDS VISIT HTTPS://MYMEMORY.TRANSLATED.NET/DOC/USAGELIMITS.PHP TO TRANSLATE MORE',\n 'MYMEMORY WARNING: YOU USED ALL AVAILABLE FREE TRANSLATIONS FOR TODAY. NEXT AVAILABLE IN  06 HOURS 57 MINUTES 15 SECONDS VISIT HTTPS://MYMEMORY.TRANSLATED.NET/DOC/USAGELIMITS.PHP TO TRANSLATE MORE',\n 'MYMEMORY WARNING: YOU USED ALL AVAILABLE FREE TRANSLATIONS FOR TODAY. NEXT AVAILABLE IN  06 HOURS 57 MINUTES 13 SECONDS VISIT HTTPS://MYMEMORY.TRANSLATED.NET/DOC/USAGELIMITS.PHP TO TRANSLATE MORE',\n 'MYMEMORY WARNING: YOU USED ALL AVAILABLE FREE TRANSLATIONS FOR TODAY. NEXT AVAILABLE IN  06 HOURS 57 MINUTES 11 SECONDS VISIT HTTPS://MYMEMORY.TRANSLATED.NET/DOC/USAGELIMITS.PHP TO TRANSLATE MORE',\n 'MYMEMORY WARNING: YOU USED ALL AVAILABLE FREE TRANSLATIONS FOR TODAY. NEXT AVAILABLE IN  06 HOURS 57 MINUTES 10 SECONDS VISIT HTTPS://MYMEMORY.TRANSLATED.NET/DOC/USAGELIMITS.PHP TO TRANSLATE MORE',\n 'MYMEMORY WARNING: YOU USED ALL AVAILABLE FREE TRANSLATIONS FOR TODAY. NEXT AVAILABLE IN  06 HOURS 57 MINUTES 08 SECONDS VISIT HTTPS://MYMEMORY.TRANSLATED.NET/DOC/USAGELIMITS.PHP TO TRANSLATE MORE',\n 'MYMEMORY WARNING: YOU USED ALL AVAILABLE FREE TRANSLATIONS FOR TODAY. NEXT AVAILABLE IN  06 HOURS 57 MINUTES 06 SECONDS VISIT HTTPS://MYMEMORY.TRANSLATED.NET/DOC/USAGELIMITS.PHP TO TRANSLATE MORE',\n 'MYMEMORY WARNING: YOU USED ALL AVAILABLE FREE TRANSLATIONS FOR TODAY. NEXT AVAILABLE IN  06 HOURS 57 MINUTES 04 SECONDS VISIT HTTPS://MYMEMORY.TRANSLATED.NET/DOC/USAGELIMITS.PHP TO TRANSLATE MORE',\n 'MYMEMORY WARNING: YOU USED ALL AVAILABLE FREE TRANSLATIONS FOR TODAY. NEXT AVAILABLE IN  06 HOURS 57 MINUTES 02 SECONDS VISIT HTTPS://MYMEMORY.TRANSLATED.NET/DOC/USAGELIMITS.PHP TO TRANSLATE MORE',\n 'MYMEMORY WARNING: YOU USED ALL AVAILABLE FREE TRANSLATIONS FOR TODAY. NEXT AVAILABLE IN  06 HOURS 57 MINUTES 00 SECONDS VISIT HTTPS://MYMEMORY.TRANSLATED.NET/DOC/USAGELIMITS.PHP TO TRANSLATE MORE',\n 'MYMEMORY WARNING: YOU USED ALL AVAILABLE FREE TRANSLATIONS FOR TODAY. NEXT AVAILABLE IN  06 HOURS 56 MINUTES 58 SECONDS VISIT HTTPS://MYMEMORY.TRANSLATED.NET/DOC/USAGELIMITS.PHP TO TRANSLATE MORE',\n 'MYMEMORY WARNING: YOU USED ALL AVAILABLE FREE TRANSLATIONS FOR TODAY. NEXT AVAILABLE IN  06 HOURS 56 MINUTES 56 SECONDS VISIT HTTPS://MYMEMORY.TRANSLATED.NET/DOC/USAGELIMITS.PHP TO TRANSLATE MORE',\n 'MYMEMORY WARNING: YOU USED ALL AVAILABLE FREE TRANSLATIONS FOR TODAY. NEXT AVAILABLE IN  06 HOURS 56 MINUTES 55 SECONDS VISIT HTTPS://MYMEMORY.TRANSLATED.NET/DOC/USAGELIMITS.PHP TO TRANSLATE MORE',\n 'MYMEMORY WARNING: YOU USED ALL AVAILABLE FREE TRANSLATIONS FOR TODAY. NEXT AVAILABLE IN  06 HOURS 56 MINUTES 53 SECONDS VISIT HTTPS://MYMEMORY.TRANSLATED.NET/DOC/USAGELIMITS.PHP TO TRANSLATE MORE',\n 'MYMEMORY WARNING: YOU USED ALL AVAILABLE FREE TRANSLATIONS FOR TODAY. NEXT AVAILABLE IN  06 HOURS 56 MINUTES 51 SECONDS VISIT HTTPS://MYMEMORY.TRANSLATED.NET/DOC/USAGELIMITS.PHP TO TRANSLATE MORE',\n 'MYMEMORY WARNING: YOU USED ALL AVAILABLE FREE TRANSLATIONS FOR TODAY. NEXT AVAILABLE IN  06 HOURS 56 MINUTES 49 SECONDS VISIT HTTPS://MYMEMORY.TRANSLATED.NET/DOC/USAGELIMITS.PHP TO TRANSLATE MORE',\n 'MYMEMORY WARNING: YOU USED ALL AVAILABLE FREE TRANSLATIONS FOR TODAY. NEXT AVAILABLE IN  06 HOURS 56 MINUTES 48 SECONDS VISIT HTTPS://MYMEMORY.TRANSLATED.NET/DOC/USAGELIMITS.PHP TO TRANSLATE MORE',\n 'MYMEMORY WARNING: YOU USED ALL AVAILABLE FREE TRANSLATIONS FOR TODAY. NEXT AVAILABLE IN  06 HOURS 56 MINUTES 46 SECONDS VISIT HTTPS://MYMEMORY.TRANSLATED.NET/DOC/USAGELIMITS.PHP TO TRANSLATE MORE',\n 'MYMEMORY WARNING: YOU USED ALL AVAILABLE FREE TRANSLATIONS FOR TODAY. NEXT AVAILABLE IN  06 HOURS 56 MINUTES 44 SECONDS VISIT HTTPS://MYMEMORY.TRANSLATED.NET/DOC/USAGELIMITS.PHP TO TRANSLATE MORE',\n 'MYMEMORY WARNING: YOU USED ALL AVAILABLE FREE TRANSLATIONS FOR TODAY. NEXT AVAILABLE IN  06 HOURS 56 MINUTES 42 SECONDS VISIT HTTPS://MYMEMORY.TRANSLATED.NET/DOC/USAGELIMITS.PHP TO TRANSLATE MORE',\n 'MYMEMORY WARNING: YOU USED ALL AVAILABLE FREE TRANSLATIONS FOR TODAY. NEXT AVAILABLE IN  06 HOURS 56 MINUTES 40 SECONDS VISIT HTTPS://MYMEMORY.TRANSLATED.NET/DOC/USAGELIMITS.PHP TO TRANSLATE MORE',\n 'MYMEMORY WARNING: YOU USED ALL AVAILABLE FREE TRANSLATIONS FOR TODAY. NEXT AVAILABLE IN  06 HOURS 56 MINUTES 39 SECONDS VISIT HTTPS://MYMEMORY.TRANSLATED.NET/DOC/USAGELIMITS.PHP TO TRANSLATE MORE',\n 'MYMEMORY WARNING: YOU USED ALL AVAILABLE FREE TRANSLATIONS FOR TODAY. NEXT AVAILABLE IN  06 HOURS 56 MINUTES 37 SECONDS VISIT HTTPS://MYMEMORY.TRANSLATED.NET/DOC/USAGELIMITS.PHP TO TRANSLATE MORE',\n 'MYMEMORY WARNING: YOU USED ALL AVAILABLE FREE TRANSLATIONS FOR TODAY. NEXT AVAILABLE IN  06 HOURS 56 MINUTES 35 SECONDS VISIT HTTPS://MYMEMORY.TRANSLATED.NET/DOC/USAGELIMITS.PHP TO TRANSLATE MORE',\n 'MYMEMORY WARNING: YOU USED ALL AVAILABLE FREE TRANSLATIONS FOR TODAY. NEXT AVAILABLE IN  06 HOURS 56 MINUTES 33 SECONDS VISIT HTTPS://MYMEMORY.TRANSLATED.NET/DOC/USAGELIMITS.PHP TO TRANSLATE MORE',\n 'MYMEMORY WARNING: YOU USED ALL AVAILABLE FREE TRANSLATIONS FOR TODAY. NEXT AVAILABLE IN  06 HOURS 56 MINUTES 30 SECONDS VISIT HTTPS://MYMEMORY.TRANSLATED.NET/DOC/USAGELIMITS.PHP TO TRANSLATE MORE',\n 'MYMEMORY WARNING: YOU USED ALL AVAILABLE FREE TRANSLATIONS FOR TODAY. NEXT AVAILABLE IN  06 HOURS 56 MINUTES 28 SECONDS VISIT HTTPS://MYMEMORY.TRANSLATED.NET/DOC/USAGELIMITS.PHP TO TRANSLATE MORE',\n 'MYMEMORY WARNING: YOU USED ALL AVAILABLE FREE TRANSLATIONS FOR TODAY. NEXT AVAILABLE IN  06 HOURS 56 MINUTES 26 SECONDS VISIT HTTPS://MYMEMORY.TRANSLATED.NET/DOC/USAGELIMITS.PHP TO TRANSLATE MORE',\n 'MYMEMORY WARNING: YOU USED ALL AVAILABLE FREE TRANSLATIONS FOR TODAY. NEXT AVAILABLE IN  06 HOURS 56 MINUTES 24 SECONDS VISIT HTTPS://MYMEMORY.TRANSLATED.NET/DOC/USAGELIMITS.PHP TO TRANSLATE MORE',\n 'MYMEMORY WARNING: YOU USED ALL AVAILABLE FREE TRANSLATIONS FOR TODAY. NEXT AVAILABLE IN  06 HOURS 56 MINUTES 22 SECONDS VISIT HTTPS://MYMEMORY.TRANSLATED.NET/DOC/USAGELIMITS.PHP TO TRANSLATE MORE',\n 'MYMEMORY WARNING: YOU USED ALL AVAILABLE FREE TRANSLATIONS FOR TODAY. NEXT AVAILABLE IN  06 HOURS 56 MINUTES 21 SECONDS VISIT HTTPS://MYMEMORY.TRANSLATED.NET/DOC/USAGELIMITS.PHP TO TRANSLATE MORE',\n 'MYMEMORY WARNING: YOU USED ALL AVAILABLE FREE TRANSLATIONS FOR TODAY. NEXT AVAILABLE IN  06 HOURS 56 MINUTES 19 SECONDS VISIT HTTPS://MYMEMORY.TRANSLATED.NET/DOC/USAGELIMITS.PHP TO TRANSLATE MORE',\n 'MYMEMORY WARNING: YOU USED ALL AVAILABLE FREE TRANSLATIONS FOR TODAY. NEXT AVAILABLE IN  06 HOURS 56 MINUTES 17 SECONDS VISIT HTTPS://MYMEMORY.TRANSLATED.NET/DOC/USAGELIMITS.PHP TO TRANSLATE MORE',\n 'MYMEMORY WARNING: YOU USED ALL AVAILABLE FREE TRANSLATIONS FOR TODAY. NEXT AVAILABLE IN  06 HOURS 56 MINUTES 15 SECONDS VISIT HTTPS://MYMEMORY.TRANSLATED.NET/DOC/USAGELIMITS.PHP TO TRANSLATE MORE',\n 'MYMEMORY WARNING: YOU USED ALL AVAILABLE FREE TRANSLATIONS FOR TODAY. NEXT AVAILABLE IN  06 HOURS 56 MINUTES 14 SECONDS VISIT HTTPS://MYMEMORY.TRANSLATED.NET/DOC/USAGELIMITS.PHP TO TRANSLATE MORE',\n 'MYMEMORY WARNING: YOU USED ALL AVAILABLE FREE TRANSLATIONS FOR TODAY. NEXT AVAILABLE IN  06 HOURS 56 MINUTES 12 SECONDS VISIT HTTPS://MYMEMORY.TRANSLATED.NET/DOC/USAGELIMITS.PHP TO TRANSLATE MORE',\n 'MYMEMORY WARNING: YOU USED ALL AVAILABLE FREE TRANSLATIONS FOR TODAY. NEXT AVAILABLE IN  06 HOURS 56 MINUTES 10 SECONDS VISIT HTTPS://MYMEMORY.TRANSLATED.NET/DOC/USAGELIMITS.PHP TO TRANSLATE MORE',\n 'MYMEMORY WARNING: YOU USED ALL AVAILABLE FREE TRANSLATIONS FOR TODAY. NEXT AVAILABLE IN  06 HOURS 56 MINUTES 08 SECONDS VISIT HTTPS://MYMEMORY.TRANSLATED.NET/DOC/USAGELIMITS.PHP TO TRANSLATE MORE',\n 'MYMEMORY WARNING: YOU USED ALL AVAILABLE FREE TRANSLATIONS FOR TODAY. NEXT AVAILABLE IN  06 HOURS 56 MINUTES 06 SECONDS VISIT HTTPS://MYMEMORY.TRANSLATED.NET/DOC/USAGELIMITS.PHP TO TRANSLATE MORE',\n 'MYMEMORY WARNING: YOU USED ALL AVAILABLE FREE TRANSLATIONS FOR TODAY. NEXT AVAILABLE IN  06 HOURS 56 MINUTES 05 SECONDS VISIT HTTPS://MYMEMORY.TRANSLATED.NET/DOC/USAGELIMITS.PHP TO TRANSLATE MORE',\n 'MYMEMORY WARNING: YOU USED ALL AVAILABLE FREE TRANSLATIONS FOR TODAY. NEXT AVAILABLE IN  06 HOURS 56 MINUTES 03 SECONDS VISIT HTTPS://MYMEMORY.TRANSLATED.NET/DOC/USAGELIMITS.PHP TO TRANSLATE MORE',\n 'MYMEMORY WARNING: YOU USED ALL AVAILABLE FREE TRANSLATIONS FOR TODAY. NEXT AVAILABLE IN  06 HOURS 56 MINUTES 01 SECONDS VISIT HTTPS://MYMEMORY.TRANSLATED.NET/DOC/USAGELIMITS.PHP TO TRANSLATE MORE',\n 'MYMEMORY WARNING: YOU USED ALL AVAILABLE FREE TRANSLATIONS FOR TODAY. NEXT AVAILABLE IN  06 HOURS 55 MINUTES 59 SECONDS VISIT HTTPS://MYMEMORY.TRANSLATED.NET/DOC/USAGELIMITS.PHP TO TRANSLATE MORE',\n 'MYMEMORY WARNING: YOU USED ALL AVAILABLE FREE TRANSLATIONS FOR TODAY. NEXT AVAILABLE IN  06 HOURS 55 MINUTES 57 SECONDS VISIT HTTPS://MYMEMORY.TRANSLATED.NET/DOC/USAGELIMITS.PHP TO TRANSLATE MORE',\n 'MYMEMORY WARNING: YOU USED ALL AVAILABLE FREE TRANSLATIONS FOR TODAY. NEXT AVAILABLE IN  06 HOURS 55 MINUTES 56 SECONDS VISIT HTTPS://MYMEMORY.TRANSLATED.NET/DOC/USAGELIMITS.PHP TO TRANSLATE MORE',\n 'MYMEMORY WARNING: YOU USED ALL AVAILABLE FREE TRANSLATIONS FOR TODAY. NEXT AVAILABLE IN  06 HOURS 55 MINUTES 53 SECONDS VISIT HTTPS://MYMEMORY.TRANSLATED.NET/DOC/USAGELIMITS.PHP TO TRANSLATE MORE',\n 'MYMEMORY WARNING: YOU USED ALL AVAILABLE FREE TRANSLATIONS FOR TODAY. NEXT AVAILABLE IN  06 HOURS 55 MINUTES 51 SECONDS VISIT HTTPS://MYMEMORY.TRANSLATED.NET/DOC/USAGELIMITS.PHP TO TRANSLATE MORE',\n 'MYMEMORY WARNING: YOU USED ALL AVAILABLE FREE TRANSLATIONS FOR TODAY. NEXT AVAILABLE IN  06 HOURS 55 MINUTES 49 SECONDS VISIT HTTPS://MYMEMORY.TRANSLATED.NET/DOC/USAGELIMITS.PHP TO TRANSLATE MORE',\n 'MYMEMORY WARNING: YOU USED ALL AVAILABLE FREE TRANSLATIONS FOR TODAY. NEXT AVAILABLE IN  06 HOURS 55 MINUTES 48 SECONDS VISIT HTTPS://MYMEMORY.TRANSLATED.NET/DOC/USAGELIMITS.PHP TO TRANSLATE MORE',\n 'MYMEMORY WARNING: YOU USED ALL AVAILABLE FREE TRANSLATIONS FOR TODAY. NEXT AVAILABLE IN  06 HOURS 55 MINUTES 46 SECONDS VISIT HTTPS://MYMEMORY.TRANSLATED.NET/DOC/USAGELIMITS.PHP TO TRANSLATE MORE',\n 'MYMEMORY WARNING: YOU USED ALL AVAILABLE FREE TRANSLATIONS FOR TODAY. NEXT AVAILABLE IN  06 HOURS 55 MINUTES 44 SECONDS VISIT HTTPS://MYMEMORY.TRANSLATED.NET/DOC/USAGELIMITS.PHP TO TRANSLATE MORE',\n 'MYMEMORY WARNING: YOU USED ALL AVAILABLE FREE TRANSLATIONS FOR TODAY. NEXT AVAILABLE IN  06 HOURS 55 MINUTES 42 SECONDS VISIT HTTPS://MYMEMORY.TRANSLATED.NET/DOC/USAGELIMITS.PHP TO TRANSLATE MORE',\n 'MYMEMORY WARNING: YOU USED ALL AVAILABLE FREE TRANSLATIONS FOR TODAY. NEXT AVAILABLE IN  06 HOURS 55 MINUTES 41 SECONDS VISIT HTTPS://MYMEMORY.TRANSLATED.NET/DOC/USAGELIMITS.PHP TO TRANSLATE MORE',\n 'MYMEMORY WARNING: YOU USED ALL AVAILABLE FREE TRANSLATIONS FOR TODAY. NEXT AVAILABLE IN  06 HOURS 55 MINUTES 39 SECONDS VISIT HTTPS://MYMEMORY.TRANSLATED.NET/DOC/USAGELIMITS.PHP TO TRANSLATE MORE',\n 'MYMEMORY WARNING: YOU USED ALL AVAILABLE FREE TRANSLATIONS FOR TODAY. NEXT AVAILABLE IN  06 HOURS 55 MINUTES 37 SECONDS VISIT HTTPS://MYMEMORY.TRANSLATED.NET/DOC/USAGELIMITS.PHP TO TRANSLATE MORE',\n 'MYMEMORY WARNING: YOU USED ALL AVAILABLE FREE TRANSLATIONS FOR TODAY. NEXT AVAILABLE IN  06 HOURS 55 MINUTES 35 SECONDS VISIT HTTPS://MYMEMORY.TRANSLATED.NET/DOC/USAGELIMITS.PHP TO TRANSLATE MORE',\n 'MYMEMORY WARNING: YOU USED ALL AVAILABLE FREE TRANSLATIONS FOR TODAY. NEXT AVAILABLE IN  06 HOURS 55 MINUTES 33 SECONDS VISIT HTTPS://MYMEMORY.TRANSLATED.NET/DOC/USAGELIMITS.PHP TO TRANSLATE MORE',\n 'MYMEMORY WARNING: YOU USED ALL AVAILABLE FREE TRANSLATIONS FOR TODAY. NEXT AVAILABLE IN  06 HOURS 55 MINUTES 32 SECONDS VISIT HTTPS://MYMEMORY.TRANSLATED.NET/DOC/USAGELIMITS.PHP TO TRANSLATE MORE',\n 'MYMEMORY WARNING: YOU USED ALL AVAILABLE FREE TRANSLATIONS FOR TODAY. NEXT AVAILABLE IN  06 HOURS 55 MINUTES 30 SECONDS VISIT HTTPS://MYMEMORY.TRANSLATED.NET/DOC/USAGELIMITS.PHP TO TRANSLATE MORE',\n 'MYMEMORY WARNING: YOU USED ALL AVAILABLE FREE TRANSLATIONS FOR TODAY. NEXT AVAILABLE IN  06 HOURS 55 MINUTES 28 SECONDS VISIT HTTPS://MYMEMORY.TRANSLATED.NET/DOC/USAGELIMITS.PHP TO TRANSLATE MORE',\n 'MYMEMORY WARNING: YOU USED ALL AVAILABLE FREE TRANSLATIONS FOR TODAY. NEXT AVAILABLE IN  06 HOURS 55 MINUTES 26 SECONDS VISIT HTTPS://MYMEMORY.TRANSLATED.NET/DOC/USAGELIMITS.PHP TO TRANSLATE MORE',\n 'MYMEMORY WARNING: YOU USED ALL AVAILABLE FREE TRANSLATIONS FOR TODAY. NEXT AVAILABLE IN  06 HOURS 55 MINUTES 24 SECONDS VISIT HTTPS://MYMEMORY.TRANSLATED.NET/DOC/USAGELIMITS.PHP TO TRANSLATE MORE',\n 'MYMEMORY WARNING: YOU USED ALL AVAILABLE FREE TRANSLATIONS FOR TODAY. NEXT AVAILABLE IN  06 HOURS 55 MINUTES 22 SECONDS VISIT HTTPS://MYMEMORY.TRANSLATED.NET/DOC/USAGELIMITS.PHP TO TRANSLATE MORE',\n 'MYMEMORY WARNING: YOU USED ALL AVAILABLE FREE TRANSLATIONS FOR TODAY. NEXT AVAILABLE IN  06 HOURS 55 MINUTES 21 SECONDS VISIT HTTPS://MYMEMORY.TRANSLATED.NET/DOC/USAGELIMITS.PHP TO TRANSLATE MORE',\n 'MYMEMORY WARNING: YOU USED ALL AVAILABLE FREE TRANSLATIONS FOR TODAY. NEXT AVAILABLE IN  06 HOURS 55 MINUTES 19 SECONDS VISIT HTTPS://MYMEMORY.TRANSLATED.NET/DOC/USAGELIMITS.PHP TO TRANSLATE MORE',\n 'MYMEMORY WARNING: YOU USED ALL AVAILABLE FREE TRANSLATIONS FOR TODAY. NEXT AVAILABLE IN  06 HOURS 55 MINUTES 17 SECONDS VISIT HTTPS://MYMEMORY.TRANSLATED.NET/DOC/USAGELIMITS.PHP TO TRANSLATE MORE',\n 'MYMEMORY WARNING: YOU USED ALL AVAILABLE FREE TRANSLATIONS FOR TODAY. NEXT AVAILABLE IN  06 HOURS 55 MINUTES 15 SECONDS VISIT HTTPS://MYMEMORY.TRANSLATED.NET/DOC/USAGELIMITS.PHP TO TRANSLATE MORE',\n 'MYMEMORY WARNING: YOU USED ALL AVAILABLE FREE TRANSLATIONS FOR TODAY. NEXT AVAILABLE IN  06 HOURS 55 MINUTES 14 SECONDS VISIT HTTPS://MYMEMORY.TRANSLATED.NET/DOC/USAGELIMITS.PHP TO TRANSLATE MORE',\n 'MYMEMORY WARNING: YOU USED ALL AVAILABLE FREE TRANSLATIONS FOR TODAY. NEXT AVAILABLE IN  06 HOURS 55 MINUTES 12 SECONDS VISIT HTTPS://MYMEMORY.TRANSLATED.NET/DOC/USAGELIMITS.PHP TO TRANSLATE MORE',\n 'MYMEMORY WARNING: YOU USED ALL AVAILABLE FREE TRANSLATIONS FOR TODAY. NEXT AVAILABLE IN  06 HOURS 55 MINUTES 10 SECONDS VISIT HTTPS://MYMEMORY.TRANSLATED.NET/DOC/USAGELIMITS.PHP TO TRANSLATE MORE',\n 'MYMEMORY WARNING: YOU USED ALL AVAILABLE FREE TRANSLATIONS FOR TODAY. NEXT AVAILABLE IN  06 HOURS 55 MINUTES 08 SECONDS VISIT HTTPS://MYMEMORY.TRANSLATED.NET/DOC/USAGELIMITS.PHP TO TRANSLATE MORE',\n 'MYMEMORY WARNING: YOU USED ALL AVAILABLE FREE TRANSLATIONS FOR TODAY. NEXT AVAILABLE IN  06 HOURS 55 MINUTES 06 SECONDS VISIT HTTPS://MYMEMORY.TRANSLATED.NET/DOC/USAGELIMITS.PHP TO TRANSLATE MORE',\n 'MYMEMORY WARNING: YOU USED ALL AVAILABLE FREE TRANSLATIONS FOR TODAY. NEXT AVAILABLE IN  06 HOURS 55 MINUTES 05 SECONDS VISIT HTTPS://MYMEMORY.TRANSLATED.NET/DOC/USAGELIMITS.PHP TO TRANSLATE MORE',\n 'MYMEMORY WARNING: YOU USED ALL AVAILABLE FREE TRANSLATIONS FOR TODAY. NEXT AVAILABLE IN  06 HOURS 55 MINUTES 03 SECONDS VISIT HTTPS://MYMEMORY.TRANSLATED.NET/DOC/USAGELIMITS.PHP TO TRANSLATE MORE',\n 'MYMEMORY WARNING: YOU USED ALL AVAILABLE FREE TRANSLATIONS FOR TODAY. NEXT AVAILABLE IN  06 HOURS 55 MINUTES 01 SECONDS VISIT HTTPS://MYMEMORY.TRANSLATED.NET/DOC/USAGELIMITS.PHP TO TRANSLATE MORE',\n 'MYMEMORY WARNING: YOU USED ALL AVAILABLE FREE TRANSLATIONS FOR TODAY. NEXT AVAILABLE IN  06 HOURS 54 MINUTES 59 SECONDS VISIT HTTPS://MYMEMORY.TRANSLATED.NET/DOC/USAGELIMITS.PHP TO TRANSLATE MORE',\n 'MYMEMORY WARNING: YOU USED ALL AVAILABLE FREE TRANSLATIONS FOR TODAY. NEXT AVAILABLE IN  06 HOURS 54 MINUTES 58 SECONDS VISIT HTTPS://MYMEMORY.TRANSLATED.NET/DOC/USAGELIMITS.PHP TO TRANSLATE MORE',\n 'MYMEMORY WARNING: YOU USED ALL AVAILABLE FREE TRANSLATIONS FOR TODAY. NEXT AVAILABLE IN  06 HOURS 54 MINUTES 56 SECONDS VISIT HTTPS://MYMEMORY.TRANSLATED.NET/DOC/USAGELIMITS.PHP TO TRANSLATE MORE',\n 'MYMEMORY WARNING: YOU USED ALL AVAILABLE FREE TRANSLATIONS FOR TODAY. NEXT AVAILABLE IN  06 HOURS 54 MINUTES 54 SECONDS VISIT HTTPS://MYMEMORY.TRANSLATED.NET/DOC/USAGELIMITS.PHP TO TRANSLATE MORE',\n 'MYMEMORY WARNING: YOU USED ALL AVAILABLE FREE TRANSLATIONS FOR TODAY. NEXT AVAILABLE IN  06 HOURS 54 MINUTES 52 SECONDS VISIT HTTPS://MYMEMORY.TRANSLATED.NET/DOC/USAGELIMITS.PHP TO TRANSLATE MORE',\n 'MYMEMORY WARNING: YOU USED ALL AVAILABLE FREE TRANSLATIONS FOR TODAY. NEXT AVAILABLE IN  06 HOURS 54 MINUTES 50 SECONDS VISIT HTTPS://MYMEMORY.TRANSLATED.NET/DOC/USAGELIMITS.PHP TO TRANSLATE MORE',\n 'MYMEMORY WARNING: YOU USED ALL AVAILABLE FREE TRANSLATIONS FOR TODAY. NEXT AVAILABLE IN  06 HOURS 54 MINUTES 49 SECONDS VISIT HTTPS://MYMEMORY.TRANSLATED.NET/DOC/USAGELIMITS.PHP TO TRANSLATE MORE',\n 'MYMEMORY WARNING: YOU USED ALL AVAILABLE FREE TRANSLATIONS FOR TODAY. NEXT AVAILABLE IN  06 HOURS 54 MINUTES 47 SECONDS VISIT HTTPS://MYMEMORY.TRANSLATED.NET/DOC/USAGELIMITS.PHP TO TRANSLATE MORE',\n 'MYMEMORY WARNING: YOU USED ALL AVAILABLE FREE TRANSLATIONS FOR TODAY. NEXT AVAILABLE IN  06 HOURS 54 MINUTES 45 SECONDS VISIT HTTPS://MYMEMORY.TRANSLATED.NET/DOC/USAGELIMITS.PHP TO TRANSLATE MORE',\n 'MYMEMORY WARNING: YOU USED ALL AVAILABLE FREE TRANSLATIONS FOR TODAY. NEXT AVAILABLE IN  06 HOURS 54 MINUTES 43 SECONDS VISIT HTTPS://MYMEMORY.TRANSLATED.NET/DOC/USAGELIMITS.PHP TO TRANSLATE MORE',\n 'MYMEMORY WARNING: YOU USED ALL AVAILABLE FREE TRANSLATIONS FOR TODAY. NEXT AVAILABLE IN  06 HOURS 54 MINUTES 42 SECONDS VISIT HTTPS://MYMEMORY.TRANSLATED.NET/DOC/USAGELIMITS.PHP TO TRANSLATE MORE',\n 'MYMEMORY WARNING: YOU USED ALL AVAILABLE FREE TRANSLATIONS FOR TODAY. NEXT AVAILABLE IN  06 HOURS 54 MINUTES 40 SECONDS VISIT HTTPS://MYMEMORY.TRANSLATED.NET/DOC/USAGELIMITS.PHP TO TRANSLATE MORE',\n 'MYMEMORY WARNING: YOU USED ALL AVAILABLE FREE TRANSLATIONS FOR TODAY. NEXT AVAILABLE IN  06 HOURS 54 MINUTES 38 SECONDS VISIT HTTPS://MYMEMORY.TRANSLATED.NET/DOC/USAGELIMITS.PHP TO TRANSLATE MORE',\n 'MYMEMORY WARNING: YOU USED ALL AVAILABLE FREE TRANSLATIONS FOR TODAY. NEXT AVAILABLE IN  06 HOURS 54 MINUTES 36 SECONDS VISIT HTTPS://MYMEMORY.TRANSLATED.NET/DOC/USAGELIMITS.PHP TO TRANSLATE MORE',\n 'MYMEMORY WARNING: YOU USED ALL AVAILABLE FREE TRANSLATIONS FOR TODAY. NEXT AVAILABLE IN  06 HOURS 54 MINUTES 34 SECONDS VISIT HTTPS://MYMEMORY.TRANSLATED.NET/DOC/USAGELIMITS.PHP TO TRANSLATE MORE',\n 'MYMEMORY WARNING: YOU USED ALL AVAILABLE FREE TRANSLATIONS FOR TODAY. NEXT AVAILABLE IN  06 HOURS 54 MINUTES 33 SECONDS VISIT HTTPS://MYMEMORY.TRANSLATED.NET/DOC/USAGELIMITS.PHP TO TRANSLATE MORE',\n 'MYMEMORY WARNING: YOU USED ALL AVAILABLE FREE TRANSLATIONS FOR TODAY. NEXT AVAILABLE IN  06 HOURS 54 MINUTES 31 SECONDS VISIT HTTPS://MYMEMORY.TRANSLATED.NET/DOC/USAGELIMITS.PHP TO TRANSLATE MORE',\n 'MYMEMORY WARNING: YOU USED ALL AVAILABLE FREE TRANSLATIONS FOR TODAY. NEXT AVAILABLE IN  06 HOURS 54 MINUTES 28 SECONDS VISIT HTTPS://MYMEMORY.TRANSLATED.NET/DOC/USAGELIMITS.PHP TO TRANSLATE MORE',\n 'MYMEMORY WARNING: YOU USED ALL AVAILABLE FREE TRANSLATIONS FOR TODAY. NEXT AVAILABLE IN  06 HOURS 54 MINUTES 26 SECONDS VISIT HTTPS://MYMEMORY.TRANSLATED.NET/DOC/USAGELIMITS.PHP TO TRANSLATE MORE',\n 'MYMEMORY WARNING: YOU USED ALL AVAILABLE FREE TRANSLATIONS FOR TODAY. NEXT AVAILABLE IN  06 HOURS 54 MINUTES 25 SECONDS VISIT HTTPS://MYMEMORY.TRANSLATED.NET/DOC/USAGELIMITS.PHP TO TRANSLATE MORE',\n 'MYMEMORY WARNING: YOU USED ALL AVAILABLE FREE TRANSLATIONS FOR TODAY. NEXT AVAILABLE IN  06 HOURS 54 MINUTES 23 SECONDS VISIT HTTPS://MYMEMORY.TRANSLATED.NET/DOC/USAGELIMITS.PHP TO TRANSLATE MORE',\n 'MYMEMORY WARNING: YOU USED ALL AVAILABLE FREE TRANSLATIONS FOR TODAY. NEXT AVAILABLE IN  06 HOURS 54 MINUTES 21 SECONDS VISIT HTTPS://MYMEMORY.TRANSLATED.NET/DOC/USAGELIMITS.PHP TO TRANSLATE MORE',\n 'MYMEMORY WARNING: YOU USED ALL AVAILABLE FREE TRANSLATIONS FOR TODAY. NEXT AVAILABLE IN  06 HOURS 54 MINUTES 19 SECONDS VISIT HTTPS://MYMEMORY.TRANSLATED.NET/DOC/USAGELIMITS.PHP TO TRANSLATE MORE',\n 'MYMEMORY WARNING: YOU USED ALL AVAILABLE FREE TRANSLATIONS FOR TODAY. NEXT AVAILABLE IN  06 HOURS 54 MINUTES 17 SECONDS VISIT HTTPS://MYMEMORY.TRANSLATED.NET/DOC/USAGELIMITS.PHP TO TRANSLATE MORE',\n 'MYMEMORY WARNING: YOU USED ALL AVAILABLE FREE TRANSLATIONS FOR TODAY. NEXT AVAILABLE IN  06 HOURS 54 MINUTES 16 SECONDS VISIT HTTPS://MYMEMORY.TRANSLATED.NET/DOC/USAGELIMITS.PHP TO TRANSLATE MORE',\n 'MYMEMORY WARNING: YOU USED ALL AVAILABLE FREE TRANSLATIONS FOR TODAY. NEXT AVAILABLE IN  06 HOURS 54 MINUTES 14 SECONDS VISIT HTTPS://MYMEMORY.TRANSLATED.NET/DOC/USAGELIMITS.PHP TO TRANSLATE MORE',\n 'MYMEMORY WARNING: YOU USED ALL AVAILABLE FREE TRANSLATIONS FOR TODAY. NEXT AVAILABLE IN  06 HOURS 54 MINUTES 12 SECONDS VISIT HTTPS://MYMEMORY.TRANSLATED.NET/DOC/USAGELIMITS.PHP TO TRANSLATE MORE',\n 'MYMEMORY WARNING: YOU USED ALL AVAILABLE FREE TRANSLATIONS FOR TODAY. NEXT AVAILABLE IN  06 HOURS 54 MINUTES 10 SECONDS VISIT HTTPS://MYMEMORY.TRANSLATED.NET/DOC/USAGELIMITS.PHP TO TRANSLATE MORE',\n 'MYMEMORY WARNING: YOU USED ALL AVAILABLE FREE TRANSLATIONS FOR TODAY. NEXT AVAILABLE IN  06 HOURS 54 MINUTES 09 SECONDS VISIT HTTPS://MYMEMORY.TRANSLATED.NET/DOC/USAGELIMITS.PHP TO TRANSLATE MORE',\n 'MYMEMORY WARNING: YOU USED ALL AVAILABLE FREE TRANSLATIONS FOR TODAY. NEXT AVAILABLE IN  06 HOURS 54 MINUTES 07 SECONDS VISIT HTTPS://MYMEMORY.TRANSLATED.NET/DOC/USAGELIMITS.PHP TO TRANSLATE MORE',\n 'MYMEMORY WARNING: YOU USED ALL AVAILABLE FREE TRANSLATIONS FOR TODAY. NEXT AVAILABLE IN  06 HOURS 54 MINUTES 04 SECONDS VISIT HTTPS://MYMEMORY.TRANSLATED.NET/DOC/USAGELIMITS.PHP TO TRANSLATE MORE',\n 'MYMEMORY WARNING: YOU USED ALL AVAILABLE FREE TRANSLATIONS FOR TODAY. NEXT AVAILABLE IN  06 HOURS 54 MINUTES 02 SECONDS VISIT HTTPS://MYMEMORY.TRANSLATED.NET/DOC/USAGELIMITS.PHP TO TRANSLATE MORE',\n 'MYMEMORY WARNING: YOU USED ALL AVAILABLE FREE TRANSLATIONS FOR TODAY. NEXT AVAILABLE IN  06 HOURS 54 MINUTES 01 SECONDS VISIT HTTPS://MYMEMORY.TRANSLATED.NET/DOC/USAGELIMITS.PHP TO TRANSLATE MORE',\n 'MYMEMORY WARNING: YOU USED ALL AVAILABLE FREE TRANSLATIONS FOR TODAY. NEXT AVAILABLE IN  06 HOURS 53 MINUTES 59 SECONDS VISIT HTTPS://MYMEMORY.TRANSLATED.NET/DOC/USAGELIMITS.PHP TO TRANSLATE MORE',\n 'MYMEMORY WARNING: YOU USED ALL AVAILABLE FREE TRANSLATIONS FOR TODAY. NEXT AVAILABLE IN  06 HOURS 53 MINUTES 57 SECONDS VISIT HTTPS://MYMEMORY.TRANSLATED.NET/DOC/USAGELIMITS.PHP TO TRANSLATE MORE',\n 'MYMEMORY WARNING: YOU USED ALL AVAILABLE FREE TRANSLATIONS FOR TODAY. NEXT AVAILABLE IN  06 HOURS 53 MINUTES 55 SECONDS VISIT HTTPS://MYMEMORY.TRANSLATED.NET/DOC/USAGELIMITS.PHP TO TRANSLATE MORE',\n 'MYMEMORY WARNING: YOU USED ALL AVAILABLE FREE TRANSLATIONS FOR TODAY. NEXT AVAILABLE IN  06 HOURS 53 MINUTES 53 SECONDS VISIT HTTPS://MYMEMORY.TRANSLATED.NET/DOC/USAGELIMITS.PHP TO TRANSLATE MORE',\n 'MYMEMORY WARNING: YOU USED ALL AVAILABLE FREE TRANSLATIONS FOR TODAY. NEXT AVAILABLE IN  06 HOURS 53 MINUTES 51 SECONDS VISIT HTTPS://MYMEMORY.TRANSLATED.NET/DOC/USAGELIMITS.PHP TO TRANSLATE MORE',\n 'MYMEMORY WARNING: YOU USED ALL AVAILABLE FREE TRANSLATIONS FOR TODAY. NEXT AVAILABLE IN  06 HOURS 53 MINUTES 49 SECONDS VISIT HTTPS://MYMEMORY.TRANSLATED.NET/DOC/USAGELIMITS.PHP TO TRANSLATE MORE',\n 'MYMEMORY WARNING: YOU USED ALL AVAILABLE FREE TRANSLATIONS FOR TODAY. NEXT AVAILABLE IN  06 HOURS 53 MINUTES 46 SECONDS VISIT HTTPS://MYMEMORY.TRANSLATED.NET/DOC/USAGELIMITS.PHP TO TRANSLATE MORE',\n 'MYMEMORY WARNING: YOU USED ALL AVAILABLE FREE TRANSLATIONS FOR TODAY. NEXT AVAILABLE IN  06 HOURS 53 MINUTES 45 SECONDS VISIT HTTPS://MYMEMORY.TRANSLATED.NET/DOC/USAGELIMITS.PHP TO TRANSLATE MORE',\n 'MYMEMORY WARNING: YOU USED ALL AVAILABLE FREE TRANSLATIONS FOR TODAY. NEXT AVAILABLE IN  06 HOURS 53 MINUTES 43 SECONDS VISIT HTTPS://MYMEMORY.TRANSLATED.NET/DOC/USAGELIMITS.PHP TO TRANSLATE MORE',\n 'MYMEMORY WARNING: YOU USED ALL AVAILABLE FREE TRANSLATIONS FOR TODAY. NEXT AVAILABLE IN  06 HOURS 53 MINUTES 41 SECONDS VISIT HTTPS://MYMEMORY.TRANSLATED.NET/DOC/USAGELIMITS.PHP TO TRANSLATE MORE',\n 'MYMEMORY WARNING: YOU USED ALL AVAILABLE FREE TRANSLATIONS FOR TODAY. NEXT AVAILABLE IN  06 HOURS 53 MINUTES 39 SECONDS VISIT HTTPS://MYMEMORY.TRANSLATED.NET/DOC/USAGELIMITS.PHP TO TRANSLATE MORE',\n 'MYMEMORY WARNING: YOU USED ALL AVAILABLE FREE TRANSLATIONS FOR TODAY. NEXT AVAILABLE IN  06 HOURS 53 MINUTES 37 SECONDS VISIT HTTPS://MYMEMORY.TRANSLATED.NET/DOC/USAGELIMITS.PHP TO TRANSLATE MORE',\n 'MYMEMORY WARNING: YOU USED ALL AVAILABLE FREE TRANSLATIONS FOR TODAY. NEXT AVAILABLE IN  06 HOURS 53 MINUTES 36 SECONDS VISIT HTTPS://MYMEMORY.TRANSLATED.NET/DOC/USAGELIMITS.PHP TO TRANSLATE MORE',\n 'MYMEMORY WARNING: YOU USED ALL AVAILABLE FREE TRANSLATIONS FOR TODAY. NEXT AVAILABLE IN  06 HOURS 53 MINUTES 34 SECONDS VISIT HTTPS://MYMEMORY.TRANSLATED.NET/DOC/USAGELIMITS.PHP TO TRANSLATE MORE',\n 'MYMEMORY WARNING: YOU USED ALL AVAILABLE FREE TRANSLATIONS FOR TODAY. NEXT AVAILABLE IN  06 HOURS 53 MINUTES 32 SECONDS VISIT HTTPS://MYMEMORY.TRANSLATED.NET/DOC/USAGELIMITS.PHP TO TRANSLATE MORE',\n 'MYMEMORY WARNING: YOU USED ALL AVAILABLE FREE TRANSLATIONS FOR TODAY. NEXT AVAILABLE IN  06 HOURS 53 MINUTES 30 SECONDS VISIT HTTPS://MYMEMORY.TRANSLATED.NET/DOC/USAGELIMITS.PHP TO TRANSLATE MORE',\n 'MYMEMORY WARNING: YOU USED ALL AVAILABLE FREE TRANSLATIONS FOR TODAY. NEXT AVAILABLE IN  06 HOURS 53 MINUTES 28 SECONDS VISIT HTTPS://MYMEMORY.TRANSLATED.NET/DOC/USAGELIMITS.PHP TO TRANSLATE MORE',\n 'MYMEMORY WARNING: YOU USED ALL AVAILABLE FREE TRANSLATIONS FOR TODAY. NEXT AVAILABLE IN  06 HOURS 53 MINUTES 27 SECONDS VISIT HTTPS://MYMEMORY.TRANSLATED.NET/DOC/USAGELIMITS.PHP TO TRANSLATE MORE',\n 'MYMEMORY WARNING: YOU USED ALL AVAILABLE FREE TRANSLATIONS FOR TODAY. NEXT AVAILABLE IN  06 HOURS 53 MINUTES 25 SECONDS VISIT HTTPS://MYMEMORY.TRANSLATED.NET/DOC/USAGELIMITS.PHP TO TRANSLATE MORE',\n 'MYMEMORY WARNING: YOU USED ALL AVAILABLE FREE TRANSLATIONS FOR TODAY. NEXT AVAILABLE IN  06 HOURS 53 MINUTES 23 SECONDS VISIT HTTPS://MYMEMORY.TRANSLATED.NET/DOC/USAGELIMITS.PHP TO TRANSLATE MORE',\n 'MYMEMORY WARNING: YOU USED ALL AVAILABLE FREE TRANSLATIONS FOR TODAY. NEXT AVAILABLE IN  06 HOURS 53 MINUTES 21 SECONDS VISIT HTTPS://MYMEMORY.TRANSLATED.NET/DOC/USAGELIMITS.PHP TO TRANSLATE MORE',\n 'MYMEMORY WARNING: YOU USED ALL AVAILABLE FREE TRANSLATIONS FOR TODAY. NEXT AVAILABLE IN  06 HOURS 53 MINUTES 19 SECONDS VISIT HTTPS://MYMEMORY.TRANSLATED.NET/DOC/USAGELIMITS.PHP TO TRANSLATE MORE',\n 'MYMEMORY WARNING: YOU USED ALL AVAILABLE FREE TRANSLATIONS FOR TODAY. NEXT AVAILABLE IN  06 HOURS 53 MINUTES 18 SECONDS VISIT HTTPS://MYMEMORY.TRANSLATED.NET/DOC/USAGELIMITS.PHP TO TRANSLATE MORE',\n 'MYMEMORY WARNING: YOU USED ALL AVAILABLE FREE TRANSLATIONS FOR TODAY. NEXT AVAILABLE IN  06 HOURS 53 MINUTES 16 SECONDS VISIT HTTPS://MYMEMORY.TRANSLATED.NET/DOC/USAGELIMITS.PHP TO TRANSLATE MORE',\n 'MYMEMORY WARNING: YOU USED ALL AVAILABLE FREE TRANSLATIONS FOR TODAY. NEXT AVAILABLE IN  06 HOURS 53 MINUTES 13 SECONDS VISIT HTTPS://MYMEMORY.TRANSLATED.NET/DOC/USAGELIMITS.PHP TO TRANSLATE MORE',\n 'MYMEMORY WARNING: YOU USED ALL AVAILABLE FREE TRANSLATIONS FOR TODAY. NEXT AVAILABLE IN  06 HOURS 53 MINUTES 11 SECONDS VISIT HTTPS://MYMEMORY.TRANSLATED.NET/DOC/USAGELIMITS.PHP TO TRANSLATE MORE',\n 'MYMEMORY WARNING: YOU USED ALL AVAILABLE FREE TRANSLATIONS FOR TODAY. NEXT AVAILABLE IN  06 HOURS 53 MINUTES 10 SECONDS VISIT HTTPS://MYMEMORY.TRANSLATED.NET/DOC/USAGELIMITS.PHP TO TRANSLATE MORE',\n 'MYMEMORY WARNING: YOU USED ALL AVAILABLE FREE TRANSLATIONS FOR TODAY. NEXT AVAILABLE IN  06 HOURS 53 MINUTES 08 SECONDS VISIT HTTPS://MYMEMORY.TRANSLATED.NET/DOC/USAGELIMITS.PHP TO TRANSLATE MORE',\n 'MYMEMORY WARNING: YOU USED ALL AVAILABLE FREE TRANSLATIONS FOR TODAY. NEXT AVAILABLE IN  06 HOURS 53 MINUTES 06 SECONDS VISIT HTTPS://MYMEMORY.TRANSLATED.NET/DOC/USAGELIMITS.PHP TO TRANSLATE MORE',\n 'MYMEMORY WARNING: YOU USED ALL AVAILABLE FREE TRANSLATIONS FOR TODAY. NEXT AVAILABLE IN  06 HOURS 53 MINUTES 04 SECONDS VISIT HTTPS://MYMEMORY.TRANSLATED.NET/DOC/USAGELIMITS.PHP TO TRANSLATE MORE',\n 'MYMEMORY WARNING: YOU USED ALL AVAILABLE FREE TRANSLATIONS FOR TODAY. NEXT AVAILABLE IN  06 HOURS 53 MINUTES 03 SECONDS VISIT HTTPS://MYMEMORY.TRANSLATED.NET/DOC/USAGELIMITS.PHP TO TRANSLATE MORE',\n 'MYMEMORY WARNING: YOU USED ALL AVAILABLE FREE TRANSLATIONS FOR TODAY. NEXT AVAILABLE IN  06 HOURS 53 MINUTES 01 SECONDS VISIT HTTPS://MYMEMORY.TRANSLATED.NET/DOC/USAGELIMITS.PHP TO TRANSLATE MORE',\n 'MYMEMORY WARNING: YOU USED ALL AVAILABLE FREE TRANSLATIONS FOR TODAY. NEXT AVAILABLE IN  06 HOURS 52 MINUTES 59 SECONDS VISIT HTTPS://MYMEMORY.TRANSLATED.NET/DOC/USAGELIMITS.PHP TO TRANSLATE MORE',\n 'MYMEMORY WARNING: YOU USED ALL AVAILABLE FREE TRANSLATIONS FOR TODAY. NEXT AVAILABLE IN  06 HOURS 52 MINUTES 57 SECONDS VISIT HTTPS://MYMEMORY.TRANSLATED.NET/DOC/USAGELIMITS.PHP TO TRANSLATE MORE',\n 'MYMEMORY WARNING: YOU USED ALL AVAILABLE FREE TRANSLATIONS FOR TODAY. NEXT AVAILABLE IN  06 HOURS 52 MINUTES 55 SECONDS VISIT HTTPS://MYMEMORY.TRANSLATED.NET/DOC/USAGELIMITS.PHP TO TRANSLATE MORE',\n 'MYMEMORY WARNING: YOU USED ALL AVAILABLE FREE TRANSLATIONS FOR TODAY. NEXT AVAILABLE IN  06 HOURS 52 MINUTES 54 SECONDS VISIT HTTPS://MYMEMORY.TRANSLATED.NET/DOC/USAGELIMITS.PHP TO TRANSLATE MORE',\n 'MYMEMORY WARNING: YOU USED ALL AVAILABLE FREE TRANSLATIONS FOR TODAY. NEXT AVAILABLE IN  06 HOURS 52 MINUTES 52 SECONDS VISIT HTTPS://MYMEMORY.TRANSLATED.NET/DOC/USAGELIMITS.PHP TO TRANSLATE MORE',\n 'MYMEMORY WARNING: YOU USED ALL AVAILABLE FREE TRANSLATIONS FOR TODAY. NEXT AVAILABLE IN  06 HOURS 52 MINUTES 50 SECONDS VISIT HTTPS://MYMEMORY.TRANSLATED.NET/DOC/USAGELIMITS.PHP TO TRANSLATE MORE',\n 'MYMEMORY WARNING: YOU USED ALL AVAILABLE FREE TRANSLATIONS FOR TODAY. NEXT AVAILABLE IN  06 HOURS 52 MINUTES 48 SECONDS VISIT HTTPS://MYMEMORY.TRANSLATED.NET/DOC/USAGELIMITS.PHP TO TRANSLATE MORE',\n 'MYMEMORY WARNING: YOU USED ALL AVAILABLE FREE TRANSLATIONS FOR TODAY. NEXT AVAILABLE IN  06 HOURS 52 MINUTES 47 SECONDS VISIT HTTPS://MYMEMORY.TRANSLATED.NET/DOC/USAGELIMITS.PHP TO TRANSLATE MORE',\n 'MYMEMORY WARNING: YOU USED ALL AVAILABLE FREE TRANSLATIONS FOR TODAY. NEXT AVAILABLE IN  06 HOURS 52 MINUTES 45 SECONDS VISIT HTTPS://MYMEMORY.TRANSLATED.NET/DOC/USAGELIMITS.PHP TO TRANSLATE MORE',\n 'MYMEMORY WARNING: YOU USED ALL AVAILABLE FREE TRANSLATIONS FOR TODAY. NEXT AVAILABLE IN  06 HOURS 52 MINUTES 43 SECONDS VISIT HTTPS://MYMEMORY.TRANSLATED.NET/DOC/USAGELIMITS.PHP TO TRANSLATE MORE',\n 'MYMEMORY WARNING: YOU USED ALL AVAILABLE FREE TRANSLATIONS FOR TODAY. NEXT AVAILABLE IN  06 HOURS 52 MINUTES 41 SECONDS VISIT HTTPS://MYMEMORY.TRANSLATED.NET/DOC/USAGELIMITS.PHP TO TRANSLATE MORE',\n 'MYMEMORY WARNING: YOU USED ALL AVAILABLE FREE TRANSLATIONS FOR TODAY. NEXT AVAILABLE IN  06 HOURS 52 MINUTES 39 SECONDS VISIT HTTPS://MYMEMORY.TRANSLATED.NET/DOC/USAGELIMITS.PHP TO TRANSLATE MORE',\n 'MYMEMORY WARNING: YOU USED ALL AVAILABLE FREE TRANSLATIONS FOR TODAY. NEXT AVAILABLE IN  06 HOURS 52 MINUTES 38 SECONDS VISIT HTTPS://MYMEMORY.TRANSLATED.NET/DOC/USAGELIMITS.PHP TO TRANSLATE MORE',\n 'MYMEMORY WARNING: YOU USED ALL AVAILABLE FREE TRANSLATIONS FOR TODAY. NEXT AVAILABLE IN  06 HOURS 52 MINUTES 36 SECONDS VISIT HTTPS://MYMEMORY.TRANSLATED.NET/DOC/USAGELIMITS.PHP TO TRANSLATE MORE',\n 'MYMEMORY WARNING: YOU USED ALL AVAILABLE FREE TRANSLATIONS FOR TODAY. NEXT AVAILABLE IN  06 HOURS 52 MINUTES 34 SECONDS VISIT HTTPS://MYMEMORY.TRANSLATED.NET/DOC/USAGELIMITS.PHP TO TRANSLATE MORE',\n 'MYMEMORY WARNING: YOU USED ALL AVAILABLE FREE TRANSLATIONS FOR TODAY. NEXT AVAILABLE IN  06 HOURS 52 MINUTES 31 SECONDS VISIT HTTPS://MYMEMORY.TRANSLATED.NET/DOC/USAGELIMITS.PHP TO TRANSLATE MORE',\n 'MYMEMORY WARNING: YOU USED ALL AVAILABLE FREE TRANSLATIONS FOR TODAY. NEXT AVAILABLE IN  06 HOURS 52 MINUTES 30 SECONDS VISIT HTTPS://MYMEMORY.TRANSLATED.NET/DOC/USAGELIMITS.PHP TO TRANSLATE MORE',\n 'MYMEMORY WARNING: YOU USED ALL AVAILABLE FREE TRANSLATIONS FOR TODAY. NEXT AVAILABLE IN  06 HOURS 52 MINUTES 28 SECONDS VISIT HTTPS://MYMEMORY.TRANSLATED.NET/DOC/USAGELIMITS.PHP TO TRANSLATE MORE',\n 'MYMEMORY WARNING: YOU USED ALL AVAILABLE FREE TRANSLATIONS FOR TODAY. NEXT AVAILABLE IN  06 HOURS 52 MINUTES 26 SECONDS VISIT HTTPS://MYMEMORY.TRANSLATED.NET/DOC/USAGELIMITS.PHP TO TRANSLATE MORE',\n 'MYMEMORY WARNING: YOU USED ALL AVAILABLE FREE TRANSLATIONS FOR TODAY. NEXT AVAILABLE IN  06 HOURS 52 MINUTES 24 SECONDS VISIT HTTPS://MYMEMORY.TRANSLATED.NET/DOC/USAGELIMITS.PHP TO TRANSLATE MORE',\n 'MYMEMORY WARNING: YOU USED ALL AVAILABLE FREE TRANSLATIONS FOR TODAY. NEXT AVAILABLE IN  06 HOURS 52 MINUTES 22 SECONDS VISIT HTTPS://MYMEMORY.TRANSLATED.NET/DOC/USAGELIMITS.PHP TO TRANSLATE MORE',\n 'MYMEMORY WARNING: YOU USED ALL AVAILABLE FREE TRANSLATIONS FOR TODAY. NEXT AVAILABLE IN  06 HOURS 52 MINUTES 21 SECONDS VISIT HTTPS://MYMEMORY.TRANSLATED.NET/DOC/USAGELIMITS.PHP TO TRANSLATE MORE',\n 'MYMEMORY WARNING: YOU USED ALL AVAILABLE FREE TRANSLATIONS FOR TODAY. NEXT AVAILABLE IN  06 HOURS 52 MINUTES 19 SECONDS VISIT HTTPS://MYMEMORY.TRANSLATED.NET/DOC/USAGELIMITS.PHP TO TRANSLATE MORE',\n 'MYMEMORY WARNING: YOU USED ALL AVAILABLE FREE TRANSLATIONS FOR TODAY. NEXT AVAILABLE IN  06 HOURS 52 MINUTES 17 SECONDS VISIT HTTPS://MYMEMORY.TRANSLATED.NET/DOC/USAGELIMITS.PHP TO TRANSLATE MORE',\n 'MYMEMORY WARNING: YOU USED ALL AVAILABLE FREE TRANSLATIONS FOR TODAY. NEXT AVAILABLE IN  06 HOURS 52 MINUTES 15 SECONDS VISIT HTTPS://MYMEMORY.TRANSLATED.NET/DOC/USAGELIMITS.PHP TO TRANSLATE MORE',\n 'MYMEMORY WARNING: YOU USED ALL AVAILABLE FREE TRANSLATIONS FOR TODAY. NEXT AVAILABLE IN  06 HOURS 52 MINUTES 14 SECONDS VISIT HTTPS://MYMEMORY.TRANSLATED.NET/DOC/USAGELIMITS.PHP TO TRANSLATE MORE',\n 'MYMEMORY WARNING: YOU USED ALL AVAILABLE FREE TRANSLATIONS FOR TODAY. NEXT AVAILABLE IN  06 HOURS 52 MINUTES 12 SECONDS VISIT HTTPS://MYMEMORY.TRANSLATED.NET/DOC/USAGELIMITS.PHP TO TRANSLATE MORE',\n 'MYMEMORY WARNING: YOU USED ALL AVAILABLE FREE TRANSLATIONS FOR TODAY. NEXT AVAILABLE IN  06 HOURS 52 MINUTES 10 SECONDS VISIT HTTPS://MYMEMORY.TRANSLATED.NET/DOC/USAGELIMITS.PHP TO TRANSLATE MORE',\n 'MYMEMORY WARNING: YOU USED ALL AVAILABLE FREE TRANSLATIONS FOR TODAY. NEXT AVAILABLE IN  06 HOURS 52 MINUTES 08 SECONDS VISIT HTTPS://MYMEMORY.TRANSLATED.NET/DOC/USAGELIMITS.PHP TO TRANSLATE MORE',\n 'MYMEMORY WARNING: YOU USED ALL AVAILABLE FREE TRANSLATIONS FOR TODAY. NEXT AVAILABLE IN  06 HOURS 52 MINUTES 06 SECONDS VISIT HTTPS://MYMEMORY.TRANSLATED.NET/DOC/USAGELIMITS.PHP TO TRANSLATE MORE',\n 'MYMEMORY WARNING: YOU USED ALL AVAILABLE FREE TRANSLATIONS FOR TODAY. NEXT AVAILABLE IN  06 HOURS 52 MINUTES 05 SECONDS VISIT HTTPS://MYMEMORY.TRANSLATED.NET/DOC/USAGELIMITS.PHP TO TRANSLATE MORE',\n 'MYMEMORY WARNING: YOU USED ALL AVAILABLE FREE TRANSLATIONS FOR TODAY. NEXT AVAILABLE IN  06 HOURS 52 MINUTES 03 SECONDS VISIT HTTPS://MYMEMORY.TRANSLATED.NET/DOC/USAGELIMITS.PHP TO TRANSLATE MORE',\n 'MYMEMORY WARNING: YOU USED ALL AVAILABLE FREE TRANSLATIONS FOR TODAY. NEXT AVAILABLE IN  06 HOURS 52 MINUTES 01 SECONDS VISIT HTTPS://MYMEMORY.TRANSLATED.NET/DOC/USAGELIMITS.PHP TO TRANSLATE MORE',\n 'MYMEMORY WARNING: YOU USED ALL AVAILABLE FREE TRANSLATIONS FOR TODAY. NEXT AVAILABLE IN  06 HOURS 51 MINUTES 59 SECONDS VISIT HTTPS://MYMEMORY.TRANSLATED.NET/DOC/USAGELIMITS.PHP TO TRANSLATE MORE',\n 'MYMEMORY WARNING: YOU USED ALL AVAILABLE FREE TRANSLATIONS FOR TODAY. NEXT AVAILABLE IN  06 HOURS 51 MINUTES 58 SECONDS VISIT HTTPS://MYMEMORY.TRANSLATED.NET/DOC/USAGELIMITS.PHP TO TRANSLATE MORE',\n 'MYMEMORY WARNING: YOU USED ALL AVAILABLE FREE TRANSLATIONS FOR TODAY. NEXT AVAILABLE IN  06 HOURS 51 MINUTES 56 SECONDS VISIT HTTPS://MYMEMORY.TRANSLATED.NET/DOC/USAGELIMITS.PHP TO TRANSLATE MORE',\n 'MYMEMORY WARNING: YOU USED ALL AVAILABLE FREE TRANSLATIONS FOR TODAY. NEXT AVAILABLE IN  06 HOURS 51 MINUTES 54 SECONDS VISIT HTTPS://MYMEMORY.TRANSLATED.NET/DOC/USAGELIMITS.PHP TO TRANSLATE MORE',\n 'MYMEMORY WARNING: YOU USED ALL AVAILABLE FREE TRANSLATIONS FOR TODAY. NEXT AVAILABLE IN  06 HOURS 51 MINUTES 52 SECONDS VISIT HTTPS://MYMEMORY.TRANSLATED.NET/DOC/USAGELIMITS.PHP TO TRANSLATE MORE',\n 'MYMEMORY WARNING: YOU USED ALL AVAILABLE FREE TRANSLATIONS FOR TODAY. NEXT AVAILABLE IN  06 HOURS 51 MINUTES 50 SECONDS VISIT HTTPS://MYMEMORY.TRANSLATED.NET/DOC/USAGELIMITS.PHP TO TRANSLATE MORE',\n 'MYMEMORY WARNING: YOU USED ALL AVAILABLE FREE TRANSLATIONS FOR TODAY. NEXT AVAILABLE IN  06 HOURS 51 MINUTES 48 SECONDS VISIT HTTPS://MYMEMORY.TRANSLATED.NET/DOC/USAGELIMITS.PHP TO TRANSLATE MORE',\n 'MYMEMORY WARNING: YOU USED ALL AVAILABLE FREE TRANSLATIONS FOR TODAY. NEXT AVAILABLE IN  06 HOURS 51 MINUTES 46 SECONDS VISIT HTTPS://MYMEMORY.TRANSLATED.NET/DOC/USAGELIMITS.PHP TO TRANSLATE MORE',\n 'MYMEMORY WARNING: YOU USED ALL AVAILABLE FREE TRANSLATIONS FOR TODAY. NEXT AVAILABLE IN  06 HOURS 51 MINUTES 44 SECONDS VISIT HTTPS://MYMEMORY.TRANSLATED.NET/DOC/USAGELIMITS.PHP TO TRANSLATE MORE',\n 'MYMEMORY WARNING: YOU USED ALL AVAILABLE FREE TRANSLATIONS FOR TODAY. NEXT AVAILABLE IN  06 HOURS 51 MINUTES 42 SECONDS VISIT HTTPS://MYMEMORY.TRANSLATED.NET/DOC/USAGELIMITS.PHP TO TRANSLATE MORE',\n 'MYMEMORY WARNING: YOU USED ALL AVAILABLE FREE TRANSLATIONS FOR TODAY. NEXT AVAILABLE IN  06 HOURS 51 MINUTES 40 SECONDS VISIT HTTPS://MYMEMORY.TRANSLATED.NET/DOC/USAGELIMITS.PHP TO TRANSLATE MORE',\n 'MYMEMORY WARNING: YOU USED ALL AVAILABLE FREE TRANSLATIONS FOR TODAY. NEXT AVAILABLE IN  06 HOURS 51 MINUTES 39 SECONDS VISIT HTTPS://MYMEMORY.TRANSLATED.NET/DOC/USAGELIMITS.PHP TO TRANSLATE MORE',\n 'MYMEMORY WARNING: YOU USED ALL AVAILABLE FREE TRANSLATIONS FOR TODAY. NEXT AVAILABLE IN  06 HOURS 51 MINUTES 37 SECONDS VISIT HTTPS://MYMEMORY.TRANSLATED.NET/DOC/USAGELIMITS.PHP TO TRANSLATE MORE',\n 'MYMEMORY WARNING: YOU USED ALL AVAILABLE FREE TRANSLATIONS FOR TODAY. NEXT AVAILABLE IN  06 HOURS 51 MINUTES 34 SECONDS VISIT HTTPS://MYMEMORY.TRANSLATED.NET/DOC/USAGELIMITS.PHP TO TRANSLATE MORE',\n 'MYMEMORY WARNING: YOU USED ALL AVAILABLE FREE TRANSLATIONS FOR TODAY. NEXT AVAILABLE IN  06 HOURS 51 MINUTES 32 SECONDS VISIT HTTPS://MYMEMORY.TRANSLATED.NET/DOC/USAGELIMITS.PHP TO TRANSLATE MORE',\n 'MYMEMORY WARNING: YOU USED ALL AVAILABLE FREE TRANSLATIONS FOR TODAY. NEXT AVAILABLE IN  06 HOURS 51 MINUTES 31 SECONDS VISIT HTTPS://MYMEMORY.TRANSLATED.NET/DOC/USAGELIMITS.PHP TO TRANSLATE MORE',\n 'MYMEMORY WARNING: YOU USED ALL AVAILABLE FREE TRANSLATIONS FOR TODAY. NEXT AVAILABLE IN  06 HOURS 51 MINUTES 29 SECONDS VISIT HTTPS://MYMEMORY.TRANSLATED.NET/DOC/USAGELIMITS.PHP TO TRANSLATE MORE',\n 'MYMEMORY WARNING: YOU USED ALL AVAILABLE FREE TRANSLATIONS FOR TODAY. NEXT AVAILABLE IN  06 HOURS 51 MINUTES 27 SECONDS VISIT HTTPS://MYMEMORY.TRANSLATED.NET/DOC/USAGELIMITS.PHP TO TRANSLATE MORE',\n 'MYMEMORY WARNING: YOU USED ALL AVAILABLE FREE TRANSLATIONS FOR TODAY. NEXT AVAILABLE IN  06 HOURS 51 MINUTES 25 SECONDS VISIT HTTPS://MYMEMORY.TRANSLATED.NET/DOC/USAGELIMITS.PHP TO TRANSLATE MORE',\n 'MYMEMORY WARNING: YOU USED ALL AVAILABLE FREE TRANSLATIONS FOR TODAY. NEXT AVAILABLE IN  06 HOURS 51 MINUTES 23 SECONDS VISIT HTTPS://MYMEMORY.TRANSLATED.NET/DOC/USAGELIMITS.PHP TO TRANSLATE MORE',\n 'MYMEMORY WARNING: YOU USED ALL AVAILABLE FREE TRANSLATIONS FOR TODAY. NEXT AVAILABLE IN  06 HOURS 51 MINUTES 22 SECONDS VISIT HTTPS://MYMEMORY.TRANSLATED.NET/DOC/USAGELIMITS.PHP TO TRANSLATE MORE',\n 'MYMEMORY WARNING: YOU USED ALL AVAILABLE FREE TRANSLATIONS FOR TODAY. NEXT AVAILABLE IN  06 HOURS 51 MINUTES 20 SECONDS VISIT HTTPS://MYMEMORY.TRANSLATED.NET/DOC/USAGELIMITS.PHP TO TRANSLATE MORE',\n 'MYMEMORY WARNING: YOU USED ALL AVAILABLE FREE TRANSLATIONS FOR TODAY. NEXT AVAILABLE IN  06 HOURS 51 MINUTES 18 SECONDS VISIT HTTPS://MYMEMORY.TRANSLATED.NET/DOC/USAGELIMITS.PHP TO TRANSLATE MORE',\n 'MYMEMORY WARNING: YOU USED ALL AVAILABLE FREE TRANSLATIONS FOR TODAY. NEXT AVAILABLE IN  06 HOURS 51 MINUTES 16 SECONDS VISIT HTTPS://MYMEMORY.TRANSLATED.NET/DOC/USAGELIMITS.PHP TO TRANSLATE MORE',\n 'MYMEMORY WARNING: YOU USED ALL AVAILABLE FREE TRANSLATIONS FOR TODAY. NEXT AVAILABLE IN  06 HOURS 51 MINUTES 14 SECONDS VISIT HTTPS://MYMEMORY.TRANSLATED.NET/DOC/USAGELIMITS.PHP TO TRANSLATE MORE',\n 'MYMEMORY WARNING: YOU USED ALL AVAILABLE FREE TRANSLATIONS FOR TODAY. NEXT AVAILABLE IN  06 HOURS 51 MINUTES 13 SECONDS VISIT HTTPS://MYMEMORY.TRANSLATED.NET/DOC/USAGELIMITS.PHP TO TRANSLATE MORE',\n 'MYMEMORY WARNING: YOU USED ALL AVAILABLE FREE TRANSLATIONS FOR TODAY. NEXT AVAILABLE IN  06 HOURS 51 MINUTES 11 SECONDS VISIT HTTPS://MYMEMORY.TRANSLATED.NET/DOC/USAGELIMITS.PHP TO TRANSLATE MORE',\n 'MYMEMORY WARNING: YOU USED ALL AVAILABLE FREE TRANSLATIONS FOR TODAY. NEXT AVAILABLE IN  06 HOURS 51 MINUTES 09 SECONDS VISIT HTTPS://MYMEMORY.TRANSLATED.NET/DOC/USAGELIMITS.PHP TO TRANSLATE MORE',\n 'MYMEMORY WARNING: YOU USED ALL AVAILABLE FREE TRANSLATIONS FOR TODAY. NEXT AVAILABLE IN  06 HOURS 51 MINUTES 07 SECONDS VISIT HTTPS://MYMEMORY.TRANSLATED.NET/DOC/USAGELIMITS.PHP TO TRANSLATE MORE',\n 'MYMEMORY WARNING: YOU USED ALL AVAILABLE FREE TRANSLATIONS FOR TODAY. NEXT AVAILABLE IN  06 HOURS 51 MINUTES 06 SECONDS VISIT HTTPS://MYMEMORY.TRANSLATED.NET/DOC/USAGELIMITS.PHP TO TRANSLATE MORE',\n 'MYMEMORY WARNING: YOU USED ALL AVAILABLE FREE TRANSLATIONS FOR TODAY. NEXT AVAILABLE IN  06 HOURS 51 MINUTES 04 SECONDS VISIT HTTPS://MYMEMORY.TRANSLATED.NET/DOC/USAGELIMITS.PHP TO TRANSLATE MORE',\n 'MYMEMORY WARNING: YOU USED ALL AVAILABLE FREE TRANSLATIONS FOR TODAY. NEXT AVAILABLE IN  06 HOURS 51 MINUTES 02 SECONDS VISIT HTTPS://MYMEMORY.TRANSLATED.NET/DOC/USAGELIMITS.PHP TO TRANSLATE MORE',\n 'MYMEMORY WARNING: YOU USED ALL AVAILABLE FREE TRANSLATIONS FOR TODAY. NEXT AVAILABLE IN  06 HOURS 50 MINUTES 58 SECONDS VISIT HTTPS://MYMEMORY.TRANSLATED.NET/DOC/USAGELIMITS.PHP TO TRANSLATE MORE',\n 'MYMEMORY WARNING: YOU USED ALL AVAILABLE FREE TRANSLATIONS FOR TODAY. NEXT AVAILABLE IN  06 HOURS 50 MINUTES 57 SECONDS VISIT HTTPS://MYMEMORY.TRANSLATED.NET/DOC/USAGELIMITS.PHP TO TRANSLATE MORE',\n 'MYMEMORY WARNING: YOU USED ALL AVAILABLE FREE TRANSLATIONS FOR TODAY. NEXT AVAILABLE IN  06 HOURS 50 MINUTES 55 SECONDS VISIT HTTPS://MYMEMORY.TRANSLATED.NET/DOC/USAGELIMITS.PHP TO TRANSLATE MORE',\n 'MYMEMORY WARNING: YOU USED ALL AVAILABLE FREE TRANSLATIONS FOR TODAY. NEXT AVAILABLE IN  06 HOURS 50 MINUTES 53 SECONDS VISIT HTTPS://MYMEMORY.TRANSLATED.NET/DOC/USAGELIMITS.PHP TO TRANSLATE MORE',\n 'MYMEMORY WARNING: YOU USED ALL AVAILABLE FREE TRANSLATIONS FOR TODAY. NEXT AVAILABLE IN  06 HOURS 50 MINUTES 51 SECONDS VISIT HTTPS://MYMEMORY.TRANSLATED.NET/DOC/USAGELIMITS.PHP TO TRANSLATE MORE',\n 'MYMEMORY WARNING: YOU USED ALL AVAILABLE FREE TRANSLATIONS FOR TODAY. NEXT AVAILABLE IN  06 HOURS 50 MINUTES 50 SECONDS VISIT HTTPS://MYMEMORY.TRANSLATED.NET/DOC/USAGELIMITS.PHP TO TRANSLATE MORE',\n 'MYMEMORY WARNING: YOU USED ALL AVAILABLE FREE TRANSLATIONS FOR TODAY. NEXT AVAILABLE IN  06 HOURS 50 MINUTES 48 SECONDS VISIT HTTPS://MYMEMORY.TRANSLATED.NET/DOC/USAGELIMITS.PHP TO TRANSLATE MORE',\n 'MYMEMORY WARNING: YOU USED ALL AVAILABLE FREE TRANSLATIONS FOR TODAY. NEXT AVAILABLE IN  06 HOURS 50 MINUTES 46 SECONDS VISIT HTTPS://MYMEMORY.TRANSLATED.NET/DOC/USAGELIMITS.PHP TO TRANSLATE MORE',\n 'MYMEMORY WARNING: YOU USED ALL AVAILABLE FREE TRANSLATIONS FOR TODAY. NEXT AVAILABLE IN  06 HOURS 50 MINUTES 44 SECONDS VISIT HTTPS://MYMEMORY.TRANSLATED.NET/DOC/USAGELIMITS.PHP TO TRANSLATE MORE',\n 'MYMEMORY WARNING: YOU USED ALL AVAILABLE FREE TRANSLATIONS FOR TODAY. NEXT AVAILABLE IN  06 HOURS 50 MINUTES 42 SECONDS VISIT HTTPS://MYMEMORY.TRANSLATED.NET/DOC/USAGELIMITS.PHP TO TRANSLATE MORE',\n 'MYMEMORY WARNING: YOU USED ALL AVAILABLE FREE TRANSLATIONS FOR TODAY. NEXT AVAILABLE IN  06 HOURS 50 MINUTES 41 SECONDS VISIT HTTPS://MYMEMORY.TRANSLATED.NET/DOC/USAGELIMITS.PHP TO TRANSLATE MORE',\n 'MYMEMORY WARNING: YOU USED ALL AVAILABLE FREE TRANSLATIONS FOR TODAY. NEXT AVAILABLE IN  06 HOURS 50 MINUTES 39 SECONDS VISIT HTTPS://MYMEMORY.TRANSLATED.NET/DOC/USAGELIMITS.PHP TO TRANSLATE MORE',\n 'MYMEMORY WARNING: YOU USED ALL AVAILABLE FREE TRANSLATIONS FOR TODAY. NEXT AVAILABLE IN  06 HOURS 50 MINUTES 37 SECONDS VISIT HTTPS://MYMEMORY.TRANSLATED.NET/DOC/USAGELIMITS.PHP TO TRANSLATE MORE',\n 'MYMEMORY WARNING: YOU USED ALL AVAILABLE FREE TRANSLATIONS FOR TODAY. NEXT AVAILABLE IN  06 HOURS 50 MINUTES 35 SECONDS VISIT HTTPS://MYMEMORY.TRANSLATED.NET/DOC/USAGELIMITS.PHP TO TRANSLATE MORE',\n 'MYMEMORY WARNING: YOU USED ALL AVAILABLE FREE TRANSLATIONS FOR TODAY. NEXT AVAILABLE IN  06 HOURS 50 MINUTES 33 SECONDS VISIT HTTPS://MYMEMORY.TRANSLATED.NET/DOC/USAGELIMITS.PHP TO TRANSLATE MORE',\n 'MYMEMORY WARNING: YOU USED ALL AVAILABLE FREE TRANSLATIONS FOR TODAY. NEXT AVAILABLE IN  06 HOURS 50 MINUTES 32 SECONDS VISIT HTTPS://MYMEMORY.TRANSLATED.NET/DOC/USAGELIMITS.PHP TO TRANSLATE MORE',\n 'MYMEMORY WARNING: YOU USED ALL AVAILABLE FREE TRANSLATIONS FOR TODAY. NEXT AVAILABLE IN  06 HOURS 50 MINUTES 30 SECONDS VISIT HTTPS://MYMEMORY.TRANSLATED.NET/DOC/USAGELIMITS.PHP TO TRANSLATE MORE',\n 'MYMEMORY WARNING: YOU USED ALL AVAILABLE FREE TRANSLATIONS FOR TODAY. NEXT AVAILABLE IN  06 HOURS 50 MINUTES 28 SECONDS VISIT HTTPS://MYMEMORY.TRANSLATED.NET/DOC/USAGELIMITS.PHP TO TRANSLATE MORE',\n 'MYMEMORY WARNING: YOU USED ALL AVAILABLE FREE TRANSLATIONS FOR TODAY. NEXT AVAILABLE IN  06 HOURS 50 MINUTES 26 SECONDS VISIT HTTPS://MYMEMORY.TRANSLATED.NET/DOC/USAGELIMITS.PHP TO TRANSLATE MORE',\n 'MYMEMORY WARNING: YOU USED ALL AVAILABLE FREE TRANSLATIONS FOR TODAY. NEXT AVAILABLE IN  06 HOURS 50 MINUTES 25 SECONDS VISIT HTTPS://MYMEMORY.TRANSLATED.NET/DOC/USAGELIMITS.PHP TO TRANSLATE MORE',\n 'MYMEMORY WARNING: YOU USED ALL AVAILABLE FREE TRANSLATIONS FOR TODAY. NEXT AVAILABLE IN  06 HOURS 50 MINUTES 23 SECONDS VISIT HTTPS://MYMEMORY.TRANSLATED.NET/DOC/USAGELIMITS.PHP TO TRANSLATE MORE',\n 'MYMEMORY WARNING: YOU USED ALL AVAILABLE FREE TRANSLATIONS FOR TODAY. NEXT AVAILABLE IN  06 HOURS 50 MINUTES 21 SECONDS VISIT HTTPS://MYMEMORY.TRANSLATED.NET/DOC/USAGELIMITS.PHP TO TRANSLATE MORE',\n 'MYMEMORY WARNING: YOU USED ALL AVAILABLE FREE TRANSLATIONS FOR TODAY. NEXT AVAILABLE IN  06 HOURS 50 MINUTES 19 SECONDS VISIT HTTPS://MYMEMORY.TRANSLATED.NET/DOC/USAGELIMITS.PHP TO TRANSLATE MORE',\n 'MYMEMORY WARNING: YOU USED ALL AVAILABLE FREE TRANSLATIONS FOR TODAY. NEXT AVAILABLE IN  06 HOURS 50 MINUTES 17 SECONDS VISIT HTTPS://MYMEMORY.TRANSLATED.NET/DOC/USAGELIMITS.PHP TO TRANSLATE MORE',\n 'MYMEMORY WARNING: YOU USED ALL AVAILABLE FREE TRANSLATIONS FOR TODAY. NEXT AVAILABLE IN  06 HOURS 50 MINUTES 16 SECONDS VISIT HTTPS://MYMEMORY.TRANSLATED.NET/DOC/USAGELIMITS.PHP TO TRANSLATE MORE',\n 'MYMEMORY WARNING: YOU USED ALL AVAILABLE FREE TRANSLATIONS FOR TODAY. NEXT AVAILABLE IN  06 HOURS 50 MINUTES 14 SECONDS VISIT HTTPS://MYMEMORY.TRANSLATED.NET/DOC/USAGELIMITS.PHP TO TRANSLATE MORE',\n 'MYMEMORY WARNING: YOU USED ALL AVAILABLE FREE TRANSLATIONS FOR TODAY. NEXT AVAILABLE IN  06 HOURS 50 MINUTES 12 SECONDS VISIT HTTPS://MYMEMORY.TRANSLATED.NET/DOC/USAGELIMITS.PHP TO TRANSLATE MORE',\n 'MYMEMORY WARNING: YOU USED ALL AVAILABLE FREE TRANSLATIONS FOR TODAY. NEXT AVAILABLE IN  06 HOURS 50 MINUTES 10 SECONDS VISIT HTTPS://MYMEMORY.TRANSLATED.NET/DOC/USAGELIMITS.PHP TO TRANSLATE MORE',\n 'MYMEMORY WARNING: YOU USED ALL AVAILABLE FREE TRANSLATIONS FOR TODAY. NEXT AVAILABLE IN  06 HOURS 50 MINUTES 08 SECONDS VISIT HTTPS://MYMEMORY.TRANSLATED.NET/DOC/USAGELIMITS.PHP TO TRANSLATE MORE',\n 'MYMEMORY WARNING: YOU USED ALL AVAILABLE FREE TRANSLATIONS FOR TODAY. NEXT AVAILABLE IN  06 HOURS 50 MINUTES 07 SECONDS VISIT HTTPS://MYMEMORY.TRANSLATED.NET/DOC/USAGELIMITS.PHP TO TRANSLATE MORE',\n 'MYMEMORY WARNING: YOU USED ALL AVAILABLE FREE TRANSLATIONS FOR TODAY. NEXT AVAILABLE IN  06 HOURS 50 MINUTES 05 SECONDS VISIT HTTPS://MYMEMORY.TRANSLATED.NET/DOC/USAGELIMITS.PHP TO TRANSLATE MORE',\n 'MYMEMORY WARNING: YOU USED ALL AVAILABLE FREE TRANSLATIONS FOR TODAY. NEXT AVAILABLE IN  06 HOURS 50 MINUTES 03 SECONDS VISIT HTTPS://MYMEMORY.TRANSLATED.NET/DOC/USAGELIMITS.PHP TO TRANSLATE MORE',\n 'MYMEMORY WARNING: YOU USED ALL AVAILABLE FREE TRANSLATIONS FOR TODAY. NEXT AVAILABLE IN  06 HOURS 50 MINUTES 01 SECONDS VISIT HTTPS://MYMEMORY.TRANSLATED.NET/DOC/USAGELIMITS.PHP TO TRANSLATE MORE',\n 'MYMEMORY WARNING: YOU USED ALL AVAILABLE FREE TRANSLATIONS FOR TODAY. NEXT AVAILABLE IN  06 HOURS 50 MINUTES 00 SECONDS VISIT HTTPS://MYMEMORY.TRANSLATED.NET/DOC/USAGELIMITS.PHP TO TRANSLATE MORE',\n 'MYMEMORY WARNING: YOU USED ALL AVAILABLE FREE TRANSLATIONS FOR TODAY. NEXT AVAILABLE IN  06 HOURS 49 MINUTES 58 SECONDS VISIT HTTPS://MYMEMORY.TRANSLATED.NET/DOC/USAGELIMITS.PHP TO TRANSLATE MORE',\n 'MYMEMORY WARNING: YOU USED ALL AVAILABLE FREE TRANSLATIONS FOR TODAY. NEXT AVAILABLE IN  06 HOURS 49 MINUTES 56 SECONDS VISIT HTTPS://MYMEMORY.TRANSLATED.NET/DOC/USAGELIMITS.PHP TO TRANSLATE MORE',\n 'MYMEMORY WARNING: YOU USED ALL AVAILABLE FREE TRANSLATIONS FOR TODAY. NEXT AVAILABLE IN  06 HOURS 49 MINUTES 51 SECONDS VISIT HTTPS://MYMEMORY.TRANSLATED.NET/DOC/USAGELIMITS.PHP TO TRANSLATE MORE',\n 'MYMEMORY WARNING: YOU USED ALL AVAILABLE FREE TRANSLATIONS FOR TODAY. NEXT AVAILABLE IN  06 HOURS 49 MINUTES 49 SECONDS VISIT HTTPS://MYMEMORY.TRANSLATED.NET/DOC/USAGELIMITS.PHP TO TRANSLATE MORE',\n 'MYMEMORY WARNING: YOU USED ALL AVAILABLE FREE TRANSLATIONS FOR TODAY. NEXT AVAILABLE IN  06 HOURS 49 MINUTES 47 SECONDS VISIT HTTPS://MYMEMORY.TRANSLATED.NET/DOC/USAGELIMITS.PHP TO TRANSLATE MORE',\n 'MYMEMORY WARNING: YOU USED ALL AVAILABLE FREE TRANSLATIONS FOR TODAY. NEXT AVAILABLE IN  06 HOURS 49 MINUTES 45 SECONDS VISIT HTTPS://MYMEMORY.TRANSLATED.NET/DOC/USAGELIMITS.PHP TO TRANSLATE MORE',\n 'MYMEMORY WARNING: YOU USED ALL AVAILABLE FREE TRANSLATIONS FOR TODAY. NEXT AVAILABLE IN  06 HOURS 49 MINUTES 44 SECONDS VISIT HTTPS://MYMEMORY.TRANSLATED.NET/DOC/USAGELIMITS.PHP TO TRANSLATE MORE',\n 'MYMEMORY WARNING: YOU USED ALL AVAILABLE FREE TRANSLATIONS FOR TODAY. NEXT AVAILABLE IN  06 HOURS 49 MINUTES 42 SECONDS VISIT HTTPS://MYMEMORY.TRANSLATED.NET/DOC/USAGELIMITS.PHP TO TRANSLATE MORE',\n 'MYMEMORY WARNING: YOU USED ALL AVAILABLE FREE TRANSLATIONS FOR TODAY. NEXT AVAILABLE IN  06 HOURS 49 MINUTES 40 SECONDS VISIT HTTPS://MYMEMORY.TRANSLATED.NET/DOC/USAGELIMITS.PHP TO TRANSLATE MORE',\n 'MYMEMORY WARNING: YOU USED ALL AVAILABLE FREE TRANSLATIONS FOR TODAY. NEXT AVAILABLE IN  06 HOURS 49 MINUTES 38 SECONDS VISIT HTTPS://MYMEMORY.TRANSLATED.NET/DOC/USAGELIMITS.PHP TO TRANSLATE MORE',\n 'MYMEMORY WARNING: YOU USED ALL AVAILABLE FREE TRANSLATIONS FOR TODAY. NEXT AVAILABLE IN  06 HOURS 49 MINUTES 36 SECONDS VISIT HTTPS://MYMEMORY.TRANSLATED.NET/DOC/USAGELIMITS.PHP TO TRANSLATE MORE',\n 'MYMEMORY WARNING: YOU USED ALL AVAILABLE FREE TRANSLATIONS FOR TODAY. NEXT AVAILABLE IN  06 HOURS 49 MINUTES 35 SECONDS VISIT HTTPS://MYMEMORY.TRANSLATED.NET/DOC/USAGELIMITS.PHP TO TRANSLATE MORE',\n 'MYMEMORY WARNING: YOU USED ALL AVAILABLE FREE TRANSLATIONS FOR TODAY. NEXT AVAILABLE IN  06 HOURS 49 MINUTES 33 SECONDS VISIT HTTPS://MYMEMORY.TRANSLATED.NET/DOC/USAGELIMITS.PHP TO TRANSLATE MORE',\n 'MYMEMORY WARNING: YOU USED ALL AVAILABLE FREE TRANSLATIONS FOR TODAY. NEXT AVAILABLE IN  06 HOURS 49 MINUTES 31 SECONDS VISIT HTTPS://MYMEMORY.TRANSLATED.NET/DOC/USAGELIMITS.PHP TO TRANSLATE MORE',\n 'MYMEMORY WARNING: YOU USED ALL AVAILABLE FREE TRANSLATIONS FOR TODAY. NEXT AVAILABLE IN  06 HOURS 49 MINUTES 29 SECONDS VISIT HTTPS://MYMEMORY.TRANSLATED.NET/DOC/USAGELIMITS.PHP TO TRANSLATE MORE',\n 'MYMEMORY WARNING: YOU USED ALL AVAILABLE FREE TRANSLATIONS FOR TODAY. NEXT AVAILABLE IN  06 HOURS 49 MINUTES 27 SECONDS VISIT HTTPS://MYMEMORY.TRANSLATED.NET/DOC/USAGELIMITS.PHP TO TRANSLATE MORE',\n 'MYMEMORY WARNING: YOU USED ALL AVAILABLE FREE TRANSLATIONS FOR TODAY. NEXT AVAILABLE IN  06 HOURS 49 MINUTES 26 SECONDS VISIT HTTPS://MYMEMORY.TRANSLATED.NET/DOC/USAGELIMITS.PHP TO TRANSLATE MORE',\n 'MYMEMORY WARNING: YOU USED ALL AVAILABLE FREE TRANSLATIONS FOR TODAY. NEXT AVAILABLE IN  06 HOURS 49 MINUTES 24 SECONDS VISIT HTTPS://MYMEMORY.TRANSLATED.NET/DOC/USAGELIMITS.PHP TO TRANSLATE MORE',\n 'MYMEMORY WARNING: YOU USED ALL AVAILABLE FREE TRANSLATIONS FOR TODAY. NEXT AVAILABLE IN  06 HOURS 49 MINUTES 22 SECONDS VISIT HTTPS://MYMEMORY.TRANSLATED.NET/DOC/USAGELIMITS.PHP TO TRANSLATE MORE',\n 'MYMEMORY WARNING: YOU USED ALL AVAILABLE FREE TRANSLATIONS FOR TODAY. NEXT AVAILABLE IN  06 HOURS 49 MINUTES 20 SECONDS VISIT HTTPS://MYMEMORY.TRANSLATED.NET/DOC/USAGELIMITS.PHP TO TRANSLATE MORE',\n 'MYMEMORY WARNING: YOU USED ALL AVAILABLE FREE TRANSLATIONS FOR TODAY. NEXT AVAILABLE IN  06 HOURS 49 MINUTES 18 SECONDS VISIT HTTPS://MYMEMORY.TRANSLATED.NET/DOC/USAGELIMITS.PHP TO TRANSLATE MORE',\n 'MYMEMORY WARNING: YOU USED ALL AVAILABLE FREE TRANSLATIONS FOR TODAY. NEXT AVAILABLE IN  06 HOURS 49 MINUTES 17 SECONDS VISIT HTTPS://MYMEMORY.TRANSLATED.NET/DOC/USAGELIMITS.PHP TO TRANSLATE MORE',\n 'MYMEMORY WARNING: YOU USED ALL AVAILABLE FREE TRANSLATIONS FOR TODAY. NEXT AVAILABLE IN  06 HOURS 49 MINUTES 15 SECONDS VISIT HTTPS://MYMEMORY.TRANSLATED.NET/DOC/USAGELIMITS.PHP TO TRANSLATE MORE',\n 'MYMEMORY WARNING: YOU USED ALL AVAILABLE FREE TRANSLATIONS FOR TODAY. NEXT AVAILABLE IN  06 HOURS 49 MINUTES 11 SECONDS VISIT HTTPS://MYMEMORY.TRANSLATED.NET/DOC/USAGELIMITS.PHP TO TRANSLATE MORE',\n 'MYMEMORY WARNING: YOU USED ALL AVAILABLE FREE TRANSLATIONS FOR TODAY. NEXT AVAILABLE IN  06 HOURS 49 MINUTES 10 SECONDS VISIT HTTPS://MYMEMORY.TRANSLATED.NET/DOC/USAGELIMITS.PHP TO TRANSLATE MORE',\n 'MYMEMORY WARNING: YOU USED ALL AVAILABLE FREE TRANSLATIONS FOR TODAY. NEXT AVAILABLE IN  06 HOURS 49 MINUTES 08 SECONDS VISIT HTTPS://MYMEMORY.TRANSLATED.NET/DOC/USAGELIMITS.PHP TO TRANSLATE MORE',\n 'MYMEMORY WARNING: YOU USED ALL AVAILABLE FREE TRANSLATIONS FOR TODAY. NEXT AVAILABLE IN  06 HOURS 49 MINUTES 06 SECONDS VISIT HTTPS://MYMEMORY.TRANSLATED.NET/DOC/USAGELIMITS.PHP TO TRANSLATE MORE',\n 'MYMEMORY WARNING: YOU USED ALL AVAILABLE FREE TRANSLATIONS FOR TODAY. NEXT AVAILABLE IN  06 HOURS 49 MINUTES 04 SECONDS VISIT HTTPS://MYMEMORY.TRANSLATED.NET/DOC/USAGELIMITS.PHP TO TRANSLATE MORE',\n 'MYMEMORY WARNING: YOU USED ALL AVAILABLE FREE TRANSLATIONS FOR TODAY. NEXT AVAILABLE IN  06 HOURS 49 MINUTES 02 SECONDS VISIT HTTPS://MYMEMORY.TRANSLATED.NET/DOC/USAGELIMITS.PHP TO TRANSLATE MORE',\n 'MYMEMORY WARNING: YOU USED ALL AVAILABLE FREE TRANSLATIONS FOR TODAY. NEXT AVAILABLE IN  06 HOURS 49 MINUTES 01 SECONDS VISIT HTTPS://MYMEMORY.TRANSLATED.NET/DOC/USAGELIMITS.PHP TO TRANSLATE MORE',\n 'MYMEMORY WARNING: YOU USED ALL AVAILABLE FREE TRANSLATIONS FOR TODAY. NEXT AVAILABLE IN  06 HOURS 48 MINUTES 59 SECONDS VISIT HTTPS://MYMEMORY.TRANSLATED.NET/DOC/USAGELIMITS.PHP TO TRANSLATE MORE',\n 'MYMEMORY WARNING: YOU USED ALL AVAILABLE FREE TRANSLATIONS FOR TODAY. NEXT AVAILABLE IN  06 HOURS 48 MINUTES 57 SECONDS VISIT HTTPS://MYMEMORY.TRANSLATED.NET/DOC/USAGELIMITS.PHP TO TRANSLATE MORE',\n 'MYMEMORY WARNING: YOU USED ALL AVAILABLE FREE TRANSLATIONS FOR TODAY. NEXT AVAILABLE IN  06 HOURS 48 MINUTES 54 SECONDS VISIT HTTPS://MYMEMORY.TRANSLATED.NET/DOC/USAGELIMITS.PHP TO TRANSLATE MORE',\n 'MYMEMORY WARNING: YOU USED ALL AVAILABLE FREE TRANSLATIONS FOR TODAY. NEXT AVAILABLE IN  06 HOURS 48 MINUTES 53 SECONDS VISIT HTTPS://MYMEMORY.TRANSLATED.NET/DOC/USAGELIMITS.PHP TO TRANSLATE MORE',\n 'MYMEMORY WARNING: YOU USED ALL AVAILABLE FREE TRANSLATIONS FOR TODAY. NEXT AVAILABLE IN  06 HOURS 48 MINUTES 51 SECONDS VISIT HTTPS://MYMEMORY.TRANSLATED.NET/DOC/USAGELIMITS.PHP TO TRANSLATE MORE',\n 'MYMEMORY WARNING: YOU USED ALL AVAILABLE FREE TRANSLATIONS FOR TODAY. NEXT AVAILABLE IN  06 HOURS 48 MINUTES 49 SECONDS VISIT HTTPS://MYMEMORY.TRANSLATED.NET/DOC/USAGELIMITS.PHP TO TRANSLATE MORE',\n 'MYMEMORY WARNING: YOU USED ALL AVAILABLE FREE TRANSLATIONS FOR TODAY. NEXT AVAILABLE IN  06 HOURS 48 MINUTES 47 SECONDS VISIT HTTPS://MYMEMORY.TRANSLATED.NET/DOC/USAGELIMITS.PHP TO TRANSLATE MORE',\n 'MYMEMORY WARNING: YOU USED ALL AVAILABLE FREE TRANSLATIONS FOR TODAY. NEXT AVAILABLE IN  06 HOURS 48 MINUTES 45 SECONDS VISIT HTTPS://MYMEMORY.TRANSLATED.NET/DOC/USAGELIMITS.PHP TO TRANSLATE MORE',\n 'MYMEMORY WARNING: YOU USED ALL AVAILABLE FREE TRANSLATIONS FOR TODAY. NEXT AVAILABLE IN  06 HOURS 48 MINUTES 44 SECONDS VISIT HTTPS://MYMEMORY.TRANSLATED.NET/DOC/USAGELIMITS.PHP TO TRANSLATE MORE',\n 'MYMEMORY WARNING: YOU USED ALL AVAILABLE FREE TRANSLATIONS FOR TODAY. NEXT AVAILABLE IN  06 HOURS 48 MINUTES 42 SECONDS VISIT HTTPS://MYMEMORY.TRANSLATED.NET/DOC/USAGELIMITS.PHP TO TRANSLATE MORE',\n 'MYMEMORY WARNING: YOU USED ALL AVAILABLE FREE TRANSLATIONS FOR TODAY. NEXT AVAILABLE IN  06 HOURS 48 MINUTES 40 SECONDS VISIT HTTPS://MYMEMORY.TRANSLATED.NET/DOC/USAGELIMITS.PHP TO TRANSLATE MORE',\n 'MYMEMORY WARNING: YOU USED ALL AVAILABLE FREE TRANSLATIONS FOR TODAY. NEXT AVAILABLE IN  06 HOURS 48 MINUTES 38 SECONDS VISIT HTTPS://MYMEMORY.TRANSLATED.NET/DOC/USAGELIMITS.PHP TO TRANSLATE MORE',\n 'MYMEMORY WARNING: YOU USED ALL AVAILABLE FREE TRANSLATIONS FOR TODAY. NEXT AVAILABLE IN  06 HOURS 48 MINUTES 37 SECONDS VISIT HTTPS://MYMEMORY.TRANSLATED.NET/DOC/USAGELIMITS.PHP TO TRANSLATE MORE',\n 'MYMEMORY WARNING: YOU USED ALL AVAILABLE FREE TRANSLATIONS FOR TODAY. NEXT AVAILABLE IN  06 HOURS 48 MINUTES 35 SECONDS VISIT HTTPS://MYMEMORY.TRANSLATED.NET/DOC/USAGELIMITS.PHP TO TRANSLATE MORE',\n 'MYMEMORY WARNING: YOU USED ALL AVAILABLE FREE TRANSLATIONS FOR TODAY. NEXT AVAILABLE IN  06 HOURS 48 MINUTES 33 SECONDS VISIT HTTPS://MYMEMORY.TRANSLATED.NET/DOC/USAGELIMITS.PHP TO TRANSLATE MORE',\n 'MYMEMORY WARNING: YOU USED ALL AVAILABLE FREE TRANSLATIONS FOR TODAY. NEXT AVAILABLE IN  06 HOURS 48 MINUTES 31 SECONDS VISIT HTTPS://MYMEMORY.TRANSLATED.NET/DOC/USAGELIMITS.PHP TO TRANSLATE MORE',\n 'MYMEMORY WARNING: YOU USED ALL AVAILABLE FREE TRANSLATIONS FOR TODAY. NEXT AVAILABLE IN  06 HOURS 48 MINUTES 29 SECONDS VISIT HTTPS://MYMEMORY.TRANSLATED.NET/DOC/USAGELIMITS.PHP TO TRANSLATE MORE',\n 'MYMEMORY WARNING: YOU USED ALL AVAILABLE FREE TRANSLATIONS FOR TODAY. NEXT AVAILABLE IN  06 HOURS 48 MINUTES 28 SECONDS VISIT HTTPS://MYMEMORY.TRANSLATED.NET/DOC/USAGELIMITS.PHP TO TRANSLATE MORE',\n 'MYMEMORY WARNING: YOU USED ALL AVAILABLE FREE TRANSLATIONS FOR TODAY. NEXT AVAILABLE IN  06 HOURS 48 MINUTES 26 SECONDS VISIT HTTPS://MYMEMORY.TRANSLATED.NET/DOC/USAGELIMITS.PHP TO TRANSLATE MORE',\n 'MYMEMORY WARNING: YOU USED ALL AVAILABLE FREE TRANSLATIONS FOR TODAY. NEXT AVAILABLE IN  06 HOURS 48 MINUTES 24 SECONDS VISIT HTTPS://MYMEMORY.TRANSLATED.NET/DOC/USAGELIMITS.PHP TO TRANSLATE MORE',\n 'MYMEMORY WARNING: YOU USED ALL AVAILABLE FREE TRANSLATIONS FOR TODAY. NEXT AVAILABLE IN  06 HOURS 48 MINUTES 22 SECONDS VISIT HTTPS://MYMEMORY.TRANSLATED.NET/DOC/USAGELIMITS.PHP TO TRANSLATE MORE',\n 'MYMEMORY WARNING: YOU USED ALL AVAILABLE FREE TRANSLATIONS FOR TODAY. NEXT AVAILABLE IN  06 HOURS 48 MINUTES 20 SECONDS VISIT HTTPS://MYMEMORY.TRANSLATED.NET/DOC/USAGELIMITS.PHP TO TRANSLATE MORE',\n 'MYMEMORY WARNING: YOU USED ALL AVAILABLE FREE TRANSLATIONS FOR TODAY. NEXT AVAILABLE IN  06 HOURS 48 MINUTES 19 SECONDS VISIT HTTPS://MYMEMORY.TRANSLATED.NET/DOC/USAGELIMITS.PHP TO TRANSLATE MORE',\n 'MYMEMORY WARNING: YOU USED ALL AVAILABLE FREE TRANSLATIONS FOR TODAY. NEXT AVAILABLE IN  06 HOURS 48 MINUTES 17 SECONDS VISIT HTTPS://MYMEMORY.TRANSLATED.NET/DOC/USAGELIMITS.PHP TO TRANSLATE MORE',\n 'MYMEMORY WARNING: YOU USED ALL AVAILABLE FREE TRANSLATIONS FOR TODAY. NEXT AVAILABLE IN  06 HOURS 48 MINUTES 15 SECONDS VISIT HTTPS://MYMEMORY.TRANSLATED.NET/DOC/USAGELIMITS.PHP TO TRANSLATE MORE',\n 'MYMEMORY WARNING: YOU USED ALL AVAILABLE FREE TRANSLATIONS FOR TODAY. NEXT AVAILABLE IN  06 HOURS 48 MINUTES 13 SECONDS VISIT HTTPS://MYMEMORY.TRANSLATED.NET/DOC/USAGELIMITS.PHP TO TRANSLATE MORE',\n 'MYMEMORY WARNING: YOU USED ALL AVAILABLE FREE TRANSLATIONS FOR TODAY. NEXT AVAILABLE IN  06 HOURS 48 MINUTES 11 SECONDS VISIT HTTPS://MYMEMORY.TRANSLATED.NET/DOC/USAGELIMITS.PHP TO TRANSLATE MORE',\n 'MYMEMORY WARNING: YOU USED ALL AVAILABLE FREE TRANSLATIONS FOR TODAY. NEXT AVAILABLE IN  06 HOURS 48 MINUTES 08 SECONDS VISIT HTTPS://MYMEMORY.TRANSLATED.NET/DOC/USAGELIMITS.PHP TO TRANSLATE MORE',\n 'MYMEMORY WARNING: YOU USED ALL AVAILABLE FREE TRANSLATIONS FOR TODAY. NEXT AVAILABLE IN  06 HOURS 48 MINUTES 06 SECONDS VISIT HTTPS://MYMEMORY.TRANSLATED.NET/DOC/USAGELIMITS.PHP TO TRANSLATE MORE',\n 'MYMEMORY WARNING: YOU USED ALL AVAILABLE FREE TRANSLATIONS FOR TODAY. NEXT AVAILABLE IN  06 HOURS 48 MINUTES 04 SECONDS VISIT HTTPS://MYMEMORY.TRANSLATED.NET/DOC/USAGELIMITS.PHP TO TRANSLATE MORE',\n 'MYMEMORY WARNING: YOU USED ALL AVAILABLE FREE TRANSLATIONS FOR TODAY. NEXT AVAILABLE IN  06 HOURS 48 MINUTES 03 SECONDS VISIT HTTPS://MYMEMORY.TRANSLATED.NET/DOC/USAGELIMITS.PHP TO TRANSLATE MORE',\n 'MYMEMORY WARNING: YOU USED ALL AVAILABLE FREE TRANSLATIONS FOR TODAY. NEXT AVAILABLE IN  06 HOURS 48 MINUTES 01 SECONDS VISIT HTTPS://MYMEMORY.TRANSLATED.NET/DOC/USAGELIMITS.PHP TO TRANSLATE MORE',\n 'MYMEMORY WARNING: YOU USED ALL AVAILABLE FREE TRANSLATIONS FOR TODAY. NEXT AVAILABLE IN  06 HOURS 47 MINUTES 59 SECONDS VISIT HTTPS://MYMEMORY.TRANSLATED.NET/DOC/USAGELIMITS.PHP TO TRANSLATE MORE',\n 'MYMEMORY WARNING: YOU USED ALL AVAILABLE FREE TRANSLATIONS FOR TODAY. NEXT AVAILABLE IN  06 HOURS 47 MINUTES 57 SECONDS VISIT HTTPS://MYMEMORY.TRANSLATED.NET/DOC/USAGELIMITS.PHP TO TRANSLATE MORE',\n 'MYMEMORY WARNING: YOU USED ALL AVAILABLE FREE TRANSLATIONS FOR TODAY. NEXT AVAILABLE IN  06 HOURS 47 MINUTES 55 SECONDS VISIT HTTPS://MYMEMORY.TRANSLATED.NET/DOC/USAGELIMITS.PHP TO TRANSLATE MORE',\n 'MYMEMORY WARNING: YOU USED ALL AVAILABLE FREE TRANSLATIONS FOR TODAY. NEXT AVAILABLE IN  06 HOURS 47 MINUTES 54 SECONDS VISIT HTTPS://MYMEMORY.TRANSLATED.NET/DOC/USAGELIMITS.PHP TO TRANSLATE MORE',\n 'MYMEMORY WARNING: YOU USED ALL AVAILABLE FREE TRANSLATIONS FOR TODAY. NEXT AVAILABLE IN  06 HOURS 47 MINUTES 52 SECONDS VISIT HTTPS://MYMEMORY.TRANSLATED.NET/DOC/USAGELIMITS.PHP TO TRANSLATE MORE',\n 'MYMEMORY WARNING: YOU USED ALL AVAILABLE FREE TRANSLATIONS FOR TODAY. NEXT AVAILABLE IN  06 HOURS 47 MINUTES 50 SECONDS VISIT HTTPS://MYMEMORY.TRANSLATED.NET/DOC/USAGELIMITS.PHP TO TRANSLATE MORE',\n 'MYMEMORY WARNING: YOU USED ALL AVAILABLE FREE TRANSLATIONS FOR TODAY. NEXT AVAILABLE IN  06 HOURS 47 MINUTES 48 SECONDS VISIT HTTPS://MYMEMORY.TRANSLATED.NET/DOC/USAGELIMITS.PHP TO TRANSLATE MORE',\n 'MYMEMORY WARNING: YOU USED ALL AVAILABLE FREE TRANSLATIONS FOR TODAY. NEXT AVAILABLE IN  06 HOURS 47 MINUTES 47 SECONDS VISIT HTTPS://MYMEMORY.TRANSLATED.NET/DOC/USAGELIMITS.PHP TO TRANSLATE MORE',\n 'MYMEMORY WARNING: YOU USED ALL AVAILABLE FREE TRANSLATIONS FOR TODAY. NEXT AVAILABLE IN  06 HOURS 47 MINUTES 45 SECONDS VISIT HTTPS://MYMEMORY.TRANSLATED.NET/DOC/USAGELIMITS.PHP TO TRANSLATE MORE',\n 'MYMEMORY WARNING: YOU USED ALL AVAILABLE FREE TRANSLATIONS FOR TODAY. NEXT AVAILABLE IN  06 HOURS 47 MINUTES 43 SECONDS VISIT HTTPS://MYMEMORY.TRANSLATED.NET/DOC/USAGELIMITS.PHP TO TRANSLATE MORE',\n 'MYMEMORY WARNING: YOU USED ALL AVAILABLE FREE TRANSLATIONS FOR TODAY. NEXT AVAILABLE IN  06 HOURS 47 MINUTES 41 SECONDS VISIT HTTPS://MYMEMORY.TRANSLATED.NET/DOC/USAGELIMITS.PHP TO TRANSLATE MORE',\n 'MYMEMORY WARNING: YOU USED ALL AVAILABLE FREE TRANSLATIONS FOR TODAY. NEXT AVAILABLE IN  06 HOURS 47 MINUTES 39 SECONDS VISIT HTTPS://MYMEMORY.TRANSLATED.NET/DOC/USAGELIMITS.PHP TO TRANSLATE MORE',\n 'MYMEMORY WARNING: YOU USED ALL AVAILABLE FREE TRANSLATIONS FOR TODAY. NEXT AVAILABLE IN  06 HOURS 47 MINUTES 38 SECONDS VISIT HTTPS://MYMEMORY.TRANSLATED.NET/DOC/USAGELIMITS.PHP TO TRANSLATE MORE',\n 'MYMEMORY WARNING: YOU USED ALL AVAILABLE FREE TRANSLATIONS FOR TODAY. NEXT AVAILABLE IN  06 HOURS 47 MINUTES 36 SECONDS VISIT HTTPS://MYMEMORY.TRANSLATED.NET/DOC/USAGELIMITS.PHP TO TRANSLATE MORE',\n 'MYMEMORY WARNING: YOU USED ALL AVAILABLE FREE TRANSLATIONS FOR TODAY. NEXT AVAILABLE IN  06 HOURS 47 MINUTES 34 SECONDS VISIT HTTPS://MYMEMORY.TRANSLATED.NET/DOC/USAGELIMITS.PHP TO TRANSLATE MORE',\n 'MYMEMORY WARNING: YOU USED ALL AVAILABLE FREE TRANSLATIONS FOR TODAY. NEXT AVAILABLE IN  06 HOURS 47 MINUTES 32 SECONDS VISIT HTTPS://MYMEMORY.TRANSLATED.NET/DOC/USAGELIMITS.PHP TO TRANSLATE MORE',\n 'MYMEMORY WARNING: YOU USED ALL AVAILABLE FREE TRANSLATIONS FOR TODAY. NEXT AVAILABLE IN  06 HOURS 47 MINUTES 31 SECONDS VISIT HTTPS://MYMEMORY.TRANSLATED.NET/DOC/USAGELIMITS.PHP TO TRANSLATE MORE',\n 'MYMEMORY WARNING: YOU USED ALL AVAILABLE FREE TRANSLATIONS FOR TODAY. NEXT AVAILABLE IN  06 HOURS 47 MINUTES 29 SECONDS VISIT HTTPS://MYMEMORY.TRANSLATED.NET/DOC/USAGELIMITS.PHP TO TRANSLATE MORE',\n 'MYMEMORY WARNING: YOU USED ALL AVAILABLE FREE TRANSLATIONS FOR TODAY. NEXT AVAILABLE IN  06 HOURS 47 MINUTES 27 SECONDS VISIT HTTPS://MYMEMORY.TRANSLATED.NET/DOC/USAGELIMITS.PHP TO TRANSLATE MORE',\n 'MYMEMORY WARNING: YOU USED ALL AVAILABLE FREE TRANSLATIONS FOR TODAY. NEXT AVAILABLE IN  06 HOURS 47 MINUTES 24 SECONDS VISIT HTTPS://MYMEMORY.TRANSLATED.NET/DOC/USAGELIMITS.PHP TO TRANSLATE MORE',\n 'MYMEMORY WARNING: YOU USED ALL AVAILABLE FREE TRANSLATIONS FOR TODAY. NEXT AVAILABLE IN  06 HOURS 47 MINUTES 22 SECONDS VISIT HTTPS://MYMEMORY.TRANSLATED.NET/DOC/USAGELIMITS.PHP TO TRANSLATE MORE',\n 'MYMEMORY WARNING: YOU USED ALL AVAILABLE FREE TRANSLATIONS FOR TODAY. NEXT AVAILABLE IN  06 HOURS 47 MINUTES 21 SECONDS VISIT HTTPS://MYMEMORY.TRANSLATED.NET/DOC/USAGELIMITS.PHP TO TRANSLATE MORE',\n 'MYMEMORY WARNING: YOU USED ALL AVAILABLE FREE TRANSLATIONS FOR TODAY. NEXT AVAILABLE IN  06 HOURS 47 MINUTES 19 SECONDS VISIT HTTPS://MYMEMORY.TRANSLATED.NET/DOC/USAGELIMITS.PHP TO TRANSLATE MORE',\n 'MYMEMORY WARNING: YOU USED ALL AVAILABLE FREE TRANSLATIONS FOR TODAY. NEXT AVAILABLE IN  06 HOURS 47 MINUTES 17 SECONDS VISIT HTTPS://MYMEMORY.TRANSLATED.NET/DOC/USAGELIMITS.PHP TO TRANSLATE MORE',\n 'MYMEMORY WARNING: YOU USED ALL AVAILABLE FREE TRANSLATIONS FOR TODAY. NEXT AVAILABLE IN  06 HOURS 47 MINUTES 15 SECONDS VISIT HTTPS://MYMEMORY.TRANSLATED.NET/DOC/USAGELIMITS.PHP TO TRANSLATE MORE',\n 'MYMEMORY WARNING: YOU USED ALL AVAILABLE FREE TRANSLATIONS FOR TODAY. NEXT AVAILABLE IN  06 HOURS 47 MINUTES 13 SECONDS VISIT HTTPS://MYMEMORY.TRANSLATED.NET/DOC/USAGELIMITS.PHP TO TRANSLATE MORE',\n 'MYMEMORY WARNING: YOU USED ALL AVAILABLE FREE TRANSLATIONS FOR TODAY. NEXT AVAILABLE IN  06 HOURS 47 MINUTES 12 SECONDS VISIT HTTPS://MYMEMORY.TRANSLATED.NET/DOC/USAGELIMITS.PHP TO TRANSLATE MORE',\n 'MYMEMORY WARNING: YOU USED ALL AVAILABLE FREE TRANSLATIONS FOR TODAY. NEXT AVAILABLE IN  06 HOURS 47 MINUTES 10 SECONDS VISIT HTTPS://MYMEMORY.TRANSLATED.NET/DOC/USAGELIMITS.PHP TO TRANSLATE MORE',\n 'MYMEMORY WARNING: YOU USED ALL AVAILABLE FREE TRANSLATIONS FOR TODAY. NEXT AVAILABLE IN  06 HOURS 47 MINUTES 08 SECONDS VISIT HTTPS://MYMEMORY.TRANSLATED.NET/DOC/USAGELIMITS.PHP TO TRANSLATE MORE',\n 'MYMEMORY WARNING: YOU USED ALL AVAILABLE FREE TRANSLATIONS FOR TODAY. NEXT AVAILABLE IN  06 HOURS 47 MINUTES 06 SECONDS VISIT HTTPS://MYMEMORY.TRANSLATED.NET/DOC/USAGELIMITS.PHP TO TRANSLATE MORE',\n 'MYMEMORY WARNING: YOU USED ALL AVAILABLE FREE TRANSLATIONS FOR TODAY. NEXT AVAILABLE IN  06 HOURS 47 MINUTES 04 SECONDS VISIT HTTPS://MYMEMORY.TRANSLATED.NET/DOC/USAGELIMITS.PHP TO TRANSLATE MORE',\n 'MYMEMORY WARNING: YOU USED ALL AVAILABLE FREE TRANSLATIONS FOR TODAY. NEXT AVAILABLE IN  06 HOURS 47 MINUTES 03 SECONDS VISIT HTTPS://MYMEMORY.TRANSLATED.NET/DOC/USAGELIMITS.PHP TO TRANSLATE MORE',\n 'MYMEMORY WARNING: YOU USED ALL AVAILABLE FREE TRANSLATIONS FOR TODAY. NEXT AVAILABLE IN  06 HOURS 47 MINUTES 01 SECONDS VISIT HTTPS://MYMEMORY.TRANSLATED.NET/DOC/USAGELIMITS.PHP TO TRANSLATE MORE',\n 'MYMEMORY WARNING: YOU USED ALL AVAILABLE FREE TRANSLATIONS FOR TODAY. NEXT AVAILABLE IN  06 HOURS 46 MINUTES 59 SECONDS VISIT HTTPS://MYMEMORY.TRANSLATED.NET/DOC/USAGELIMITS.PHP TO TRANSLATE MORE',\n 'MYMEMORY WARNING: YOU USED ALL AVAILABLE FREE TRANSLATIONS FOR TODAY. NEXT AVAILABLE IN  06 HOURS 46 MINUTES 57 SECONDS VISIT HTTPS://MYMEMORY.TRANSLATED.NET/DOC/USAGELIMITS.PHP TO TRANSLATE MORE',\n 'MYMEMORY WARNING: YOU USED ALL AVAILABLE FREE TRANSLATIONS FOR TODAY. NEXT AVAILABLE IN  06 HOURS 46 MINUTES 56 SECONDS VISIT HTTPS://MYMEMORY.TRANSLATED.NET/DOC/USAGELIMITS.PHP TO TRANSLATE MORE',\n 'MYMEMORY WARNING: YOU USED ALL AVAILABLE FREE TRANSLATIONS FOR TODAY. NEXT AVAILABLE IN  06 HOURS 46 MINUTES 54 SECONDS VISIT HTTPS://MYMEMORY.TRANSLATED.NET/DOC/USAGELIMITS.PHP TO TRANSLATE MORE',\n 'MYMEMORY WARNING: YOU USED ALL AVAILABLE FREE TRANSLATIONS FOR TODAY. NEXT AVAILABLE IN  06 HOURS 46 MINUTES 52 SECONDS VISIT HTTPS://MYMEMORY.TRANSLATED.NET/DOC/USAGELIMITS.PHP TO TRANSLATE MORE',\n 'MYMEMORY WARNING: YOU USED ALL AVAILABLE FREE TRANSLATIONS FOR TODAY. NEXT AVAILABLE IN  06 HOURS 46 MINUTES 50 SECONDS VISIT HTTPS://MYMEMORY.TRANSLATED.NET/DOC/USAGELIMITS.PHP TO TRANSLATE MORE',\n 'MYMEMORY WARNING: YOU USED ALL AVAILABLE FREE TRANSLATIONS FOR TODAY. NEXT AVAILABLE IN  06 HOURS 46 MINUTES 48 SECONDS VISIT HTTPS://MYMEMORY.TRANSLATED.NET/DOC/USAGELIMITS.PHP TO TRANSLATE MORE',\n 'MYMEMORY WARNING: YOU USED ALL AVAILABLE FREE TRANSLATIONS FOR TODAY. NEXT AVAILABLE IN  06 HOURS 46 MINUTES 47 SECONDS VISIT HTTPS://MYMEMORY.TRANSLATED.NET/DOC/USAGELIMITS.PHP TO TRANSLATE MORE',\n 'MYMEMORY WARNING: YOU USED ALL AVAILABLE FREE TRANSLATIONS FOR TODAY. NEXT AVAILABLE IN  06 HOURS 46 MINUTES 45 SECONDS VISIT HTTPS://MYMEMORY.TRANSLATED.NET/DOC/USAGELIMITS.PHP TO TRANSLATE MORE',\n 'MYMEMORY WARNING: YOU USED ALL AVAILABLE FREE TRANSLATIONS FOR TODAY. NEXT AVAILABLE IN  06 HOURS 46 MINUTES 43 SECONDS VISIT HTTPS://MYMEMORY.TRANSLATED.NET/DOC/USAGELIMITS.PHP TO TRANSLATE MORE',\n 'MYMEMORY WARNING: YOU USED ALL AVAILABLE FREE TRANSLATIONS FOR TODAY. NEXT AVAILABLE IN  06 HOURS 46 MINUTES 39 SECONDS VISIT HTTPS://MYMEMORY.TRANSLATED.NET/DOC/USAGELIMITS.PHP TO TRANSLATE MORE',\n 'MYMEMORY WARNING: YOU USED ALL AVAILABLE FREE TRANSLATIONS FOR TODAY. NEXT AVAILABLE IN  06 HOURS 46 MINUTES 38 SECONDS VISIT HTTPS://MYMEMORY.TRANSLATED.NET/DOC/USAGELIMITS.PHP TO TRANSLATE MORE',\n 'MYMEMORY WARNING: YOU USED ALL AVAILABLE FREE TRANSLATIONS FOR TODAY. NEXT AVAILABLE IN  06 HOURS 46 MINUTES 36 SECONDS VISIT HTTPS://MYMEMORY.TRANSLATED.NET/DOC/USAGELIMITS.PHP TO TRANSLATE MORE',\n 'MYMEMORY WARNING: YOU USED ALL AVAILABLE FREE TRANSLATIONS FOR TODAY. NEXT AVAILABLE IN  06 HOURS 46 MINUTES 34 SECONDS VISIT HTTPS://MYMEMORY.TRANSLATED.NET/DOC/USAGELIMITS.PHP TO TRANSLATE MORE',\n 'MYMEMORY WARNING: YOU USED ALL AVAILABLE FREE TRANSLATIONS FOR TODAY. NEXT AVAILABLE IN  06 HOURS 46 MINUTES 32 SECONDS VISIT HTTPS://MYMEMORY.TRANSLATED.NET/DOC/USAGELIMITS.PHP TO TRANSLATE MORE',\n 'MYMEMORY WARNING: YOU USED ALL AVAILABLE FREE TRANSLATIONS FOR TODAY. NEXT AVAILABLE IN  06 HOURS 46 MINUTES 31 SECONDS VISIT HTTPS://MYMEMORY.TRANSLATED.NET/DOC/USAGELIMITS.PHP TO TRANSLATE MORE',\n 'MYMEMORY WARNING: YOU USED ALL AVAILABLE FREE TRANSLATIONS FOR TODAY. NEXT AVAILABLE IN  06 HOURS 46 MINUTES 29 SECONDS VISIT HTTPS://MYMEMORY.TRANSLATED.NET/DOC/USAGELIMITS.PHP TO TRANSLATE MORE',\n 'MYMEMORY WARNING: YOU USED ALL AVAILABLE FREE TRANSLATIONS FOR TODAY. NEXT AVAILABLE IN  06 HOURS 46 MINUTES 27 SECONDS VISIT HTTPS://MYMEMORY.TRANSLATED.NET/DOC/USAGELIMITS.PHP TO TRANSLATE MORE',\n 'MYMEMORY WARNING: YOU USED ALL AVAILABLE FREE TRANSLATIONS FOR TODAY. NEXT AVAILABLE IN  06 HOURS 46 MINUTES 25 SECONDS VISIT HTTPS://MYMEMORY.TRANSLATED.NET/DOC/USAGELIMITS.PHP TO TRANSLATE MORE',\n 'MYMEMORY WARNING: YOU USED ALL AVAILABLE FREE TRANSLATIONS FOR TODAY. NEXT AVAILABLE IN  06 HOURS 46 MINUTES 23 SECONDS VISIT HTTPS://MYMEMORY.TRANSLATED.NET/DOC/USAGELIMITS.PHP TO TRANSLATE MORE',\n 'MYMEMORY WARNING: YOU USED ALL AVAILABLE FREE TRANSLATIONS FOR TODAY. NEXT AVAILABLE IN  06 HOURS 46 MINUTES 22 SECONDS VISIT HTTPS://MYMEMORY.TRANSLATED.NET/DOC/USAGELIMITS.PHP TO TRANSLATE MORE',\n 'MYMEMORY WARNING: YOU USED ALL AVAILABLE FREE TRANSLATIONS FOR TODAY. NEXT AVAILABLE IN  06 HOURS 46 MINUTES 20 SECONDS VISIT HTTPS://MYMEMORY.TRANSLATED.NET/DOC/USAGELIMITS.PHP TO TRANSLATE MORE',\n 'MYMEMORY WARNING: YOU USED ALL AVAILABLE FREE TRANSLATIONS FOR TODAY. NEXT AVAILABLE IN  06 HOURS 46 MINUTES 18 SECONDS VISIT HTTPS://MYMEMORY.TRANSLATED.NET/DOC/USAGELIMITS.PHP TO TRANSLATE MORE',\n 'MYMEMORY WARNING: YOU USED ALL AVAILABLE FREE TRANSLATIONS FOR TODAY. NEXT AVAILABLE IN  06 HOURS 46 MINUTES 16 SECONDS VISIT HTTPS://MYMEMORY.TRANSLATED.NET/DOC/USAGELIMITS.PHP TO TRANSLATE MORE',\n 'MYMEMORY WARNING: YOU USED ALL AVAILABLE FREE TRANSLATIONS FOR TODAY. NEXT AVAILABLE IN  06 HOURS 46 MINUTES 14 SECONDS VISIT HTTPS://MYMEMORY.TRANSLATED.NET/DOC/USAGELIMITS.PHP TO TRANSLATE MORE',\n 'MYMEMORY WARNING: YOU USED ALL AVAILABLE FREE TRANSLATIONS FOR TODAY. NEXT AVAILABLE IN  06 HOURS 46 MINUTES 13 SECONDS VISIT HTTPS://MYMEMORY.TRANSLATED.NET/DOC/USAGELIMITS.PHP TO TRANSLATE MORE',\n 'MYMEMORY WARNING: YOU USED ALL AVAILABLE FREE TRANSLATIONS FOR TODAY. NEXT AVAILABLE IN  06 HOURS 46 MINUTES 11 SECONDS VISIT HTTPS://MYMEMORY.TRANSLATED.NET/DOC/USAGELIMITS.PHP TO TRANSLATE MORE',\n 'MYMEMORY WARNING: YOU USED ALL AVAILABLE FREE TRANSLATIONS FOR TODAY. NEXT AVAILABLE IN  06 HOURS 46 MINUTES 08 SECONDS VISIT HTTPS://MYMEMORY.TRANSLATED.NET/DOC/USAGELIMITS.PHP TO TRANSLATE MORE',\n 'MYMEMORY WARNING: YOU USED ALL AVAILABLE FREE TRANSLATIONS FOR TODAY. NEXT AVAILABLE IN  06 HOURS 46 MINUTES 06 SECONDS VISIT HTTPS://MYMEMORY.TRANSLATED.NET/DOC/USAGELIMITS.PHP TO TRANSLATE MORE',\n 'MYMEMORY WARNING: YOU USED ALL AVAILABLE FREE TRANSLATIONS FOR TODAY. NEXT AVAILABLE IN  06 HOURS 46 MINUTES 05 SECONDS VISIT HTTPS://MYMEMORY.TRANSLATED.NET/DOC/USAGELIMITS.PHP TO TRANSLATE MORE',\n 'MYMEMORY WARNING: YOU USED ALL AVAILABLE FREE TRANSLATIONS FOR TODAY. NEXT AVAILABLE IN  06 HOURS 46 MINUTES 03 SECONDS VISIT HTTPS://MYMEMORY.TRANSLATED.NET/DOC/USAGELIMITS.PHP TO TRANSLATE MORE',\n 'MYMEMORY WARNING: YOU USED ALL AVAILABLE FREE TRANSLATIONS FOR TODAY. NEXT AVAILABLE IN  06 HOURS 46 MINUTES 01 SECONDS VISIT HTTPS://MYMEMORY.TRANSLATED.NET/DOC/USAGELIMITS.PHP TO TRANSLATE MORE',\n 'MYMEMORY WARNING: YOU USED ALL AVAILABLE FREE TRANSLATIONS FOR TODAY. NEXT AVAILABLE IN  06 HOURS 45 MINUTES 59 SECONDS VISIT HTTPS://MYMEMORY.TRANSLATED.NET/DOC/USAGELIMITS.PHP TO TRANSLATE MORE',\n 'MYMEMORY WARNING: YOU USED ALL AVAILABLE FREE TRANSLATIONS FOR TODAY. NEXT AVAILABLE IN  06 HOURS 45 MINUTES 57 SECONDS VISIT HTTPS://MYMEMORY.TRANSLATED.NET/DOC/USAGELIMITS.PHP TO TRANSLATE MORE',\n 'MYMEMORY WARNING: YOU USED ALL AVAILABLE FREE TRANSLATIONS FOR TODAY. NEXT AVAILABLE IN  06 HOURS 45 MINUTES 56 SECONDS VISIT HTTPS://MYMEMORY.TRANSLATED.NET/DOC/USAGELIMITS.PHP TO TRANSLATE MORE',\n 'MYMEMORY WARNING: YOU USED ALL AVAILABLE FREE TRANSLATIONS FOR TODAY. NEXT AVAILABLE IN  06 HOURS 45 MINUTES 54 SECONDS VISIT HTTPS://MYMEMORY.TRANSLATED.NET/DOC/USAGELIMITS.PHP TO TRANSLATE MORE',\n 'MYMEMORY WARNING: YOU USED ALL AVAILABLE FREE TRANSLATIONS FOR TODAY. NEXT AVAILABLE IN  06 HOURS 45 MINUTES 52 SECONDS VISIT HTTPS://MYMEMORY.TRANSLATED.NET/DOC/USAGELIMITS.PHP TO TRANSLATE MORE',\n 'MYMEMORY WARNING: YOU USED ALL AVAILABLE FREE TRANSLATIONS FOR TODAY. NEXT AVAILABLE IN  06 HOURS 45 MINUTES 50 SECONDS VISIT HTTPS://MYMEMORY.TRANSLATED.NET/DOC/USAGELIMITS.PHP TO TRANSLATE MORE',\n 'MYMEMORY WARNING: YOU USED ALL AVAILABLE FREE TRANSLATIONS FOR TODAY. NEXT AVAILABLE IN  06 HOURS 45 MINUTES 49 SECONDS VISIT HTTPS://MYMEMORY.TRANSLATED.NET/DOC/USAGELIMITS.PHP TO TRANSLATE MORE',\n 'MYMEMORY WARNING: YOU USED ALL AVAILABLE FREE TRANSLATIONS FOR TODAY. NEXT AVAILABLE IN  06 HOURS 45 MINUTES 47 SECONDS VISIT HTTPS://MYMEMORY.TRANSLATED.NET/DOC/USAGELIMITS.PHP TO TRANSLATE MORE',\n 'MYMEMORY WARNING: YOU USED ALL AVAILABLE FREE TRANSLATIONS FOR TODAY. NEXT AVAILABLE IN  06 HOURS 45 MINUTES 45 SECONDS VISIT HTTPS://MYMEMORY.TRANSLATED.NET/DOC/USAGELIMITS.PHP TO TRANSLATE MORE',\n 'MYMEMORY WARNING: YOU USED ALL AVAILABLE FREE TRANSLATIONS FOR TODAY. NEXT AVAILABLE IN  06 HOURS 45 MINUTES 43 SECONDS VISIT HTTPS://MYMEMORY.TRANSLATED.NET/DOC/USAGELIMITS.PHP TO TRANSLATE MORE',\n 'MYMEMORY WARNING: YOU USED ALL AVAILABLE FREE TRANSLATIONS FOR TODAY. NEXT AVAILABLE IN  06 HOURS 45 MINUTES 41 SECONDS VISIT HTTPS://MYMEMORY.TRANSLATED.NET/DOC/USAGELIMITS.PHP TO TRANSLATE MORE',\n 'MYMEMORY WARNING: YOU USED ALL AVAILABLE FREE TRANSLATIONS FOR TODAY. NEXT AVAILABLE IN  06 HOURS 45 MINUTES 40 SECONDS VISIT HTTPS://MYMEMORY.TRANSLATED.NET/DOC/USAGELIMITS.PHP TO TRANSLATE MORE',\n 'MYMEMORY WARNING: YOU USED ALL AVAILABLE FREE TRANSLATIONS FOR TODAY. NEXT AVAILABLE IN  06 HOURS 45 MINUTES 38 SECONDS VISIT HTTPS://MYMEMORY.TRANSLATED.NET/DOC/USAGELIMITS.PHP TO TRANSLATE MORE',\n 'MYMEMORY WARNING: YOU USED ALL AVAILABLE FREE TRANSLATIONS FOR TODAY. NEXT AVAILABLE IN  06 HOURS 45 MINUTES 36 SECONDS VISIT HTTPS://MYMEMORY.TRANSLATED.NET/DOC/USAGELIMITS.PHP TO TRANSLATE MORE',\n 'MYMEMORY WARNING: YOU USED ALL AVAILABLE FREE TRANSLATIONS FOR TODAY. NEXT AVAILABLE IN  06 HOURS 45 MINUTES 34 SECONDS VISIT HTTPS://MYMEMORY.TRANSLATED.NET/DOC/USAGELIMITS.PHP TO TRANSLATE MORE',\n 'MYMEMORY WARNING: YOU USED ALL AVAILABLE FREE TRANSLATIONS FOR TODAY. NEXT AVAILABLE IN  06 HOURS 45 MINUTES 33 SECONDS VISIT HTTPS://MYMEMORY.TRANSLATED.NET/DOC/USAGELIMITS.PHP TO TRANSLATE MORE',\n 'MYMEMORY WARNING: YOU USED ALL AVAILABLE FREE TRANSLATIONS FOR TODAY. NEXT AVAILABLE IN  06 HOURS 45 MINUTES 31 SECONDS VISIT HTTPS://MYMEMORY.TRANSLATED.NET/DOC/USAGELIMITS.PHP TO TRANSLATE MORE',\n 'MYMEMORY WARNING: YOU USED ALL AVAILABLE FREE TRANSLATIONS FOR TODAY. NEXT AVAILABLE IN  06 HOURS 45 MINUTES 29 SECONDS VISIT HTTPS://MYMEMORY.TRANSLATED.NET/DOC/USAGELIMITS.PHP TO TRANSLATE MORE',\n 'MYMEMORY WARNING: YOU USED ALL AVAILABLE FREE TRANSLATIONS FOR TODAY. NEXT AVAILABLE IN  06 HOURS 45 MINUTES 27 SECONDS VISIT HTTPS://MYMEMORY.TRANSLATED.NET/DOC/USAGELIMITS.PHP TO TRANSLATE MORE',\n 'MYMEMORY WARNING: YOU USED ALL AVAILABLE FREE TRANSLATIONS FOR TODAY. NEXT AVAILABLE IN  06 HOURS 45 MINUTES 25 SECONDS VISIT HTTPS://MYMEMORY.TRANSLATED.NET/DOC/USAGELIMITS.PHP TO TRANSLATE MORE',\n 'MYMEMORY WARNING: YOU USED ALL AVAILABLE FREE TRANSLATIONS FOR TODAY. NEXT AVAILABLE IN  06 HOURS 45 MINUTES 24 SECONDS VISIT HTTPS://MYMEMORY.TRANSLATED.NET/DOC/USAGELIMITS.PHP TO TRANSLATE MORE',\n 'MYMEMORY WARNING: YOU USED ALL AVAILABLE FREE TRANSLATIONS FOR TODAY. NEXT AVAILABLE IN  06 HOURS 45 MINUTES 22 SECONDS VISIT HTTPS://MYMEMORY.TRANSLATED.NET/DOC/USAGELIMITS.PHP TO TRANSLATE MORE',\n 'MYMEMORY WARNING: YOU USED ALL AVAILABLE FREE TRANSLATIONS FOR TODAY. NEXT AVAILABLE IN  06 HOURS 45 MINUTES 20 SECONDS VISIT HTTPS://MYMEMORY.TRANSLATED.NET/DOC/USAGELIMITS.PHP TO TRANSLATE MORE',\n 'MYMEMORY WARNING: YOU USED ALL AVAILABLE FREE TRANSLATIONS FOR TODAY. NEXT AVAILABLE IN  06 HOURS 45 MINUTES 18 SECONDS VISIT HTTPS://MYMEMORY.TRANSLATED.NET/DOC/USAGELIMITS.PHP TO TRANSLATE MORE',\n 'MYMEMORY WARNING: YOU USED ALL AVAILABLE FREE TRANSLATIONS FOR TODAY. NEXT AVAILABLE IN  06 HOURS 45 MINUTES 16 SECONDS VISIT HTTPS://MYMEMORY.TRANSLATED.NET/DOC/USAGELIMITS.PHP TO TRANSLATE MORE',\n 'MYMEMORY WARNING: YOU USED ALL AVAILABLE FREE TRANSLATIONS FOR TODAY. NEXT AVAILABLE IN  06 HOURS 45 MINUTES 15 SECONDS VISIT HTTPS://MYMEMORY.TRANSLATED.NET/DOC/USAGELIMITS.PHP TO TRANSLATE MORE',\n 'MYMEMORY WARNING: YOU USED ALL AVAILABLE FREE TRANSLATIONS FOR TODAY. NEXT AVAILABLE IN  06 HOURS 45 MINUTES 13 SECONDS VISIT HTTPS://MYMEMORY.TRANSLATED.NET/DOC/USAGELIMITS.PHP TO TRANSLATE MORE',\n 'MYMEMORY WARNING: YOU USED ALL AVAILABLE FREE TRANSLATIONS FOR TODAY. NEXT AVAILABLE IN  06 HOURS 45 MINUTES 11 SECONDS VISIT HTTPS://MYMEMORY.TRANSLATED.NET/DOC/USAGELIMITS.PHP TO TRANSLATE MORE',\n 'MYMEMORY WARNING: YOU USED ALL AVAILABLE FREE TRANSLATIONS FOR TODAY. NEXT AVAILABLE IN  06 HOURS 45 MINUTES 09 SECONDS VISIT HTTPS://MYMEMORY.TRANSLATED.NET/DOC/USAGELIMITS.PHP TO TRANSLATE MORE',\n 'MYMEMORY WARNING: YOU USED ALL AVAILABLE FREE TRANSLATIONS FOR TODAY. NEXT AVAILABLE IN  06 HOURS 45 MINUTES 07 SECONDS VISIT HTTPS://MYMEMORY.TRANSLATED.NET/DOC/USAGELIMITS.PHP TO TRANSLATE MORE',\n 'MYMEMORY WARNING: YOU USED ALL AVAILABLE FREE TRANSLATIONS FOR TODAY. NEXT AVAILABLE IN  06 HOURS 45 MINUTES 06 SECONDS VISIT HTTPS://MYMEMORY.TRANSLATED.NET/DOC/USAGELIMITS.PHP TO TRANSLATE MORE',\n 'MYMEMORY WARNING: YOU USED ALL AVAILABLE FREE TRANSLATIONS FOR TODAY. NEXT AVAILABLE IN  06 HOURS 45 MINUTES 04 SECONDS VISIT HTTPS://MYMEMORY.TRANSLATED.NET/DOC/USAGELIMITS.PHP TO TRANSLATE MORE',\n 'MYMEMORY WARNING: YOU USED ALL AVAILABLE FREE TRANSLATIONS FOR TODAY. NEXT AVAILABLE IN  06 HOURS 45 MINUTES 02 SECONDS VISIT HTTPS://MYMEMORY.TRANSLATED.NET/DOC/USAGELIMITS.PHP TO TRANSLATE MORE',\n 'MYMEMORY WARNING: YOU USED ALL AVAILABLE FREE TRANSLATIONS FOR TODAY. NEXT AVAILABLE IN  06 HOURS 45 MINUTES 00 SECONDS VISIT HTTPS://MYMEMORY.TRANSLATED.NET/DOC/USAGELIMITS.PHP TO TRANSLATE MORE',\n 'MYMEMORY WARNING: YOU USED ALL AVAILABLE FREE TRANSLATIONS FOR TODAY. NEXT AVAILABLE IN  06 HOURS 44 MINUTES 59 SECONDS VISIT HTTPS://MYMEMORY.TRANSLATED.NET/DOC/USAGELIMITS.PHP TO TRANSLATE MORE',\n 'MYMEMORY WARNING: YOU USED ALL AVAILABLE FREE TRANSLATIONS FOR TODAY. NEXT AVAILABLE IN  06 HOURS 44 MINUTES 57 SECONDS VISIT HTTPS://MYMEMORY.TRANSLATED.NET/DOC/USAGELIMITS.PHP TO TRANSLATE MORE',\n 'MYMEMORY WARNING: YOU USED ALL AVAILABLE FREE TRANSLATIONS FOR TODAY. NEXT AVAILABLE IN  06 HOURS 44 MINUTES 55 SECONDS VISIT HTTPS://MYMEMORY.TRANSLATED.NET/DOC/USAGELIMITS.PHP TO TRANSLATE MORE',\n 'MYMEMORY WARNING: YOU USED ALL AVAILABLE FREE TRANSLATIONS FOR TODAY. NEXT AVAILABLE IN  06 HOURS 44 MINUTES 53 SECONDS VISIT HTTPS://MYMEMORY.TRANSLATED.NET/DOC/USAGELIMITS.PHP TO TRANSLATE MORE',\n 'MYMEMORY WARNING: YOU USED ALL AVAILABLE FREE TRANSLATIONS FOR TODAY. NEXT AVAILABLE IN  06 HOURS 44 MINUTES 51 SECONDS VISIT HTTPS://MYMEMORY.TRANSLATED.NET/DOC/USAGELIMITS.PHP TO TRANSLATE MORE',\n 'MYMEMORY WARNING: YOU USED ALL AVAILABLE FREE TRANSLATIONS FOR TODAY. NEXT AVAILABLE IN  06 HOURS 44 MINUTES 50 SECONDS VISIT HTTPS://MYMEMORY.TRANSLATED.NET/DOC/USAGELIMITS.PHP TO TRANSLATE MORE',\n 'MYMEMORY WARNING: YOU USED ALL AVAILABLE FREE TRANSLATIONS FOR TODAY. NEXT AVAILABLE IN  06 HOURS 44 MINUTES 48 SECONDS VISIT HTTPS://MYMEMORY.TRANSLATED.NET/DOC/USAGELIMITS.PHP TO TRANSLATE MORE',\n 'MYMEMORY WARNING: YOU USED ALL AVAILABLE FREE TRANSLATIONS FOR TODAY. NEXT AVAILABLE IN  06 HOURS 44 MINUTES 46 SECONDS VISIT HTTPS://MYMEMORY.TRANSLATED.NET/DOC/USAGELIMITS.PHP TO TRANSLATE MORE',\n 'MYMEMORY WARNING: YOU USED ALL AVAILABLE FREE TRANSLATIONS FOR TODAY. NEXT AVAILABLE IN  06 HOURS 44 MINUTES 44 SECONDS VISIT HTTPS://MYMEMORY.TRANSLATED.NET/DOC/USAGELIMITS.PHP TO TRANSLATE MORE',\n 'MYMEMORY WARNING: YOU USED ALL AVAILABLE FREE TRANSLATIONS FOR TODAY. NEXT AVAILABLE IN  06 HOURS 44 MINUTES 43 SECONDS VISIT HTTPS://MYMEMORY.TRANSLATED.NET/DOC/USAGELIMITS.PHP TO TRANSLATE MORE',\n 'MYMEMORY WARNING: YOU USED ALL AVAILABLE FREE TRANSLATIONS FOR TODAY. NEXT AVAILABLE IN  06 HOURS 44 MINUTES 41 SECONDS VISIT HTTPS://MYMEMORY.TRANSLATED.NET/DOC/USAGELIMITS.PHP TO TRANSLATE MORE',\n 'MYMEMORY WARNING: YOU USED ALL AVAILABLE FREE TRANSLATIONS FOR TODAY. NEXT AVAILABLE IN  06 HOURS 44 MINUTES 39 SECONDS VISIT HTTPS://MYMEMORY.TRANSLATED.NET/DOC/USAGELIMITS.PHP TO TRANSLATE MORE',\n 'MYMEMORY WARNING: YOU USED ALL AVAILABLE FREE TRANSLATIONS FOR TODAY. NEXT AVAILABLE IN  06 HOURS 44 MINUTES 37 SECONDS VISIT HTTPS://MYMEMORY.TRANSLATED.NET/DOC/USAGELIMITS.PHP TO TRANSLATE MORE',\n 'MYMEMORY WARNING: YOU USED ALL AVAILABLE FREE TRANSLATIONS FOR TODAY. NEXT AVAILABLE IN  06 HOURS 44 MINUTES 35 SECONDS VISIT HTTPS://MYMEMORY.TRANSLATED.NET/DOC/USAGELIMITS.PHP TO TRANSLATE MORE',\n 'MYMEMORY WARNING: YOU USED ALL AVAILABLE FREE TRANSLATIONS FOR TODAY. NEXT AVAILABLE IN  06 HOURS 44 MINUTES 34 SECONDS VISIT HTTPS://MYMEMORY.TRANSLATED.NET/DOC/USAGELIMITS.PHP TO TRANSLATE MORE',\n 'MYMEMORY WARNING: YOU USED ALL AVAILABLE FREE TRANSLATIONS FOR TODAY. NEXT AVAILABLE IN  06 HOURS 44 MINUTES 32 SECONDS VISIT HTTPS://MYMEMORY.TRANSLATED.NET/DOC/USAGELIMITS.PHP TO TRANSLATE MORE',\n 'MYMEMORY WARNING: YOU USED ALL AVAILABLE FREE TRANSLATIONS FOR TODAY. NEXT AVAILABLE IN  06 HOURS 44 MINUTES 30 SECONDS VISIT HTTPS://MYMEMORY.TRANSLATED.NET/DOC/USAGELIMITS.PHP TO TRANSLATE MORE',\n 'MYMEMORY WARNING: YOU USED ALL AVAILABLE FREE TRANSLATIONS FOR TODAY. NEXT AVAILABLE IN  06 HOURS 44 MINUTES 28 SECONDS VISIT HTTPS://MYMEMORY.TRANSLATED.NET/DOC/USAGELIMITS.PHP TO TRANSLATE MORE',\n 'MYMEMORY WARNING: YOU USED ALL AVAILABLE FREE TRANSLATIONS FOR TODAY. NEXT AVAILABLE IN  06 HOURS 44 MINUTES 27 SECONDS VISIT HTTPS://MYMEMORY.TRANSLATED.NET/DOC/USAGELIMITS.PHP TO TRANSLATE MORE',\n 'MYMEMORY WARNING: YOU USED ALL AVAILABLE FREE TRANSLATIONS FOR TODAY. NEXT AVAILABLE IN  06 HOURS 44 MINUTES 25 SECONDS VISIT HTTPS://MYMEMORY.TRANSLATED.NET/DOC/USAGELIMITS.PHP TO TRANSLATE MORE',\n 'MYMEMORY WARNING: YOU USED ALL AVAILABLE FREE TRANSLATIONS FOR TODAY. NEXT AVAILABLE IN  06 HOURS 44 MINUTES 23 SECONDS VISIT HTTPS://MYMEMORY.TRANSLATED.NET/DOC/USAGELIMITS.PHP TO TRANSLATE MORE',\n 'MYMEMORY WARNING: YOU USED ALL AVAILABLE FREE TRANSLATIONS FOR TODAY. NEXT AVAILABLE IN  06 HOURS 44 MINUTES 21 SECONDS VISIT HTTPS://MYMEMORY.TRANSLATED.NET/DOC/USAGELIMITS.PHP TO TRANSLATE MORE',\n 'MYMEMORY WARNING: YOU USED ALL AVAILABLE FREE TRANSLATIONS FOR TODAY. NEXT AVAILABLE IN  06 HOURS 44 MINUTES 19 SECONDS VISIT HTTPS://MYMEMORY.TRANSLATED.NET/DOC/USAGELIMITS.PHP TO TRANSLATE MORE',\n 'MYMEMORY WARNING: YOU USED ALL AVAILABLE FREE TRANSLATIONS FOR TODAY. NEXT AVAILABLE IN  06 HOURS 44 MINUTES 18 SECONDS VISIT HTTPS://MYMEMORY.TRANSLATED.NET/DOC/USAGELIMITS.PHP TO TRANSLATE MORE',\n 'MYMEMORY WARNING: YOU USED ALL AVAILABLE FREE TRANSLATIONS FOR TODAY. NEXT AVAILABLE IN  06 HOURS 44 MINUTES 16 SECONDS VISIT HTTPS://MYMEMORY.TRANSLATED.NET/DOC/USAGELIMITS.PHP TO TRANSLATE MORE',\n 'MYMEMORY WARNING: YOU USED ALL AVAILABLE FREE TRANSLATIONS FOR TODAY. NEXT AVAILABLE IN  06 HOURS 44 MINUTES 14 SECONDS VISIT HTTPS://MYMEMORY.TRANSLATED.NET/DOC/USAGELIMITS.PHP TO TRANSLATE MORE',\n 'MYMEMORY WARNING: YOU USED ALL AVAILABLE FREE TRANSLATIONS FOR TODAY. NEXT AVAILABLE IN  06 HOURS 44 MINUTES 12 SECONDS VISIT HTTPS://MYMEMORY.TRANSLATED.NET/DOC/USAGELIMITS.PHP TO TRANSLATE MORE',\n 'MYMEMORY WARNING: YOU USED ALL AVAILABLE FREE TRANSLATIONS FOR TODAY. NEXT AVAILABLE IN  06 HOURS 44 MINUTES 10 SECONDS VISIT HTTPS://MYMEMORY.TRANSLATED.NET/DOC/USAGELIMITS.PHP TO TRANSLATE MORE',\n 'MYMEMORY WARNING: YOU USED ALL AVAILABLE FREE TRANSLATIONS FOR TODAY. NEXT AVAILABLE IN  06 HOURS 44 MINUTES 09 SECONDS VISIT HTTPS://MYMEMORY.TRANSLATED.NET/DOC/USAGELIMITS.PHP TO TRANSLATE MORE',\n 'MYMEMORY WARNING: YOU USED ALL AVAILABLE FREE TRANSLATIONS FOR TODAY. NEXT AVAILABLE IN  06 HOURS 44 MINUTES 07 SECONDS VISIT HTTPS://MYMEMORY.TRANSLATED.NET/DOC/USAGELIMITS.PHP TO TRANSLATE MORE',\n 'MYMEMORY WARNING: YOU USED ALL AVAILABLE FREE TRANSLATIONS FOR TODAY. NEXT AVAILABLE IN  06 HOURS 44 MINUTES 05 SECONDS VISIT HTTPS://MYMEMORY.TRANSLATED.NET/DOC/USAGELIMITS.PHP TO TRANSLATE MORE',\n 'MYMEMORY WARNING: YOU USED ALL AVAILABLE FREE TRANSLATIONS FOR TODAY. NEXT AVAILABLE IN  06 HOURS 44 MINUTES 03 SECONDS VISIT HTTPS://MYMEMORY.TRANSLATED.NET/DOC/USAGELIMITS.PHP TO TRANSLATE MORE',\n 'MYMEMORY WARNING: YOU USED ALL AVAILABLE FREE TRANSLATIONS FOR TODAY. NEXT AVAILABLE IN  06 HOURS 44 MINUTES 01 SECONDS VISIT HTTPS://MYMEMORY.TRANSLATED.NET/DOC/USAGELIMITS.PHP TO TRANSLATE MORE',\n 'MYMEMORY WARNING: YOU USED ALL AVAILABLE FREE TRANSLATIONS FOR TODAY. NEXT AVAILABLE IN  06 HOURS 44 MINUTES 00 SECONDS VISIT HTTPS://MYMEMORY.TRANSLATED.NET/DOC/USAGELIMITS.PHP TO TRANSLATE MORE',\n 'MYMEMORY WARNING: YOU USED ALL AVAILABLE FREE TRANSLATIONS FOR TODAY. NEXT AVAILABLE IN  06 HOURS 43 MINUTES 58 SECONDS VISIT HTTPS://MYMEMORY.TRANSLATED.NET/DOC/USAGELIMITS.PHP TO TRANSLATE MORE',\n 'MYMEMORY WARNING: YOU USED ALL AVAILABLE FREE TRANSLATIONS FOR TODAY. NEXT AVAILABLE IN  06 HOURS 43 MINUTES 56 SECONDS VISIT HTTPS://MYMEMORY.TRANSLATED.NET/DOC/USAGELIMITS.PHP TO TRANSLATE MORE',\n 'MYMEMORY WARNING: YOU USED ALL AVAILABLE FREE TRANSLATIONS FOR TODAY. NEXT AVAILABLE IN  06 HOURS 43 MINUTES 54 SECONDS VISIT HTTPS://MYMEMORY.TRANSLATED.NET/DOC/USAGELIMITS.PHP TO TRANSLATE MORE',\n 'MYMEMORY WARNING: YOU USED ALL AVAILABLE FREE TRANSLATIONS FOR TODAY. NEXT AVAILABLE IN  06 HOURS 43 MINUTES 53 SECONDS VISIT HTTPS://MYMEMORY.TRANSLATED.NET/DOC/USAGELIMITS.PHP TO TRANSLATE MORE',\n 'MYMEMORY WARNING: YOU USED ALL AVAILABLE FREE TRANSLATIONS FOR TODAY. NEXT AVAILABLE IN  06 HOURS 43 MINUTES 51 SECONDS VISIT HTTPS://MYMEMORY.TRANSLATED.NET/DOC/USAGELIMITS.PHP TO TRANSLATE MORE',\n 'MYMEMORY WARNING: YOU USED ALL AVAILABLE FREE TRANSLATIONS FOR TODAY. NEXT AVAILABLE IN  06 HOURS 43 MINUTES 48 SECONDS VISIT HTTPS://MYMEMORY.TRANSLATED.NET/DOC/USAGELIMITS.PHP TO TRANSLATE MORE',\n 'MYMEMORY WARNING: YOU USED ALL AVAILABLE FREE TRANSLATIONS FOR TODAY. NEXT AVAILABLE IN  06 HOURS 43 MINUTES 46 SECONDS VISIT HTTPS://MYMEMORY.TRANSLATED.NET/DOC/USAGELIMITS.PHP TO TRANSLATE MORE',\n 'MYMEMORY WARNING: YOU USED ALL AVAILABLE FREE TRANSLATIONS FOR TODAY. NEXT AVAILABLE IN  06 HOURS 43 MINUTES 45 SECONDS VISIT HTTPS://MYMEMORY.TRANSLATED.NET/DOC/USAGELIMITS.PHP TO TRANSLATE MORE',\n 'MYMEMORY WARNING: YOU USED ALL AVAILABLE FREE TRANSLATIONS FOR TODAY. NEXT AVAILABLE IN  06 HOURS 43 MINUTES 43 SECONDS VISIT HTTPS://MYMEMORY.TRANSLATED.NET/DOC/USAGELIMITS.PHP TO TRANSLATE MORE',\n 'MYMEMORY WARNING: YOU USED ALL AVAILABLE FREE TRANSLATIONS FOR TODAY. NEXT AVAILABLE IN  06 HOURS 43 MINUTES 41 SECONDS VISIT HTTPS://MYMEMORY.TRANSLATED.NET/DOC/USAGELIMITS.PHP TO TRANSLATE MORE',\n 'MYMEMORY WARNING: YOU USED ALL AVAILABLE FREE TRANSLATIONS FOR TODAY. NEXT AVAILABLE IN  06 HOURS 43 MINUTES 39 SECONDS VISIT HTTPS://MYMEMORY.TRANSLATED.NET/DOC/USAGELIMITS.PHP TO TRANSLATE MORE',\n 'MYMEMORY WARNING: YOU USED ALL AVAILABLE FREE TRANSLATIONS FOR TODAY. NEXT AVAILABLE IN  06 HOURS 43 MINUTES 37 SECONDS VISIT HTTPS://MYMEMORY.TRANSLATED.NET/DOC/USAGELIMITS.PHP TO TRANSLATE MORE',\n 'MYMEMORY WARNING: YOU USED ALL AVAILABLE FREE TRANSLATIONS FOR TODAY. NEXT AVAILABLE IN  06 HOURS 43 MINUTES 36 SECONDS VISIT HTTPS://MYMEMORY.TRANSLATED.NET/DOC/USAGELIMITS.PHP TO TRANSLATE MORE',\n 'MYMEMORY WARNING: YOU USED ALL AVAILABLE FREE TRANSLATIONS FOR TODAY. NEXT AVAILABLE IN  06 HOURS 43 MINUTES 34 SECONDS VISIT HTTPS://MYMEMORY.TRANSLATED.NET/DOC/USAGELIMITS.PHP TO TRANSLATE MORE',\n 'MYMEMORY WARNING: YOU USED ALL AVAILABLE FREE TRANSLATIONS FOR TODAY. NEXT AVAILABLE IN  06 HOURS 43 MINUTES 32 SECONDS VISIT HTTPS://MYMEMORY.TRANSLATED.NET/DOC/USAGELIMITS.PHP TO TRANSLATE MORE',\n 'MYMEMORY WARNING: YOU USED ALL AVAILABLE FREE TRANSLATIONS FOR TODAY. NEXT AVAILABLE IN  06 HOURS 43 MINUTES 30 SECONDS VISIT HTTPS://MYMEMORY.TRANSLATED.NET/DOC/USAGELIMITS.PHP TO TRANSLATE MORE',\n 'MYMEMORY WARNING: YOU USED ALL AVAILABLE FREE TRANSLATIONS FOR TODAY. NEXT AVAILABLE IN  06 HOURS 43 MINUTES 29 SECONDS VISIT HTTPS://MYMEMORY.TRANSLATED.NET/DOC/USAGELIMITS.PHP TO TRANSLATE MORE',\n 'MYMEMORY WARNING: YOU USED ALL AVAILABLE FREE TRANSLATIONS FOR TODAY. NEXT AVAILABLE IN  06 HOURS 43 MINUTES 27 SECONDS VISIT HTTPS://MYMEMORY.TRANSLATED.NET/DOC/USAGELIMITS.PHP TO TRANSLATE MORE',\n 'MYMEMORY WARNING: YOU USED ALL AVAILABLE FREE TRANSLATIONS FOR TODAY. NEXT AVAILABLE IN  06 HOURS 43 MINUTES 25 SECONDS VISIT HTTPS://MYMEMORY.TRANSLATED.NET/DOC/USAGELIMITS.PHP TO TRANSLATE MORE',\n 'MYMEMORY WARNING: YOU USED ALL AVAILABLE FREE TRANSLATIONS FOR TODAY. NEXT AVAILABLE IN  06 HOURS 43 MINUTES 23 SECONDS VISIT HTTPS://MYMEMORY.TRANSLATED.NET/DOC/USAGELIMITS.PHP TO TRANSLATE MORE',\n 'MYMEMORY WARNING: YOU USED ALL AVAILABLE FREE TRANSLATIONS FOR TODAY. NEXT AVAILABLE IN  06 HOURS 43 MINUTES 21 SECONDS VISIT HTTPS://MYMEMORY.TRANSLATED.NET/DOC/USAGELIMITS.PHP TO TRANSLATE MORE',\n 'MYMEMORY WARNING: YOU USED ALL AVAILABLE FREE TRANSLATIONS FOR TODAY. NEXT AVAILABLE IN  06 HOURS 43 MINUTES 20 SECONDS VISIT HTTPS://MYMEMORY.TRANSLATED.NET/DOC/USAGELIMITS.PHP TO TRANSLATE MORE',\n 'MYMEMORY WARNING: YOU USED ALL AVAILABLE FREE TRANSLATIONS FOR TODAY. NEXT AVAILABLE IN  06 HOURS 43 MINUTES 18 SECONDS VISIT HTTPS://MYMEMORY.TRANSLATED.NET/DOC/USAGELIMITS.PHP TO TRANSLATE MORE',\n 'MYMEMORY WARNING: YOU USED ALL AVAILABLE FREE TRANSLATIONS FOR TODAY. NEXT AVAILABLE IN  06 HOURS 43 MINUTES 16 SECONDS VISIT HTTPS://MYMEMORY.TRANSLATED.NET/DOC/USAGELIMITS.PHP TO TRANSLATE MORE',\n 'MYMEMORY WARNING: YOU USED ALL AVAILABLE FREE TRANSLATIONS FOR TODAY. NEXT AVAILABLE IN  06 HOURS 43 MINUTES 14 SECONDS VISIT HTTPS://MYMEMORY.TRANSLATED.NET/DOC/USAGELIMITS.PHP TO TRANSLATE MORE',\n 'MYMEMORY WARNING: YOU USED ALL AVAILABLE FREE TRANSLATIONS FOR TODAY. NEXT AVAILABLE IN  06 HOURS 43 MINUTES 12 SECONDS VISIT HTTPS://MYMEMORY.TRANSLATED.NET/DOC/USAGELIMITS.PHP TO TRANSLATE MORE',\n 'MYMEMORY WARNING: YOU USED ALL AVAILABLE FREE TRANSLATIONS FOR TODAY. NEXT AVAILABLE IN  06 HOURS 43 MINUTES 11 SECONDS VISIT HTTPS://MYMEMORY.TRANSLATED.NET/DOC/USAGELIMITS.PHP TO TRANSLATE MORE',\n 'MYMEMORY WARNING: YOU USED ALL AVAILABLE FREE TRANSLATIONS FOR TODAY. NEXT AVAILABLE IN  06 HOURS 43 MINUTES 09 SECONDS VISIT HTTPS://MYMEMORY.TRANSLATED.NET/DOC/USAGELIMITS.PHP TO TRANSLATE MORE',\n 'MYMEMORY WARNING: YOU USED ALL AVAILABLE FREE TRANSLATIONS FOR TODAY. NEXT AVAILABLE IN  06 HOURS 43 MINUTES 07 SECONDS VISIT HTTPS://MYMEMORY.TRANSLATED.NET/DOC/USAGELIMITS.PHP TO TRANSLATE MORE',\n 'MYMEMORY WARNING: YOU USED ALL AVAILABLE FREE TRANSLATIONS FOR TODAY. NEXT AVAILABLE IN  06 HOURS 43 MINUTES 05 SECONDS VISIT HTTPS://MYMEMORY.TRANSLATED.NET/DOC/USAGELIMITS.PHP TO TRANSLATE MORE',\n 'MYMEMORY WARNING: YOU USED ALL AVAILABLE FREE TRANSLATIONS FOR TODAY. NEXT AVAILABLE IN  06 HOURS 43 MINUTES 01 SECONDS VISIT HTTPS://MYMEMORY.TRANSLATED.NET/DOC/USAGELIMITS.PHP TO TRANSLATE MORE',\n 'MYMEMORY WARNING: YOU USED ALL AVAILABLE FREE TRANSLATIONS FOR TODAY. NEXT AVAILABLE IN  06 HOURS 42 MINUTES 59 SECONDS VISIT HTTPS://MYMEMORY.TRANSLATED.NET/DOC/USAGELIMITS.PHP TO TRANSLATE MORE',\n 'MYMEMORY WARNING: YOU USED ALL AVAILABLE FREE TRANSLATIONS FOR TODAY. NEXT AVAILABLE IN  06 HOURS 42 MINUTES 57 SECONDS VISIT HTTPS://MYMEMORY.TRANSLATED.NET/DOC/USAGELIMITS.PHP TO TRANSLATE MORE',\n 'MYMEMORY WARNING: YOU USED ALL AVAILABLE FREE TRANSLATIONS FOR TODAY. NEXT AVAILABLE IN  06 HOURS 42 MINUTES 55 SECONDS VISIT HTTPS://MYMEMORY.TRANSLATED.NET/DOC/USAGELIMITS.PHP TO TRANSLATE MORE',\n 'MYMEMORY WARNING: YOU USED ALL AVAILABLE FREE TRANSLATIONS FOR TODAY. NEXT AVAILABLE IN  06 HOURS 42 MINUTES 54 SECONDS VISIT HTTPS://MYMEMORY.TRANSLATED.NET/DOC/USAGELIMITS.PHP TO TRANSLATE MORE',\n 'MYMEMORY WARNING: YOU USED ALL AVAILABLE FREE TRANSLATIONS FOR TODAY. NEXT AVAILABLE IN  06 HOURS 42 MINUTES 52 SECONDS VISIT HTTPS://MYMEMORY.TRANSLATED.NET/DOC/USAGELIMITS.PHP TO TRANSLATE MORE',\n 'MYMEMORY WARNING: YOU USED ALL AVAILABLE FREE TRANSLATIONS FOR TODAY. NEXT AVAILABLE IN  06 HOURS 42 MINUTES 50 SECONDS VISIT HTTPS://MYMEMORY.TRANSLATED.NET/DOC/USAGELIMITS.PHP TO TRANSLATE MORE',\n 'MYMEMORY WARNING: YOU USED ALL AVAILABLE FREE TRANSLATIONS FOR TODAY. NEXT AVAILABLE IN  06 HOURS 42 MINUTES 48 SECONDS VISIT HTTPS://MYMEMORY.TRANSLATED.NET/DOC/USAGELIMITS.PHP TO TRANSLATE MORE',\n 'MYMEMORY WARNING: YOU USED ALL AVAILABLE FREE TRANSLATIONS FOR TODAY. NEXT AVAILABLE IN  06 HOURS 42 MINUTES 47 SECONDS VISIT HTTPS://MYMEMORY.TRANSLATED.NET/DOC/USAGELIMITS.PHP TO TRANSLATE MORE',\n 'MYMEMORY WARNING: YOU USED ALL AVAILABLE FREE TRANSLATIONS FOR TODAY. NEXT AVAILABLE IN  06 HOURS 42 MINUTES 45 SECONDS VISIT HTTPS://MYMEMORY.TRANSLATED.NET/DOC/USAGELIMITS.PHP TO TRANSLATE MORE',\n 'MYMEMORY WARNING: YOU USED ALL AVAILABLE FREE TRANSLATIONS FOR TODAY. NEXT AVAILABLE IN  06 HOURS 42 MINUTES 43 SECONDS VISIT HTTPS://MYMEMORY.TRANSLATED.NET/DOC/USAGELIMITS.PHP TO TRANSLATE MORE',\n 'MYMEMORY WARNING: YOU USED ALL AVAILABLE FREE TRANSLATIONS FOR TODAY. NEXT AVAILABLE IN  06 HOURS 42 MINUTES 41 SECONDS VISIT HTTPS://MYMEMORY.TRANSLATED.NET/DOC/USAGELIMITS.PHP TO TRANSLATE MORE',\n 'MYMEMORY WARNING: YOU USED ALL AVAILABLE FREE TRANSLATIONS FOR TODAY. NEXT AVAILABLE IN  06 HOURS 42 MINUTES 39 SECONDS VISIT HTTPS://MYMEMORY.TRANSLATED.NET/DOC/USAGELIMITS.PHP TO TRANSLATE MORE',\n 'MYMEMORY WARNING: YOU USED ALL AVAILABLE FREE TRANSLATIONS FOR TODAY. NEXT AVAILABLE IN  06 HOURS 42 MINUTES 37 SECONDS VISIT HTTPS://MYMEMORY.TRANSLATED.NET/DOC/USAGELIMITS.PHP TO TRANSLATE MORE',\n 'MYMEMORY WARNING: YOU USED ALL AVAILABLE FREE TRANSLATIONS FOR TODAY. NEXT AVAILABLE IN  06 HOURS 42 MINUTES 35 SECONDS VISIT HTTPS://MYMEMORY.TRANSLATED.NET/DOC/USAGELIMITS.PHP TO TRANSLATE MORE',\n 'MYMEMORY WARNING: YOU USED ALL AVAILABLE FREE TRANSLATIONS FOR TODAY. NEXT AVAILABLE IN  06 HOURS 42 MINUTES 33 SECONDS VISIT HTTPS://MYMEMORY.TRANSLATED.NET/DOC/USAGELIMITS.PHP TO TRANSLATE MORE',\n 'MYMEMORY WARNING: YOU USED ALL AVAILABLE FREE TRANSLATIONS FOR TODAY. NEXT AVAILABLE IN  06 HOURS 42 MINUTES 31 SECONDS VISIT HTTPS://MYMEMORY.TRANSLATED.NET/DOC/USAGELIMITS.PHP TO TRANSLATE MORE',\n 'MYMEMORY WARNING: YOU USED ALL AVAILABLE FREE TRANSLATIONS FOR TODAY. NEXT AVAILABLE IN  06 HOURS 42 MINUTES 30 SECONDS VISIT HTTPS://MYMEMORY.TRANSLATED.NET/DOC/USAGELIMITS.PHP TO TRANSLATE MORE',\n 'MYMEMORY WARNING: YOU USED ALL AVAILABLE FREE TRANSLATIONS FOR TODAY. NEXT AVAILABLE IN  06 HOURS 42 MINUTES 28 SECONDS VISIT HTTPS://MYMEMORY.TRANSLATED.NET/DOC/USAGELIMITS.PHP TO TRANSLATE MORE',\n 'MYMEMORY WARNING: YOU USED ALL AVAILABLE FREE TRANSLATIONS FOR TODAY. NEXT AVAILABLE IN  06 HOURS 42 MINUTES 26 SECONDS VISIT HTTPS://MYMEMORY.TRANSLATED.NET/DOC/USAGELIMITS.PHP TO TRANSLATE MORE',\n 'MYMEMORY WARNING: YOU USED ALL AVAILABLE FREE TRANSLATIONS FOR TODAY. NEXT AVAILABLE IN  06 HOURS 42 MINUTES 24 SECONDS VISIT HTTPS://MYMEMORY.TRANSLATED.NET/DOC/USAGELIMITS.PHP TO TRANSLATE MORE',\n 'MYMEMORY WARNING: YOU USED ALL AVAILABLE FREE TRANSLATIONS FOR TODAY. NEXT AVAILABLE IN  06 HOURS 42 MINUTES 23 SECONDS VISIT HTTPS://MYMEMORY.TRANSLATED.NET/DOC/USAGELIMITS.PHP TO TRANSLATE MORE',\n 'MYMEMORY WARNING: YOU USED ALL AVAILABLE FREE TRANSLATIONS FOR TODAY. NEXT AVAILABLE IN  06 HOURS 42 MINUTES 21 SECONDS VISIT HTTPS://MYMEMORY.TRANSLATED.NET/DOC/USAGELIMITS.PHP TO TRANSLATE MORE',\n 'MYMEMORY WARNING: YOU USED ALL AVAILABLE FREE TRANSLATIONS FOR TODAY. NEXT AVAILABLE IN  06 HOURS 42 MINUTES 19 SECONDS VISIT HTTPS://MYMEMORY.TRANSLATED.NET/DOC/USAGELIMITS.PHP TO TRANSLATE MORE',\n 'MYMEMORY WARNING: YOU USED ALL AVAILABLE FREE TRANSLATIONS FOR TODAY. NEXT AVAILABLE IN  06 HOURS 42 MINUTES 17 SECONDS VISIT HTTPS://MYMEMORY.TRANSLATED.NET/DOC/USAGELIMITS.PHP TO TRANSLATE MORE',\n 'MYMEMORY WARNING: YOU USED ALL AVAILABLE FREE TRANSLATIONS FOR TODAY. NEXT AVAILABLE IN  06 HOURS 42 MINUTES 15 SECONDS VISIT HTTPS://MYMEMORY.TRANSLATED.NET/DOC/USAGELIMITS.PHP TO TRANSLATE MORE',\n 'MYMEMORY WARNING: YOU USED ALL AVAILABLE FREE TRANSLATIONS FOR TODAY. NEXT AVAILABLE IN  06 HOURS 42 MINUTES 14 SECONDS VISIT HTTPS://MYMEMORY.TRANSLATED.NET/DOC/USAGELIMITS.PHP TO TRANSLATE MORE',\n 'MYMEMORY WARNING: YOU USED ALL AVAILABLE FREE TRANSLATIONS FOR TODAY. NEXT AVAILABLE IN  06 HOURS 42 MINUTES 12 SECONDS VISIT HTTPS://MYMEMORY.TRANSLATED.NET/DOC/USAGELIMITS.PHP TO TRANSLATE MORE',\n 'MYMEMORY WARNING: YOU USED ALL AVAILABLE FREE TRANSLATIONS FOR TODAY. NEXT AVAILABLE IN  06 HOURS 42 MINUTES 10 SECONDS VISIT HTTPS://MYMEMORY.TRANSLATED.NET/DOC/USAGELIMITS.PHP TO TRANSLATE MORE',\n 'MYMEMORY WARNING: YOU USED ALL AVAILABLE FREE TRANSLATIONS FOR TODAY. NEXT AVAILABLE IN  06 HOURS 42 MINUTES 08 SECONDS VISIT HTTPS://MYMEMORY.TRANSLATED.NET/DOC/USAGELIMITS.PHP TO TRANSLATE MORE',\n 'MYMEMORY WARNING: YOU USED ALL AVAILABLE FREE TRANSLATIONS FOR TODAY. NEXT AVAILABLE IN  06 HOURS 42 MINUTES 06 SECONDS VISIT HTTPS://MYMEMORY.TRANSLATED.NET/DOC/USAGELIMITS.PHP TO TRANSLATE MORE',\n 'MYMEMORY WARNING: YOU USED ALL AVAILABLE FREE TRANSLATIONS FOR TODAY. NEXT AVAILABLE IN  06 HOURS 42 MINUTES 05 SECONDS VISIT HTTPS://MYMEMORY.TRANSLATED.NET/DOC/USAGELIMITS.PHP TO TRANSLATE MORE',\n 'MYMEMORY WARNING: YOU USED ALL AVAILABLE FREE TRANSLATIONS FOR TODAY. NEXT AVAILABLE IN  06 HOURS 42 MINUTES 03 SECONDS VISIT HTTPS://MYMEMORY.TRANSLATED.NET/DOC/USAGELIMITS.PHP TO TRANSLATE MORE',\n 'MYMEMORY WARNING: YOU USED ALL AVAILABLE FREE TRANSLATIONS FOR TODAY. NEXT AVAILABLE IN  06 HOURS 42 MINUTES 01 SECONDS VISIT HTTPS://MYMEMORY.TRANSLATED.NET/DOC/USAGELIMITS.PHP TO TRANSLATE MORE',\n 'MYMEMORY WARNING: YOU USED ALL AVAILABLE FREE TRANSLATIONS FOR TODAY. NEXT AVAILABLE IN  06 HOURS 41 MINUTES 59 SECONDS VISIT HTTPS://MYMEMORY.TRANSLATED.NET/DOC/USAGELIMITS.PHP TO TRANSLATE MORE',\n 'MYMEMORY WARNING: YOU USED ALL AVAILABLE FREE TRANSLATIONS FOR TODAY. NEXT AVAILABLE IN  06 HOURS 41 MINUTES 57 SECONDS VISIT HTTPS://MYMEMORY.TRANSLATED.NET/DOC/USAGELIMITS.PHP TO TRANSLATE MORE',\n 'MYMEMORY WARNING: YOU USED ALL AVAILABLE FREE TRANSLATIONS FOR TODAY. NEXT AVAILABLE IN  06 HOURS 41 MINUTES 56 SECONDS VISIT HTTPS://MYMEMORY.TRANSLATED.NET/DOC/USAGELIMITS.PHP TO TRANSLATE MORE',\n 'MYMEMORY WARNING: YOU USED ALL AVAILABLE FREE TRANSLATIONS FOR TODAY. NEXT AVAILABLE IN  06 HOURS 41 MINUTES 54 SECONDS VISIT HTTPS://MYMEMORY.TRANSLATED.NET/DOC/USAGELIMITS.PHP TO TRANSLATE MORE',\n 'MYMEMORY WARNING: YOU USED ALL AVAILABLE FREE TRANSLATIONS FOR TODAY. NEXT AVAILABLE IN  06 HOURS 41 MINUTES 52 SECONDS VISIT HTTPS://MYMEMORY.TRANSLATED.NET/DOC/USAGELIMITS.PHP TO TRANSLATE MORE',\n 'MYMEMORY WARNING: YOU USED ALL AVAILABLE FREE TRANSLATIONS FOR TODAY. NEXT AVAILABLE IN  06 HOURS 41 MINUTES 50 SECONDS VISIT HTTPS://MYMEMORY.TRANSLATED.NET/DOC/USAGELIMITS.PHP TO TRANSLATE MORE',\n 'MYMEMORY WARNING: YOU USED ALL AVAILABLE FREE TRANSLATIONS FOR TODAY. NEXT AVAILABLE IN  06 HOURS 41 MINUTES 49 SECONDS VISIT HTTPS://MYMEMORY.TRANSLATED.NET/DOC/USAGELIMITS.PHP TO TRANSLATE MORE',\n 'MYMEMORY WARNING: YOU USED ALL AVAILABLE FREE TRANSLATIONS FOR TODAY. NEXT AVAILABLE IN  06 HOURS 41 MINUTES 47 SECONDS VISIT HTTPS://MYMEMORY.TRANSLATED.NET/DOC/USAGELIMITS.PHP TO TRANSLATE MORE',\n 'MYMEMORY WARNING: YOU USED ALL AVAILABLE FREE TRANSLATIONS FOR TODAY. NEXT AVAILABLE IN  06 HOURS 41 MINUTES 45 SECONDS VISIT HTTPS://MYMEMORY.TRANSLATED.NET/DOC/USAGELIMITS.PHP TO TRANSLATE MORE',\n 'MYMEMORY WARNING: YOU USED ALL AVAILABLE FREE TRANSLATIONS FOR TODAY. NEXT AVAILABLE IN  06 HOURS 41 MINUTES 43 SECONDS VISIT HTTPS://MYMEMORY.TRANSLATED.NET/DOC/USAGELIMITS.PHP TO TRANSLATE MORE',\n 'MYMEMORY WARNING: YOU USED ALL AVAILABLE FREE TRANSLATIONS FOR TODAY. NEXT AVAILABLE IN  06 HOURS 41 MINUTES 41 SECONDS VISIT HTTPS://MYMEMORY.TRANSLATED.NET/DOC/USAGELIMITS.PHP TO TRANSLATE MORE',\n 'MYMEMORY WARNING: YOU USED ALL AVAILABLE FREE TRANSLATIONS FOR TODAY. NEXT AVAILABLE IN  06 HOURS 41 MINUTES 40 SECONDS VISIT HTTPS://MYMEMORY.TRANSLATED.NET/DOC/USAGELIMITS.PHP TO TRANSLATE MORE',\n 'MYMEMORY WARNING: YOU USED ALL AVAILABLE FREE TRANSLATIONS FOR TODAY. NEXT AVAILABLE IN  06 HOURS 41 MINUTES 38 SECONDS VISIT HTTPS://MYMEMORY.TRANSLATED.NET/DOC/USAGELIMITS.PHP TO TRANSLATE MORE',\n 'MYMEMORY WARNING: YOU USED ALL AVAILABLE FREE TRANSLATIONS FOR TODAY. NEXT AVAILABLE IN  06 HOURS 41 MINUTES 36 SECONDS VISIT HTTPS://MYMEMORY.TRANSLATED.NET/DOC/USAGELIMITS.PHP TO TRANSLATE MORE',\n 'MYMEMORY WARNING: YOU USED ALL AVAILABLE FREE TRANSLATIONS FOR TODAY. NEXT AVAILABLE IN  06 HOURS 41 MINUTES 34 SECONDS VISIT HTTPS://MYMEMORY.TRANSLATED.NET/DOC/USAGELIMITS.PHP TO TRANSLATE MORE',\n 'MYMEMORY WARNING: YOU USED ALL AVAILABLE FREE TRANSLATIONS FOR TODAY. NEXT AVAILABLE IN  06 HOURS 41 MINUTES 33 SECONDS VISIT HTTPS://MYMEMORY.TRANSLATED.NET/DOC/USAGELIMITS.PHP TO TRANSLATE MORE',\n 'MYMEMORY WARNING: YOU USED ALL AVAILABLE FREE TRANSLATIONS FOR TODAY. NEXT AVAILABLE IN  06 HOURS 41 MINUTES 31 SECONDS VISIT HTTPS://MYMEMORY.TRANSLATED.NET/DOC/USAGELIMITS.PHP TO TRANSLATE MORE',\n 'MYMEMORY WARNING: YOU USED ALL AVAILABLE FREE TRANSLATIONS FOR TODAY. NEXT AVAILABLE IN  06 HOURS 41 MINUTES 29 SECONDS VISIT HTTPS://MYMEMORY.TRANSLATED.NET/DOC/USAGELIMITS.PHP TO TRANSLATE MORE',\n 'MYMEMORY WARNING: YOU USED ALL AVAILABLE FREE TRANSLATIONS FOR TODAY. NEXT AVAILABLE IN  06 HOURS 41 MINUTES 27 SECONDS VISIT HTTPS://MYMEMORY.TRANSLATED.NET/DOC/USAGELIMITS.PHP TO TRANSLATE MORE',\n 'MYMEMORY WARNING: YOU USED ALL AVAILABLE FREE TRANSLATIONS FOR TODAY. NEXT AVAILABLE IN  06 HOURS 41 MINUTES 25 SECONDS VISIT HTTPS://MYMEMORY.TRANSLATED.NET/DOC/USAGELIMITS.PHP TO TRANSLATE MORE',\n 'MYMEMORY WARNING: YOU USED ALL AVAILABLE FREE TRANSLATIONS FOR TODAY. NEXT AVAILABLE IN  06 HOURS 41 MINUTES 24 SECONDS VISIT HTTPS://MYMEMORY.TRANSLATED.NET/DOC/USAGELIMITS.PHP TO TRANSLATE MORE',\n 'MYMEMORY WARNING: YOU USED ALL AVAILABLE FREE TRANSLATIONS FOR TODAY. NEXT AVAILABLE IN  06 HOURS 41 MINUTES 22 SECONDS VISIT HTTPS://MYMEMORY.TRANSLATED.NET/DOC/USAGELIMITS.PHP TO TRANSLATE MORE',\n 'MYMEMORY WARNING: YOU USED ALL AVAILABLE FREE TRANSLATIONS FOR TODAY. NEXT AVAILABLE IN  06 HOURS 41 MINUTES 20 SECONDS VISIT HTTPS://MYMEMORY.TRANSLATED.NET/DOC/USAGELIMITS.PHP TO TRANSLATE MORE',\n 'MYMEMORY WARNING: YOU USED ALL AVAILABLE FREE TRANSLATIONS FOR TODAY. NEXT AVAILABLE IN  06 HOURS 41 MINUTES 18 SECONDS VISIT HTTPS://MYMEMORY.TRANSLATED.NET/DOC/USAGELIMITS.PHP TO TRANSLATE MORE',\n 'MYMEMORY WARNING: YOU USED ALL AVAILABLE FREE TRANSLATIONS FOR TODAY. NEXT AVAILABLE IN  06 HOURS 41 MINUTES 17 SECONDS VISIT HTTPS://MYMEMORY.TRANSLATED.NET/DOC/USAGELIMITS.PHP TO TRANSLATE MORE',\n 'MYMEMORY WARNING: YOU USED ALL AVAILABLE FREE TRANSLATIONS FOR TODAY. NEXT AVAILABLE IN  06 HOURS 41 MINUTES 15 SECONDS VISIT HTTPS://MYMEMORY.TRANSLATED.NET/DOC/USAGELIMITS.PHP TO TRANSLATE MORE',\n 'MYMEMORY WARNING: YOU USED ALL AVAILABLE FREE TRANSLATIONS FOR TODAY. NEXT AVAILABLE IN  06 HOURS 41 MINUTES 13 SECONDS VISIT HTTPS://MYMEMORY.TRANSLATED.NET/DOC/USAGELIMITS.PHP TO TRANSLATE MORE',\n 'MYMEMORY WARNING: YOU USED ALL AVAILABLE FREE TRANSLATIONS FOR TODAY. NEXT AVAILABLE IN  06 HOURS 41 MINUTES 11 SECONDS VISIT HTTPS://MYMEMORY.TRANSLATED.NET/DOC/USAGELIMITS.PHP TO TRANSLATE MORE',\n 'MYMEMORY WARNING: YOU USED ALL AVAILABLE FREE TRANSLATIONS FOR TODAY. NEXT AVAILABLE IN  06 HOURS 41 MINUTES 09 SECONDS VISIT HTTPS://MYMEMORY.TRANSLATED.NET/DOC/USAGELIMITS.PHP TO TRANSLATE MORE',\n 'MYMEMORY WARNING: YOU USED ALL AVAILABLE FREE TRANSLATIONS FOR TODAY. NEXT AVAILABLE IN  06 HOURS 41 MINUTES 08 SECONDS VISIT HTTPS://MYMEMORY.TRANSLATED.NET/DOC/USAGELIMITS.PHP TO TRANSLATE MORE',\n 'MYMEMORY WARNING: YOU USED ALL AVAILABLE FREE TRANSLATIONS FOR TODAY. NEXT AVAILABLE IN  06 HOURS 41 MINUTES 06 SECONDS VISIT HTTPS://MYMEMORY.TRANSLATED.NET/DOC/USAGELIMITS.PHP TO TRANSLATE MORE',\n 'MYMEMORY WARNING: YOU USED ALL AVAILABLE FREE TRANSLATIONS FOR TODAY. NEXT AVAILABLE IN  06 HOURS 41 MINUTES 04 SECONDS VISIT HTTPS://MYMEMORY.TRANSLATED.NET/DOC/USAGELIMITS.PHP TO TRANSLATE MORE',\n 'MYMEMORY WARNING: YOU USED ALL AVAILABLE FREE TRANSLATIONS FOR TODAY. NEXT AVAILABLE IN  06 HOURS 41 MINUTES 02 SECONDS VISIT HTTPS://MYMEMORY.TRANSLATED.NET/DOC/USAGELIMITS.PHP TO TRANSLATE MORE',\n 'MYMEMORY WARNING: YOU USED ALL AVAILABLE FREE TRANSLATIONS FOR TODAY. NEXT AVAILABLE IN  06 HOURS 41 MINUTES 00 SECONDS VISIT HTTPS://MYMEMORY.TRANSLATED.NET/DOC/USAGELIMITS.PHP TO TRANSLATE MORE',\n 'MYMEMORY WARNING: YOU USED ALL AVAILABLE FREE TRANSLATIONS FOR TODAY. NEXT AVAILABLE IN  06 HOURS 40 MINUTES 59 SECONDS VISIT HTTPS://MYMEMORY.TRANSLATED.NET/DOC/USAGELIMITS.PHP TO TRANSLATE MORE',\n 'MYMEMORY WARNING: YOU USED ALL AVAILABLE FREE TRANSLATIONS FOR TODAY. NEXT AVAILABLE IN  06 HOURS 40 MINUTES 57 SECONDS VISIT HTTPS://MYMEMORY.TRANSLATED.NET/DOC/USAGELIMITS.PHP TO TRANSLATE MORE',\n 'MYMEMORY WARNING: YOU USED ALL AVAILABLE FREE TRANSLATIONS FOR TODAY. NEXT AVAILABLE IN  06 HOURS 40 MINUTES 55 SECONDS VISIT HTTPS://MYMEMORY.TRANSLATED.NET/DOC/USAGELIMITS.PHP TO TRANSLATE MORE',\n 'MYMEMORY WARNING: YOU USED ALL AVAILABLE FREE TRANSLATIONS FOR TODAY. NEXT AVAILABLE IN  06 HOURS 40 MINUTES 53 SECONDS VISIT HTTPS://MYMEMORY.TRANSLATED.NET/DOC/USAGELIMITS.PHP TO TRANSLATE MORE',\n 'MYMEMORY WARNING: YOU USED ALL AVAILABLE FREE TRANSLATIONS FOR TODAY. NEXT AVAILABLE IN  06 HOURS 40 MINUTES 52 SECONDS VISIT HTTPS://MYMEMORY.TRANSLATED.NET/DOC/USAGELIMITS.PHP TO TRANSLATE MORE',\n 'MYMEMORY WARNING: YOU USED ALL AVAILABLE FREE TRANSLATIONS FOR TODAY. NEXT AVAILABLE IN  06 HOURS 40 MINUTES 50 SECONDS VISIT HTTPS://MYMEMORY.TRANSLATED.NET/DOC/USAGELIMITS.PHP TO TRANSLATE MORE',\n 'MYMEMORY WARNING: YOU USED ALL AVAILABLE FREE TRANSLATIONS FOR TODAY. NEXT AVAILABLE IN  06 HOURS 40 MINUTES 48 SECONDS VISIT HTTPS://MYMEMORY.TRANSLATED.NET/DOC/USAGELIMITS.PHP TO TRANSLATE MORE',\n 'MYMEMORY WARNING: YOU USED ALL AVAILABLE FREE TRANSLATIONS FOR TODAY. NEXT AVAILABLE IN  06 HOURS 40 MINUTES 46 SECONDS VISIT HTTPS://MYMEMORY.TRANSLATED.NET/DOC/USAGELIMITS.PHP TO TRANSLATE MORE',\n 'MYMEMORY WARNING: YOU USED ALL AVAILABLE FREE TRANSLATIONS FOR TODAY. NEXT AVAILABLE IN  06 HOURS 40 MINUTES 44 SECONDS VISIT HTTPS://MYMEMORY.TRANSLATED.NET/DOC/USAGELIMITS.PHP TO TRANSLATE MORE',\n 'MYMEMORY WARNING: YOU USED ALL AVAILABLE FREE TRANSLATIONS FOR TODAY. NEXT AVAILABLE IN  06 HOURS 40 MINUTES 43 SECONDS VISIT HTTPS://MYMEMORY.TRANSLATED.NET/DOC/USAGELIMITS.PHP TO TRANSLATE MORE',\n 'MYMEMORY WARNING: YOU USED ALL AVAILABLE FREE TRANSLATIONS FOR TODAY. NEXT AVAILABLE IN  06 HOURS 40 MINUTES 41 SECONDS VISIT HTTPS://MYMEMORY.TRANSLATED.NET/DOC/USAGELIMITS.PHP TO TRANSLATE MORE',\n 'MYMEMORY WARNING: YOU USED ALL AVAILABLE FREE TRANSLATIONS FOR TODAY. NEXT AVAILABLE IN  06 HOURS 40 MINUTES 39 SECONDS VISIT HTTPS://MYMEMORY.TRANSLATED.NET/DOC/USAGELIMITS.PHP TO TRANSLATE MORE',\n 'MYMEMORY WARNING: YOU USED ALL AVAILABLE FREE TRANSLATIONS FOR TODAY. NEXT AVAILABLE IN  06 HOURS 40 MINUTES 37 SECONDS VISIT HTTPS://MYMEMORY.TRANSLATED.NET/DOC/USAGELIMITS.PHP TO TRANSLATE MORE',\n 'MYMEMORY WARNING: YOU USED ALL AVAILABLE FREE TRANSLATIONS FOR TODAY. NEXT AVAILABLE IN  06 HOURS 40 MINUTES 34 SECONDS VISIT HTTPS://MYMEMORY.TRANSLATED.NET/DOC/USAGELIMITS.PHP TO TRANSLATE MORE',\n 'MYMEMORY WARNING: YOU USED ALL AVAILABLE FREE TRANSLATIONS FOR TODAY. NEXT AVAILABLE IN  06 HOURS 40 MINUTES 33 SECONDS VISIT HTTPS://MYMEMORY.TRANSLATED.NET/DOC/USAGELIMITS.PHP TO TRANSLATE MORE',\n 'MYMEMORY WARNING: YOU USED ALL AVAILABLE FREE TRANSLATIONS FOR TODAY. NEXT AVAILABLE IN  06 HOURS 40 MINUTES 31 SECONDS VISIT HTTPS://MYMEMORY.TRANSLATED.NET/DOC/USAGELIMITS.PHP TO TRANSLATE MORE',\n 'MYMEMORY WARNING: YOU USED ALL AVAILABLE FREE TRANSLATIONS FOR TODAY. NEXT AVAILABLE IN  06 HOURS 40 MINUTES 29 SECONDS VISIT HTTPS://MYMEMORY.TRANSLATED.NET/DOC/USAGELIMITS.PHP TO TRANSLATE MORE',\n 'MYMEMORY WARNING: YOU USED ALL AVAILABLE FREE TRANSLATIONS FOR TODAY. NEXT AVAILABLE IN  06 HOURS 40 MINUTES 27 SECONDS VISIT HTTPS://MYMEMORY.TRANSLATED.NET/DOC/USAGELIMITS.PHP TO TRANSLATE MORE',\n 'MYMEMORY WARNING: YOU USED ALL AVAILABLE FREE TRANSLATIONS FOR TODAY. NEXT AVAILABLE IN  06 HOURS 40 MINUTES 26 SECONDS VISIT HTTPS://MYMEMORY.TRANSLATED.NET/DOC/USAGELIMITS.PHP TO TRANSLATE MORE',\n 'MYMEMORY WARNING: YOU USED ALL AVAILABLE FREE TRANSLATIONS FOR TODAY. NEXT AVAILABLE IN  06 HOURS 40 MINUTES 24 SECONDS VISIT HTTPS://MYMEMORY.TRANSLATED.NET/DOC/USAGELIMITS.PHP TO TRANSLATE MORE',\n 'MYMEMORY WARNING: YOU USED ALL AVAILABLE FREE TRANSLATIONS FOR TODAY. NEXT AVAILABLE IN  06 HOURS 40 MINUTES 22 SECONDS VISIT HTTPS://MYMEMORY.TRANSLATED.NET/DOC/USAGELIMITS.PHP TO TRANSLATE MORE',\n 'MYMEMORY WARNING: YOU USED ALL AVAILABLE FREE TRANSLATIONS FOR TODAY. NEXT AVAILABLE IN  06 HOURS 40 MINUTES 20 SECONDS VISIT HTTPS://MYMEMORY.TRANSLATED.NET/DOC/USAGELIMITS.PHP TO TRANSLATE MORE',\n 'MYMEMORY WARNING: YOU USED ALL AVAILABLE FREE TRANSLATIONS FOR TODAY. NEXT AVAILABLE IN  06 HOURS 40 MINUTES 18 SECONDS VISIT HTTPS://MYMEMORY.TRANSLATED.NET/DOC/USAGELIMITS.PHP TO TRANSLATE MORE',\n 'MYMEMORY WARNING: YOU USED ALL AVAILABLE FREE TRANSLATIONS FOR TODAY. NEXT AVAILABLE IN  06 HOURS 40 MINUTES 17 SECONDS VISIT HTTPS://MYMEMORY.TRANSLATED.NET/DOC/USAGELIMITS.PHP TO TRANSLATE MORE',\n 'MYMEMORY WARNING: YOU USED ALL AVAILABLE FREE TRANSLATIONS FOR TODAY. NEXT AVAILABLE IN  06 HOURS 40 MINUTES 15 SECONDS VISIT HTTPS://MYMEMORY.TRANSLATED.NET/DOC/USAGELIMITS.PHP TO TRANSLATE MORE',\n 'MYMEMORY WARNING: YOU USED ALL AVAILABLE FREE TRANSLATIONS FOR TODAY. NEXT AVAILABLE IN  06 HOURS 40 MINUTES 13 SECONDS VISIT HTTPS://MYMEMORY.TRANSLATED.NET/DOC/USAGELIMITS.PHP TO TRANSLATE MORE',\n 'MYMEMORY WARNING: YOU USED ALL AVAILABLE FREE TRANSLATIONS FOR TODAY. NEXT AVAILABLE IN  06 HOURS 40 MINUTES 11 SECONDS VISIT HTTPS://MYMEMORY.TRANSLATED.NET/DOC/USAGELIMITS.PHP TO TRANSLATE MORE',\n 'MYMEMORY WARNING: YOU USED ALL AVAILABLE FREE TRANSLATIONS FOR TODAY. NEXT AVAILABLE IN  06 HOURS 40 MINUTES 09 SECONDS VISIT HTTPS://MYMEMORY.TRANSLATED.NET/DOC/USAGELIMITS.PHP TO TRANSLATE MORE',\n 'MYMEMORY WARNING: YOU USED ALL AVAILABLE FREE TRANSLATIONS FOR TODAY. NEXT AVAILABLE IN  06 HOURS 40 MINUTES 08 SECONDS VISIT HTTPS://MYMEMORY.TRANSLATED.NET/DOC/USAGELIMITS.PHP TO TRANSLATE MORE',\n 'MYMEMORY WARNING: YOU USED ALL AVAILABLE FREE TRANSLATIONS FOR TODAY. NEXT AVAILABLE IN  06 HOURS 40 MINUTES 06 SECONDS VISIT HTTPS://MYMEMORY.TRANSLATED.NET/DOC/USAGELIMITS.PHP TO TRANSLATE MORE',\n 'MYMEMORY WARNING: YOU USED ALL AVAILABLE FREE TRANSLATIONS FOR TODAY. NEXT AVAILABLE IN  06 HOURS 40 MINUTES 04 SECONDS VISIT HTTPS://MYMEMORY.TRANSLATED.NET/DOC/USAGELIMITS.PHP TO TRANSLATE MORE',\n 'MYMEMORY WARNING: YOU USED ALL AVAILABLE FREE TRANSLATIONS FOR TODAY. NEXT AVAILABLE IN  06 HOURS 40 MINUTES 02 SECONDS VISIT HTTPS://MYMEMORY.TRANSLATED.NET/DOC/USAGELIMITS.PHP TO TRANSLATE MORE',\n 'MYMEMORY WARNING: YOU USED ALL AVAILABLE FREE TRANSLATIONS FOR TODAY. NEXT AVAILABLE IN  06 HOURS 40 MINUTES 01 SECONDS VISIT HTTPS://MYMEMORY.TRANSLATED.NET/DOC/USAGELIMITS.PHP TO TRANSLATE MORE',\n 'MYMEMORY WARNING: YOU USED ALL AVAILABLE FREE TRANSLATIONS FOR TODAY. NEXT AVAILABLE IN  06 HOURS 39 MINUTES 59 SECONDS VISIT HTTPS://MYMEMORY.TRANSLATED.NET/DOC/USAGELIMITS.PHP TO TRANSLATE MORE',\n 'MYMEMORY WARNING: YOU USED ALL AVAILABLE FREE TRANSLATIONS FOR TODAY. NEXT AVAILABLE IN  06 HOURS 39 MINUTES 57 SECONDS VISIT HTTPS://MYMEMORY.TRANSLATED.NET/DOC/USAGELIMITS.PHP TO TRANSLATE MORE',\n 'MYMEMORY WARNING: YOU USED ALL AVAILABLE FREE TRANSLATIONS FOR TODAY. NEXT AVAILABLE IN  06 HOURS 39 MINUTES 55 SECONDS VISIT HTTPS://MYMEMORY.TRANSLATED.NET/DOC/USAGELIMITS.PHP TO TRANSLATE MORE',\n 'MYMEMORY WARNING: YOU USED ALL AVAILABLE FREE TRANSLATIONS FOR TODAY. NEXT AVAILABLE IN  06 HOURS 39 MINUTES 53 SECONDS VISIT HTTPS://MYMEMORY.TRANSLATED.NET/DOC/USAGELIMITS.PHP TO TRANSLATE MORE',\n 'MYMEMORY WARNING: YOU USED ALL AVAILABLE FREE TRANSLATIONS FOR TODAY. NEXT AVAILABLE IN  06 HOURS 39 MINUTES 51 SECONDS VISIT HTTPS://MYMEMORY.TRANSLATED.NET/DOC/USAGELIMITS.PHP TO TRANSLATE MORE',\n 'MYMEMORY WARNING: YOU USED ALL AVAILABLE FREE TRANSLATIONS FOR TODAY. NEXT AVAILABLE IN  06 HOURS 39 MINUTES 50 SECONDS VISIT HTTPS://MYMEMORY.TRANSLATED.NET/DOC/USAGELIMITS.PHP TO TRANSLATE MORE',\n 'MYMEMORY WARNING: YOU USED ALL AVAILABLE FREE TRANSLATIONS FOR TODAY. NEXT AVAILABLE IN  06 HOURS 39 MINUTES 48 SECONDS VISIT HTTPS://MYMEMORY.TRANSLATED.NET/DOC/USAGELIMITS.PHP TO TRANSLATE MORE',\n 'MYMEMORY WARNING: YOU USED ALL AVAILABLE FREE TRANSLATIONS FOR TODAY. NEXT AVAILABLE IN  06 HOURS 39 MINUTES 46 SECONDS VISIT HTTPS://MYMEMORY.TRANSLATED.NET/DOC/USAGELIMITS.PHP TO TRANSLATE MORE',\n 'MYMEMORY WARNING: YOU USED ALL AVAILABLE FREE TRANSLATIONS FOR TODAY. NEXT AVAILABLE IN  06 HOURS 39 MINUTES 44 SECONDS VISIT HTTPS://MYMEMORY.TRANSLATED.NET/DOC/USAGELIMITS.PHP TO TRANSLATE MORE',\n 'MYMEMORY WARNING: YOU USED ALL AVAILABLE FREE TRANSLATIONS FOR TODAY. NEXT AVAILABLE IN  06 HOURS 39 MINUTES 43 SECONDS VISIT HTTPS://MYMEMORY.TRANSLATED.NET/DOC/USAGELIMITS.PHP TO TRANSLATE MORE',\n 'MYMEMORY WARNING: YOU USED ALL AVAILABLE FREE TRANSLATIONS FOR TODAY. NEXT AVAILABLE IN  06 HOURS 39 MINUTES 41 SECONDS VISIT HTTPS://MYMEMORY.TRANSLATED.NET/DOC/USAGELIMITS.PHP TO TRANSLATE MORE',\n 'MYMEMORY WARNING: YOU USED ALL AVAILABLE FREE TRANSLATIONS FOR TODAY. NEXT AVAILABLE IN  06 HOURS 39 MINUTES 37 SECONDS VISIT HTTPS://MYMEMORY.TRANSLATED.NET/DOC/USAGELIMITS.PHP TO TRANSLATE MORE',\n 'MYMEMORY WARNING: YOU USED ALL AVAILABLE FREE TRANSLATIONS FOR TODAY. NEXT AVAILABLE IN  06 HOURS 39 MINUTES 34 SECONDS VISIT HTTPS://MYMEMORY.TRANSLATED.NET/DOC/USAGELIMITS.PHP TO TRANSLATE MORE',\n 'MYMEMORY WARNING: YOU USED ALL AVAILABLE FREE TRANSLATIONS FOR TODAY. NEXT AVAILABLE IN  06 HOURS 39 MINUTES 33 SECONDS VISIT HTTPS://MYMEMORY.TRANSLATED.NET/DOC/USAGELIMITS.PHP TO TRANSLATE MORE',\n 'MYMEMORY WARNING: YOU USED ALL AVAILABLE FREE TRANSLATIONS FOR TODAY. NEXT AVAILABLE IN  06 HOURS 39 MINUTES 31 SECONDS VISIT HTTPS://MYMEMORY.TRANSLATED.NET/DOC/USAGELIMITS.PHP TO TRANSLATE MORE',\n 'MYMEMORY WARNING: YOU USED ALL AVAILABLE FREE TRANSLATIONS FOR TODAY. NEXT AVAILABLE IN  06 HOURS 39 MINUTES 29 SECONDS VISIT HTTPS://MYMEMORY.TRANSLATED.NET/DOC/USAGELIMITS.PHP TO TRANSLATE MORE',\n 'MYMEMORY WARNING: YOU USED ALL AVAILABLE FREE TRANSLATIONS FOR TODAY. NEXT AVAILABLE IN  06 HOURS 39 MINUTES 27 SECONDS VISIT HTTPS://MYMEMORY.TRANSLATED.NET/DOC/USAGELIMITS.PHP TO TRANSLATE MORE',\n 'MYMEMORY WARNING: YOU USED ALL AVAILABLE FREE TRANSLATIONS FOR TODAY. NEXT AVAILABLE IN  06 HOURS 39 MINUTES 26 SECONDS VISIT HTTPS://MYMEMORY.TRANSLATED.NET/DOC/USAGELIMITS.PHP TO TRANSLATE MORE',\n 'MYMEMORY WARNING: YOU USED ALL AVAILABLE FREE TRANSLATIONS FOR TODAY. NEXT AVAILABLE IN  06 HOURS 39 MINUTES 24 SECONDS VISIT HTTPS://MYMEMORY.TRANSLATED.NET/DOC/USAGELIMITS.PHP TO TRANSLATE MORE',\n 'MYMEMORY WARNING: YOU USED ALL AVAILABLE FREE TRANSLATIONS FOR TODAY. NEXT AVAILABLE IN  06 HOURS 39 MINUTES 22 SECONDS VISIT HTTPS://MYMEMORY.TRANSLATED.NET/DOC/USAGELIMITS.PHP TO TRANSLATE MORE',\n 'MYMEMORY WARNING: YOU USED ALL AVAILABLE FREE TRANSLATIONS FOR TODAY. NEXT AVAILABLE IN  06 HOURS 39 MINUTES 20 SECONDS VISIT HTTPS://MYMEMORY.TRANSLATED.NET/DOC/USAGELIMITS.PHP TO TRANSLATE MORE',\n 'MYMEMORY WARNING: YOU USED ALL AVAILABLE FREE TRANSLATIONS FOR TODAY. NEXT AVAILABLE IN  06 HOURS 39 MINUTES 18 SECONDS VISIT HTTPS://MYMEMORY.TRANSLATED.NET/DOC/USAGELIMITS.PHP TO TRANSLATE MORE',\n 'MYMEMORY WARNING: YOU USED ALL AVAILABLE FREE TRANSLATIONS FOR TODAY. NEXT AVAILABLE IN  06 HOURS 39 MINUTES 17 SECONDS VISIT HTTPS://MYMEMORY.TRANSLATED.NET/DOC/USAGELIMITS.PHP TO TRANSLATE MORE',\n 'MYMEMORY WARNING: YOU USED ALL AVAILABLE FREE TRANSLATIONS FOR TODAY. NEXT AVAILABLE IN  06 HOURS 39 MINUTES 15 SECONDS VISIT HTTPS://MYMEMORY.TRANSLATED.NET/DOC/USAGELIMITS.PHP TO TRANSLATE MORE',\n 'MYMEMORY WARNING: YOU USED ALL AVAILABLE FREE TRANSLATIONS FOR TODAY. NEXT AVAILABLE IN  06 HOURS 39 MINUTES 13 SECONDS VISIT HTTPS://MYMEMORY.TRANSLATED.NET/DOC/USAGELIMITS.PHP TO TRANSLATE MORE',\n 'MYMEMORY WARNING: YOU USED ALL AVAILABLE FREE TRANSLATIONS FOR TODAY. NEXT AVAILABLE IN  06 HOURS 39 MINUTES 11 SECONDS VISIT HTTPS://MYMEMORY.TRANSLATED.NET/DOC/USAGELIMITS.PHP TO TRANSLATE MORE',\n 'MYMEMORY WARNING: YOU USED ALL AVAILABLE FREE TRANSLATIONS FOR TODAY. NEXT AVAILABLE IN  06 HOURS 39 MINUTES 09 SECONDS VISIT HTTPS://MYMEMORY.TRANSLATED.NET/DOC/USAGELIMITS.PHP TO TRANSLATE MORE',\n 'MYMEMORY WARNING: YOU USED ALL AVAILABLE FREE TRANSLATIONS FOR TODAY. NEXT AVAILABLE IN  06 HOURS 39 MINUTES 08 SECONDS VISIT HTTPS://MYMEMORY.TRANSLATED.NET/DOC/USAGELIMITS.PHP TO TRANSLATE MORE',\n 'MYMEMORY WARNING: YOU USED ALL AVAILABLE FREE TRANSLATIONS FOR TODAY. NEXT AVAILABLE IN  06 HOURS 39 MINUTES 06 SECONDS VISIT HTTPS://MYMEMORY.TRANSLATED.NET/DOC/USAGELIMITS.PHP TO TRANSLATE MORE',\n 'MYMEMORY WARNING: YOU USED ALL AVAILABLE FREE TRANSLATIONS FOR TODAY. NEXT AVAILABLE IN  06 HOURS 39 MINUTES 03 SECONDS VISIT HTTPS://MYMEMORY.TRANSLATED.NET/DOC/USAGELIMITS.PHP TO TRANSLATE MORE',\n 'MYMEMORY WARNING: YOU USED ALL AVAILABLE FREE TRANSLATIONS FOR TODAY. NEXT AVAILABLE IN  06 HOURS 39 MINUTES 01 SECONDS VISIT HTTPS://MYMEMORY.TRANSLATED.NET/DOC/USAGELIMITS.PHP TO TRANSLATE MORE',\n 'MYMEMORY WARNING: YOU USED ALL AVAILABLE FREE TRANSLATIONS FOR TODAY. NEXT AVAILABLE IN  06 HOURS 39 MINUTES 00 SECONDS VISIT HTTPS://MYMEMORY.TRANSLATED.NET/DOC/USAGELIMITS.PHP TO TRANSLATE MORE',\n 'MYMEMORY WARNING: YOU USED ALL AVAILABLE FREE TRANSLATIONS FOR TODAY. NEXT AVAILABLE IN  06 HOURS 38 MINUTES 58 SECONDS VISIT HTTPS://MYMEMORY.TRANSLATED.NET/DOC/USAGELIMITS.PHP TO TRANSLATE MORE',\n 'MYMEMORY WARNING: YOU USED ALL AVAILABLE FREE TRANSLATIONS FOR TODAY. NEXT AVAILABLE IN  06 HOURS 38 MINUTES 56 SECONDS VISIT HTTPS://MYMEMORY.TRANSLATED.NET/DOC/USAGELIMITS.PHP TO TRANSLATE MORE',\n 'MYMEMORY WARNING: YOU USED ALL AVAILABLE FREE TRANSLATIONS FOR TODAY. NEXT AVAILABLE IN  06 HOURS 38 MINUTES 54 SECONDS VISIT HTTPS://MYMEMORY.TRANSLATED.NET/DOC/USAGELIMITS.PHP TO TRANSLATE MORE',\n 'MYMEMORY WARNING: YOU USED ALL AVAILABLE FREE TRANSLATIONS FOR TODAY. NEXT AVAILABLE IN  06 HOURS 38 MINUTES 52 SECONDS VISIT HTTPS://MYMEMORY.TRANSLATED.NET/DOC/USAGELIMITS.PHP TO TRANSLATE MORE',\n 'MYMEMORY WARNING: YOU USED ALL AVAILABLE FREE TRANSLATIONS FOR TODAY. NEXT AVAILABLE IN  06 HOURS 38 MINUTES 51 SECONDS VISIT HTTPS://MYMEMORY.TRANSLATED.NET/DOC/USAGELIMITS.PHP TO TRANSLATE MORE',\n 'MYMEMORY WARNING: YOU USED ALL AVAILABLE FREE TRANSLATIONS FOR TODAY. NEXT AVAILABLE IN  06 HOURS 38 MINUTES 49 SECONDS VISIT HTTPS://MYMEMORY.TRANSLATED.NET/DOC/USAGELIMITS.PHP TO TRANSLATE MORE',\n 'MYMEMORY WARNING: YOU USED ALL AVAILABLE FREE TRANSLATIONS FOR TODAY. NEXT AVAILABLE IN  06 HOURS 38 MINUTES 47 SECONDS VISIT HTTPS://MYMEMORY.TRANSLATED.NET/DOC/USAGELIMITS.PHP TO TRANSLATE MORE',\n 'MYMEMORY WARNING: YOU USED ALL AVAILABLE FREE TRANSLATIONS FOR TODAY. NEXT AVAILABLE IN  06 HOURS 38 MINUTES 45 SECONDS VISIT HTTPS://MYMEMORY.TRANSLATED.NET/DOC/USAGELIMITS.PHP TO TRANSLATE MORE',\n 'MYMEMORY WARNING: YOU USED ALL AVAILABLE FREE TRANSLATIONS FOR TODAY. NEXT AVAILABLE IN  06 HOURS 38 MINUTES 43 SECONDS VISIT HTTPS://MYMEMORY.TRANSLATED.NET/DOC/USAGELIMITS.PHP TO TRANSLATE MORE',\n 'MYMEMORY WARNING: YOU USED ALL AVAILABLE FREE TRANSLATIONS FOR TODAY. NEXT AVAILABLE IN  06 HOURS 38 MINUTES 42 SECONDS VISIT HTTPS://MYMEMORY.TRANSLATED.NET/DOC/USAGELIMITS.PHP TO TRANSLATE MORE',\n 'MYMEMORY WARNING: YOU USED ALL AVAILABLE FREE TRANSLATIONS FOR TODAY. NEXT AVAILABLE IN  06 HOURS 38 MINUTES 40 SECONDS VISIT HTTPS://MYMEMORY.TRANSLATED.NET/DOC/USAGELIMITS.PHP TO TRANSLATE MORE',\n 'MYMEMORY WARNING: YOU USED ALL AVAILABLE FREE TRANSLATIONS FOR TODAY. NEXT AVAILABLE IN  06 HOURS 38 MINUTES 38 SECONDS VISIT HTTPS://MYMEMORY.TRANSLATED.NET/DOC/USAGELIMITS.PHP TO TRANSLATE MORE',\n 'MYMEMORY WARNING: YOU USED ALL AVAILABLE FREE TRANSLATIONS FOR TODAY. NEXT AVAILABLE IN  06 HOURS 38 MINUTES 36 SECONDS VISIT HTTPS://MYMEMORY.TRANSLATED.NET/DOC/USAGELIMITS.PHP TO TRANSLATE MORE',\n 'MYMEMORY WARNING: YOU USED ALL AVAILABLE FREE TRANSLATIONS FOR TODAY. NEXT AVAILABLE IN  06 HOURS 38 MINUTES 35 SECONDS VISIT HTTPS://MYMEMORY.TRANSLATED.NET/DOC/USAGELIMITS.PHP TO TRANSLATE MORE',\n 'MYMEMORY WARNING: YOU USED ALL AVAILABLE FREE TRANSLATIONS FOR TODAY. NEXT AVAILABLE IN  06 HOURS 38 MINUTES 33 SECONDS VISIT HTTPS://MYMEMORY.TRANSLATED.NET/DOC/USAGELIMITS.PHP TO TRANSLATE MORE',\n 'MYMEMORY WARNING: YOU USED ALL AVAILABLE FREE TRANSLATIONS FOR TODAY. NEXT AVAILABLE IN  06 HOURS 38 MINUTES 31 SECONDS VISIT HTTPS://MYMEMORY.TRANSLATED.NET/DOC/USAGELIMITS.PHP TO TRANSLATE MORE',\n 'MYMEMORY WARNING: YOU USED ALL AVAILABLE FREE TRANSLATIONS FOR TODAY. NEXT AVAILABLE IN  06 HOURS 38 MINUTES 29 SECONDS VISIT HTTPS://MYMEMORY.TRANSLATED.NET/DOC/USAGELIMITS.PHP TO TRANSLATE MORE',\n 'MYMEMORY WARNING: YOU USED ALL AVAILABLE FREE TRANSLATIONS FOR TODAY. NEXT AVAILABLE IN  06 HOURS 38 MINUTES 27 SECONDS VISIT HTTPS://MYMEMORY.TRANSLATED.NET/DOC/USAGELIMITS.PHP TO TRANSLATE MORE',\n 'MYMEMORY WARNING: YOU USED ALL AVAILABLE FREE TRANSLATIONS FOR TODAY. NEXT AVAILABLE IN  06 HOURS 38 MINUTES 26 SECONDS VISIT HTTPS://MYMEMORY.TRANSLATED.NET/DOC/USAGELIMITS.PHP TO TRANSLATE MORE',\n 'MYMEMORY WARNING: YOU USED ALL AVAILABLE FREE TRANSLATIONS FOR TODAY. NEXT AVAILABLE IN  06 HOURS 38 MINUTES 24 SECONDS VISIT HTTPS://MYMEMORY.TRANSLATED.NET/DOC/USAGELIMITS.PHP TO TRANSLATE MORE',\n 'MYMEMORY WARNING: YOU USED ALL AVAILABLE FREE TRANSLATIONS FOR TODAY. NEXT AVAILABLE IN  06 HOURS 38 MINUTES 22 SECONDS VISIT HTTPS://MYMEMORY.TRANSLATED.NET/DOC/USAGELIMITS.PHP TO TRANSLATE MORE',\n 'MYMEMORY WARNING: YOU USED ALL AVAILABLE FREE TRANSLATIONS FOR TODAY. NEXT AVAILABLE IN  06 HOURS 38 MINUTES 20 SECONDS VISIT HTTPS://MYMEMORY.TRANSLATED.NET/DOC/USAGELIMITS.PHP TO TRANSLATE MORE',\n 'MYMEMORY WARNING: YOU USED ALL AVAILABLE FREE TRANSLATIONS FOR TODAY. NEXT AVAILABLE IN  06 HOURS 38 MINUTES 19 SECONDS VISIT HTTPS://MYMEMORY.TRANSLATED.NET/DOC/USAGELIMITS.PHP TO TRANSLATE MORE',\n 'MYMEMORY WARNING: YOU USED ALL AVAILABLE FREE TRANSLATIONS FOR TODAY. NEXT AVAILABLE IN  06 HOURS 38 MINUTES 17 SECONDS VISIT HTTPS://MYMEMORY.TRANSLATED.NET/DOC/USAGELIMITS.PHP TO TRANSLATE MORE',\n 'MYMEMORY WARNING: YOU USED ALL AVAILABLE FREE TRANSLATIONS FOR TODAY. NEXT AVAILABLE IN  06 HOURS 38 MINUTES 15 SECONDS VISIT HTTPS://MYMEMORY.TRANSLATED.NET/DOC/USAGELIMITS.PHP TO TRANSLATE MORE',\n 'MYMEMORY WARNING: YOU USED ALL AVAILABLE FREE TRANSLATIONS FOR TODAY. NEXT AVAILABLE IN  06 HOURS 38 MINUTES 13 SECONDS VISIT HTTPS://MYMEMORY.TRANSLATED.NET/DOC/USAGELIMITS.PHP TO TRANSLATE MORE',\n 'MYMEMORY WARNING: YOU USED ALL AVAILABLE FREE TRANSLATIONS FOR TODAY. NEXT AVAILABLE IN  06 HOURS 38 MINUTES 11 SECONDS VISIT HTTPS://MYMEMORY.TRANSLATED.NET/DOC/USAGELIMITS.PHP TO TRANSLATE MORE',\n 'MYMEMORY WARNING: YOU USED ALL AVAILABLE FREE TRANSLATIONS FOR TODAY. NEXT AVAILABLE IN  06 HOURS 38 MINUTES 10 SECONDS VISIT HTTPS://MYMEMORY.TRANSLATED.NET/DOC/USAGELIMITS.PHP TO TRANSLATE MORE',\n 'MYMEMORY WARNING: YOU USED ALL AVAILABLE FREE TRANSLATIONS FOR TODAY. NEXT AVAILABLE IN  06 HOURS 38 MINUTES 08 SECONDS VISIT HTTPS://MYMEMORY.TRANSLATED.NET/DOC/USAGELIMITS.PHP TO TRANSLATE MORE',\n 'MYMEMORY WARNING: YOU USED ALL AVAILABLE FREE TRANSLATIONS FOR TODAY. NEXT AVAILABLE IN  06 HOURS 38 MINUTES 06 SECONDS VISIT HTTPS://MYMEMORY.TRANSLATED.NET/DOC/USAGELIMITS.PHP TO TRANSLATE MORE',\n 'MYMEMORY WARNING: YOU USED ALL AVAILABLE FREE TRANSLATIONS FOR TODAY. NEXT AVAILABLE IN  06 HOURS 38 MINUTES 04 SECONDS VISIT HTTPS://MYMEMORY.TRANSLATED.NET/DOC/USAGELIMITS.PHP TO TRANSLATE MORE',\n 'MYMEMORY WARNING: YOU USED ALL AVAILABLE FREE TRANSLATIONS FOR TODAY. NEXT AVAILABLE IN  06 HOURS 38 MINUTES 02 SECONDS VISIT HTTPS://MYMEMORY.TRANSLATED.NET/DOC/USAGELIMITS.PHP TO TRANSLATE MORE',\n 'MYMEMORY WARNING: YOU USED ALL AVAILABLE FREE TRANSLATIONS FOR TODAY. NEXT AVAILABLE IN  06 HOURS 38 MINUTES 01 SECONDS VISIT HTTPS://MYMEMORY.TRANSLATED.NET/DOC/USAGELIMITS.PHP TO TRANSLATE MORE',\n 'MYMEMORY WARNING: YOU USED ALL AVAILABLE FREE TRANSLATIONS FOR TODAY. NEXT AVAILABLE IN  06 HOURS 37 MINUTES 59 SECONDS VISIT HTTPS://MYMEMORY.TRANSLATED.NET/DOC/USAGELIMITS.PHP TO TRANSLATE MORE',\n 'MYMEMORY WARNING: YOU USED ALL AVAILABLE FREE TRANSLATIONS FOR TODAY. NEXT AVAILABLE IN  06 HOURS 37 MINUTES 57 SECONDS VISIT HTTPS://MYMEMORY.TRANSLATED.NET/DOC/USAGELIMITS.PHP TO TRANSLATE MORE',\n 'MYMEMORY WARNING: YOU USED ALL AVAILABLE FREE TRANSLATIONS FOR TODAY. NEXT AVAILABLE IN  06 HOURS 37 MINUTES 55 SECONDS VISIT HTTPS://MYMEMORY.TRANSLATED.NET/DOC/USAGELIMITS.PHP TO TRANSLATE MORE',\n 'MYMEMORY WARNING: YOU USED ALL AVAILABLE FREE TRANSLATIONS FOR TODAY. NEXT AVAILABLE IN  06 HOURS 37 MINUTES 53 SECONDS VISIT HTTPS://MYMEMORY.TRANSLATED.NET/DOC/USAGELIMITS.PHP TO TRANSLATE MORE',\n 'MYMEMORY WARNING: YOU USED ALL AVAILABLE FREE TRANSLATIONS FOR TODAY. NEXT AVAILABLE IN  06 HOURS 37 MINUTES 52 SECONDS VISIT HTTPS://MYMEMORY.TRANSLATED.NET/DOC/USAGELIMITS.PHP TO TRANSLATE MORE',\n 'MYMEMORY WARNING: YOU USED ALL AVAILABLE FREE TRANSLATIONS FOR TODAY. NEXT AVAILABLE IN  06 HOURS 37 MINUTES 50 SECONDS VISIT HTTPS://MYMEMORY.TRANSLATED.NET/DOC/USAGELIMITS.PHP TO TRANSLATE MORE',\n 'MYMEMORY WARNING: YOU USED ALL AVAILABLE FREE TRANSLATIONS FOR TODAY. NEXT AVAILABLE IN  06 HOURS 37 MINUTES 48 SECONDS VISIT HTTPS://MYMEMORY.TRANSLATED.NET/DOC/USAGELIMITS.PHP TO TRANSLATE MORE',\n 'MYMEMORY WARNING: YOU USED ALL AVAILABLE FREE TRANSLATIONS FOR TODAY. NEXT AVAILABLE IN  06 HOURS 37 MINUTES 46 SECONDS VISIT HTTPS://MYMEMORY.TRANSLATED.NET/DOC/USAGELIMITS.PHP TO TRANSLATE MORE',\n 'MYMEMORY WARNING: YOU USED ALL AVAILABLE FREE TRANSLATIONS FOR TODAY. NEXT AVAILABLE IN  06 HOURS 37 MINUTES 45 SECONDS VISIT HTTPS://MYMEMORY.TRANSLATED.NET/DOC/USAGELIMITS.PHP TO TRANSLATE MORE',\n 'MYMEMORY WARNING: YOU USED ALL AVAILABLE FREE TRANSLATIONS FOR TODAY. NEXT AVAILABLE IN  06 HOURS 37 MINUTES 43 SECONDS VISIT HTTPS://MYMEMORY.TRANSLATED.NET/DOC/USAGELIMITS.PHP TO TRANSLATE MORE',\n 'MYMEMORY WARNING: YOU USED ALL AVAILABLE FREE TRANSLATIONS FOR TODAY. NEXT AVAILABLE IN  06 HOURS 37 MINUTES 41 SECONDS VISIT HTTPS://MYMEMORY.TRANSLATED.NET/DOC/USAGELIMITS.PHP TO TRANSLATE MORE',\n 'MYMEMORY WARNING: YOU USED ALL AVAILABLE FREE TRANSLATIONS FOR TODAY. NEXT AVAILABLE IN  06 HOURS 37 MINUTES 39 SECONDS VISIT HTTPS://MYMEMORY.TRANSLATED.NET/DOC/USAGELIMITS.PHP TO TRANSLATE MORE',\n 'MYMEMORY WARNING: YOU USED ALL AVAILABLE FREE TRANSLATIONS FOR TODAY. NEXT AVAILABLE IN  06 HOURS 37 MINUTES 37 SECONDS VISIT HTTPS://MYMEMORY.TRANSLATED.NET/DOC/USAGELIMITS.PHP TO TRANSLATE MORE',\n 'MYMEMORY WARNING: YOU USED ALL AVAILABLE FREE TRANSLATIONS FOR TODAY. NEXT AVAILABLE IN  06 HOURS 37 MINUTES 36 SECONDS VISIT HTTPS://MYMEMORY.TRANSLATED.NET/DOC/USAGELIMITS.PHP TO TRANSLATE MORE',\n 'MYMEMORY WARNING: YOU USED ALL AVAILABLE FREE TRANSLATIONS FOR TODAY. NEXT AVAILABLE IN  06 HOURS 37 MINUTES 34 SECONDS VISIT HTTPS://MYMEMORY.TRANSLATED.NET/DOC/USAGELIMITS.PHP TO TRANSLATE MORE',\n 'MYMEMORY WARNING: YOU USED ALL AVAILABLE FREE TRANSLATIONS FOR TODAY. NEXT AVAILABLE IN  06 HOURS 37 MINUTES 32 SECONDS VISIT HTTPS://MYMEMORY.TRANSLATED.NET/DOC/USAGELIMITS.PHP TO TRANSLATE MORE',\n 'MYMEMORY WARNING: YOU USED ALL AVAILABLE FREE TRANSLATIONS FOR TODAY. NEXT AVAILABLE IN  06 HOURS 37 MINUTES 30 SECONDS VISIT HTTPS://MYMEMORY.TRANSLATED.NET/DOC/USAGELIMITS.PHP TO TRANSLATE MORE',\n 'MYMEMORY WARNING: YOU USED ALL AVAILABLE FREE TRANSLATIONS FOR TODAY. NEXT AVAILABLE IN  06 HOURS 37 MINUTES 28 SECONDS VISIT HTTPS://MYMEMORY.TRANSLATED.NET/DOC/USAGELIMITS.PHP TO TRANSLATE MORE',\n 'MYMEMORY WARNING: YOU USED ALL AVAILABLE FREE TRANSLATIONS FOR TODAY. NEXT AVAILABLE IN  06 HOURS 37 MINUTES 27 SECONDS VISIT HTTPS://MYMEMORY.TRANSLATED.NET/DOC/USAGELIMITS.PHP TO TRANSLATE MORE',\n 'MYMEMORY WARNING: YOU USED ALL AVAILABLE FREE TRANSLATIONS FOR TODAY. NEXT AVAILABLE IN  06 HOURS 37 MINUTES 25 SECONDS VISIT HTTPS://MYMEMORY.TRANSLATED.NET/DOC/USAGELIMITS.PHP TO TRANSLATE MORE',\n 'MYMEMORY WARNING: YOU USED ALL AVAILABLE FREE TRANSLATIONS FOR TODAY. NEXT AVAILABLE IN  06 HOURS 37 MINUTES 22 SECONDS VISIT HTTPS://MYMEMORY.TRANSLATED.NET/DOC/USAGELIMITS.PHP TO TRANSLATE MORE',\n 'MYMEMORY WARNING: YOU USED ALL AVAILABLE FREE TRANSLATIONS FOR TODAY. NEXT AVAILABLE IN  06 HOURS 37 MINUTES 20 SECONDS VISIT HTTPS://MYMEMORY.TRANSLATED.NET/DOC/USAGELIMITS.PHP TO TRANSLATE MORE',\n 'MYMEMORY WARNING: YOU USED ALL AVAILABLE FREE TRANSLATIONS FOR TODAY. NEXT AVAILABLE IN  06 HOURS 37 MINUTES 18 SECONDS VISIT HTTPS://MYMEMORY.TRANSLATED.NET/DOC/USAGELIMITS.PHP TO TRANSLATE MORE',\n 'MYMEMORY WARNING: YOU USED ALL AVAILABLE FREE TRANSLATIONS FOR TODAY. NEXT AVAILABLE IN  06 HOURS 37 MINUTES 16 SECONDS VISIT HTTPS://MYMEMORY.TRANSLATED.NET/DOC/USAGELIMITS.PHP TO TRANSLATE MORE',\n 'MYMEMORY WARNING: YOU USED ALL AVAILABLE FREE TRANSLATIONS FOR TODAY. NEXT AVAILABLE IN  06 HOURS 37 MINUTES 14 SECONDS VISIT HTTPS://MYMEMORY.TRANSLATED.NET/DOC/USAGELIMITS.PHP TO TRANSLATE MORE',\n 'MYMEMORY WARNING: YOU USED ALL AVAILABLE FREE TRANSLATIONS FOR TODAY. NEXT AVAILABLE IN  06 HOURS 37 MINUTES 12 SECONDS VISIT HTTPS://MYMEMORY.TRANSLATED.NET/DOC/USAGELIMITS.PHP TO TRANSLATE MORE',\n 'MYMEMORY WARNING: YOU USED ALL AVAILABLE FREE TRANSLATIONS FOR TODAY. NEXT AVAILABLE IN  06 HOURS 37 MINUTES 11 SECONDS VISIT HTTPS://MYMEMORY.TRANSLATED.NET/DOC/USAGELIMITS.PHP TO TRANSLATE MORE',\n 'MYMEMORY WARNING: YOU USED ALL AVAILABLE FREE TRANSLATIONS FOR TODAY. NEXT AVAILABLE IN  06 HOURS 37 MINUTES 09 SECONDS VISIT HTTPS://MYMEMORY.TRANSLATED.NET/DOC/USAGELIMITS.PHP TO TRANSLATE MORE',\n 'MYMEMORY WARNING: YOU USED ALL AVAILABLE FREE TRANSLATIONS FOR TODAY. NEXT AVAILABLE IN  06 HOURS 37 MINUTES 07 SECONDS VISIT HTTPS://MYMEMORY.TRANSLATED.NET/DOC/USAGELIMITS.PHP TO TRANSLATE MORE',\n 'MYMEMORY WARNING: YOU USED ALL AVAILABLE FREE TRANSLATIONS FOR TODAY. NEXT AVAILABLE IN  06 HOURS 37 MINUTES 05 SECONDS VISIT HTTPS://MYMEMORY.TRANSLATED.NET/DOC/USAGELIMITS.PHP TO TRANSLATE MORE',\n 'MYMEMORY WARNING: YOU USED ALL AVAILABLE FREE TRANSLATIONS FOR TODAY. NEXT AVAILABLE IN  06 HOURS 37 MINUTES 03 SECONDS VISIT HTTPS://MYMEMORY.TRANSLATED.NET/DOC/USAGELIMITS.PHP TO TRANSLATE MORE',\n 'MYMEMORY WARNING: YOU USED ALL AVAILABLE FREE TRANSLATIONS FOR TODAY. NEXT AVAILABLE IN  06 HOURS 37 MINUTES 02 SECONDS VISIT HTTPS://MYMEMORY.TRANSLATED.NET/DOC/USAGELIMITS.PHP TO TRANSLATE MORE',\n 'MYMEMORY WARNING: YOU USED ALL AVAILABLE FREE TRANSLATIONS FOR TODAY. NEXT AVAILABLE IN  06 HOURS 37 MINUTES 00 SECONDS VISIT HTTPS://MYMEMORY.TRANSLATED.NET/DOC/USAGELIMITS.PHP TO TRANSLATE MORE',\n 'MYMEMORY WARNING: YOU USED ALL AVAILABLE FREE TRANSLATIONS FOR TODAY. NEXT AVAILABLE IN  06 HOURS 36 MINUTES 58 SECONDS VISIT HTTPS://MYMEMORY.TRANSLATED.NET/DOC/USAGELIMITS.PHP TO TRANSLATE MORE',\n 'MYMEMORY WARNING: YOU USED ALL AVAILABLE FREE TRANSLATIONS FOR TODAY. NEXT AVAILABLE IN  06 HOURS 36 MINUTES 56 SECONDS VISIT HTTPS://MYMEMORY.TRANSLATED.NET/DOC/USAGELIMITS.PHP TO TRANSLATE MORE',\n 'MYMEMORY WARNING: YOU USED ALL AVAILABLE FREE TRANSLATIONS FOR TODAY. NEXT AVAILABLE IN  06 HOURS 36 MINUTES 54 SECONDS VISIT HTTPS://MYMEMORY.TRANSLATED.NET/DOC/USAGELIMITS.PHP TO TRANSLATE MORE',\n 'MYMEMORY WARNING: YOU USED ALL AVAILABLE FREE TRANSLATIONS FOR TODAY. NEXT AVAILABLE IN  06 HOURS 36 MINUTES 53 SECONDS VISIT HTTPS://MYMEMORY.TRANSLATED.NET/DOC/USAGELIMITS.PHP TO TRANSLATE MORE',\n 'MYMEMORY WARNING: YOU USED ALL AVAILABLE FREE TRANSLATIONS FOR TODAY. NEXT AVAILABLE IN  06 HOURS 36 MINUTES 51 SECONDS VISIT HTTPS://MYMEMORY.TRANSLATED.NET/DOC/USAGELIMITS.PHP TO TRANSLATE MORE',\n 'MYMEMORY WARNING: YOU USED ALL AVAILABLE FREE TRANSLATIONS FOR TODAY. NEXT AVAILABLE IN  06 HOURS 36 MINUTES 49 SECONDS VISIT HTTPS://MYMEMORY.TRANSLATED.NET/DOC/USAGELIMITS.PHP TO TRANSLATE MORE',\n 'MYMEMORY WARNING: YOU USED ALL AVAILABLE FREE TRANSLATIONS FOR TODAY. NEXT AVAILABLE IN  06 HOURS 36 MINUTES 47 SECONDS VISIT HTTPS://MYMEMORY.TRANSLATED.NET/DOC/USAGELIMITS.PHP TO TRANSLATE MORE',\n 'MYMEMORY WARNING: YOU USED ALL AVAILABLE FREE TRANSLATIONS FOR TODAY. NEXT AVAILABLE IN  06 HOURS 36 MINUTES 46 SECONDS VISIT HTTPS://MYMEMORY.TRANSLATED.NET/DOC/USAGELIMITS.PHP TO TRANSLATE MORE',\n 'MYMEMORY WARNING: YOU USED ALL AVAILABLE FREE TRANSLATIONS FOR TODAY. NEXT AVAILABLE IN  06 HOURS 36 MINUTES 44 SECONDS VISIT HTTPS://MYMEMORY.TRANSLATED.NET/DOC/USAGELIMITS.PHP TO TRANSLATE MORE',\n 'MYMEMORY WARNING: YOU USED ALL AVAILABLE FREE TRANSLATIONS FOR TODAY. NEXT AVAILABLE IN  06 HOURS 36 MINUTES 42 SECONDS VISIT HTTPS://MYMEMORY.TRANSLATED.NET/DOC/USAGELIMITS.PHP TO TRANSLATE MORE',\n 'MYMEMORY WARNING: YOU USED ALL AVAILABLE FREE TRANSLATIONS FOR TODAY. NEXT AVAILABLE IN  06 HOURS 36 MINUTES 40 SECONDS VISIT HTTPS://MYMEMORY.TRANSLATED.NET/DOC/USAGELIMITS.PHP TO TRANSLATE MORE',\n 'MYMEMORY WARNING: YOU USED ALL AVAILABLE FREE TRANSLATIONS FOR TODAY. NEXT AVAILABLE IN  06 HOURS 36 MINUTES 38 SECONDS VISIT HTTPS://MYMEMORY.TRANSLATED.NET/DOC/USAGELIMITS.PHP TO TRANSLATE MORE',\n 'MYMEMORY WARNING: YOU USED ALL AVAILABLE FREE TRANSLATIONS FOR TODAY. NEXT AVAILABLE IN  06 HOURS 36 MINUTES 37 SECONDS VISIT HTTPS://MYMEMORY.TRANSLATED.NET/DOC/USAGELIMITS.PHP TO TRANSLATE MORE',\n 'MYMEMORY WARNING: YOU USED ALL AVAILABLE FREE TRANSLATIONS FOR TODAY. NEXT AVAILABLE IN  06 HOURS 36 MINUTES 34 SECONDS VISIT HTTPS://MYMEMORY.TRANSLATED.NET/DOC/USAGELIMITS.PHP TO TRANSLATE MORE',\n 'MYMEMORY WARNING: YOU USED ALL AVAILABLE FREE TRANSLATIONS FOR TODAY. NEXT AVAILABLE IN  06 HOURS 36 MINUTES 32 SECONDS VISIT HTTPS://MYMEMORY.TRANSLATED.NET/DOC/USAGELIMITS.PHP TO TRANSLATE MORE',\n 'MYMEMORY WARNING: YOU USED ALL AVAILABLE FREE TRANSLATIONS FOR TODAY. NEXT AVAILABLE IN  06 HOURS 36 MINUTES 30 SECONDS VISIT HTTPS://MYMEMORY.TRANSLATED.NET/DOC/USAGELIMITS.PHP TO TRANSLATE MORE',\n 'MYMEMORY WARNING: YOU USED ALL AVAILABLE FREE TRANSLATIONS FOR TODAY. NEXT AVAILABLE IN  06 HOURS 36 MINUTES 29 SECONDS VISIT HTTPS://MYMEMORY.TRANSLATED.NET/DOC/USAGELIMITS.PHP TO TRANSLATE MORE',\n 'MYMEMORY WARNING: YOU USED ALL AVAILABLE FREE TRANSLATIONS FOR TODAY. NEXT AVAILABLE IN  06 HOURS 36 MINUTES 27 SECONDS VISIT HTTPS://MYMEMORY.TRANSLATED.NET/DOC/USAGELIMITS.PHP TO TRANSLATE MORE',\n 'MYMEMORY WARNING: YOU USED ALL AVAILABLE FREE TRANSLATIONS FOR TODAY. NEXT AVAILABLE IN  06 HOURS 36 MINUTES 25 SECONDS VISIT HTTPS://MYMEMORY.TRANSLATED.NET/DOC/USAGELIMITS.PHP TO TRANSLATE MORE',\n 'MYMEMORY WARNING: YOU USED ALL AVAILABLE FREE TRANSLATIONS FOR TODAY. NEXT AVAILABLE IN  06 HOURS 36 MINUTES 23 SECONDS VISIT HTTPS://MYMEMORY.TRANSLATED.NET/DOC/USAGELIMITS.PHP TO TRANSLATE MORE',\n 'MYMEMORY WARNING: YOU USED ALL AVAILABLE FREE TRANSLATIONS FOR TODAY. NEXT AVAILABLE IN  06 HOURS 36 MINUTES 20 SECONDS VISIT HTTPS://MYMEMORY.TRANSLATED.NET/DOC/USAGELIMITS.PHP TO TRANSLATE MORE',\n 'MYMEMORY WARNING: YOU USED ALL AVAILABLE FREE TRANSLATIONS FOR TODAY. NEXT AVAILABLE IN  06 HOURS 36 MINUTES 18 SECONDS VISIT HTTPS://MYMEMORY.TRANSLATED.NET/DOC/USAGELIMITS.PHP TO TRANSLATE MORE',\n 'MYMEMORY WARNING: YOU USED ALL AVAILABLE FREE TRANSLATIONS FOR TODAY. NEXT AVAILABLE IN  06 HOURS 36 MINUTES 16 SECONDS VISIT HTTPS://MYMEMORY.TRANSLATED.NET/DOC/USAGELIMITS.PHP TO TRANSLATE MORE',\n 'MYMEMORY WARNING: YOU USED ALL AVAILABLE FREE TRANSLATIONS FOR TODAY. NEXT AVAILABLE IN  06 HOURS 36 MINUTES 14 SECONDS VISIT HTTPS://MYMEMORY.TRANSLATED.NET/DOC/USAGELIMITS.PHP TO TRANSLATE MORE',\n 'MYMEMORY WARNING: YOU USED ALL AVAILABLE FREE TRANSLATIONS FOR TODAY. NEXT AVAILABLE IN  06 HOURS 36 MINUTES 13 SECONDS VISIT HTTPS://MYMEMORY.TRANSLATED.NET/DOC/USAGELIMITS.PHP TO TRANSLATE MORE',\n 'MYMEMORY WARNING: YOU USED ALL AVAILABLE FREE TRANSLATIONS FOR TODAY. NEXT AVAILABLE IN  06 HOURS 36 MINUTES 11 SECONDS VISIT HTTPS://MYMEMORY.TRANSLATED.NET/DOC/USAGELIMITS.PHP TO TRANSLATE MORE',\n 'MYMEMORY WARNING: YOU USED ALL AVAILABLE FREE TRANSLATIONS FOR TODAY. NEXT AVAILABLE IN  06 HOURS 36 MINUTES 09 SECONDS VISIT HTTPS://MYMEMORY.TRANSLATED.NET/DOC/USAGELIMITS.PHP TO TRANSLATE MORE',\n 'MYMEMORY WARNING: YOU USED ALL AVAILABLE FREE TRANSLATIONS FOR TODAY. NEXT AVAILABLE IN  06 HOURS 36 MINUTES 07 SECONDS VISIT HTTPS://MYMEMORY.TRANSLATED.NET/DOC/USAGELIMITS.PHP TO TRANSLATE MORE',\n 'MYMEMORY WARNING: YOU USED ALL AVAILABLE FREE TRANSLATIONS FOR TODAY. NEXT AVAILABLE IN  06 HOURS 36 MINUTES 05 SECONDS VISIT HTTPS://MYMEMORY.TRANSLATED.NET/DOC/USAGELIMITS.PHP TO TRANSLATE MORE',\n 'MYMEMORY WARNING: YOU USED ALL AVAILABLE FREE TRANSLATIONS FOR TODAY. NEXT AVAILABLE IN  06 HOURS 36 MINUTES 04 SECONDS VISIT HTTPS://MYMEMORY.TRANSLATED.NET/DOC/USAGELIMITS.PHP TO TRANSLATE MORE',\n 'MYMEMORY WARNING: YOU USED ALL AVAILABLE FREE TRANSLATIONS FOR TODAY. NEXT AVAILABLE IN  06 HOURS 36 MINUTES 02 SECONDS VISIT HTTPS://MYMEMORY.TRANSLATED.NET/DOC/USAGELIMITS.PHP TO TRANSLATE MORE',\n 'MYMEMORY WARNING: YOU USED ALL AVAILABLE FREE TRANSLATIONS FOR TODAY. NEXT AVAILABLE IN  06 HOURS 36 MINUTES 00 SECONDS VISIT HTTPS://MYMEMORY.TRANSLATED.NET/DOC/USAGELIMITS.PHP TO TRANSLATE MORE',\n 'MYMEMORY WARNING: YOU USED ALL AVAILABLE FREE TRANSLATIONS FOR TODAY. NEXT AVAILABLE IN  06 HOURS 35 MINUTES 58 SECONDS VISIT HTTPS://MYMEMORY.TRANSLATED.NET/DOC/USAGELIMITS.PHP TO TRANSLATE MORE',\n 'MYMEMORY WARNING: YOU USED ALL AVAILABLE FREE TRANSLATIONS FOR TODAY. NEXT AVAILABLE IN  06 HOURS 35 MINUTES 56 SECONDS VISIT HTTPS://MYMEMORY.TRANSLATED.NET/DOC/USAGELIMITS.PHP TO TRANSLATE MORE',\n 'MYMEMORY WARNING: YOU USED ALL AVAILABLE FREE TRANSLATIONS FOR TODAY. NEXT AVAILABLE IN  06 HOURS 35 MINUTES 55 SECONDS VISIT HTTPS://MYMEMORY.TRANSLATED.NET/DOC/USAGELIMITS.PHP TO TRANSLATE MORE',\n 'MYMEMORY WARNING: YOU USED ALL AVAILABLE FREE TRANSLATIONS FOR TODAY. NEXT AVAILABLE IN  06 HOURS 35 MINUTES 53 SECONDS VISIT HTTPS://MYMEMORY.TRANSLATED.NET/DOC/USAGELIMITS.PHP TO TRANSLATE MORE',\n 'MYMEMORY WARNING: YOU USED ALL AVAILABLE FREE TRANSLATIONS FOR TODAY. NEXT AVAILABLE IN  06 HOURS 35 MINUTES 49 SECONDS VISIT HTTPS://MYMEMORY.TRANSLATED.NET/DOC/USAGELIMITS.PHP TO TRANSLATE MORE',\n 'MYMEMORY WARNING: YOU USED ALL AVAILABLE FREE TRANSLATIONS FOR TODAY. NEXT AVAILABLE IN  06 HOURS 35 MINUTES 47 SECONDS VISIT HTTPS://MYMEMORY.TRANSLATED.NET/DOC/USAGELIMITS.PHP TO TRANSLATE MORE',\n 'MYMEMORY WARNING: YOU USED ALL AVAILABLE FREE TRANSLATIONS FOR TODAY. NEXT AVAILABLE IN  06 HOURS 35 MINUTES 45 SECONDS VISIT HTTPS://MYMEMORY.TRANSLATED.NET/DOC/USAGELIMITS.PHP TO TRANSLATE MORE',\n 'MYMEMORY WARNING: YOU USED ALL AVAILABLE FREE TRANSLATIONS FOR TODAY. NEXT AVAILABLE IN  06 HOURS 35 MINUTES 43 SECONDS VISIT HTTPS://MYMEMORY.TRANSLATED.NET/DOC/USAGELIMITS.PHP TO TRANSLATE MORE',\n 'MYMEMORY WARNING: YOU USED ALL AVAILABLE FREE TRANSLATIONS FOR TODAY. NEXT AVAILABLE IN  06 HOURS 35 MINUTES 41 SECONDS VISIT HTTPS://MYMEMORY.TRANSLATED.NET/DOC/USAGELIMITS.PHP TO TRANSLATE MORE',\n 'MYMEMORY WARNING: YOU USED ALL AVAILABLE FREE TRANSLATIONS FOR TODAY. NEXT AVAILABLE IN  06 HOURS 35 MINUTES 39 SECONDS VISIT HTTPS://MYMEMORY.TRANSLATED.NET/DOC/USAGELIMITS.PHP TO TRANSLATE MORE',\n 'MYMEMORY WARNING: YOU USED ALL AVAILABLE FREE TRANSLATIONS FOR TODAY. NEXT AVAILABLE IN  06 HOURS 35 MINUTES 38 SECONDS VISIT HTTPS://MYMEMORY.TRANSLATED.NET/DOC/USAGELIMITS.PHP TO TRANSLATE MORE',\n 'MYMEMORY WARNING: YOU USED ALL AVAILABLE FREE TRANSLATIONS FOR TODAY. NEXT AVAILABLE IN  06 HOURS 35 MINUTES 36 SECONDS VISIT HTTPS://MYMEMORY.TRANSLATED.NET/DOC/USAGELIMITS.PHP TO TRANSLATE MORE',\n 'MYMEMORY WARNING: YOU USED ALL AVAILABLE FREE TRANSLATIONS FOR TODAY. NEXT AVAILABLE IN  06 HOURS 35 MINUTES 34 SECONDS VISIT HTTPS://MYMEMORY.TRANSLATED.NET/DOC/USAGELIMITS.PHP TO TRANSLATE MORE',\n 'MYMEMORY WARNING: YOU USED ALL AVAILABLE FREE TRANSLATIONS FOR TODAY. NEXT AVAILABLE IN  06 HOURS 35 MINUTES 32 SECONDS VISIT HTTPS://MYMEMORY.TRANSLATED.NET/DOC/USAGELIMITS.PHP TO TRANSLATE MORE',\n 'MYMEMORY WARNING: YOU USED ALL AVAILABLE FREE TRANSLATIONS FOR TODAY. NEXT AVAILABLE IN  06 HOURS 35 MINUTES 31 SECONDS VISIT HTTPS://MYMEMORY.TRANSLATED.NET/DOC/USAGELIMITS.PHP TO TRANSLATE MORE',\n 'MYMEMORY WARNING: YOU USED ALL AVAILABLE FREE TRANSLATIONS FOR TODAY. NEXT AVAILABLE IN  06 HOURS 35 MINUTES 29 SECONDS VISIT HTTPS://MYMEMORY.TRANSLATED.NET/DOC/USAGELIMITS.PHP TO TRANSLATE MORE',\n 'MYMEMORY WARNING: YOU USED ALL AVAILABLE FREE TRANSLATIONS FOR TODAY. NEXT AVAILABLE IN  06 HOURS 35 MINUTES 27 SECONDS VISIT HTTPS://MYMEMORY.TRANSLATED.NET/DOC/USAGELIMITS.PHP TO TRANSLATE MORE',\n 'MYMEMORY WARNING: YOU USED ALL AVAILABLE FREE TRANSLATIONS FOR TODAY. NEXT AVAILABLE IN  06 HOURS 35 MINUTES 25 SECONDS VISIT HTTPS://MYMEMORY.TRANSLATED.NET/DOC/USAGELIMITS.PHP TO TRANSLATE MORE',\n 'MYMEMORY WARNING: YOU USED ALL AVAILABLE FREE TRANSLATIONS FOR TODAY. NEXT AVAILABLE IN  06 HOURS 35 MINUTES 23 SECONDS VISIT HTTPS://MYMEMORY.TRANSLATED.NET/DOC/USAGELIMITS.PHP TO TRANSLATE MORE',\n 'MYMEMORY WARNING: YOU USED ALL AVAILABLE FREE TRANSLATIONS FOR TODAY. NEXT AVAILABLE IN  06 HOURS 35 MINUTES 22 SECONDS VISIT HTTPS://MYMEMORY.TRANSLATED.NET/DOC/USAGELIMITS.PHP TO TRANSLATE MORE',\n 'MYMEMORY WARNING: YOU USED ALL AVAILABLE FREE TRANSLATIONS FOR TODAY. NEXT AVAILABLE IN  06 HOURS 35 MINUTES 20 SECONDS VISIT HTTPS://MYMEMORY.TRANSLATED.NET/DOC/USAGELIMITS.PHP TO TRANSLATE MORE',\n 'MYMEMORY WARNING: YOU USED ALL AVAILABLE FREE TRANSLATIONS FOR TODAY. NEXT AVAILABLE IN  06 HOURS 35 MINUTES 18 SECONDS VISIT HTTPS://MYMEMORY.TRANSLATED.NET/DOC/USAGELIMITS.PHP TO TRANSLATE MORE',\n 'MYMEMORY WARNING: YOU USED ALL AVAILABLE FREE TRANSLATIONS FOR TODAY. NEXT AVAILABLE IN  06 HOURS 35 MINUTES 16 SECONDS VISIT HTTPS://MYMEMORY.TRANSLATED.NET/DOC/USAGELIMITS.PHP TO TRANSLATE MORE',\n 'MYMEMORY WARNING: YOU USED ALL AVAILABLE FREE TRANSLATIONS FOR TODAY. NEXT AVAILABLE IN  06 HOURS 35 MINUTES 15 SECONDS VISIT HTTPS://MYMEMORY.TRANSLATED.NET/DOC/USAGELIMITS.PHP TO TRANSLATE MORE',\n 'MYMEMORY WARNING: YOU USED ALL AVAILABLE FREE TRANSLATIONS FOR TODAY. NEXT AVAILABLE IN  06 HOURS 35 MINUTES 13 SECONDS VISIT HTTPS://MYMEMORY.TRANSLATED.NET/DOC/USAGELIMITS.PHP TO TRANSLATE MORE',\n 'MYMEMORY WARNING: YOU USED ALL AVAILABLE FREE TRANSLATIONS FOR TODAY. NEXT AVAILABLE IN  06 HOURS 35 MINUTES 11 SECONDS VISIT HTTPS://MYMEMORY.TRANSLATED.NET/DOC/USAGELIMITS.PHP TO TRANSLATE MORE',\n 'MYMEMORY WARNING: YOU USED ALL AVAILABLE FREE TRANSLATIONS FOR TODAY. NEXT AVAILABLE IN  06 HOURS 35 MINUTES 09 SECONDS VISIT HTTPS://MYMEMORY.TRANSLATED.NET/DOC/USAGELIMITS.PHP TO TRANSLATE MORE',\n 'MYMEMORY WARNING: YOU USED ALL AVAILABLE FREE TRANSLATIONS FOR TODAY. NEXT AVAILABLE IN  06 HOURS 35 MINUTES 07 SECONDS VISIT HTTPS://MYMEMORY.TRANSLATED.NET/DOC/USAGELIMITS.PHP TO TRANSLATE MORE',\n 'MYMEMORY WARNING: YOU USED ALL AVAILABLE FREE TRANSLATIONS FOR TODAY. NEXT AVAILABLE IN  06 HOURS 35 MINUTES 05 SECONDS VISIT HTTPS://MYMEMORY.TRANSLATED.NET/DOC/USAGELIMITS.PHP TO TRANSLATE MORE',\n 'MYMEMORY WARNING: YOU USED ALL AVAILABLE FREE TRANSLATIONS FOR TODAY. NEXT AVAILABLE IN  06 HOURS 35 MINUTES 04 SECONDS VISIT HTTPS://MYMEMORY.TRANSLATED.NET/DOC/USAGELIMITS.PHP TO TRANSLATE MORE',\n 'MYMEMORY WARNING: YOU USED ALL AVAILABLE FREE TRANSLATIONS FOR TODAY. NEXT AVAILABLE IN  06 HOURS 35 MINUTES 02 SECONDS VISIT HTTPS://MYMEMORY.TRANSLATED.NET/DOC/USAGELIMITS.PHP TO TRANSLATE MORE',\n 'MYMEMORY WARNING: YOU USED ALL AVAILABLE FREE TRANSLATIONS FOR TODAY. NEXT AVAILABLE IN  06 HOURS 35 MINUTES 00 SECONDS VISIT HTTPS://MYMEMORY.TRANSLATED.NET/DOC/USAGELIMITS.PHP TO TRANSLATE MORE',\n 'MYMEMORY WARNING: YOU USED ALL AVAILABLE FREE TRANSLATIONS FOR TODAY. NEXT AVAILABLE IN  06 HOURS 34 MINUTES 58 SECONDS VISIT HTTPS://MYMEMORY.TRANSLATED.NET/DOC/USAGELIMITS.PHP TO TRANSLATE MORE',\n 'MYMEMORY WARNING: YOU USED ALL AVAILABLE FREE TRANSLATIONS FOR TODAY. NEXT AVAILABLE IN  06 HOURS 34 MINUTES 57 SECONDS VISIT HTTPS://MYMEMORY.TRANSLATED.NET/DOC/USAGELIMITS.PHP TO TRANSLATE MORE',\n 'MYMEMORY WARNING: YOU USED ALL AVAILABLE FREE TRANSLATIONS FOR TODAY. NEXT AVAILABLE IN  06 HOURS 34 MINUTES 55 SECONDS VISIT HTTPS://MYMEMORY.TRANSLATED.NET/DOC/USAGELIMITS.PHP TO TRANSLATE MORE',\n 'MYMEMORY WARNING: YOU USED ALL AVAILABLE FREE TRANSLATIONS FOR TODAY. NEXT AVAILABLE IN  06 HOURS 34 MINUTES 53 SECONDS VISIT HTTPS://MYMEMORY.TRANSLATED.NET/DOC/USAGELIMITS.PHP TO TRANSLATE MORE',\n 'MYMEMORY WARNING: YOU USED ALL AVAILABLE FREE TRANSLATIONS FOR TODAY. NEXT AVAILABLE IN  06 HOURS 34 MINUTES 51 SECONDS VISIT HTTPS://MYMEMORY.TRANSLATED.NET/DOC/USAGELIMITS.PHP TO TRANSLATE MORE',\n 'MYMEMORY WARNING: YOU USED ALL AVAILABLE FREE TRANSLATIONS FOR TODAY. NEXT AVAILABLE IN  06 HOURS 34 MINUTES 49 SECONDS VISIT HTTPS://MYMEMORY.TRANSLATED.NET/DOC/USAGELIMITS.PHP TO TRANSLATE MORE',\n 'MYMEMORY WARNING: YOU USED ALL AVAILABLE FREE TRANSLATIONS FOR TODAY. NEXT AVAILABLE IN  06 HOURS 34 MINUTES 48 SECONDS VISIT HTTPS://MYMEMORY.TRANSLATED.NET/DOC/USAGELIMITS.PHP TO TRANSLATE MORE',\n 'MYMEMORY WARNING: YOU USED ALL AVAILABLE FREE TRANSLATIONS FOR TODAY. NEXT AVAILABLE IN  06 HOURS 34 MINUTES 46 SECONDS VISIT HTTPS://MYMEMORY.TRANSLATED.NET/DOC/USAGELIMITS.PHP TO TRANSLATE MORE',\n 'MYMEMORY WARNING: YOU USED ALL AVAILABLE FREE TRANSLATIONS FOR TODAY. NEXT AVAILABLE IN  06 HOURS 34 MINUTES 44 SECONDS VISIT HTTPS://MYMEMORY.TRANSLATED.NET/DOC/USAGELIMITS.PHP TO TRANSLATE MORE',\n 'MYMEMORY WARNING: YOU USED ALL AVAILABLE FREE TRANSLATIONS FOR TODAY. NEXT AVAILABLE IN  06 HOURS 34 MINUTES 42 SECONDS VISIT HTTPS://MYMEMORY.TRANSLATED.NET/DOC/USAGELIMITS.PHP TO TRANSLATE MORE',\n 'MYMEMORY WARNING: YOU USED ALL AVAILABLE FREE TRANSLATIONS FOR TODAY. NEXT AVAILABLE IN  06 HOURS 34 MINUTES 40 SECONDS VISIT HTTPS://MYMEMORY.TRANSLATED.NET/DOC/USAGELIMITS.PHP TO TRANSLATE MORE',\n 'MYMEMORY WARNING: YOU USED ALL AVAILABLE FREE TRANSLATIONS FOR TODAY. NEXT AVAILABLE IN  06 HOURS 34 MINUTES 39 SECONDS VISIT HTTPS://MYMEMORY.TRANSLATED.NET/DOC/USAGELIMITS.PHP TO TRANSLATE MORE',\n 'MYMEMORY WARNING: YOU USED ALL AVAILABLE FREE TRANSLATIONS FOR TODAY. NEXT AVAILABLE IN  06 HOURS 34 MINUTES 37 SECONDS VISIT HTTPS://MYMEMORY.TRANSLATED.NET/DOC/USAGELIMITS.PHP TO TRANSLATE MORE',\n 'MYMEMORY WARNING: YOU USED ALL AVAILABLE FREE TRANSLATIONS FOR TODAY. NEXT AVAILABLE IN  06 HOURS 34 MINUTES 35 SECONDS VISIT HTTPS://MYMEMORY.TRANSLATED.NET/DOC/USAGELIMITS.PHP TO TRANSLATE MORE',\n 'MYMEMORY WARNING: YOU USED ALL AVAILABLE FREE TRANSLATIONS FOR TODAY. NEXT AVAILABLE IN  06 HOURS 34 MINUTES 33 SECONDS VISIT HTTPS://MYMEMORY.TRANSLATED.NET/DOC/USAGELIMITS.PHP TO TRANSLATE MORE',\n 'MYMEMORY WARNING: YOU USED ALL AVAILABLE FREE TRANSLATIONS FOR TODAY. NEXT AVAILABLE IN  06 HOURS 34 MINUTES 32 SECONDS VISIT HTTPS://MYMEMORY.TRANSLATED.NET/DOC/USAGELIMITS.PHP TO TRANSLATE MORE',\n 'MYMEMORY WARNING: YOU USED ALL AVAILABLE FREE TRANSLATIONS FOR TODAY. NEXT AVAILABLE IN  06 HOURS 34 MINUTES 30 SECONDS VISIT HTTPS://MYMEMORY.TRANSLATED.NET/DOC/USAGELIMITS.PHP TO TRANSLATE MORE',\n 'MYMEMORY WARNING: YOU USED ALL AVAILABLE FREE TRANSLATIONS FOR TODAY. NEXT AVAILABLE IN  06 HOURS 34 MINUTES 28 SECONDS VISIT HTTPS://MYMEMORY.TRANSLATED.NET/DOC/USAGELIMITS.PHP TO TRANSLATE MORE',\n 'MYMEMORY WARNING: YOU USED ALL AVAILABLE FREE TRANSLATIONS FOR TODAY. NEXT AVAILABLE IN  06 HOURS 34 MINUTES 26 SECONDS VISIT HTTPS://MYMEMORY.TRANSLATED.NET/DOC/USAGELIMITS.PHP TO TRANSLATE MORE',\n 'MYMEMORY WARNING: YOU USED ALL AVAILABLE FREE TRANSLATIONS FOR TODAY. NEXT AVAILABLE IN  06 HOURS 34 MINUTES 24 SECONDS VISIT HTTPS://MYMEMORY.TRANSLATED.NET/DOC/USAGELIMITS.PHP TO TRANSLATE MORE',\n 'MYMEMORY WARNING: YOU USED ALL AVAILABLE FREE TRANSLATIONS FOR TODAY. NEXT AVAILABLE IN  06 HOURS 34 MINUTES 23 SECONDS VISIT HTTPS://MYMEMORY.TRANSLATED.NET/DOC/USAGELIMITS.PHP TO TRANSLATE MORE',\n 'MYMEMORY WARNING: YOU USED ALL AVAILABLE FREE TRANSLATIONS FOR TODAY. NEXT AVAILABLE IN  06 HOURS 34 MINUTES 21 SECONDS VISIT HTTPS://MYMEMORY.TRANSLATED.NET/DOC/USAGELIMITS.PHP TO TRANSLATE MORE',\n 'MYMEMORY WARNING: YOU USED ALL AVAILABLE FREE TRANSLATIONS FOR TODAY. NEXT AVAILABLE IN  06 HOURS 34 MINUTES 19 SECONDS VISIT HTTPS://MYMEMORY.TRANSLATED.NET/DOC/USAGELIMITS.PHP TO TRANSLATE MORE',\n 'MYMEMORY WARNING: YOU USED ALL AVAILABLE FREE TRANSLATIONS FOR TODAY. NEXT AVAILABLE IN  06 HOURS 34 MINUTES 17 SECONDS VISIT HTTPS://MYMEMORY.TRANSLATED.NET/DOC/USAGELIMITS.PHP TO TRANSLATE MORE',\n 'MYMEMORY WARNING: YOU USED ALL AVAILABLE FREE TRANSLATIONS FOR TODAY. NEXT AVAILABLE IN  06 HOURS 34 MINUTES 16 SECONDS VISIT HTTPS://MYMEMORY.TRANSLATED.NET/DOC/USAGELIMITS.PHP TO TRANSLATE MORE',\n 'MYMEMORY WARNING: YOU USED ALL AVAILABLE FREE TRANSLATIONS FOR TODAY. NEXT AVAILABLE IN  06 HOURS 34 MINUTES 14 SECONDS VISIT HTTPS://MYMEMORY.TRANSLATED.NET/DOC/USAGELIMITS.PHP TO TRANSLATE MORE',\n 'MYMEMORY WARNING: YOU USED ALL AVAILABLE FREE TRANSLATIONS FOR TODAY. NEXT AVAILABLE IN  06 HOURS 34 MINUTES 11 SECONDS VISIT HTTPS://MYMEMORY.TRANSLATED.NET/DOC/USAGELIMITS.PHP TO TRANSLATE MORE',\n 'MYMEMORY WARNING: YOU USED ALL AVAILABLE FREE TRANSLATIONS FOR TODAY. NEXT AVAILABLE IN  06 HOURS 34 MINUTES 09 SECONDS VISIT HTTPS://MYMEMORY.TRANSLATED.NET/DOC/USAGELIMITS.PHP TO TRANSLATE MORE',\n 'MYMEMORY WARNING: YOU USED ALL AVAILABLE FREE TRANSLATIONS FOR TODAY. NEXT AVAILABLE IN  06 HOURS 34 MINUTES 08 SECONDS VISIT HTTPS://MYMEMORY.TRANSLATED.NET/DOC/USAGELIMITS.PHP TO TRANSLATE MORE',\n 'MYMEMORY WARNING: YOU USED ALL AVAILABLE FREE TRANSLATIONS FOR TODAY. NEXT AVAILABLE IN  06 HOURS 34 MINUTES 06 SECONDS VISIT HTTPS://MYMEMORY.TRANSLATED.NET/DOC/USAGELIMITS.PHP TO TRANSLATE MORE',\n 'MYMEMORY WARNING: YOU USED ALL AVAILABLE FREE TRANSLATIONS FOR TODAY. NEXT AVAILABLE IN  06 HOURS 34 MINUTES 04 SECONDS VISIT HTTPS://MYMEMORY.TRANSLATED.NET/DOC/USAGELIMITS.PHP TO TRANSLATE MORE',\n 'MYMEMORY WARNING: YOU USED ALL AVAILABLE FREE TRANSLATIONS FOR TODAY. NEXT AVAILABLE IN  06 HOURS 34 MINUTES 02 SECONDS VISIT HTTPS://MYMEMORY.TRANSLATED.NET/DOC/USAGELIMITS.PHP TO TRANSLATE MORE',\n 'MYMEMORY WARNING: YOU USED ALL AVAILABLE FREE TRANSLATIONS FOR TODAY. NEXT AVAILABLE IN  06 HOURS 34 MINUTES 00 SECONDS VISIT HTTPS://MYMEMORY.TRANSLATED.NET/DOC/USAGELIMITS.PHP TO TRANSLATE MORE',\n 'MYMEMORY WARNING: YOU USED ALL AVAILABLE FREE TRANSLATIONS FOR TODAY. NEXT AVAILABLE IN  06 HOURS 33 MINUTES 58 SECONDS VISIT HTTPS://MYMEMORY.TRANSLATED.NET/DOC/USAGELIMITS.PHP TO TRANSLATE MORE',\n 'MYMEMORY WARNING: YOU USED ALL AVAILABLE FREE TRANSLATIONS FOR TODAY. NEXT AVAILABLE IN  06 HOURS 33 MINUTES 57 SECONDS VISIT HTTPS://MYMEMORY.TRANSLATED.NET/DOC/USAGELIMITS.PHP TO TRANSLATE MORE',\n 'MYMEMORY WARNING: YOU USED ALL AVAILABLE FREE TRANSLATIONS FOR TODAY. NEXT AVAILABLE IN  06 HOURS 33 MINUTES 55 SECONDS VISIT HTTPS://MYMEMORY.TRANSLATED.NET/DOC/USAGELIMITS.PHP TO TRANSLATE MORE',\n 'MYMEMORY WARNING: YOU USED ALL AVAILABLE FREE TRANSLATIONS FOR TODAY. NEXT AVAILABLE IN  06 HOURS 33 MINUTES 51 SECONDS VISIT HTTPS://MYMEMORY.TRANSLATED.NET/DOC/USAGELIMITS.PHP TO TRANSLATE MORE',\n 'MYMEMORY WARNING: YOU USED ALL AVAILABLE FREE TRANSLATIONS FOR TODAY. NEXT AVAILABLE IN  06 HOURS 33 MINUTES 50 SECONDS VISIT HTTPS://MYMEMORY.TRANSLATED.NET/DOC/USAGELIMITS.PHP TO TRANSLATE MORE',\n 'MYMEMORY WARNING: YOU USED ALL AVAILABLE FREE TRANSLATIONS FOR TODAY. NEXT AVAILABLE IN  06 HOURS 33 MINUTES 48 SECONDS VISIT HTTPS://MYMEMORY.TRANSLATED.NET/DOC/USAGELIMITS.PHP TO TRANSLATE MORE',\n 'MYMEMORY WARNING: YOU USED ALL AVAILABLE FREE TRANSLATIONS FOR TODAY. NEXT AVAILABLE IN  06 HOURS 33 MINUTES 46 SECONDS VISIT HTTPS://MYMEMORY.TRANSLATED.NET/DOC/USAGELIMITS.PHP TO TRANSLATE MORE',\n 'MYMEMORY WARNING: YOU USED ALL AVAILABLE FREE TRANSLATIONS FOR TODAY. NEXT AVAILABLE IN  06 HOURS 33 MINUTES 44 SECONDS VISIT HTTPS://MYMEMORY.TRANSLATED.NET/DOC/USAGELIMITS.PHP TO TRANSLATE MORE',\n 'MYMEMORY WARNING: YOU USED ALL AVAILABLE FREE TRANSLATIONS FOR TODAY. NEXT AVAILABLE IN  06 HOURS 33 MINUTES 42 SECONDS VISIT HTTPS://MYMEMORY.TRANSLATED.NET/DOC/USAGELIMITS.PHP TO TRANSLATE MORE',\n 'MYMEMORY WARNING: YOU USED ALL AVAILABLE FREE TRANSLATIONS FOR TODAY. NEXT AVAILABLE IN  06 HOURS 33 MINUTES 41 SECONDS VISIT HTTPS://MYMEMORY.TRANSLATED.NET/DOC/USAGELIMITS.PHP TO TRANSLATE MORE',\n 'MYMEMORY WARNING: YOU USED ALL AVAILABLE FREE TRANSLATIONS FOR TODAY. NEXT AVAILABLE IN  06 HOURS 33 MINUTES 39 SECONDS VISIT HTTPS://MYMEMORY.TRANSLATED.NET/DOC/USAGELIMITS.PHP TO TRANSLATE MORE',\n 'MYMEMORY WARNING: YOU USED ALL AVAILABLE FREE TRANSLATIONS FOR TODAY. NEXT AVAILABLE IN  06 HOURS 33 MINUTES 37 SECONDS VISIT HTTPS://MYMEMORY.TRANSLATED.NET/DOC/USAGELIMITS.PHP TO TRANSLATE MORE',\n 'MYMEMORY WARNING: YOU USED ALL AVAILABLE FREE TRANSLATIONS FOR TODAY. NEXT AVAILABLE IN  06 HOURS 33 MINUTES 35 SECONDS VISIT HTTPS://MYMEMORY.TRANSLATED.NET/DOC/USAGELIMITS.PHP TO TRANSLATE MORE',\n 'MYMEMORY WARNING: YOU USED ALL AVAILABLE FREE TRANSLATIONS FOR TODAY. NEXT AVAILABLE IN  06 HOURS 33 MINUTES 34 SECONDS VISIT HTTPS://MYMEMORY.TRANSLATED.NET/DOC/USAGELIMITS.PHP TO TRANSLATE MORE',\n 'MYMEMORY WARNING: YOU USED ALL AVAILABLE FREE TRANSLATIONS FOR TODAY. NEXT AVAILABLE IN  06 HOURS 33 MINUTES 32 SECONDS VISIT HTTPS://MYMEMORY.TRANSLATED.NET/DOC/USAGELIMITS.PHP TO TRANSLATE MORE',\n 'MYMEMORY WARNING: YOU USED ALL AVAILABLE FREE TRANSLATIONS FOR TODAY. NEXT AVAILABLE IN  06 HOURS 33 MINUTES 30 SECONDS VISIT HTTPS://MYMEMORY.TRANSLATED.NET/DOC/USAGELIMITS.PHP TO TRANSLATE MORE',\n 'MYMEMORY WARNING: YOU USED ALL AVAILABLE FREE TRANSLATIONS FOR TODAY. NEXT AVAILABLE IN  06 HOURS 33 MINUTES 28 SECONDS VISIT HTTPS://MYMEMORY.TRANSLATED.NET/DOC/USAGELIMITS.PHP TO TRANSLATE MORE',\n 'MYMEMORY WARNING: YOU USED ALL AVAILABLE FREE TRANSLATIONS FOR TODAY. NEXT AVAILABLE IN  06 HOURS 33 MINUTES 26 SECONDS VISIT HTTPS://MYMEMORY.TRANSLATED.NET/DOC/USAGELIMITS.PHP TO TRANSLATE MORE',\n 'MYMEMORY WARNING: YOU USED ALL AVAILABLE FREE TRANSLATIONS FOR TODAY. NEXT AVAILABLE IN  06 HOURS 33 MINUTES 25 SECONDS VISIT HTTPS://MYMEMORY.TRANSLATED.NET/DOC/USAGELIMITS.PHP TO TRANSLATE MORE',\n 'MYMEMORY WARNING: YOU USED ALL AVAILABLE FREE TRANSLATIONS FOR TODAY. NEXT AVAILABLE IN  06 HOURS 33 MINUTES 23 SECONDS VISIT HTTPS://MYMEMORY.TRANSLATED.NET/DOC/USAGELIMITS.PHP TO TRANSLATE MORE',\n 'MYMEMORY WARNING: YOU USED ALL AVAILABLE FREE TRANSLATIONS FOR TODAY. NEXT AVAILABLE IN  06 HOURS 33 MINUTES 21 SECONDS VISIT HTTPS://MYMEMORY.TRANSLATED.NET/DOC/USAGELIMITS.PHP TO TRANSLATE MORE',\n 'MYMEMORY WARNING: YOU USED ALL AVAILABLE FREE TRANSLATIONS FOR TODAY. NEXT AVAILABLE IN  06 HOURS 33 MINUTES 19 SECONDS VISIT HTTPS://MYMEMORY.TRANSLATED.NET/DOC/USAGELIMITS.PHP TO TRANSLATE MORE',\n 'MYMEMORY WARNING: YOU USED ALL AVAILABLE FREE TRANSLATIONS FOR TODAY. NEXT AVAILABLE IN  06 HOURS 33 MINUTES 18 SECONDS VISIT HTTPS://MYMEMORY.TRANSLATED.NET/DOC/USAGELIMITS.PHP TO TRANSLATE MORE',\n 'MYMEMORY WARNING: YOU USED ALL AVAILABLE FREE TRANSLATIONS FOR TODAY. NEXT AVAILABLE IN  06 HOURS 33 MINUTES 16 SECONDS VISIT HTTPS://MYMEMORY.TRANSLATED.NET/DOC/USAGELIMITS.PHP TO TRANSLATE MORE',\n 'MYMEMORY WARNING: YOU USED ALL AVAILABLE FREE TRANSLATIONS FOR TODAY. NEXT AVAILABLE IN  06 HOURS 33 MINUTES 14 SECONDS VISIT HTTPS://MYMEMORY.TRANSLATED.NET/DOC/USAGELIMITS.PHP TO TRANSLATE MORE',\n 'MYMEMORY WARNING: YOU USED ALL AVAILABLE FREE TRANSLATIONS FOR TODAY. NEXT AVAILABLE IN  06 HOURS 33 MINUTES 12 SECONDS VISIT HTTPS://MYMEMORY.TRANSLATED.NET/DOC/USAGELIMITS.PHP TO TRANSLATE MORE',\n 'MYMEMORY WARNING: YOU USED ALL AVAILABLE FREE TRANSLATIONS FOR TODAY. NEXT AVAILABLE IN  06 HOURS 33 MINUTES 10 SECONDS VISIT HTTPS://MYMEMORY.TRANSLATED.NET/DOC/USAGELIMITS.PHP TO TRANSLATE MORE',\n 'MYMEMORY WARNING: YOU USED ALL AVAILABLE FREE TRANSLATIONS FOR TODAY. NEXT AVAILABLE IN  06 HOURS 33 MINUTES 09 SECONDS VISIT HTTPS://MYMEMORY.TRANSLATED.NET/DOC/USAGELIMITS.PHP TO TRANSLATE MORE',\n 'MYMEMORY WARNING: YOU USED ALL AVAILABLE FREE TRANSLATIONS FOR TODAY. NEXT AVAILABLE IN  06 HOURS 33 MINUTES 07 SECONDS VISIT HTTPS://MYMEMORY.TRANSLATED.NET/DOC/USAGELIMITS.PHP TO TRANSLATE MORE',\n 'MYMEMORY WARNING: YOU USED ALL AVAILABLE FREE TRANSLATIONS FOR TODAY. NEXT AVAILABLE IN  06 HOURS 33 MINUTES 05 SECONDS VISIT HTTPS://MYMEMORY.TRANSLATED.NET/DOC/USAGELIMITS.PHP TO TRANSLATE MORE',\n 'MYMEMORY WARNING: YOU USED ALL AVAILABLE FREE TRANSLATIONS FOR TODAY. NEXT AVAILABLE IN  06 HOURS 33 MINUTES 03 SECONDS VISIT HTTPS://MYMEMORY.TRANSLATED.NET/DOC/USAGELIMITS.PHP TO TRANSLATE MORE',\n 'MYMEMORY WARNING: YOU USED ALL AVAILABLE FREE TRANSLATIONS FOR TODAY. NEXT AVAILABLE IN  06 HOURS 33 MINUTES 02 SECONDS VISIT HTTPS://MYMEMORY.TRANSLATED.NET/DOC/USAGELIMITS.PHP TO TRANSLATE MORE',\n 'MYMEMORY WARNING: YOU USED ALL AVAILABLE FREE TRANSLATIONS FOR TODAY. NEXT AVAILABLE IN  06 HOURS 33 MINUTES 00 SECONDS VISIT HTTPS://MYMEMORY.TRANSLATED.NET/DOC/USAGELIMITS.PHP TO TRANSLATE MORE',\n 'MYMEMORY WARNING: YOU USED ALL AVAILABLE FREE TRANSLATIONS FOR TODAY. NEXT AVAILABLE IN  06 HOURS 32 MINUTES 58 SECONDS VISIT HTTPS://MYMEMORY.TRANSLATED.NET/DOC/USAGELIMITS.PHP TO TRANSLATE MORE',\n 'MYMEMORY WARNING: YOU USED ALL AVAILABLE FREE TRANSLATIONS FOR TODAY. NEXT AVAILABLE IN  06 HOURS 32 MINUTES 56 SECONDS VISIT HTTPS://MYMEMORY.TRANSLATED.NET/DOC/USAGELIMITS.PHP TO TRANSLATE MORE',\n 'MYMEMORY WARNING: YOU USED ALL AVAILABLE FREE TRANSLATIONS FOR TODAY. NEXT AVAILABLE IN  06 HOURS 32 MINUTES 54 SECONDS VISIT HTTPS://MYMEMORY.TRANSLATED.NET/DOC/USAGELIMITS.PHP TO TRANSLATE MORE',\n 'MYMEMORY WARNING: YOU USED ALL AVAILABLE FREE TRANSLATIONS FOR TODAY. NEXT AVAILABLE IN  06 HOURS 32 MINUTES 53 SECONDS VISIT HTTPS://MYMEMORY.TRANSLATED.NET/DOC/USAGELIMITS.PHP TO TRANSLATE MORE',\n 'MYMEMORY WARNING: YOU USED ALL AVAILABLE FREE TRANSLATIONS FOR TODAY. NEXT AVAILABLE IN  06 HOURS 32 MINUTES 51 SECONDS VISIT HTTPS://MYMEMORY.TRANSLATED.NET/DOC/USAGELIMITS.PHP TO TRANSLATE MORE',\n 'MYMEMORY WARNING: YOU USED ALL AVAILABLE FREE TRANSLATIONS FOR TODAY. NEXT AVAILABLE IN  06 HOURS 32 MINUTES 49 SECONDS VISIT HTTPS://MYMEMORY.TRANSLATED.NET/DOC/USAGELIMITS.PHP TO TRANSLATE MORE',\n 'MYMEMORY WARNING: YOU USED ALL AVAILABLE FREE TRANSLATIONS FOR TODAY. NEXT AVAILABLE IN  06 HOURS 32 MINUTES 46 SECONDS VISIT HTTPS://MYMEMORY.TRANSLATED.NET/DOC/USAGELIMITS.PHP TO TRANSLATE MORE',\n 'MYMEMORY WARNING: YOU USED ALL AVAILABLE FREE TRANSLATIONS FOR TODAY. NEXT AVAILABLE IN  06 HOURS 32 MINUTES 44 SECONDS VISIT HTTPS://MYMEMORY.TRANSLATED.NET/DOC/USAGELIMITS.PHP TO TRANSLATE MORE',\n 'MYMEMORY WARNING: YOU USED ALL AVAILABLE FREE TRANSLATIONS FOR TODAY. NEXT AVAILABLE IN  06 HOURS 32 MINUTES 43 SECONDS VISIT HTTPS://MYMEMORY.TRANSLATED.NET/DOC/USAGELIMITS.PHP TO TRANSLATE MORE',\n 'MYMEMORY WARNING: YOU USED ALL AVAILABLE FREE TRANSLATIONS FOR TODAY. NEXT AVAILABLE IN  06 HOURS 32 MINUTES 41 SECONDS VISIT HTTPS://MYMEMORY.TRANSLATED.NET/DOC/USAGELIMITS.PHP TO TRANSLATE MORE',\n 'MYMEMORY WARNING: YOU USED ALL AVAILABLE FREE TRANSLATIONS FOR TODAY. NEXT AVAILABLE IN  06 HOURS 32 MINUTES 39 SECONDS VISIT HTTPS://MYMEMORY.TRANSLATED.NET/DOC/USAGELIMITS.PHP TO TRANSLATE MORE',\n 'MYMEMORY WARNING: YOU USED ALL AVAILABLE FREE TRANSLATIONS FOR TODAY. NEXT AVAILABLE IN  06 HOURS 32 MINUTES 37 SECONDS VISIT HTTPS://MYMEMORY.TRANSLATED.NET/DOC/USAGELIMITS.PHP TO TRANSLATE MORE',\n 'MYMEMORY WARNING: YOU USED ALL AVAILABLE FREE TRANSLATIONS FOR TODAY. NEXT AVAILABLE IN  06 HOURS 32 MINUTES 36 SECONDS VISIT HTTPS://MYMEMORY.TRANSLATED.NET/DOC/USAGELIMITS.PHP TO TRANSLATE MORE',\n 'MYMEMORY WARNING: YOU USED ALL AVAILABLE FREE TRANSLATIONS FOR TODAY. NEXT AVAILABLE IN  06 HOURS 32 MINUTES 34 SECONDS VISIT HTTPS://MYMEMORY.TRANSLATED.NET/DOC/USAGELIMITS.PHP TO TRANSLATE MORE',\n 'MYMEMORY WARNING: YOU USED ALL AVAILABLE FREE TRANSLATIONS FOR TODAY. NEXT AVAILABLE IN  06 HOURS 32 MINUTES 32 SECONDS VISIT HTTPS://MYMEMORY.TRANSLATED.NET/DOC/USAGELIMITS.PHP TO TRANSLATE MORE',\n 'MYMEMORY WARNING: YOU USED ALL AVAILABLE FREE TRANSLATIONS FOR TODAY. NEXT AVAILABLE IN  06 HOURS 32 MINUTES 30 SECONDS VISIT HTTPS://MYMEMORY.TRANSLATED.NET/DOC/USAGELIMITS.PHP TO TRANSLATE MORE',\n 'MYMEMORY WARNING: YOU USED ALL AVAILABLE FREE TRANSLATIONS FOR TODAY. NEXT AVAILABLE IN  06 HOURS 32 MINUTES 28 SECONDS VISIT HTTPS://MYMEMORY.TRANSLATED.NET/DOC/USAGELIMITS.PHP TO TRANSLATE MORE',\n 'MYMEMORY WARNING: YOU USED ALL AVAILABLE FREE TRANSLATIONS FOR TODAY. NEXT AVAILABLE IN  06 HOURS 32 MINUTES 27 SECONDS VISIT HTTPS://MYMEMORY.TRANSLATED.NET/DOC/USAGELIMITS.PHP TO TRANSLATE MORE',\n 'MYMEMORY WARNING: YOU USED ALL AVAILABLE FREE TRANSLATIONS FOR TODAY. NEXT AVAILABLE IN  06 HOURS 32 MINUTES 25 SECONDS VISIT HTTPS://MYMEMORY.TRANSLATED.NET/DOC/USAGELIMITS.PHP TO TRANSLATE MORE',\n 'MYMEMORY WARNING: YOU USED ALL AVAILABLE FREE TRANSLATIONS FOR TODAY. NEXT AVAILABLE IN  06 HOURS 32 MINUTES 23 SECONDS VISIT HTTPS://MYMEMORY.TRANSLATED.NET/DOC/USAGELIMITS.PHP TO TRANSLATE MORE',\n 'MYMEMORY WARNING: YOU USED ALL AVAILABLE FREE TRANSLATIONS FOR TODAY. NEXT AVAILABLE IN  06 HOURS 32 MINUTES 21 SECONDS VISIT HTTPS://MYMEMORY.TRANSLATED.NET/DOC/USAGELIMITS.PHP TO TRANSLATE MORE',\n 'MYMEMORY WARNING: YOU USED ALL AVAILABLE FREE TRANSLATIONS FOR TODAY. NEXT AVAILABLE IN  06 HOURS 32 MINUTES 20 SECONDS VISIT HTTPS://MYMEMORY.TRANSLATED.NET/DOC/USAGELIMITS.PHP TO TRANSLATE MORE',\n 'MYMEMORY WARNING: YOU USED ALL AVAILABLE FREE TRANSLATIONS FOR TODAY. NEXT AVAILABLE IN  06 HOURS 32 MINUTES 18 SECONDS VISIT HTTPS://MYMEMORY.TRANSLATED.NET/DOC/USAGELIMITS.PHP TO TRANSLATE MORE',\n 'MYMEMORY WARNING: YOU USED ALL AVAILABLE FREE TRANSLATIONS FOR TODAY. NEXT AVAILABLE IN  06 HOURS 32 MINUTES 16 SECONDS VISIT HTTPS://MYMEMORY.TRANSLATED.NET/DOC/USAGELIMITS.PHP TO TRANSLATE MORE',\n 'MYMEMORY WARNING: YOU USED ALL AVAILABLE FREE TRANSLATIONS FOR TODAY. NEXT AVAILABLE IN  06 HOURS 32 MINUTES 14 SECONDS VISIT HTTPS://MYMEMORY.TRANSLATED.NET/DOC/USAGELIMITS.PHP TO TRANSLATE MORE',\n 'MYMEMORY WARNING: YOU USED ALL AVAILABLE FREE TRANSLATIONS FOR TODAY. NEXT AVAILABLE IN  06 HOURS 32 MINUTES 12 SECONDS VISIT HTTPS://MYMEMORY.TRANSLATED.NET/DOC/USAGELIMITS.PHP TO TRANSLATE MORE',\n 'MYMEMORY WARNING: YOU USED ALL AVAILABLE FREE TRANSLATIONS FOR TODAY. NEXT AVAILABLE IN  06 HOURS 32 MINUTES 11 SECONDS VISIT HTTPS://MYMEMORY.TRANSLATED.NET/DOC/USAGELIMITS.PHP TO TRANSLATE MORE',\n 'MYMEMORY WARNING: YOU USED ALL AVAILABLE FREE TRANSLATIONS FOR TODAY. NEXT AVAILABLE IN  06 HOURS 32 MINUTES 09 SECONDS VISIT HTTPS://MYMEMORY.TRANSLATED.NET/DOC/USAGELIMITS.PHP TO TRANSLATE MORE',\n 'MYMEMORY WARNING: YOU USED ALL AVAILABLE FREE TRANSLATIONS FOR TODAY. NEXT AVAILABLE IN  06 HOURS 32 MINUTES 07 SECONDS VISIT HTTPS://MYMEMORY.TRANSLATED.NET/DOC/USAGELIMITS.PHP TO TRANSLATE MORE',\n 'MYMEMORY WARNING: YOU USED ALL AVAILABLE FREE TRANSLATIONS FOR TODAY. NEXT AVAILABLE IN  06 HOURS 32 MINUTES 05 SECONDS VISIT HTTPS://MYMEMORY.TRANSLATED.NET/DOC/USAGELIMITS.PHP TO TRANSLATE MORE',\n 'MYMEMORY WARNING: YOU USED ALL AVAILABLE FREE TRANSLATIONS FOR TODAY. NEXT AVAILABLE IN  06 HOURS 32 MINUTES 04 SECONDS VISIT HTTPS://MYMEMORY.TRANSLATED.NET/DOC/USAGELIMITS.PHP TO TRANSLATE MORE',\n 'MYMEMORY WARNING: YOU USED ALL AVAILABLE FREE TRANSLATIONS FOR TODAY. NEXT AVAILABLE IN  06 HOURS 32 MINUTES 02 SECONDS VISIT HTTPS://MYMEMORY.TRANSLATED.NET/DOC/USAGELIMITS.PHP TO TRANSLATE MORE',\n 'MYMEMORY WARNING: YOU USED ALL AVAILABLE FREE TRANSLATIONS FOR TODAY. NEXT AVAILABLE IN  06 HOURS 32 MINUTES 00 SECONDS VISIT HTTPS://MYMEMORY.TRANSLATED.NET/DOC/USAGELIMITS.PHP TO TRANSLATE MORE',\n 'MYMEMORY WARNING: YOU USED ALL AVAILABLE FREE TRANSLATIONS FOR TODAY. NEXT AVAILABLE IN  06 HOURS 31 MINUTES 58 SECONDS VISIT HTTPS://MYMEMORY.TRANSLATED.NET/DOC/USAGELIMITS.PHP TO TRANSLATE MORE',\n 'MYMEMORY WARNING: YOU USED ALL AVAILABLE FREE TRANSLATIONS FOR TODAY. NEXT AVAILABLE IN  06 HOURS 31 MINUTES 56 SECONDS VISIT HTTPS://MYMEMORY.TRANSLATED.NET/DOC/USAGELIMITS.PHP TO TRANSLATE MORE',\n 'MYMEMORY WARNING: YOU USED ALL AVAILABLE FREE TRANSLATIONS FOR TODAY. NEXT AVAILABLE IN  06 HOURS 31 MINUTES 53 SECONDS VISIT HTTPS://MYMEMORY.TRANSLATED.NET/DOC/USAGELIMITS.PHP TO TRANSLATE MORE',\n 'MYMEMORY WARNING: YOU USED ALL AVAILABLE FREE TRANSLATIONS FOR TODAY. NEXT AVAILABLE IN  06 HOURS 31 MINUTES 51 SECONDS VISIT HTTPS://MYMEMORY.TRANSLATED.NET/DOC/USAGELIMITS.PHP TO TRANSLATE MORE',\n 'MYMEMORY WARNING: YOU USED ALL AVAILABLE FREE TRANSLATIONS FOR TODAY. NEXT AVAILABLE IN  06 HOURS 31 MINUTES 49 SECONDS VISIT HTTPS://MYMEMORY.TRANSLATED.NET/DOC/USAGELIMITS.PHP TO TRANSLATE MORE',\n 'MYMEMORY WARNING: YOU USED ALL AVAILABLE FREE TRANSLATIONS FOR TODAY. NEXT AVAILABLE IN  06 HOURS 31 MINUTES 47 SECONDS VISIT HTTPS://MYMEMORY.TRANSLATED.NET/DOC/USAGELIMITS.PHP TO TRANSLATE MORE',\n 'MYMEMORY WARNING: YOU USED ALL AVAILABLE FREE TRANSLATIONS FOR TODAY. NEXT AVAILABLE IN  06 HOURS 31 MINUTES 46 SECONDS VISIT HTTPS://MYMEMORY.TRANSLATED.NET/DOC/USAGELIMITS.PHP TO TRANSLATE MORE',\n 'MYMEMORY WARNING: YOU USED ALL AVAILABLE FREE TRANSLATIONS FOR TODAY. NEXT AVAILABLE IN  06 HOURS 31 MINUTES 44 SECONDS VISIT HTTPS://MYMEMORY.TRANSLATED.NET/DOC/USAGELIMITS.PHP TO TRANSLATE MORE',\n 'MYMEMORY WARNING: YOU USED ALL AVAILABLE FREE TRANSLATIONS FOR TODAY. NEXT AVAILABLE IN  06 HOURS 31 MINUTES 42 SECONDS VISIT HTTPS://MYMEMORY.TRANSLATED.NET/DOC/USAGELIMITS.PHP TO TRANSLATE MORE',\n 'MYMEMORY WARNING: YOU USED ALL AVAILABLE FREE TRANSLATIONS FOR TODAY. NEXT AVAILABLE IN  06 HOURS 31 MINUTES 40 SECONDS VISIT HTTPS://MYMEMORY.TRANSLATED.NET/DOC/USAGELIMITS.PHP TO TRANSLATE MORE',\n 'MYMEMORY WARNING: YOU USED ALL AVAILABLE FREE TRANSLATIONS FOR TODAY. NEXT AVAILABLE IN  06 HOURS 31 MINUTES 38 SECONDS VISIT HTTPS://MYMEMORY.TRANSLATED.NET/DOC/USAGELIMITS.PHP TO TRANSLATE MORE',\n 'MYMEMORY WARNING: YOU USED ALL AVAILABLE FREE TRANSLATIONS FOR TODAY. NEXT AVAILABLE IN  06 HOURS 31 MINUTES 37 SECONDS VISIT HTTPS://MYMEMORY.TRANSLATED.NET/DOC/USAGELIMITS.PHP TO TRANSLATE MORE',\n 'MYMEMORY WARNING: YOU USED ALL AVAILABLE FREE TRANSLATIONS FOR TODAY. NEXT AVAILABLE IN  06 HOURS 31 MINUTES 35 SECONDS VISIT HTTPS://MYMEMORY.TRANSLATED.NET/DOC/USAGELIMITS.PHP TO TRANSLATE MORE',\n 'MYMEMORY WARNING: YOU USED ALL AVAILABLE FREE TRANSLATIONS FOR TODAY. NEXT AVAILABLE IN  06 HOURS 31 MINUTES 33 SECONDS VISIT HTTPS://MYMEMORY.TRANSLATED.NET/DOC/USAGELIMITS.PHP TO TRANSLATE MORE',\n 'MYMEMORY WARNING: YOU USED ALL AVAILABLE FREE TRANSLATIONS FOR TODAY. NEXT AVAILABLE IN  06 HOURS 31 MINUTES 31 SECONDS VISIT HTTPS://MYMEMORY.TRANSLATED.NET/DOC/USAGELIMITS.PHP TO TRANSLATE MORE',\n 'MYMEMORY WARNING: YOU USED ALL AVAILABLE FREE TRANSLATIONS FOR TODAY. NEXT AVAILABLE IN  06 HOURS 31 MINUTES 29 SECONDS VISIT HTTPS://MYMEMORY.TRANSLATED.NET/DOC/USAGELIMITS.PHP TO TRANSLATE MORE',\n 'MYMEMORY WARNING: YOU USED ALL AVAILABLE FREE TRANSLATIONS FOR TODAY. NEXT AVAILABLE IN  06 HOURS 31 MINUTES 28 SECONDS VISIT HTTPS://MYMEMORY.TRANSLATED.NET/DOC/USAGELIMITS.PHP TO TRANSLATE MORE',\n 'MYMEMORY WARNING: YOU USED ALL AVAILABLE FREE TRANSLATIONS FOR TODAY. NEXT AVAILABLE IN  06 HOURS 31 MINUTES 26 SECONDS VISIT HTTPS://MYMEMORY.TRANSLATED.NET/DOC/USAGELIMITS.PHP TO TRANSLATE MORE',\n 'MYMEMORY WARNING: YOU USED ALL AVAILABLE FREE TRANSLATIONS FOR TODAY. NEXT AVAILABLE IN  06 HOURS 31 MINUTES 24 SECONDS VISIT HTTPS://MYMEMORY.TRANSLATED.NET/DOC/USAGELIMITS.PHP TO TRANSLATE MORE',\n 'MYMEMORY WARNING: YOU USED ALL AVAILABLE FREE TRANSLATIONS FOR TODAY. NEXT AVAILABLE IN  06 HOURS 31 MINUTES 22 SECONDS VISIT HTTPS://MYMEMORY.TRANSLATED.NET/DOC/USAGELIMITS.PHP TO TRANSLATE MORE',\n 'MYMEMORY WARNING: YOU USED ALL AVAILABLE FREE TRANSLATIONS FOR TODAY. NEXT AVAILABLE IN  06 HOURS 31 MINUTES 21 SECONDS VISIT HTTPS://MYMEMORY.TRANSLATED.NET/DOC/USAGELIMITS.PHP TO TRANSLATE MORE',\n 'MYMEMORY WARNING: YOU USED ALL AVAILABLE FREE TRANSLATIONS FOR TODAY. NEXT AVAILABLE IN  06 HOURS 31 MINUTES 19 SECONDS VISIT HTTPS://MYMEMORY.TRANSLATED.NET/DOC/USAGELIMITS.PHP TO TRANSLATE MORE',\n 'MYMEMORY WARNING: YOU USED ALL AVAILABLE FREE TRANSLATIONS FOR TODAY. NEXT AVAILABLE IN  06 HOURS 31 MINUTES 17 SECONDS VISIT HTTPS://MYMEMORY.TRANSLATED.NET/DOC/USAGELIMITS.PHP TO TRANSLATE MORE',\n 'MYMEMORY WARNING: YOU USED ALL AVAILABLE FREE TRANSLATIONS FOR TODAY. NEXT AVAILABLE IN  06 HOURS 31 MINUTES 15 SECONDS VISIT HTTPS://MYMEMORY.TRANSLATED.NET/DOC/USAGELIMITS.PHP TO TRANSLATE MORE',\n 'MYMEMORY WARNING: YOU USED ALL AVAILABLE FREE TRANSLATIONS FOR TODAY. NEXT AVAILABLE IN  06 HOURS 31 MINUTES 14 SECONDS VISIT HTTPS://MYMEMORY.TRANSLATED.NET/DOC/USAGELIMITS.PHP TO TRANSLATE MORE',\n 'MYMEMORY WARNING: YOU USED ALL AVAILABLE FREE TRANSLATIONS FOR TODAY. NEXT AVAILABLE IN  06 HOURS 31 MINUTES 12 SECONDS VISIT HTTPS://MYMEMORY.TRANSLATED.NET/DOC/USAGELIMITS.PHP TO TRANSLATE MORE',\n 'MYMEMORY WARNING: YOU USED ALL AVAILABLE FREE TRANSLATIONS FOR TODAY. NEXT AVAILABLE IN  06 HOURS 31 MINUTES 10 SECONDS VISIT HTTPS://MYMEMORY.TRANSLATED.NET/DOC/USAGELIMITS.PHP TO TRANSLATE MORE',\n 'MYMEMORY WARNING: YOU USED ALL AVAILABLE FREE TRANSLATIONS FOR TODAY. NEXT AVAILABLE IN  06 HOURS 31 MINUTES 08 SECONDS VISIT HTTPS://MYMEMORY.TRANSLATED.NET/DOC/USAGELIMITS.PHP TO TRANSLATE MORE',\n 'MYMEMORY WARNING: YOU USED ALL AVAILABLE FREE TRANSLATIONS FOR TODAY. NEXT AVAILABLE IN  06 HOURS 31 MINUTES 06 SECONDS VISIT HTTPS://MYMEMORY.TRANSLATED.NET/DOC/USAGELIMITS.PHP TO TRANSLATE MORE',\n 'MYMEMORY WARNING: YOU USED ALL AVAILABLE FREE TRANSLATIONS FOR TODAY. NEXT AVAILABLE IN  06 HOURS 31 MINUTES 05 SECONDS VISIT HTTPS://MYMEMORY.TRANSLATED.NET/DOC/USAGELIMITS.PHP TO TRANSLATE MORE',\n 'MYMEMORY WARNING: YOU USED ALL AVAILABLE FREE TRANSLATIONS FOR TODAY. NEXT AVAILABLE IN  06 HOURS 31 MINUTES 03 SECONDS VISIT HTTPS://MYMEMORY.TRANSLATED.NET/DOC/USAGELIMITS.PHP TO TRANSLATE MORE',\n 'MYMEMORY WARNING: YOU USED ALL AVAILABLE FREE TRANSLATIONS FOR TODAY. NEXT AVAILABLE IN  06 HOURS 31 MINUTES 01 SECONDS VISIT HTTPS://MYMEMORY.TRANSLATED.NET/DOC/USAGELIMITS.PHP TO TRANSLATE MORE',\n 'MYMEMORY WARNING: YOU USED ALL AVAILABLE FREE TRANSLATIONS FOR TODAY. NEXT AVAILABLE IN  06 HOURS 30 MINUTES 59 SECONDS VISIT HTTPS://MYMEMORY.TRANSLATED.NET/DOC/USAGELIMITS.PHP TO TRANSLATE MORE',\n 'MYMEMORY WARNING: YOU USED ALL AVAILABLE FREE TRANSLATIONS FOR TODAY. NEXT AVAILABLE IN  06 HOURS 30 MINUTES 57 SECONDS VISIT HTTPS://MYMEMORY.TRANSLATED.NET/DOC/USAGELIMITS.PHP TO TRANSLATE MORE',\n 'MYMEMORY WARNING: YOU USED ALL AVAILABLE FREE TRANSLATIONS FOR TODAY. NEXT AVAILABLE IN  06 HOURS 30 MINUTES 56 SECONDS VISIT HTTPS://MYMEMORY.TRANSLATED.NET/DOC/USAGELIMITS.PHP TO TRANSLATE MORE',\n 'MYMEMORY WARNING: YOU USED ALL AVAILABLE FREE TRANSLATIONS FOR TODAY. NEXT AVAILABLE IN  06 HOURS 30 MINUTES 54 SECONDS VISIT HTTPS://MYMEMORY.TRANSLATED.NET/DOC/USAGELIMITS.PHP TO TRANSLATE MORE',\n 'MYMEMORY WARNING: YOU USED ALL AVAILABLE FREE TRANSLATIONS FOR TODAY. NEXT AVAILABLE IN  06 HOURS 30 MINUTES 52 SECONDS VISIT HTTPS://MYMEMORY.TRANSLATED.NET/DOC/USAGELIMITS.PHP TO TRANSLATE MORE',\n 'MYMEMORY WARNING: YOU USED ALL AVAILABLE FREE TRANSLATIONS FOR TODAY. NEXT AVAILABLE IN  06 HOURS 30 MINUTES 49 SECONDS VISIT HTTPS://MYMEMORY.TRANSLATED.NET/DOC/USAGELIMITS.PHP TO TRANSLATE MORE',\n 'MYMEMORY WARNING: YOU USED ALL AVAILABLE FREE TRANSLATIONS FOR TODAY. NEXT AVAILABLE IN  06 HOURS 30 MINUTES 48 SECONDS VISIT HTTPS://MYMEMORY.TRANSLATED.NET/DOC/USAGELIMITS.PHP TO TRANSLATE MORE',\n 'MYMEMORY WARNING: YOU USED ALL AVAILABLE FREE TRANSLATIONS FOR TODAY. NEXT AVAILABLE IN  06 HOURS 30 MINUTES 46 SECONDS VISIT HTTPS://MYMEMORY.TRANSLATED.NET/DOC/USAGELIMITS.PHP TO TRANSLATE MORE',\n 'MYMEMORY WARNING: YOU USED ALL AVAILABLE FREE TRANSLATIONS FOR TODAY. NEXT AVAILABLE IN  06 HOURS 30 MINUTES 44 SECONDS VISIT HTTPS://MYMEMORY.TRANSLATED.NET/DOC/USAGELIMITS.PHP TO TRANSLATE MORE',\n 'MYMEMORY WARNING: YOU USED ALL AVAILABLE FREE TRANSLATIONS FOR TODAY. NEXT AVAILABLE IN  06 HOURS 30 MINUTES 42 SECONDS VISIT HTTPS://MYMEMORY.TRANSLATED.NET/DOC/USAGELIMITS.PHP TO TRANSLATE MORE',\n 'MYMEMORY WARNING: YOU USED ALL AVAILABLE FREE TRANSLATIONS FOR TODAY. NEXT AVAILABLE IN  06 HOURS 30 MINUTES 40 SECONDS VISIT HTTPS://MYMEMORY.TRANSLATED.NET/DOC/USAGELIMITS.PHP TO TRANSLATE MORE',\n 'MYMEMORY WARNING: YOU USED ALL AVAILABLE FREE TRANSLATIONS FOR TODAY. NEXT AVAILABLE IN  06 HOURS 30 MINUTES 39 SECONDS VISIT HTTPS://MYMEMORY.TRANSLATED.NET/DOC/USAGELIMITS.PHP TO TRANSLATE MORE',\n 'MYMEMORY WARNING: YOU USED ALL AVAILABLE FREE TRANSLATIONS FOR TODAY. NEXT AVAILABLE IN  06 HOURS 30 MINUTES 37 SECONDS VISIT HTTPS://MYMEMORY.TRANSLATED.NET/DOC/USAGELIMITS.PHP TO TRANSLATE MORE',\n 'MYMEMORY WARNING: YOU USED ALL AVAILABLE FREE TRANSLATIONS FOR TODAY. NEXT AVAILABLE IN  06 HOURS 30 MINUTES 35 SECONDS VISIT HTTPS://MYMEMORY.TRANSLATED.NET/DOC/USAGELIMITS.PHP TO TRANSLATE MORE',\n 'MYMEMORY WARNING: YOU USED ALL AVAILABLE FREE TRANSLATIONS FOR TODAY. NEXT AVAILABLE IN  06 HOURS 30 MINUTES 33 SECONDS VISIT HTTPS://MYMEMORY.TRANSLATED.NET/DOC/USAGELIMITS.PHP TO TRANSLATE MORE',\n 'MYMEMORY WARNING: YOU USED ALL AVAILABLE FREE TRANSLATIONS FOR TODAY. NEXT AVAILABLE IN  06 HOURS 30 MINUTES 32 SECONDS VISIT HTTPS://MYMEMORY.TRANSLATED.NET/DOC/USAGELIMITS.PHP TO TRANSLATE MORE',\n 'MYMEMORY WARNING: YOU USED ALL AVAILABLE FREE TRANSLATIONS FOR TODAY. NEXT AVAILABLE IN  06 HOURS 30 MINUTES 30 SECONDS VISIT HTTPS://MYMEMORY.TRANSLATED.NET/DOC/USAGELIMITS.PHP TO TRANSLATE MORE',\n 'MYMEMORY WARNING: YOU USED ALL AVAILABLE FREE TRANSLATIONS FOR TODAY. NEXT AVAILABLE IN  06 HOURS 30 MINUTES 28 SECONDS VISIT HTTPS://MYMEMORY.TRANSLATED.NET/DOC/USAGELIMITS.PHP TO TRANSLATE MORE',\n 'MYMEMORY WARNING: YOU USED ALL AVAILABLE FREE TRANSLATIONS FOR TODAY. NEXT AVAILABLE IN  06 HOURS 30 MINUTES 26 SECONDS VISIT HTTPS://MYMEMORY.TRANSLATED.NET/DOC/USAGELIMITS.PHP TO TRANSLATE MORE',\n 'MYMEMORY WARNING: YOU USED ALL AVAILABLE FREE TRANSLATIONS FOR TODAY. NEXT AVAILABLE IN  06 HOURS 30 MINUTES 24 SECONDS VISIT HTTPS://MYMEMORY.TRANSLATED.NET/DOC/USAGELIMITS.PHP TO TRANSLATE MORE',\n 'MYMEMORY WARNING: YOU USED ALL AVAILABLE FREE TRANSLATIONS FOR TODAY. NEXT AVAILABLE IN  06 HOURS 30 MINUTES 23 SECONDS VISIT HTTPS://MYMEMORY.TRANSLATED.NET/DOC/USAGELIMITS.PHP TO TRANSLATE MORE',\n 'MYMEMORY WARNING: YOU USED ALL AVAILABLE FREE TRANSLATIONS FOR TODAY. NEXT AVAILABLE IN  06 HOURS 30 MINUTES 21 SECONDS VISIT HTTPS://MYMEMORY.TRANSLATED.NET/DOC/USAGELIMITS.PHP TO TRANSLATE MORE',\n 'MYMEMORY WARNING: YOU USED ALL AVAILABLE FREE TRANSLATIONS FOR TODAY. NEXT AVAILABLE IN  06 HOURS 30 MINUTES 18 SECONDS VISIT HTTPS://MYMEMORY.TRANSLATED.NET/DOC/USAGELIMITS.PHP TO TRANSLATE MORE',\n 'MYMEMORY WARNING: YOU USED ALL AVAILABLE FREE TRANSLATIONS FOR TODAY. NEXT AVAILABLE IN  06 HOURS 30 MINUTES 16 SECONDS VISIT HTTPS://MYMEMORY.TRANSLATED.NET/DOC/USAGELIMITS.PHP TO TRANSLATE MORE',\n 'MYMEMORY WARNING: YOU USED ALL AVAILABLE FREE TRANSLATIONS FOR TODAY. NEXT AVAILABLE IN  06 HOURS 30 MINUTES 15 SECONDS VISIT HTTPS://MYMEMORY.TRANSLATED.NET/DOC/USAGELIMITS.PHP TO TRANSLATE MORE',\n 'MYMEMORY WARNING: YOU USED ALL AVAILABLE FREE TRANSLATIONS FOR TODAY. NEXT AVAILABLE IN  06 HOURS 30 MINUTES 13 SECONDS VISIT HTTPS://MYMEMORY.TRANSLATED.NET/DOC/USAGELIMITS.PHP TO TRANSLATE MORE',\n 'MYMEMORY WARNING: YOU USED ALL AVAILABLE FREE TRANSLATIONS FOR TODAY. NEXT AVAILABLE IN  06 HOURS 30 MINUTES 11 SECONDS VISIT HTTPS://MYMEMORY.TRANSLATED.NET/DOC/USAGELIMITS.PHP TO TRANSLATE MORE',\n 'MYMEMORY WARNING: YOU USED ALL AVAILABLE FREE TRANSLATIONS FOR TODAY. NEXT AVAILABLE IN  06 HOURS 30 MINUTES 09 SECONDS VISIT HTTPS://MYMEMORY.TRANSLATED.NET/DOC/USAGELIMITS.PHP TO TRANSLATE MORE',\n 'MYMEMORY WARNING: YOU USED ALL AVAILABLE FREE TRANSLATIONS FOR TODAY. NEXT AVAILABLE IN  06 HOURS 30 MINUTES 07 SECONDS VISIT HTTPS://MYMEMORY.TRANSLATED.NET/DOC/USAGELIMITS.PHP TO TRANSLATE MORE',\n 'MYMEMORY WARNING: YOU USED ALL AVAILABLE FREE TRANSLATIONS FOR TODAY. NEXT AVAILABLE IN  06 HOURS 30 MINUTES 06 SECONDS VISIT HTTPS://MYMEMORY.TRANSLATED.NET/DOC/USAGELIMITS.PHP TO TRANSLATE MORE',\n 'MYMEMORY WARNING: YOU USED ALL AVAILABLE FREE TRANSLATIONS FOR TODAY. NEXT AVAILABLE IN  06 HOURS 30 MINUTES 04 SECONDS VISIT HTTPS://MYMEMORY.TRANSLATED.NET/DOC/USAGELIMITS.PHP TO TRANSLATE MORE',\n 'MYMEMORY WARNING: YOU USED ALL AVAILABLE FREE TRANSLATIONS FOR TODAY. NEXT AVAILABLE IN  06 HOURS 30 MINUTES 02 SECONDS VISIT HTTPS://MYMEMORY.TRANSLATED.NET/DOC/USAGELIMITS.PHP TO TRANSLATE MORE',\n 'MYMEMORY WARNING: YOU USED ALL AVAILABLE FREE TRANSLATIONS FOR TODAY. NEXT AVAILABLE IN  06 HOURS 30 MINUTES 00 SECONDS VISIT HTTPS://MYMEMORY.TRANSLATED.NET/DOC/USAGELIMITS.PHP TO TRANSLATE MORE',\n 'MYMEMORY WARNING: YOU USED ALL AVAILABLE FREE TRANSLATIONS FOR TODAY. NEXT AVAILABLE IN  06 HOURS 29 MINUTES 59 SECONDS VISIT HTTPS://MYMEMORY.TRANSLATED.NET/DOC/USAGELIMITS.PHP TO TRANSLATE MORE',\n 'MYMEMORY WARNING: YOU USED ALL AVAILABLE FREE TRANSLATIONS FOR TODAY. NEXT AVAILABLE IN  06 HOURS 29 MINUTES 57 SECONDS VISIT HTTPS://MYMEMORY.TRANSLATED.NET/DOC/USAGELIMITS.PHP TO TRANSLATE MORE',\n 'MYMEMORY WARNING: YOU USED ALL AVAILABLE FREE TRANSLATIONS FOR TODAY. NEXT AVAILABLE IN  06 HOURS 29 MINUTES 55 SECONDS VISIT HTTPS://MYMEMORY.TRANSLATED.NET/DOC/USAGELIMITS.PHP TO TRANSLATE MORE',\n 'MYMEMORY WARNING: YOU USED ALL AVAILABLE FREE TRANSLATIONS FOR TODAY. NEXT AVAILABLE IN  06 HOURS 29 MINUTES 53 SECONDS VISIT HTTPS://MYMEMORY.TRANSLATED.NET/DOC/USAGELIMITS.PHP TO TRANSLATE MORE',\n 'MYMEMORY WARNING: YOU USED ALL AVAILABLE FREE TRANSLATIONS FOR TODAY. NEXT AVAILABLE IN  06 HOURS 29 MINUTES 51 SECONDS VISIT HTTPS://MYMEMORY.TRANSLATED.NET/DOC/USAGELIMITS.PHP TO TRANSLATE MORE',\n 'MYMEMORY WARNING: YOU USED ALL AVAILABLE FREE TRANSLATIONS FOR TODAY. NEXT AVAILABLE IN  06 HOURS 29 MINUTES 50 SECONDS VISIT HTTPS://MYMEMORY.TRANSLATED.NET/DOC/USAGELIMITS.PHP TO TRANSLATE MORE',\n 'MYMEMORY WARNING: YOU USED ALL AVAILABLE FREE TRANSLATIONS FOR TODAY. NEXT AVAILABLE IN  06 HOURS 29 MINUTES 48 SECONDS VISIT HTTPS://MYMEMORY.TRANSLATED.NET/DOC/USAGELIMITS.PHP TO TRANSLATE MORE',\n 'MYMEMORY WARNING: YOU USED ALL AVAILABLE FREE TRANSLATIONS FOR TODAY. NEXT AVAILABLE IN  06 HOURS 29 MINUTES 46 SECONDS VISIT HTTPS://MYMEMORY.TRANSLATED.NET/DOC/USAGELIMITS.PHP TO TRANSLATE MORE',\n 'MYMEMORY WARNING: YOU USED ALL AVAILABLE FREE TRANSLATIONS FOR TODAY. NEXT AVAILABLE IN  06 HOURS 29 MINUTES 44 SECONDS VISIT HTTPS://MYMEMORY.TRANSLATED.NET/DOC/USAGELIMITS.PHP TO TRANSLATE MORE',\n 'MYMEMORY WARNING: YOU USED ALL AVAILABLE FREE TRANSLATIONS FOR TODAY. NEXT AVAILABLE IN  06 HOURS 29 MINUTES 42 SECONDS VISIT HTTPS://MYMEMORY.TRANSLATED.NET/DOC/USAGELIMITS.PHP TO TRANSLATE MORE',\n 'MYMEMORY WARNING: YOU USED ALL AVAILABLE FREE TRANSLATIONS FOR TODAY. NEXT AVAILABLE IN  06 HOURS 29 MINUTES 40 SECONDS VISIT HTTPS://MYMEMORY.TRANSLATED.NET/DOC/USAGELIMITS.PHP TO TRANSLATE MORE',\n 'MYMEMORY WARNING: YOU USED ALL AVAILABLE FREE TRANSLATIONS FOR TODAY. NEXT AVAILABLE IN  06 HOURS 29 MINUTES 39 SECONDS VISIT HTTPS://MYMEMORY.TRANSLATED.NET/DOC/USAGELIMITS.PHP TO TRANSLATE MORE',\n 'MYMEMORY WARNING: YOU USED ALL AVAILABLE FREE TRANSLATIONS FOR TODAY. NEXT AVAILABLE IN  06 HOURS 29 MINUTES 37 SECONDS VISIT HTTPS://MYMEMORY.TRANSLATED.NET/DOC/USAGELIMITS.PHP TO TRANSLATE MORE',\n 'MYMEMORY WARNING: YOU USED ALL AVAILABLE FREE TRANSLATIONS FOR TODAY. NEXT AVAILABLE IN  06 HOURS 29 MINUTES 35 SECONDS VISIT HTTPS://MYMEMORY.TRANSLATED.NET/DOC/USAGELIMITS.PHP TO TRANSLATE MORE',\n 'MYMEMORY WARNING: YOU USED ALL AVAILABLE FREE TRANSLATIONS FOR TODAY. NEXT AVAILABLE IN  06 HOURS 29 MINUTES 33 SECONDS VISIT HTTPS://MYMEMORY.TRANSLATED.NET/DOC/USAGELIMITS.PHP TO TRANSLATE MORE',\n 'MYMEMORY WARNING: YOU USED ALL AVAILABLE FREE TRANSLATIONS FOR TODAY. NEXT AVAILABLE IN  06 HOURS 29 MINUTES 32 SECONDS VISIT HTTPS://MYMEMORY.TRANSLATED.NET/DOC/USAGELIMITS.PHP TO TRANSLATE MORE',\n 'MYMEMORY WARNING: YOU USED ALL AVAILABLE FREE TRANSLATIONS FOR TODAY. NEXT AVAILABLE IN  06 HOURS 29 MINUTES 30 SECONDS VISIT HTTPS://MYMEMORY.TRANSLATED.NET/DOC/USAGELIMITS.PHP TO TRANSLATE MORE',\n 'MYMEMORY WARNING: YOU USED ALL AVAILABLE FREE TRANSLATIONS FOR TODAY. NEXT AVAILABLE IN  06 HOURS 29 MINUTES 28 SECONDS VISIT HTTPS://MYMEMORY.TRANSLATED.NET/DOC/USAGELIMITS.PHP TO TRANSLATE MORE',\n 'MYMEMORY WARNING: YOU USED ALL AVAILABLE FREE TRANSLATIONS FOR TODAY. NEXT AVAILABLE IN  06 HOURS 29 MINUTES 26 SECONDS VISIT HTTPS://MYMEMORY.TRANSLATED.NET/DOC/USAGELIMITS.PHP TO TRANSLATE MORE',\n 'MYMEMORY WARNING: YOU USED ALL AVAILABLE FREE TRANSLATIONS FOR TODAY. NEXT AVAILABLE IN  06 HOURS 29 MINUTES 25 SECONDS VISIT HTTPS://MYMEMORY.TRANSLATED.NET/DOC/USAGELIMITS.PHP TO TRANSLATE MORE',\n 'MYMEMORY WARNING: YOU USED ALL AVAILABLE FREE TRANSLATIONS FOR TODAY. NEXT AVAILABLE IN  06 HOURS 29 MINUTES 23 SECONDS VISIT HTTPS://MYMEMORY.TRANSLATED.NET/DOC/USAGELIMITS.PHP TO TRANSLATE MORE',\n 'MYMEMORY WARNING: YOU USED ALL AVAILABLE FREE TRANSLATIONS FOR TODAY. NEXT AVAILABLE IN  06 HOURS 29 MINUTES 21 SECONDS VISIT HTTPS://MYMEMORY.TRANSLATED.NET/DOC/USAGELIMITS.PHP TO TRANSLATE MORE',\n ...]"
          },
          "metadata": {}
        }
      ]
    },
    {
      "cell_type": "code",
      "source": [
        "np.save('augmented_group_0_data.npy', augmented_group_0_data)\n",
        "np.save('augmented_group_1_data.npy', augmented_group_1_data)\n",
        "np.save('augmented__data.npy', augmented_Data)"
      ],
      "metadata": {
        "execution": {
          "iopub.status.busy": "2023-07-29T03:28:58.377368Z",
          "iopub.status.idle": "2023-07-29T03:28:58.378170Z",
          "shell.execute_reply.started": "2023-07-29T03:28:58.377924Z",
          "shell.execute_reply": "2023-07-29T03:28:58.377948Z"
        },
        "trusted": true,
        "id": "pWTXuRlz7jdI"
      },
      "execution_count": null,
      "outputs": []
    },
    {
      "cell_type": "code",
      "source": [
        "Data[\"txt\"][ Data[\"sentiment\"] == 1]"
      ],
      "metadata": {
        "execution": {
          "iopub.status.busy": "2023-07-29T01:57:43.991274Z",
          "iopub.execute_input": "2023-07-29T01:57:43.991641Z",
          "iopub.status.idle": "2023-07-29T01:57:44.000967Z",
          "shell.execute_reply.started": "2023-07-29T01:57:43.991611Z",
          "shell.execute_reply": "2023-07-29T01:57:43.999978Z"
        },
        "trusted": true,
        "id": "LxDckpN_7jdI",
        "outputId": "ba432f96-9090-49e8-9eea-2bb4cd91e978"
      },
      "execution_count": null,
      "outputs": [
        {
          "execution_count": 35,
          "output_type": "execute_result",
          "data": {
            "text/plain": "5        رحله جميله وممتعه يصحبنا الدكتور مصطفي محمود ك...\n6        لمن يدركها معاني حقائق مذهله ادركها تذكره اكتر...\n8        بالضروره ان تكون عظيما تحلم  ان تحلم تكون عظيم...\n13       كتاب حلو ويستاهل القراءه اكثر ولازم الواحد يفك...\n15       روايه ممتعه تحمست اكثر عرفت انها نقل لمخطوطات ...\n                               ...                        \n16437    الروايه راائعه والاسلوب جميل ايحائات جنسيه نفرتني\n16438    احد اهم الكُتب قراتها حياتي استفدت بشكل كبير  ...\n16441      تراب بيحيا بيصير تراب والاصل الموت الحياه وعجبي\n16442    علاء الاسواني طبعا مفيش كلام اقدر اقوله الرواي...\n16446    بدايه الروايه وانا احاول تمالك تعاندني عبرات م...\nName: txt, Length: 8224, dtype: object"
          },
          "metadata": {}
        }
      ]
    },
    {
      "cell_type": "code",
      "source": [
        "augmented_data.head()"
      ],
      "metadata": {
        "execution": {
          "iopub.status.busy": "2023-07-29T03:28:58.375106Z",
          "iopub.status.idle": "2023-07-29T03:28:58.375603Z",
          "shell.execute_reply.started": "2023-07-29T03:28:58.375364Z",
          "shell.execute_reply": "2023-07-29T03:28:58.375387Z"
        },
        "trusted": true,
        "id": "4rP-1kR-7jdI"
      },
      "execution_count": null,
      "outputs": []
    },
    {
      "cell_type": "markdown",
      "source": [
        "### Splitting data without embedding"
      ],
      "metadata": {
        "id": "dD8Z24w0n6Tw"
      }
    },
    {
      "cell_type": "code",
      "source": [
        "# Separate positive and negative reviews\n",
        "positive_data = Data[Data['sentiment'] == 1]\n",
        "negative_data = Data[Data['sentiment'] == 0]"
      ],
      "metadata": {
        "execution": {
          "iopub.status.busy": "2023-07-28T21:14:22.414337Z",
          "iopub.execute_input": "2023-07-28T21:14:22.414714Z",
          "iopub.status.idle": "2023-07-28T21:14:22.424783Z",
          "shell.execute_reply.started": "2023-07-28T21:14:22.414679Z",
          "shell.execute_reply": "2023-07-28T21:14:22.423857Z"
        },
        "trusted": true,
        "id": "RtqraOPe7jdN"
      },
      "execution_count": null,
      "outputs": []
    },
    {
      "cell_type": "code",
      "source": [
        "random_positive = positive_data.sample(n=5000, random_state=42)\n",
        "random_negative = negative_data.sample(n=5000, random_state=42)\n",
        "random_selected_data = pd.concat([random_positive, random_negative])"
      ],
      "metadata": {
        "execution": {
          "iopub.status.busy": "2023-07-28T21:14:22.426613Z",
          "iopub.execute_input": "2023-07-28T21:14:22.427051Z",
          "iopub.status.idle": "2023-07-28T21:14:22.437895Z",
          "shell.execute_reply.started": "2023-07-28T21:14:22.427014Z",
          "shell.execute_reply": "2023-07-28T21:14:22.437001Z"
        },
        "trusted": true,
        "id": "vEWbxFz37jdN"
      },
      "execution_count": null,
      "outputs": []
    },
    {
      "cell_type": "code",
      "source": [
        "random_selected_data.shape"
      ],
      "metadata": {
        "execution": {
          "iopub.status.busy": "2023-07-28T21:14:22.439504Z",
          "iopub.execute_input": "2023-07-28T21:14:22.439864Z",
          "iopub.status.idle": "2023-07-28T21:14:22.448919Z",
          "shell.execute_reply.started": "2023-07-28T21:14:22.439830Z",
          "shell.execute_reply": "2023-07-28T21:14:22.448009Z"
        },
        "trusted": true,
        "id": "E7WaiPyx7jdN",
        "outputId": "35b7bbdc-9064-4fb4-c5d1-9f08f299c748"
      },
      "execution_count": null,
      "outputs": [
        {
          "execution_count": 21,
          "output_type": "execute_result",
          "data": {
            "text/plain": "(10000, 3)"
          },
          "metadata": {}
        }
      ]
    },
    {
      "cell_type": "code",
      "source": [
        "remaining_data = Data.drop(random_selected_data.index)\n"
      ],
      "metadata": {
        "execution": {
          "iopub.status.busy": "2023-07-28T21:14:22.450363Z",
          "iopub.execute_input": "2023-07-28T21:14:22.450697Z",
          "iopub.status.idle": "2023-07-28T21:14:22.461039Z",
          "shell.execute_reply.started": "2023-07-28T21:14:22.450665Z",
          "shell.execute_reply": "2023-07-28T21:14:22.460140Z"
        },
        "trusted": true,
        "id": "SQGxz8Cy7jdO"
      },
      "execution_count": null,
      "outputs": []
    },
    {
      "cell_type": "code",
      "source": [
        "train_data, test_data = train_test_split(random_selected_data, test_size=0.2, random_state=42)"
      ],
      "metadata": {
        "id": "0v8TZFLpn5p9",
        "execution": {
          "iopub.status.busy": "2023-07-28T21:14:22.462680Z",
          "iopub.execute_input": "2023-07-28T21:14:22.463012Z",
          "iopub.status.idle": "2023-07-28T21:14:22.475756Z",
          "shell.execute_reply.started": "2023-07-28T21:14:22.462981Z",
          "shell.execute_reply": "2023-07-28T21:14:22.474836Z"
        },
        "trusted": true
      },
      "execution_count": null,
      "outputs": []
    },
    {
      "cell_type": "code",
      "source": [
        "random_selected_data.to_csv('random_selected_data.csv', index=False)\n",
        "remaining_data.to_csv('remaining_data.csv', index=False)\n",
        "train_data.to_csv('train_data.csv', index=False)\n",
        "test_data.to_csv('test_data.csv', index=False)\n"
      ],
      "metadata": {
        "execution": {
          "iopub.status.busy": "2023-07-28T21:33:25.007438Z",
          "iopub.execute_input": "2023-07-28T21:33:25.008147Z",
          "iopub.status.idle": "2023-07-28T21:33:25.638698Z",
          "shell.execute_reply.started": "2023-07-28T21:33:25.008112Z",
          "shell.execute_reply": "2023-07-28T21:33:25.637593Z"
        },
        "trusted": true,
        "id": "PCbet2vN7jdO"
      },
      "execution_count": null,
      "outputs": []
    },
    {
      "cell_type": "code",
      "source": [
        "random_selected_data = pd.read_csv('random_selected_data.csv')\n",
        "remaining_data = pd.read_csv('remaining_data.csv')\n",
        "train_data = pd.read_csv('train_data.csv')\n",
        "test_data = pd.read_csv('test_data.csv')"
      ],
      "metadata": {
        "execution": {
          "iopub.status.busy": "2023-07-29T12:00:57.271274Z",
          "iopub.execute_input": "2023-07-29T12:00:57.271625Z",
          "iopub.status.idle": "2023-07-29T12:00:57.313929Z",
          "shell.execute_reply.started": "2023-07-29T12:00:57.271595Z",
          "shell.execute_reply": "2023-07-29T12:00:57.312511Z"
        },
        "trusted": true,
        "id": "0ijUYQyU7jdO"
      },
      "execution_count": null,
      "outputs": []
    },
    {
      "cell_type": "code",
      "source": [
        "global_X_train=train_data['stemming Words']\n",
        "global_y_train=train_data['sentiment'].values\n",
        "global_X_test=test_data['stemming Words']\n",
        "global_y_test=test_data['sentiment'].values"
      ],
      "metadata": {
        "id": "kWNeyOY3CltY",
        "execution": {
          "iopub.status.busy": "2023-07-28T21:33:32.397318Z",
          "iopub.execute_input": "2023-07-28T21:33:32.398420Z",
          "iopub.status.idle": "2023-07-28T21:33:32.406889Z",
          "shell.execute_reply.started": "2023-07-28T21:33:32.398376Z",
          "shell.execute_reply": "2023-07-28T21:33:32.405779Z"
        },
        "trusted": true
      },
      "execution_count": null,
      "outputs": []
    },
    {
      "cell_type": "code",
      "source": [
        "remaining_data.head(400)"
      ],
      "metadata": {
        "execution": {
          "iopub.status.busy": "2023-07-28T21:33:32.621966Z",
          "iopub.execute_input": "2023-07-28T21:33:32.622281Z",
          "iopub.status.idle": "2023-07-28T21:33:32.641184Z",
          "shell.execute_reply.started": "2023-07-28T21:33:32.622254Z",
          "shell.execute_reply": "2023-07-28T21:33:32.640129Z"
        },
        "trusted": true,
        "id": "GgclFT417jdP",
        "outputId": "170be45b-b7fd-40ae-eeff-264c82737f9f"
      },
      "execution_count": null,
      "outputs": [
        {
          "execution_count": 14,
          "output_type": "execute_result",
          "data": {
            "text/plain": "     sentiment                                                txt  \\\n0            0  النادر ان يعجبني الفلم اكثر الروايه  تفوق دعاء...   \n1            0  كتاب سي الاسلوب ممتع نهايه مفتوحه والكتاب بوجه...   \n2            0  قصه مشوقه ونهايه مفتوحه  اسوء صفحه في الروايه ...   \n3            0  ابدع الكاتب سرد الحقائق التاريخيه او بمعني اصح...   \n4            1  لمن يدركها معاني حقائق مذهله ادركها تذكره اكتر...   \n..         ...                                                ...   \n395          0  روايه رديئه تسعدني ماساتي الروايات الرديئه تضي...   \n396          0                               30 رائع والباقي عادي   \n397          1                   روايه اكثر رائعه نهايه اروع اجمل   \n398          1  رايت ضعفي مواطن ضعفه اخافني اخره باضعاف اراحني...   \n399          1  بالرغم بساطته الا انه عميق يصف المجتمع المصري ...   \n\n                                        stemming Words  \n0               ندر ان عجب فلم كثر ريه تفق دعء كرو ريه  \n1               كتب سي سلب متع نهي فتح كتب بوج عام كئب  \n2    قصه شوق ونه فتح اسء صفح في ريه هي اخر صفح عجب ...  \n3    بدع كتب سرد حقق ارخ او بمع اصح فضح وضح صور تكن...  \n4    لمن يدر معا حقق ذهل ادر ذكر كتر فصل عجب الل كل...  \n..                                                 ...  \n395  ريه ردئ سعد است روي ردئ تضع مرت قرء كتب عنه ام...  \n396                                     30 رئع بقي عدي  \n397                            ريه كثر رئع نهي ارع جمل  \n398    ريت ضعف وطن ضعف اخف اخر ضعف ارح اخذ كان بعد ترك  \n399  رغم بسط الا انه عمق يصف جمع صري وضح لسن فرد عب...  \n\n[400 rows x 3 columns]",
            "text/html": "<div>\n<style scoped>\n    .dataframe tbody tr th:only-of-type {\n        vertical-align: middle;\n    }\n\n    .dataframe tbody tr th {\n        vertical-align: top;\n    }\n\n    .dataframe thead th {\n        text-align: right;\n    }\n</style>\n<table border=\"1\" class=\"dataframe\">\n  <thead>\n    <tr style=\"text-align: right;\">\n      <th></th>\n      <th>sentiment</th>\n      <th>txt</th>\n      <th>stemming Words</th>\n    </tr>\n  </thead>\n  <tbody>\n    <tr>\n      <th>0</th>\n      <td>0</td>\n      <td>النادر ان يعجبني الفلم اكثر الروايه  تفوق دعاء...</td>\n      <td>ندر ان عجب فلم كثر ريه تفق دعء كرو ريه</td>\n    </tr>\n    <tr>\n      <th>1</th>\n      <td>0</td>\n      <td>كتاب سي الاسلوب ممتع نهايه مفتوحه والكتاب بوجه...</td>\n      <td>كتب سي سلب متع نهي فتح كتب بوج عام كئب</td>\n    </tr>\n    <tr>\n      <th>2</th>\n      <td>0</td>\n      <td>قصه مشوقه ونهايه مفتوحه  اسوء صفحه في الروايه ...</td>\n      <td>قصه شوق ونه فتح اسء صفح في ريه هي اخر صفح عجب ...</td>\n    </tr>\n    <tr>\n      <th>3</th>\n      <td>0</td>\n      <td>ابدع الكاتب سرد الحقائق التاريخيه او بمعني اصح...</td>\n      <td>بدع كتب سرد حقق ارخ او بمع اصح فضح وضح صور تكن...</td>\n    </tr>\n    <tr>\n      <th>4</th>\n      <td>1</td>\n      <td>لمن يدركها معاني حقائق مذهله ادركها تذكره اكتر...</td>\n      <td>لمن يدر معا حقق ذهل ادر ذكر كتر فصل عجب الل كل...</td>\n    </tr>\n    <tr>\n      <th>...</th>\n      <td>...</td>\n      <td>...</td>\n      <td>...</td>\n    </tr>\n    <tr>\n      <th>395</th>\n      <td>0</td>\n      <td>روايه رديئه تسعدني ماساتي الروايات الرديئه تضي...</td>\n      <td>ريه ردئ سعد است روي ردئ تضع مرت قرء كتب عنه ام...</td>\n    </tr>\n    <tr>\n      <th>396</th>\n      <td>0</td>\n      <td>30 رائع والباقي عادي</td>\n      <td>30 رئع بقي عدي</td>\n    </tr>\n    <tr>\n      <th>397</th>\n      <td>1</td>\n      <td>روايه اكثر رائعه نهايه اروع اجمل</td>\n      <td>ريه كثر رئع نهي ارع جمل</td>\n    </tr>\n    <tr>\n      <th>398</th>\n      <td>1</td>\n      <td>رايت ضعفي مواطن ضعفه اخافني اخره باضعاف اراحني...</td>\n      <td>ريت ضعف وطن ضعف اخف اخر ضعف ارح اخذ كان بعد ترك</td>\n    </tr>\n    <tr>\n      <th>399</th>\n      <td>1</td>\n      <td>بالرغم بساطته الا انه عميق يصف المجتمع المصري ...</td>\n      <td>رغم بسط الا انه عمق يصف جمع صري وضح لسن فرد عب...</td>\n    </tr>\n  </tbody>\n</table>\n<p>400 rows × 3 columns</p>\n</div>"
          },
          "metadata": {}
        }
      ]
    },
    {
      "cell_type": "markdown",
      "source": [
        "## Try arabert for embedding , but it crash in memory"
      ],
      "metadata": {
        "id": "SBD34Tr1smfX"
      }
    },
    {
      "cell_type": "code",
      "execution_count": null,
      "metadata": {
        "colab": {
          "base_uri": "https://localhost:8080/"
        },
        "id": "R9fj_WFGWNwc",
        "outputId": "7a423067-66d5-4ba4-c242-0c2e5cdba6f9"
      },
      "outputs": [
        {
          "name": "stdout",
          "output_type": "stream",
          "text": [
            "Requirement already satisfied: transformers in /usr/local/lib/python3.10/dist-packages (4.31.0)\n",
            "Requirement already satisfied: filelock in /usr/local/lib/python3.10/dist-packages (from transformers) (3.12.2)\n",
            "Requirement already satisfied: huggingface-hub<1.0,>=0.14.1 in /usr/local/lib/python3.10/dist-packages (from transformers) (0.16.4)\n",
            "Requirement already satisfied: numpy>=1.17 in /usr/local/lib/python3.10/dist-packages (from transformers) (1.22.4)\n",
            "Requirement already satisfied: packaging>=20.0 in /usr/local/lib/python3.10/dist-packages (from transformers) (23.1)\n",
            "Requirement already satisfied: pyyaml>=5.1 in /usr/local/lib/python3.10/dist-packages (from transformers) (6.0.1)\n",
            "Requirement already satisfied: regex!=2019.12.17 in /usr/local/lib/python3.10/dist-packages (from transformers) (2022.10.31)\n",
            "Requirement already satisfied: requests in /usr/local/lib/python3.10/dist-packages (from transformers) (2.27.1)\n",
            "Requirement already satisfied: tokenizers!=0.11.3,<0.14,>=0.11.1 in /usr/local/lib/python3.10/dist-packages (from transformers) (0.13.3)\n",
            "Requirement already satisfied: safetensors>=0.3.1 in /usr/local/lib/python3.10/dist-packages (from transformers) (0.3.1)\n",
            "Requirement already satisfied: tqdm>=4.27 in /usr/local/lib/python3.10/dist-packages (from transformers) (4.65.0)\n",
            "Requirement already satisfied: fsspec in /usr/local/lib/python3.10/dist-packages (from huggingface-hub<1.0,>=0.14.1->transformers) (2023.6.0)\n",
            "Requirement already satisfied: typing-extensions>=3.7.4.3 in /usr/local/lib/python3.10/dist-packages (from huggingface-hub<1.0,>=0.14.1->transformers) (4.7.1)\n",
            "Requirement already satisfied: urllib3<1.27,>=1.21.1 in /usr/local/lib/python3.10/dist-packages (from requests->transformers) (1.26.16)\n",
            "Requirement already satisfied: certifi>=2017.4.17 in /usr/local/lib/python3.10/dist-packages (from requests->transformers) (2023.7.22)\n",
            "Requirement already satisfied: charset-normalizer~=2.0.0 in /usr/local/lib/python3.10/dist-packages (from requests->transformers) (2.0.12)\n",
            "Requirement already satisfied: idna<4,>=2.5 in /usr/local/lib/python3.10/dist-packages (from requests->transformers) (3.4)\n",
            "Cloning into 'arabert'...\n",
            "remote: Enumerating objects: 600, done.\u001b[K\n",
            "remote: Counting objects: 100% (65/65), done.\u001b[K\n",
            "remote: Compressing objects: 100% (33/33), done.\u001b[K\n",
            "remote: Total 600 (delta 38), reused 45 (delta 30), pack-reused 535\u001b[K\n",
            "Receiving objects: 100% (600/600), 9.14 MiB | 19.07 MiB/s, done.\n",
            "Resolving deltas: 100% (339/339), done.\n",
            "Requirement already satisfied: PyArabic in /usr/local/lib/python3.10/dist-packages (from -r arabert/requirements.txt (line 3)) (0.6.15)\n",
            "Requirement already satisfied: farasapy in /usr/local/lib/python3.10/dist-packages (from -r arabert/requirements.txt (line 4)) (0.0.14)\n",
            "Requirement already satisfied: emoji==1.4.2 in /usr/local/lib/python3.10/dist-packages (from -r arabert/requirements.txt (line 5)) (1.4.2)\n",
            "Requirement already satisfied: six>=1.14.0 in /usr/local/lib/python3.10/dist-packages (from PyArabic->-r arabert/requirements.txt (line 3)) (1.16.0)\n",
            "Requirement already satisfied: requests in /usr/local/lib/python3.10/dist-packages (from farasapy->-r arabert/requirements.txt (line 4)) (2.27.1)\n",
            "Requirement already satisfied: tqdm in /usr/local/lib/python3.10/dist-packages (from farasapy->-r arabert/requirements.txt (line 4)) (4.65.0)\n",
            "Requirement already satisfied: urllib3<1.27,>=1.21.1 in /usr/local/lib/python3.10/dist-packages (from requests->farasapy->-r arabert/requirements.txt (line 4)) (1.26.16)\n",
            "Requirement already satisfied: certifi>=2017.4.17 in /usr/local/lib/python3.10/dist-packages (from requests->farasapy->-r arabert/requirements.txt (line 4)) (2023.7.22)\n",
            "Requirement already satisfied: charset-normalizer~=2.0.0 in /usr/local/lib/python3.10/dist-packages (from requests->farasapy->-r arabert/requirements.txt (line 4)) (2.0.12)\n",
            "Requirement already satisfied: idna<4,>=2.5 in /usr/local/lib/python3.10/dist-packages (from requests->farasapy->-r arabert/requirements.txt (line 4)) (3.4)\n"
          ]
        }
      ],
      "source": [
        "!pip install transformers\n",
        "!git clone https://github.com/aub-mind/arabert\n",
        "!pip install -r arabert/requirements.txt"
      ]
    },
    {
      "cell_type": "code",
      "execution_count": null,
      "metadata": {
        "id": "p7gZIaSWXFLP"
      },
      "outputs": [],
      "source": [
        "from transformers import AutoTokenizer, AutoModel\n",
        "from arabert.preprocess import ArabertPreprocessor"
      ]
    },
    {
      "cell_type": "markdown",
      "metadata": {
        "id": "pzYGeY10XkHz"
      },
      "source": [
        "### Initialize Model, Tokenizer and preprocessor"
      ]
    },
    {
      "cell_type": "code",
      "execution_count": null,
      "metadata": {
        "colab": {
          "base_uri": "https://localhost:8080/",
          "height": 170,
          "referenced_widgets": [
            "663255b8f4ff4893b75a80a455cb6006",
            "e1eaf8365c7b49a594d2d1c54f535c8d",
            "01c8e34a273e4136bf94b22e833f378c",
            "a98db3a3af654fdea671b974366d7765",
            "26e1b364c78541da863a7c583b3092c9",
            "5e903cc1259d497891245a59da9a2b87",
            "fbbf651cfcb64409b37803b9e96cce37",
            "67d243f5f2724deeb6be7bd1cb6a8a9f",
            "3a09f3157c944842adb146e8a5407b17",
            "eeabcf770fbd4bccbf990ba2c874f356",
            "bdf2c65a49124275a9830a97ad1151c1",
            "274fc213c4d84c908acd0ca062c62c21",
            "1ad7077b9ec44c76a8b3cfdf3301fe84",
            "1a5d442e0438413dbff6f9852a0aa6ab",
            "47780619e20041b4b3395486e312b85c",
            "b5bff60573ce4aab82efdcd680d48a3c",
            "a3cc535ad8904959aec48e869eb4beee",
            "2a76519e3c5e49e597fb77a7734daf99",
            "c4e526383a824d1db5ffe87a68dc216f",
            "46ee78ec236a4576a3a486786aa9cf98",
            "7df92db0bf3748bebdc1a06e7095ff69",
            "ee833340420c4c5db309bf3d99b85d78"
          ]
        },
        "id": "oviMhf4dWXul",
        "outputId": "655e9e62-ac23-482c-b426-27f8a706393d"
      },
      "outputs": [
        {
          "name": "stderr",
          "output_type": "stream",
          "text": [
            "/usr/local/lib/python3.10/dist-packages/urllib3/connectionpool.py:1056: InsecureRequestWarning: Unverified HTTPS request is being made to host 'farasa-api.qcri.org'. Adding certificate verification is strongly advised. See: https://urllib3.readthedocs.io/en/1.26.x/advanced-usage.html#ssl-warnings\n",
            "  warnings.warn(\n"
          ]
        },
        {
          "name": "stdout",
          "output_type": "stream",
          "text": [
            "100%|██████████| 241M/241M [00:28<00:00, 8.40MiB/s]\n"
          ]
        },
        {
          "name": "stderr",
          "output_type": "stream",
          "text": [
            "[2023-07-28 18:13:07,291 - farasapy_logger - WARNING]: Be careful with large lines as they may break on interactive mode. You may switch to Standalone mode for such cases.\n"
          ]
        },
        {
          "data": {
            "application/vnd.jupyter.widget-view+json": {
              "model_id": "663255b8f4ff4893b75a80a455cb6006",
              "version_major": 2,
              "version_minor": 0
            },
            "text/plain": [
              "Downloading (…)lve/main/config.json:   0%|          | 0.00/384 [00:00<?, ?B/s]"
            ]
          },
          "metadata": {},
          "output_type": "display_data"
        },
        {
          "data": {
            "application/vnd.jupyter.widget-view+json": {
              "model_id": "274fc213c4d84c908acd0ca062c62c21",
              "version_major": 2,
              "version_minor": 0
            },
            "text/plain": [
              "Downloading model.safetensors:   0%|          | 0.00/543M [00:00<?, ?B/s]"
            ]
          },
          "metadata": {},
          "output_type": "display_data"
        }
      ],
      "source": [
        "model_name = \"aubmindlab/bert-base-arabertv2\"\n",
        "arabert_prep = ArabertPreprocessor(model_name=model_name)\n",
        "model = AutoModel.from_pretrained(model_name)\n",
        "model.eval()\n",
        "tokenizer = AutoTokenizer.from_pretrained(model_name)"
      ]
    },
    {
      "cell_type": "markdown",
      "metadata": {
        "id": "0OIF2Bgcaj37"
      },
      "source": [
        "Preprocessing the text before passing through the model"
      ]
    },
    {
      "cell_type": "code",
      "source": [
        "import torch\n",
        "\n",
        "def get_sentence_embeddings(sentences, tokenizer, model, batch_size=32, chunk_size=100):\n",
        "    device = torch.device('cuda' if torch.cuda.is_available() else 'cpu')\n",
        "    model.to(device)\n",
        "\n",
        "    num_sentences = len(sentences)\n",
        "    max_length = 0\n",
        "    all_embeddings = []\n",
        "\n",
        "    for start in tqdm(range(0, num_sentences, chunk_size), desc='Chunks'):\n",
        "        end = min(start + chunk_size, num_sentences)\n",
        "        chunk_sentences = sentences[start:end]\n",
        "\n",
        "        for chunk_start in range(0, len(chunk_sentences), batch_size):\n",
        "            chunk_end = min(chunk_start + batch_size, len(chunk_sentences))\n",
        "            batch_sentences = chunk_sentences[chunk_start:chunk_end]\n",
        "\n",
        "            # Preprocess the sentences and encode them using the tokenizer\n",
        "            preprocessed_sentences = [arabert_prep.preprocess(sentence) for sentence in batch_sentences]\n",
        "            inputs = tokenizer(preprocessed_sentences, padding=True, truncation=True, return_tensors='pt').to(device)\n",
        "\n",
        "            # Get the embeddings from the model\n",
        "            with torch.no_grad():\n",
        "                outputs = model(**inputs)\n",
        "\n",
        "            # Extract the embeddings for the text tokens only (excluding [CLS] and [SEP])\n",
        "            embeddings_text_only = outputs['last_hidden_state'][:, 1:-1, :]\n",
        "\n",
        "            # Update the maximum sequence length\n",
        "            max_length = max(max_length, embeddings_text_only.shape[1])\n",
        "\n",
        "            # Convert the PyTorch tensor to a NumPy array and append to the list of embeddings\n",
        "            embeddings_text_only_np = embeddings_text_only.cpu().numpy()\n",
        "            all_embeddings.append(embeddings_text_only_np)\n",
        "\n",
        "    # Pad shorter embeddings to match the maximum sequence length\n",
        "    padded_embeddings = [np.pad(emb, ((0, 0), (0, max_length - emb.shape[1]), (0, 0)), mode='constant') for emb in all_embeddings]\n",
        "\n",
        "    # Concatenate the embeddings from all chunks\n",
        "    all_embeddings_np = np.concatenate(padded_embeddings, axis=0)\n",
        "\n",
        "    return all_embeddings_np\n"
      ],
      "metadata": {
        "id": "o_3ASZa8s70n"
      },
      "execution_count": null,
      "outputs": []
    },
    {
      "cell_type": "code",
      "source": [
        "import torch\n",
        "\n",
        "batch_size = global_X_train.shape[0] // 10\n",
        "rem = global_X_train.shape[0] % 10\n",
        "start_batch_idx = 0\n",
        "\n",
        "for batch_idx in range(start_batch_idx, 10):\n",
        "    if batch_idx < 9:\n",
        "        batch_data = global_X_train[batch_idx * batch_size : (batch_idx + 1) * batch_size]\n",
        "    else:\n",
        "        batch_data = global_X_train[batch_idx * batch_size :]\n",
        "\n",
        "    # Convert batch_data to a list of sentences\n",
        "    batch_sentences = batch_data.tolist()\n",
        "\n",
        "    # Get the embeddings for the current batch\n",
        "    x_batch = get_sentence_embeddings(batch_sentences, tokenizer, model)\n",
        "\n",
        "    # Save the embeddings for the current batch\n",
        "    np.save(f'batch_features_{batch_idx}.npy', x_batch)\n",
        "    print(f'Batch {batch_idx+1} features saved.')\n",
        "\n",
        "print(\"All batches processed and saved.\")\n"
      ],
      "metadata": {
        "id": "sEu6Ugl0tFOo"
      },
      "execution_count": null,
      "outputs": []
    },
    {
      "cell_type": "code",
      "source": [
        "import numpy as np\n",
        "\n",
        "# Create an empty list to store the batch feature arrays\n",
        "all_batches = []\n",
        "\n",
        "# Set the range of batch indices to be combined (start_batch_idx to 9)\n",
        "start_batch_idx = 0\n",
        "\n",
        "for batch_idx in range(start_batch_idx, 10):\n",
        "    batch_file_path = f'batch_features_{batch_idx}.npy'\n",
        "    batch_features = np.load(batch_file_path)\n",
        "    all_batches.append(batch_features)\n",
        "\n",
        "# Concatenate all the batches along the first axis (axis=0)\n",
        "x_train = np.concatenate(all_batches, axis=0)\n"
      ],
      "metadata": {
        "id": "ir3izX84tTnG"
      },
      "execution_count": null,
      "outputs": []
    },
    {
      "cell_type": "code",
      "source": [],
      "metadata": {
        "id": "4QOEItOHbzKx"
      },
      "execution_count": null,
      "outputs": []
    },
    {
      "cell_type": "markdown",
      "source": [
        "## Frequancy embedding\n",
        "\n",
        "\n",
        "*   give accunacy [.83-.85] in base model but didn't well with semi supervised\n",
        "\n",
        "\n"
      ],
      "metadata": {
        "id": "J1rlm0qM7jdQ"
      }
    },
    {
      "cell_type": "code",
      "source": [
        "#we can improve the vectroization maybe im not sure\n",
        "tfidf = TfidfVectorizer(use_idf=True)\n",
        "global_X_train_counts = tfidf.fit_transform(map(lambda x: str(x), global_X_train))\n",
        "global_X_test_counts = tfidf.transform(global_X_test)\n",
        "global_remaning_counts=tfidf.transform(remaining_data[\"stemming Words\"])"
      ],
      "metadata": {
        "id": "RQzjKFNIDoHM",
        "execution": {
          "iopub.status.busy": "2023-07-28T13:20:14.098572Z",
          "iopub.execute_input": "2023-07-28T13:20:14.099068Z",
          "iopub.status.idle": "2023-07-28T13:20:15.132729Z",
          "shell.execute_reply.started": "2023-07-28T13:20:14.098988Z",
          "shell.execute_reply": "2023-07-28T13:20:15.131437Z"
        },
        "trusted": true
      },
      "execution_count": null,
      "outputs": []
    },
    {
      "cell_type": "code",
      "execution_count": null,
      "metadata": {
        "colab": {
          "base_uri": "https://localhost:8080/"
        },
        "outputId": "8bf07579-598d-457d-9d68-64929cde4874",
        "id": "cl0hEpT6FlEt"
      },
      "outputs": [
        {
          "output_type": "execute_result",
          "data": {
            "text/plain": [
              "(13158, 17638)"
            ]
          },
          "metadata": {},
          "execution_count": 16
        }
      ],
      "source": [
        "global_X_train_counts.shape\n"
      ]
    },
    {
      "cell_type": "markdown",
      "source": [
        "## Aravec\n",
        "\n",
        "\n",
        "*   not worked well gives around .74 in base model\n",
        "\n"
      ],
      "metadata": {
        "id": "QPNpXTf57jdQ"
      }
    },
    {
      "cell_type": "code",
      "source": [
        "'''import requests\n",
        "import zipfile\n",
        "import os\n",
        "\n",
        "# URL to the pre-trained model zip file\n",
        "url = \"https://bakrianoo.ewr1.vultrobjects.com/aravec/full_grams_cbow_300_twitter.zip\"\n",
        "\n",
        "# Directory where you want to save the downloaded and extracted files\n",
        "download_dir = \"/kaggle/working/pretrained_model\"\n",
        "\n",
        "# Create the directory if it doesn't exist\n",
        "os.makedirs(download_dir, exist_ok=True)\n",
        "\n",
        "# Download the zip file\n",
        "zip_file_path = os.path.join(download_dir, \"pretrained_model.zip\")\n",
        "response = requests.get(url)\n",
        "with open(zip_file_path, \"wb\") as f:\n",
        "    f.write(response.content)\n",
        "\n",
        "# Extract the zip file\n",
        "with zipfile.ZipFile(zip_file_path, \"r\") as zip_ref:\n",
        "    zip_ref.extractall(download_dir)\n",
        "\n",
        "# Remove the zip file after extraction (optional)\n",
        "os.remove(zip_file_path)\n",
        "\n",
        "# Now the pre-trained model files are extracted in the \"pretrained_model\" directory\n",
        "# You can use them in your code\n",
        "'''"
      ],
      "metadata": {
        "execution": {
          "iopub.status.busy": "2023-07-28T16:02:48.325470Z",
          "iopub.execute_input": "2023-07-28T16:02:48.326087Z",
          "iopub.status.idle": "2023-07-28T16:05:27.128584Z",
          "shell.execute_reply.started": "2023-07-28T16:02:48.326045Z",
          "shell.execute_reply": "2023-07-28T16:05:27.126368Z"
        },
        "trusted": true,
        "id": "xYZVnKLB7jdR"
      },
      "execution_count": null,
      "outputs": []
    },
    {
      "cell_type": "code",
      "source": [
        "!wget \"https://bakrianoo.sfo2.digitaloceanspaces.com/aravec/full_grams_cbow_100_twitter.zip\"\n",
        "!unzip \"full_grams_cbow_100_twitter.zip\""
      ],
      "metadata": {
        "id": "Fq1E3U7T7jdR"
      },
      "execution_count": null,
      "outputs": []
    },
    {
      "cell_type": "code",
      "source": [
        "import gensim\n",
        "\n",
        "# Directory where the pre-trained model files are extracted\n",
        "model_dir = \"/kaggle/working/pretrained_model\"\n",
        "\n",
        "# Load the pre-trained Word2Vec model\n",
        "model_path = os.path.join(model_dir, \"full_grams_cbow_300_twitter.mdl\")\n",
        "word2vec_model = gensim.models.Word2Vec.load(model_path)\n",
        "\n",
        "# Example: Get the embedding for a word\n",
        "word = \"احمد\"\n",
        "embedding = word2vec_model.wv[word]\n",
        "print(f\"Embedding for '{word}': {embedding}\")\n",
        "\n"
      ],
      "metadata": {
        "colab": {
          "base_uri": "https://localhost:8080/"
        },
        "id": "yX9FtJXoEHLR",
        "outputId": "f1bff8ea-fce9-406f-e96e-c63c9f0b0205",
        "execution": {
          "iopub.status.busy": "2023-07-28T16:15:47.319719Z",
          "iopub.execute_input": "2023-07-28T16:15:47.320219Z",
          "iopub.status.idle": "2023-07-28T16:16:52.665697Z",
          "shell.execute_reply.started": "2023-07-28T16:15:47.320178Z",
          "shell.execute_reply": "2023-07-28T16:16:52.663500Z"
        },
        "jupyter": {
          "outputs_hidden": true
        },
        "trusted": true
      },
      "execution_count": null,
      "outputs": [
        {
          "name": "stdout",
          "text": "Embedding for 'احمد': [ 1.0711770e+00 -3.6366937e-01 -9.5984745e-01  5.9323770e-01\n -1.6792672e+00  2.7183785e+00  7.6476139e-01 -1.8510075e+00\n  7.6419044e-01 -2.4086001e+00 -3.4724775e-01  5.7128268e-01\n  1.0522168e+00 -2.2497294e+00 -9.9155331e-01 -9.0104245e-02\n  7.4065799e-01 -9.7543144e-01  4.3582708e-01  4.2373198e-01\n  2.6659945e-01  2.5663178e+00 -1.3849914e+00 -3.2364950e-01\n  8.6762732e-01 -6.7532367e-01  3.2190281e-01 -4.7814640e-01\n  7.2252446e-01  1.7651650e-01 -2.4637885e-01  7.6005870e-01\n  1.4308445e+00  3.1840450e-01  1.0302278e+00  2.2154628e-01\n -1.0100104e+00  3.9178032e-01 -2.2038111e-01 -1.2943052e+00\n -3.8881847e-01  1.0120368e+00 -2.1500063e+00 -9.0473139e-01\n  9.3660122e-01 -1.0256208e+00  4.2335141e-01 -5.4581034e-01\n  5.3167492e-01 -3.9438644e-01 -1.9251767e+00 -4.9484327e-01\n  3.6231408e-01  8.8881165e-01  1.4336803e+00 -1.8687539e+00\n  2.5200909e-01  1.0103284e+00  4.1559720e-01 -1.7963324e+00\n  1.5816576e+00  2.0187500e+00  2.6948828e-01  2.1557736e+00\n -1.4629833e+00  3.4545800e-01 -5.4444271e-01  1.3110170e+00\n -4.4778463e-01 -1.6763059e+00 -1.4943743e+00  6.8659492e-02\n -4.9999505e-01 -5.4765564e-01  2.4782176e+00 -3.3011642e-01\n  1.0994622e+00 -9.1615014e-02  1.0270197e+00 -8.9347661e-01\n -1.0467715e+00  4.9377742e-01  1.3938110e+00 -1.1744643e+00\n -1.2843858e+00  5.2092791e-01 -2.1877773e+00 -5.9628451e-01\n -5.9515554e-02  1.3308802e-01 -6.4166796e-01 -1.0425583e+00\n -2.6190996e+00  7.4877572e-01 -1.8037132e+00 -5.7332617e-01\n -1.8459189e+00  2.7582911e-01 -1.4142724e+00 -2.0988595e+00\n  1.3061792e-01  2.2139039e+00 -3.5296339e-01  1.8618697e+00\n -3.0312586e-01 -2.2693266e-01 -3.9853007e-01  3.9847690e-01\n -6.4614102e-02 -8.6888111e-01 -3.1185222e-01  1.9253663e+00\n -9.4609964e-01  7.0823884e-01 -1.4937950e+00 -1.8309753e-01\n -3.9291468e-01 -2.3171561e+00 -2.6376495e-01 -9.1314852e-01\n -9.5464504e-01  1.6651424e+00  7.2662544e-01 -3.1154279e-03\n -1.9414337e+00 -6.4135665e-01 -2.1358262e-01  1.4588784e+00\n -3.1696093e+00 -7.3542058e-01  1.3388401e-01 -7.3035991e-01\n -1.6007941e+00 -1.1032221e+00 -2.1481754e-01  3.6957121e-01\n -8.7605810e-01 -1.2482510e-01  2.5926533e+00  9.7105807e-01\n -8.8577384e-01  8.5109997e-01 -8.0304450e-01 -4.0922663e-01\n  3.7149113e-01  1.7033488e+00  2.8190374e+00  2.6115911e+00\n -3.5986254e-01 -3.6079100e-01  4.9545118e-01 -1.2797512e+00\n  3.4800392e-01 -4.0166837e-01 -1.4775370e-01  6.7237806e-01\n  2.7336831e+00  2.0827308e+00 -3.6590165e-01  2.7831472e-02\n  1.5906016e+00 -1.2682413e+00  2.1467978e-01  8.4479266e-01\n -1.3251543e+00  1.0115632e+00  1.8711056e-01 -6.9093019e-01\n  4.0623972e-01  3.0267921e-01  8.3118922e-01  2.7796903e-01\n  4.3061671e-01  2.9158726e-02 -9.7852784e-01  1.5622998e+00\n  1.8119755e+00  8.3450657e-01  1.0779816e+00  1.2899927e+00\n -1.2978993e-01 -9.4642174e-01  4.2326382e-01 -6.0001481e-01\n  6.9984192e-01  6.9182318e-01 -1.7914319e+00 -2.5867426e-01\n -1.2826610e+00  1.3727975e-01 -4.0680623e-01  7.1051514e-01\n  2.3441719e-01 -1.3460526e-01 -6.3725823e-01 -4.1301605e-01\n -2.1776204e-01  4.8246658e-01 -1.1983854e+00 -1.5850079e+00\n  8.3363467e-01  7.3612648e-01  2.3623066e-01 -2.5386399e-01\n  1.4384458e+00  8.2584429e-01 -1.7417995e-02  1.1667534e+00\n  6.6763155e-02 -9.4466902e-02 -1.3782493e+00 -1.7504586e+00\n  5.3744432e-02 -1.7630585e-01  1.3456994e+00 -4.3351659e-01\n -1.2109065e+00 -5.5902803e-01 -1.0440447e+00 -1.6744192e+00\n -1.0126782e-01 -3.6097911e-01  2.5312865e-01 -1.1342202e+00\n  7.8480172e-01  2.2666767e-01 -5.3035688e-01 -6.0661625e-02\n  7.7265507e-01  2.3906803e+00  4.3428564e-01  1.9703871e+00\n  3.5344693e-01 -2.8641030e-01  6.3583583e-01  1.6237080e+00\n -2.5138791e+00  9.4954330e-01  1.3405101e-01 -5.8639276e-01\n -1.3510861e+00 -1.8962978e+00 -1.7632190e+00 -1.6540661e-01\n -1.5546172e+00 -1.3105881e+00  1.0730512e+00  9.3003821e-01\n -1.6625135e-01 -2.1119292e+00 -1.1410145e+00 -3.8475060e-01\n -4.5317015e-01  2.7200210e-01  2.9568997e-01  2.6230964e-01\n  4.6462074e-01  2.0544636e-01  6.4497226e-01  1.3027203e+00\n -1.5819443e+00  5.7502931e-01 -2.3020408e+00 -5.2312046e-01\n  1.6385690e+00  1.1534277e+00 -2.6038878e+00 -8.1275719e-01\n  5.1478565e-01 -1.7991521e+00 -9.2413163e-01 -1.0524079e+00\n -8.6839414e-01  3.8703206e-01 -4.9998307e-01 -2.0654945e-01\n  1.0529947e+00  6.5306252e-01  1.0465556e+00  1.5021474e+00\n -1.0235078e+00  1.3572066e+00 -1.1644973e-02  1.8623395e+00\n  1.5930665e+00  1.0777982e+00 -4.3393600e-01  1.1171863e+00\n -5.5447900e-01 -6.8717712e-01 -1.3605782e-01 -3.6127356e-01\n -1.8024643e-01 -3.1245261e-01 -9.5498550e-01  2.2388701e+00\n -9.9489814e-01  7.3352492e-01 -8.2870972e-01  1.5122316e+00]\n",
          "output_type": "stream"
        }
      ]
    },
    {
      "cell_type": "code",
      "source": [
        "import gensim\n",
        "\n",
        "# Directory where the pre-trained model files are extracted\n",
        "model_dir = \"/kaggle/working/pretrained_model\"\n",
        "\n",
        "# Load the pre-trained Word2Vec model\n",
        "model_path = os.path.join(model_dir, \"full_grams_cbow_300_twitter.mdl\")\n",
        "word2vec_model = gensim.models.Word2Vec.load(model_path)"
      ],
      "metadata": {
        "execution": {
          "iopub.status.busy": "2023-07-28T17:49:06.290463Z",
          "iopub.execute_input": "2023-07-28T17:49:06.290902Z",
          "iopub.status.idle": "2023-07-28T17:50:09.876513Z",
          "shell.execute_reply.started": "2023-07-28T17:49:06.290866Z",
          "shell.execute_reply": "2023-07-28T17:50:09.875018Z"
        },
        "trusted": true,
        "id": "Y9iz8BSk7jdR"
      },
      "execution_count": null,
      "outputs": []
    },
    {
      "cell_type": "code",
      "source": [
        "def generate_document_embeddings(data, word2vec_model):\n",
        "    # Tokenize your sentences into individual words (tokens)\n",
        "    tokenized_data = [doc.split() for doc in data]\n",
        "\n",
        "    document_embeddings = []\n",
        "\n",
        "    for doc_tokens in tokenized_data:\n",
        "        word_embeddings = [word2vec_model.wv[word] for word in doc_tokens if word in word2vec_model.wv.key_to_index]\n",
        "\n",
        "        if word_embeddings:\n",
        "            document_embedding = np.mean(word_embeddings, axis=0)\n",
        "            document_embeddings.append(document_embedding)\n",
        "        else:\n",
        "            document_embedding = np.zeros(300)\n",
        "            document_embeddings.append(document_embedding)# Create a zero-filled array of size 300\n",
        "\n",
        "    return np.array(document_embeddings)"
      ],
      "metadata": {
        "execution": {
          "iopub.status.busy": "2023-07-28T18:56:30.561433Z",
          "iopub.execute_input": "2023-07-28T18:56:30.561926Z",
          "iopub.status.idle": "2023-07-28T18:56:30.571132Z",
          "shell.execute_reply.started": "2023-07-28T18:56:30.561889Z",
          "shell.execute_reply": "2023-07-28T18:56:30.569587Z"
        },
        "trusted": true,
        "id": "ee8OLw3j7jdR"
      },
      "execution_count": null,
      "outputs": []
    },
    {
      "cell_type": "code",
      "source": [
        "# Assuming your sentences are stored in Data[\"stemming\"]\n",
        "#we can improve the vectroization maybe im not sure\n",
        "global_X_train_ARAVEC = generate_document_embeddings(global_X_train, word2vec_model)\n",
        "\n",
        "global_X_test_ARAVEC = generate_document_embeddings(global_X_test, word2vec_model)\n",
        "\n",
        "global_remaning_ARAVEC=generate_document_embeddings(remaining_data[\"stemming Words\"], word2vec_model)\n",
        "\n",
        "#ADD FOR THE AUGMENTED DATA\n",
        "\n",
        "# Call the function to get the embedded data\n",
        "\n",
        "print(\"Shape of the embedded data:\", document_embeddings_np.shape)"
      ],
      "metadata": {
        "execution": {
          "iopub.status.busy": "2023-07-28T19:34:47.053768Z",
          "iopub.execute_input": "2023-07-28T19:34:47.055232Z",
          "iopub.status.idle": "2023-07-28T19:34:54.190301Z",
          "shell.execute_reply.started": "2023-07-28T19:34:47.055176Z",
          "shell.execute_reply": "2023-07-28T19:34:54.189308Z"
        },
        "trusted": true,
        "id": "cU7vMV487jdS",
        "outputId": "92d3ba92-bbf6-451f-c926-4a89f7f079cb"
      },
      "execution_count": null,
      "outputs": [
        {
          "name": "stdout",
          "text": "Shape of the embedded data: (16448, 300)\n",
          "output_type": "stream"
        }
      ]
    },
    {
      "cell_type": "code",
      "source": [],
      "metadata": {
        "id": "f6ZohIGicXmK"
      },
      "execution_count": null,
      "outputs": []
    },
    {
      "cell_type": "markdown",
      "source": [
        "## Augmetation using marbert"
      ],
      "metadata": {
        "id": "Rgk53W6B7jdJ"
      }
    },
    {
      "cell_type": "code",
      "source": [
        "!pip install transformers\n",
        "!pip install numpy requests nlpaug"
      ],
      "metadata": {
        "execution": {
          "iopub.status.busy": "2023-07-29T17:19:53.370276Z",
          "iopub.execute_input": "2023-07-29T17:19:53.370712Z",
          "iopub.status.idle": "2023-07-29T17:20:17.045591Z",
          "shell.execute_reply.started": "2023-07-29T17:19:53.370677Z",
          "shell.execute_reply": "2023-07-29T17:20:17.044192Z"
        },
        "trusted": true,
        "id": "tKgfV3LO7jdJ",
        "outputId": "5405efbc-f1e1-453c-c4c0-e0e5eda53132"
      },
      "execution_count": null,
      "outputs": [
        {
          "name": "stdout",
          "text": "Requirement already satisfied: transformers in /opt/conda/lib/python3.10/site-packages (4.30.2)\nRequirement already satisfied: filelock in /opt/conda/lib/python3.10/site-packages (from transformers) (3.12.2)\nRequirement already satisfied: huggingface-hub<1.0,>=0.14.1 in /opt/conda/lib/python3.10/site-packages (from transformers) (0.16.4)\nRequirement already satisfied: numpy>=1.17 in /opt/conda/lib/python3.10/site-packages (from transformers) (1.23.5)\nRequirement already satisfied: packaging>=20.0 in /opt/conda/lib/python3.10/site-packages (from transformers) (21.3)\nRequirement already satisfied: pyyaml>=5.1 in /opt/conda/lib/python3.10/site-packages (from transformers) (6.0)\nRequirement already satisfied: regex!=2019.12.17 in /opt/conda/lib/python3.10/site-packages (from transformers) (2023.6.3)\nRequirement already satisfied: requests in /opt/conda/lib/python3.10/site-packages (from transformers) (2.31.0)\nRequirement already satisfied: tokenizers!=0.11.3,<0.14,>=0.11.1 in /opt/conda/lib/python3.10/site-packages (from transformers) (0.13.3)\nRequirement already satisfied: safetensors>=0.3.1 in /opt/conda/lib/python3.10/site-packages (from transformers) (0.3.1)\nRequirement already satisfied: tqdm>=4.27 in /opt/conda/lib/python3.10/site-packages (from transformers) (4.65.0)\nRequirement already satisfied: fsspec in /opt/conda/lib/python3.10/site-packages (from huggingface-hub<1.0,>=0.14.1->transformers) (2023.6.0)\nRequirement already satisfied: typing-extensions>=3.7.4.3 in /opt/conda/lib/python3.10/site-packages (from huggingface-hub<1.0,>=0.14.1->transformers) (4.6.3)\nRequirement already satisfied: pyparsing!=3.0.5,>=2.0.2 in /opt/conda/lib/python3.10/site-packages (from packaging>=20.0->transformers) (3.0.9)\nRequirement already satisfied: charset-normalizer<4,>=2 in /opt/conda/lib/python3.10/site-packages (from requests->transformers) (3.1.0)\nRequirement already satisfied: idna<4,>=2.5 in /opt/conda/lib/python3.10/site-packages (from requests->transformers) (3.4)\nRequirement already satisfied: urllib3<3,>=1.21.1 in /opt/conda/lib/python3.10/site-packages (from requests->transformers) (1.26.15)\nRequirement already satisfied: certifi>=2017.4.17 in /opt/conda/lib/python3.10/site-packages (from requests->transformers) (2023.5.7)\nRequirement already satisfied: numpy in /opt/conda/lib/python3.10/site-packages (1.23.5)\nRequirement already satisfied: requests in /opt/conda/lib/python3.10/site-packages (2.31.0)\nCollecting nlpaug\n  Downloading nlpaug-1.1.11-py3-none-any.whl (410 kB)\n\u001b[2K     \u001b[90m━━━━━━━━━━━━━━━━━━━━━━━━━━━━━━━━━━━━━━\u001b[0m \u001b[32m410.5/410.5 kB\u001b[0m \u001b[31m16.4 MB/s\u001b[0m eta \u001b[36m0:00:00\u001b[0m\n\u001b[?25hRequirement already satisfied: charset-normalizer<4,>=2 in /opt/conda/lib/python3.10/site-packages (from requests) (3.1.0)\nRequirement already satisfied: idna<4,>=2.5 in /opt/conda/lib/python3.10/site-packages (from requests) (3.4)\nRequirement already satisfied: urllib3<3,>=1.21.1 in /opt/conda/lib/python3.10/site-packages (from requests) (1.26.15)\nRequirement already satisfied: certifi>=2017.4.17 in /opt/conda/lib/python3.10/site-packages (from requests) (2023.5.7)\nRequirement already satisfied: pandas>=1.2.0 in /opt/conda/lib/python3.10/site-packages (from nlpaug) (1.5.3)\nRequirement already satisfied: gdown>=4.0.0 in /opt/conda/lib/python3.10/site-packages (from nlpaug) (4.7.1)\nRequirement already satisfied: filelock in /opt/conda/lib/python3.10/site-packages (from gdown>=4.0.0->nlpaug) (3.12.2)\nRequirement already satisfied: six in /opt/conda/lib/python3.10/site-packages (from gdown>=4.0.0->nlpaug) (1.16.0)\nRequirement already satisfied: tqdm in /opt/conda/lib/python3.10/site-packages (from gdown>=4.0.0->nlpaug) (4.65.0)\nRequirement already satisfied: beautifulsoup4 in /opt/conda/lib/python3.10/site-packages (from gdown>=4.0.0->nlpaug) (4.12.2)\nRequirement already satisfied: python-dateutil>=2.8.1 in /opt/conda/lib/python3.10/site-packages (from pandas>=1.2.0->nlpaug) (2.8.2)\nRequirement already satisfied: pytz>=2020.1 in /opt/conda/lib/python3.10/site-packages (from pandas>=1.2.0->nlpaug) (2023.3)\nRequirement already satisfied: soupsieve>1.2 in /opt/conda/lib/python3.10/site-packages (from beautifulsoup4->gdown>=4.0.0->nlpaug) (2.3.2.post1)\nRequirement already satisfied: PySocks!=1.5.7,>=1.5.6 in /opt/conda/lib/python3.10/site-packages (from requests) (1.7.1)\nInstalling collected packages: nlpaug\nSuccessfully installed nlpaug-1.1.11\n",
          "output_type": "stream"
        }
      ]
    },
    {
      "cell_type": "code",
      "source": [
        "from nlpaug.augmenter.word import ContextualWordEmbsAug\n",
        "from sklearn.utils import shuffle\n",
        "from tqdm import tqdm\n",
        "import transformers\n",
        "import numpy as np"
      ],
      "metadata": {
        "execution": {
          "iopub.status.busy": "2023-07-29T17:20:17.048525Z",
          "iopub.execute_input": "2023-07-29T17:20:17.049241Z",
          "iopub.status.idle": "2023-07-29T17:20:23.431095Z",
          "shell.execute_reply.started": "2023-07-29T17:20:17.049183Z",
          "shell.execute_reply": "2023-07-29T17:20:23.430092Z"
        },
        "trusted": true,
        "id": "YcbfttWZ7jdJ"
      },
      "execution_count": null,
      "outputs": []
    },
    {
      "cell_type": "code",
      "source": [
        "# BERT Augmentator\n",
        "TOPK=20        # default=100\n",
        "ACT = 'insert' # \"substitute\"\n",
        "\n",
        "aug_bert = ContextualWordEmbsAug(\n",
        "    model_path= 'UBC-NLP/MARBERT',\n",
        "    action=ACT,\n",
        "    top_k=TOPK)\n",
        "\n",
        "def augment_text(df, augmented, augmenter, label_name, samples=100, pr=0.2, show=0, device='cuda'):\n",
        "    augmenter.aug_p = pr\n",
        "    new_text = []\n",
        "    new_labels = []\n",
        "\n",
        "    # Selecting the minority class samples (label = 1)\n",
        "    df_label_1 = df[df[label_name] == 1]\n",
        "    df_label_0 = df[df[label_name] == 0]\n",
        "\n",
        "    # Data augmentation loop for label 1\n",
        "    for i in tqdm(np.random.randint(0, len(df_label_1), samples)):\n",
        "        text = df_label_1.iloc[i]['txt']\n",
        "        label = df_label_1.iloc[i][label_name]\n",
        "        augmented_text = augmenter.augment(text)\n",
        "        new_text.append(augmented_text)\n",
        "        new_labels.append(label)\n",
        "\n",
        "    # Data augmentation loop for label 0\n",
        "    for i in tqdm(np.random.randint(0, len(df_label_0), samples)):\n",
        "        text = df_label_0.iloc[i]['txt']\n",
        "        label = df_label_0.iloc[i][label_name]\n",
        "        augmented_text = augmenter.augment(text)\n",
        "        new_text.append(augmented_text)\n",
        "        new_labels.append(label)\n",
        "\n",
        "    # DataFrames\n",
        "    new = pd.DataFrame({'txt': new_text, label_name: new_labels})\n",
        "    augmented = augmented.append(new)\n",
        "    return augmented"
      ],
      "metadata": {
        "execution": {
          "iopub.status.busy": "2023-07-29T18:21:48.718510Z",
          "iopub.execute_input": "2023-07-29T18:21:48.718932Z",
          "iopub.status.idle": "2023-07-29T18:21:48.730476Z",
          "shell.execute_reply.started": "2023-07-29T18:21:48.718900Z",
          "shell.execute_reply": "2023-07-29T18:21:48.729272Z"
        },
        "trusted": true,
        "id": "G5bVHe_c7jdK"
      },
      "execution_count": null,
      "outputs": []
    },
    {
      "cell_type": "code",
      "source": [
        "lol =pd.DataFrame()"
      ],
      "metadata": {
        "execution": {
          "iopub.status.busy": "2023-07-29T18:21:55.856738Z",
          "iopub.execute_input": "2023-07-29T18:21:55.857139Z",
          "iopub.status.idle": "2023-07-29T18:21:55.862502Z",
          "shell.execute_reply.started": "2023-07-29T18:21:55.857107Z",
          "shell.execute_reply": "2023-07-29T18:21:55.861162Z"
        },
        "trusted": true,
        "id": "lNX4nFXq7jdK"
      },
      "execution_count": null,
      "outputs": []
    },
    {
      "cell_type": "code",
      "source": [
        "lol = augment_text(Data,lol, aug_bert, 'sentiment', samples=500, show=True)"
      ],
      "metadata": {
        "execution": {
          "iopub.status.busy": "2023-07-29T18:30:49.367806Z",
          "iopub.execute_input": "2023-07-29T18:30:49.368292Z"
        },
        "trusted": true,
        "id": "o9kLXG-17jdK",
        "outputId": "9c9ef1f1-f68b-4413-d284-79c318b3fae5"
      },
      "execution_count": null,
      "outputs": [
        {
          "name": "stderr",
          "text": " 18%|█▊        | 89/500 [03:16<19:45,  2.89s/it]",
          "output_type": "stream"
        }
      ]
    },
    {
      "cell_type": "code",
      "source": [
        "binary_data = lol['sentiment']\n",
        "balance_measurements = measure_balance(binary_data)\n",
        "print(balance_measurements)\n"
      ],
      "metadata": {
        "execution": {
          "iopub.status.busy": "2023-07-29T18:29:29.342710Z",
          "iopub.execute_input": "2023-07-29T18:29:29.343106Z",
          "iopub.status.idle": "2023-07-29T18:29:29.350431Z",
          "shell.execute_reply.started": "2023-07-29T18:29:29.343074Z",
          "shell.execute_reply": "2023-07-29T18:29:29.349287Z"
        },
        "trusted": true,
        "id": "K2uJohi57jdK",
        "outputId": "d12422fc-656a-4d7c-9634-b8667aba7678"
      },
      "execution_count": null,
      "outputs": [
        {
          "name": "stdout",
          "text": "{'count_0': 100, 'count_1': 100, 'proportion_0': 0.5, 'proportion_1': 0.5}\n",
          "output_type": "stream"
        }
      ]
    },
    {
      "cell_type": "code",
      "source": [
        "lol[\"sentiment\"].describe()"
      ],
      "metadata": {
        "execution": {
          "iopub.status.busy": "2023-07-29T18:21:58.859767Z",
          "iopub.execute_input": "2023-07-29T18:21:58.860792Z",
          "iopub.status.idle": "2023-07-29T18:22:00.176591Z",
          "shell.execute_reply.started": "2023-07-29T18:21:58.860746Z",
          "shell.execute_reply": "2023-07-29T18:22:00.174161Z"
        },
        "trusted": true,
        "id": "EsGXS__17jdL"
      },
      "execution_count": null,
      "outputs": []
    },
    {
      "cell_type": "code",
      "source": [
        "np.save('aug_df_bert.npy', lol)"
      ],
      "metadata": {
        "execution": {
          "iopub.status.busy": "2023-07-29T03:44:38.608939Z",
          "iopub.execute_input": "2023-07-29T03:44:38.609309Z",
          "iopub.status.idle": "2023-07-29T03:44:38.615454Z",
          "shell.execute_reply.started": "2023-07-29T03:44:38.609279Z",
          "shell.execute_reply": "2023-07-29T03:44:38.614489Z"
        },
        "trusted": true,
        "id": "92-FGFEn7jdL"
      },
      "execution_count": null,
      "outputs": []
    }
  ]
}